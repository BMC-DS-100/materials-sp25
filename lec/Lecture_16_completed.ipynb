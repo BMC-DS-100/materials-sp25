{
 "cells": [
  {
   "cell_type": "code",
   "execution_count": 2,
   "id": "confidential-helicopter",
   "metadata": {},
   "outputs": [],
   "source": [
    "from datascience import *\n",
    "import numpy as np\n",
    "\n",
    "%matplotlib inline\n",
    "import matplotlib.pyplot as plots\n",
    "plots.style.use('fivethirtyeight')"
   ]
  },
  {
   "cell_type": "markdown",
   "id": "olympic-mozambique",
   "metadata": {},
   "source": [
    "# Comparing Two Samples\n",
    "Let's walk through these two functions together"
   ]
  },
  {
   "cell_type": "code",
   "execution_count": 16,
   "id": "altered-logan",
   "metadata": {},
   "outputs": [],
   "source": [
    "def difference_of_means(table, numeric_label, group_label):\n",
    "    \"\"\"\n",
    "    Takes: name of table, column label of numerical variable,\n",
    "    column label of group-label variable\n",
    "    \n",
    "    Returns: Difference of means of the two groups\n",
    "    \"\"\"\n",
    "    \n",
    "    #table with the two relevant columns\n",
    "    reduced = table.select(numeric_label, group_label)  \n",
    "    \n",
    "    # table containing group means\n",
    "    means_table = reduced.group(group_label, np.average)\n",
    "    \n",
    "    # array of group means\n",
    "    means = means_table.column(1)\n",
    "    \n",
    "    return means.item(1) - means.item(0)"
   ]
  },
  {
   "cell_type": "code",
   "execution_count": 17,
   "id": "hollywood-wrist",
   "metadata": {},
   "outputs": [],
   "source": [
    "def one_simulated_difference(table, numeric_label, group_label):\n",
    "    \"\"\"\n",
    "    Takes: name of table, column label of numerical variable,\n",
    "    column label of group-label variable\n",
    "    \n",
    "    Returns: Difference of means of the two groups after shuffling labels\n",
    "    \"\"\"\n",
    "    \n",
    "    # array of shuffled labels\n",
    "    shuffled_labels = table.sample(\n",
    "        with_replacement = False).column(group_label)\n",
    "    \n",
    "    # table of numerical variable and shuffled labels\n",
    "    shuffled_table = table.select(numeric_label).with_column(\n",
    "        'Shuffled Label', shuffled_labels)\n",
    "    \n",
    "    return difference_of_means(\n",
    "        shuffled_table, numeric_label, 'Shuffled Label')"
   ]
  },
  {
   "cell_type": "markdown",
   "id": "graduate-guinea",
   "metadata": {},
   "source": [
    "(back to slides)\n",
    "# Randomized Control Trial\n",
    "Let's look at the example from the textbook the discusses whether\n",
    "botulinum toxin A causes pain relief"
   ]
  },
  {
   "cell_type": "markdown",
   "id": "english-point",
   "metadata": {},
   "source": [
    "The data is stored in a csv file named `bta.csv`.\n",
    "How can we load in the data?"
   ]
  },
  {
   "cell_type": "code",
   "execution_count": 3,
   "id": "medium-reverse",
   "metadata": {},
   "outputs": [
    {
     "data": {
      "text/html": [
       "<table border=\"1\" class=\"dataframe\">\n",
       "    <thead>\n",
       "        <tr>\n",
       "            <th>Group</th> <th>Result</th>\n",
       "        </tr>\n",
       "    </thead>\n",
       "    <tbody>\n",
       "        <tr>\n",
       "            <td>Control  </td> <td>1     </td>\n",
       "        </tr>\n",
       "        <tr>\n",
       "            <td>Control  </td> <td>1     </td>\n",
       "        </tr>\n",
       "        <tr>\n",
       "            <td>Control  </td> <td>0     </td>\n",
       "        </tr>\n",
       "        <tr>\n",
       "            <td>Control  </td> <td>0     </td>\n",
       "        </tr>\n",
       "        <tr>\n",
       "            <td>Control  </td> <td>0     </td>\n",
       "        </tr>\n",
       "        <tr>\n",
       "            <td>Control  </td> <td>0     </td>\n",
       "        </tr>\n",
       "        <tr>\n",
       "            <td>Control  </td> <td>0     </td>\n",
       "        </tr>\n",
       "        <tr>\n",
       "            <td>Control  </td> <td>0     </td>\n",
       "        </tr>\n",
       "        <tr>\n",
       "            <td>Control  </td> <td>0     </td>\n",
       "        </tr>\n",
       "        <tr>\n",
       "            <td>Control  </td> <td>0     </td>\n",
       "        </tr>\n",
       "        <tr>\n",
       "            <td>Control  </td> <td>0     </td>\n",
       "        </tr>\n",
       "        <tr>\n",
       "            <td>Control  </td> <td>0     </td>\n",
       "        </tr>\n",
       "        <tr>\n",
       "            <td>Control  </td> <td>0     </td>\n",
       "        </tr>\n",
       "        <tr>\n",
       "            <td>Control  </td> <td>0     </td>\n",
       "        </tr>\n",
       "        <tr>\n",
       "            <td>Control  </td> <td>0     </td>\n",
       "        </tr>\n",
       "        <tr>\n",
       "            <td>Control  </td> <td>0     </td>\n",
       "        </tr>\n",
       "        <tr>\n",
       "            <td>Treatment</td> <td>1     </td>\n",
       "        </tr>\n",
       "        <tr>\n",
       "            <td>Treatment</td> <td>1     </td>\n",
       "        </tr>\n",
       "        <tr>\n",
       "            <td>Treatment</td> <td>1     </td>\n",
       "        </tr>\n",
       "        <tr>\n",
       "            <td>Treatment</td> <td>1     </td>\n",
       "        </tr>\n",
       "        <tr>\n",
       "            <td>Treatment</td> <td>1     </td>\n",
       "        </tr>\n",
       "        <tr>\n",
       "            <td>Treatment</td> <td>1     </td>\n",
       "        </tr>\n",
       "        <tr>\n",
       "            <td>Treatment</td> <td>1     </td>\n",
       "        </tr>\n",
       "        <tr>\n",
       "            <td>Treatment</td> <td>1     </td>\n",
       "        </tr>\n",
       "        <tr>\n",
       "            <td>Treatment</td> <td>1     </td>\n",
       "        </tr>\n",
       "        <tr>\n",
       "            <td>Treatment</td> <td>0     </td>\n",
       "        </tr>\n",
       "        <tr>\n",
       "            <td>Treatment</td> <td>0     </td>\n",
       "        </tr>\n",
       "        <tr>\n",
       "            <td>Treatment</td> <td>0     </td>\n",
       "        </tr>\n",
       "        <tr>\n",
       "            <td>Treatment</td> <td>0     </td>\n",
       "        </tr>\n",
       "        <tr>\n",
       "            <td>Treatment</td> <td>0     </td>\n",
       "        </tr>\n",
       "        <tr>\n",
       "            <td>Treatment</td> <td>0     </td>\n",
       "        </tr>\n",
       "    </tbody>\n",
       "</table>"
      ],
      "text/plain": [
       "<IPython.core.display.HTML object>"
      ]
     },
     "metadata": {},
     "output_type": "display_data"
    }
   ],
   "source": [
    "bta = Table.read_table(\"bta.csv\")\n",
    "bta.show()"
   ]
  },
  {
   "cell_type": "markdown",
   "id": "human-ocean",
   "metadata": {},
   "source": [
    "**QUESTION:** What do the columns and values represent?\n",
    "\n",
    "What table function can we use to help us figure this out? \n",
    "\n",
    "*Hint: what function shows us the statistics about the values a column has?*\n",
    "\n",
    "<details>\n",
    "<summary>Solution</summary>\n",
    "  botox.pivot('Result', 'Group')\n",
    "</details>"
   ]
  },
  {
   "cell_type": "code",
   "execution_count": 5,
   "id": "comic-horror",
   "metadata": {},
   "outputs": [
    {
     "data": {
      "text/html": [
       "<table border=\"1\" class=\"dataframe\">\n",
       "    <thead>\n",
       "        <tr>\n",
       "            <th>Result</th> <th>count</th>\n",
       "        </tr>\n",
       "    </thead>\n",
       "    <tbody>\n",
       "        <tr>\n",
       "            <td>0     </td> <td>20   </td>\n",
       "        </tr>\n",
       "        <tr>\n",
       "            <td>1     </td> <td>11   </td>\n",
       "        </tr>\n",
       "    </tbody>\n",
       "</table>"
      ],
      "text/plain": [
       "Result | count\n",
       "0      | 20\n",
       "1      | 11"
      ]
     },
     "execution_count": 5,
     "metadata": {},
     "output_type": "execute_result"
    }
   ],
   "source": [
    "bta.group(\"Result\")"
   ]
  },
  {
   "cell_type": "code",
   "execution_count": 7,
   "id": "13f620f4-1321-4228-9a8e-d052e31d0782",
   "metadata": {},
   "outputs": [
    {
     "data": {
      "text/html": [
       "<table border=\"1\" class=\"dataframe\">\n",
       "    <thead>\n",
       "        <tr>\n",
       "            <th>Group</th> <th>0.0</th> <th>1.0</th>\n",
       "        </tr>\n",
       "    </thead>\n",
       "    <tbody>\n",
       "        <tr>\n",
       "            <td>Control  </td> <td>14  </td> <td>2   </td>\n",
       "        </tr>\n",
       "        <tr>\n",
       "            <td>Treatment</td> <td>6   </td> <td>9   </td>\n",
       "        </tr>\n",
       "    </tbody>\n",
       "</table>"
      ],
      "text/plain": [
       "Group     | 0.0  | 1.0\n",
       "Control   | 14   | 2\n",
       "Treatment | 6    | 9"
      ]
     },
     "execution_count": 7,
     "metadata": {},
     "output_type": "execute_result"
    }
   ],
   "source": [
    "bta.pivot(\"Result\", \"Group\")"
   ]
  },
  {
   "cell_type": "markdown",
   "id": "hazardous-underground",
   "metadata": {},
   "source": [
    "**QUESTION:** What statistic should we use here to see a difference between the groups?"
   ]
  },
  {
   "cell_type": "markdown",
   "id": "computational-india",
   "metadata": {},
   "source": [
    "<details>\n",
    "<summary>Review</summary>\n",
    "  Copy the following in markdown below <br>\n",
    "    ![title](hypothesis_testing_stat_review.png)\n",
    "</details>"
   ]
  },
  {
   "cell_type": "markdown",
   "id": "2c15d400-21f8-429a-a23a-68dfe95706f2",
   "metadata": {},
   "source": [
    "![title](hypothesis_testing_stat_review.png)"
   ]
  },
  {
   "cell_type": "markdown",
   "id": "flexible-elephant",
   "metadata": {},
   "source": [
    "<details>\n",
    "<summary>Solution</summary>\n",
    "  difference of means\n",
    "</details>"
   ]
  },
  {
   "cell_type": "markdown",
   "id": "typical-secondary",
   "metadata": {},
   "source": [
    "**QUESTION:** How do we compute that difference?\n",
    "\n",
    "<details>\n",
    "<summary>Solution</summary>\n",
    "  botox.group('Group', np.average)\n",
    "    <br><br>\n",
    "  tmp_tbl = botox.group('Group', np.average)\n",
    "   <br><br>\n",
    "    observed_stat = bta_means_tbl.column(1).item(1) - bta_means_tbl.column(1).item(0)\n",
    "observed_stat\n",
    "</details>\n"
   ]
  },
  {
   "cell_type": "code",
   "execution_count": 9,
   "id": "310e12f1-ea9f-45ae-8a82-eb6078fd5eed",
   "metadata": {},
   "outputs": [],
   "source": [
    "bta.group('Group', np.average)\n",
    "\n",
    "tmp_tbl = bta.group('Group', np.average)\n"
   ]
  },
  {
   "cell_type": "code",
   "execution_count": 10,
   "id": "organized-wrist",
   "metadata": {},
   "outputs": [
    {
     "data": {
      "text/html": [
       "<table border=\"1\" class=\"dataframe\">\n",
       "    <thead>\n",
       "        <tr>\n",
       "            <th>Group</th> <th>Result average</th>\n",
       "        </tr>\n",
       "    </thead>\n",
       "    <tbody>\n",
       "        <tr>\n",
       "            <td>Control  </td> <td>0.125         </td>\n",
       "        </tr>\n",
       "        <tr>\n",
       "            <td>Treatment</td> <td>0.6           </td>\n",
       "        </tr>\n",
       "    </tbody>\n",
       "</table>"
      ],
      "text/plain": [
       "Group     | Result average\n",
       "Control   | 0.125\n",
       "Treatment | 0.6"
      ]
     },
     "execution_count": 10,
     "metadata": {},
     "output_type": "execute_result"
    }
   ],
   "source": [
    "bta_means_tbl =  bta.group('Group', np.average)\n",
    "\n",
    "bta_means_tbl"
   ]
  },
  {
   "cell_type": "code",
   "execution_count": 11,
   "id": "5e79eb95-bd5c-44ed-bac1-6b0172753152",
   "metadata": {},
   "outputs": [
    {
     "data": {
      "text/plain": [
       "array([ 0.125,  0.6  ])"
      ]
     },
     "execution_count": 11,
     "metadata": {},
     "output_type": "execute_result"
    }
   ],
   "source": [
    "bta_means_tbl.column('Result average')"
   ]
  },
  {
   "cell_type": "code",
   "execution_count": 14,
   "id": "tutorial-stack",
   "metadata": {},
   "outputs": [
    {
     "data": {
      "text/plain": [
       "0.475"
      ]
     },
     "execution_count": 14,
     "metadata": {},
     "output_type": "execute_result"
    }
   ],
   "source": [
    "observed_stat = bta_means_tbl.column('Result average').item(1) - bta_means_tbl.column('Result average').item(0)\n",
    "observed_stat"
   ]
  },
  {
   "cell_type": "code",
   "execution_count": 19,
   "id": "051ca774-e279-4e55-8e54-7bfe9d1d62b8",
   "metadata": {},
   "outputs": [
    {
     "data": {
      "text/plain": [
       "0.475"
      ]
     },
     "execution_count": 19,
     "metadata": {},
     "output_type": "execute_result"
    }
   ],
   "source": [
    "difference_of_means(bta, \"Result\",\"Group\")"
   ]
  },
  {
   "cell_type": "markdown",
   "id": "brutal-street",
   "metadata": {},
   "source": [
    "##  Testing the Hypothesis"
   ]
  },
  {
   "cell_type": "markdown",
   "id": "manual-burlington",
   "metadata": {},
   "source": [
    "**Question:** How can we use the functions from the top?\n",
    "<details>\n",
    "<summary>Solution</summary>\n",
    "  difference of means(botox, 'Result', 'Group')\n",
    "</details>  "
   ]
  },
  {
   "cell_type": "code",
   "execution_count": 20,
   "id": "center-matthew",
   "metadata": {},
   "outputs": [
    {
     "data": {
      "text/plain": [
       "0.475"
      ]
     },
     "execution_count": 20,
     "metadata": {},
     "output_type": "execute_result"
    }
   ],
   "source": [
    "observed_diff = difference_of_means(bta, \"Result\",\"Group\")\n",
    "observed_diff"
   ]
  },
  {
   "cell_type": "markdown",
   "id": "strange-trauma",
   "metadata": {},
   "source": [
    "**Question:** How can we simulate this statistic once?\n",
    "<details>\n",
    "<summary>Solution</summary>\n",
    "  one_simulated_difference(botox, 'Result', 'Group')\n",
    "</details> "
   ]
  },
  {
   "cell_type": "code",
   "execution_count": 22,
   "id": "expected-bride",
   "metadata": {},
   "outputs": [
    {
     "data": {
      "text/plain": [
       "-0.3"
      ]
     },
     "execution_count": 22,
     "metadata": {},
     "output_type": "execute_result"
    }
   ],
   "source": [
    "one_simulated_difference(bta, \"Result\",\"Group\")"
   ]
  },
  {
   "cell_type": "markdown",
   "id": "congressional-evidence",
   "metadata": {},
   "source": [
    "Now let's simulate that 10k times"
   ]
  },
  {
   "cell_type": "code",
   "execution_count": 23,
   "id": "treated-sustainability",
   "metadata": {},
   "outputs": [
    {
     "data": {
      "text/plain": [
       "True"
      ]
     },
     "execution_count": 23,
     "metadata": {},
     "output_type": "execute_result"
    }
   ],
   "source": [
    "# answer is below\n",
    "all_simulated_stats = make_array()\n",
    "for i in np.arange(1e4):\n",
    "    simulated_stat = one_simulated_difference(bta, \"Result\", \"Group\") # simulate the statistic once under the null hypothesis\n",
    "    all_simulated_stats = np.append(all_simulated_stats, simulated_stat) # keep track of the simulated value\n",
    "\n",
    "len(all_simulated_stats) == 1e4 # confirm that we have 10K simulated statistics"
   ]
  },
  {
   "cell_type": "code",
   "execution_count": 24,
   "id": "peaceful-quebec",
   "metadata": {},
   "outputs": [
    {
     "data": {
      "image/png": "[encoded data removed]",
      "text/plain": [
       "<Figure size 600x400 with 1 Axes>"
      ]
     },
     "metadata": {},
     "output_type": "display_data"
    }
   ],
   "source": [
    "Table().with_column('Mean difference of Treatment - Control outcomes', all_simulated_stats).hist() #bins=np.arange(-0.6, 0.6, 0.01))"
   ]
  },
  {
   "cell_type": "markdown",
   "id": "instant-alloy",
   "metadata": {},
   "source": [
    "**Question:** Is the observed statistic statistically significant?"
   ]
  },
  {
   "cell_type": "code",
   "execution_count": 25,
   "id": "seven-gates",
   "metadata": {},
   "outputs": [
    {
     "data": {
      "text/plain": [
       "0.475"
      ]
     },
     "execution_count": 25,
     "metadata": {},
     "output_type": "execute_result"
    }
   ],
   "source": [
    "observed_stat"
   ]
  },
  {
   "cell_type": "markdown",
   "id": "equal-audit",
   "metadata": {},
   "source": [
    "**Question:** Which of the following is our p-value? \n",
    "\n",
    "Hint: Which tail should we use?"
   ]
  },
  {
   "cell_type": "code",
   "execution_count": 30,
   "id": "rolled-implementation",
   "metadata": {},
   "outputs": [
    {
     "data": {
      "text/plain": [
       "(0.0077000000000000002, 0.99919999999999998)"
      ]
     },
     "execution_count": 30,
     "metadata": {},
     "output_type": "execute_result"
    }
   ],
   "source": [
    "# p-value1\n",
    "p_1 = sum(all_simulated_stats >= observed_stat)/len(all_simulated_stats)\n",
    "\n",
    "# p-value2\n",
    "p_2 = sum(all_simulated_stats <= observed_stat)/len(all_simulated_stats)\n",
    "\n",
    "p_1, p_2"
   ]
  },
  {
   "cell_type": "code",
   "execution_count": 29,
   "id": "44ad94a6-f8b1-44d4-ba9e-561027572348",
   "metadata": {},
   "outputs": [
    {
     "data": {
      "text/plain": [
       "1.0"
      ]
     },
     "execution_count": 29,
     "metadata": {},
     "output_type": "execute_result"
    }
   ],
   "source": [
    "p_1 + p_2"
   ]
  },
  {
   "cell_type": "markdown",
   "id": "useful-brunei",
   "metadata": {},
   "source": [
    "**Question:** Is this statistically significant?"
   ]
  },
  {
   "cell_type": "markdown",
   "id": "secure-flashing",
   "metadata": {},
   "source": [
    "(back to slides)\n",
    "# Percentiles"
   ]
  },
  {
   "cell_type": "code",
   "execution_count": 32,
   "id": "tight-marathon",
   "metadata": {},
   "outputs": [
    {
     "data": {
      "text/plain": [
       "array([43, 20, 51,  7, 28, 34])"
      ]
     },
     "execution_count": 32,
     "metadata": {},
     "output_type": "execute_result"
    }
   ],
   "source": [
    "# Manually compute the 55th percentile.\n",
    "x = make_array(43, 20, 51, 7, 28, 34)\n",
    "x"
   ]
  },
  {
   "cell_type": "code",
   "execution_count": 37,
   "id": "improved-civilization",
   "metadata": {},
   "outputs": [
    {
     "data": {
      "text/plain": [
       "array([ 7, 20, 28, 34, 43, 51])"
      ]
     },
     "execution_count": 37,
     "metadata": {},
     "output_type": "execute_result"
    }
   ],
   "source": [
    "# Step 1. Sort the data\n",
    "sorted_x = np.sort(x)\n",
    "sorted_x"
   ]
  },
  {
   "cell_type": "code",
   "execution_count": null,
   "id": "injured-motorcycle",
   "metadata": {},
   "outputs": [],
   "source": [
    "# Step 2. Figure out where 55th percentile would be.\n",
    "# The Xth percentile is first value on the sorted list that is at least as large as X% of the elements "
   ]
  },
  {
   "cell_type": "code",
   "execution_count": 34,
   "id": "9f03a6e8-f58a-48e8-acf0-4f74631a9e3c",
   "metadata": {},
   "outputs": [
    {
     "data": {
      "text/plain": [
       "6"
      ]
     },
     "execution_count": 34,
     "metadata": {},
     "output_type": "execute_result"
    }
   ],
   "source": [
    "len(x)"
   ]
  },
  {
   "cell_type": "code",
   "execution_count": 35,
   "id": "f62490da-e851-44c2-a835-49ba62a64c38",
   "metadata": {},
   "outputs": [
    {
     "data": {
      "text/plain": [
       "3.3000000000000003"
      ]
     },
     "execution_count": 35,
     "metadata": {},
     "output_type": "execute_result"
    }
   ],
   "source": [
    "len(x) * .55"
   ]
  },
  {
   "cell_type": "code",
   "execution_count": 44,
   "id": "d94e2fd1-3ddb-42fe-80eb-5628925f44b9",
   "metadata": {},
   "outputs": [
    {
     "data": {
      "text/plain": [
       "34"
      ]
     },
     "execution_count": 44,
     "metadata": {},
     "output_type": "execute_result"
    }
   ],
   "source": [
    "sorted_x.item(int(3.3000000000000003))"
   ]
  },
  {
   "cell_type": "code",
   "execution_count": 45,
   "id": "exposed-companion",
   "metadata": {},
   "outputs": [
    {
     "data": {
      "text/plain": [
       "34"
      ]
     },
     "execution_count": 45,
     "metadata": {},
     "output_type": "execute_result"
    }
   ],
   "source": [
    "# OR: 1 Line of Code using percentile()\n",
    "percentile(55, x)"
   ]
  },
  {
   "cell_type": "markdown",
   "id": "previous-picture",
   "metadata": {},
   "source": [
    "(back to slides)\n",
    "## Percentiles questions"
   ]
  },
  {
   "cell_type": "code",
   "execution_count": 46,
   "id": "responsible-upset",
   "metadata": {},
   "outputs": [],
   "source": [
    "s= [1, 7, 3, 9, 5]\n",
    "# 1, 3, 5, 7, 9"
   ]
  },
  {
   "cell_type": "code",
   "execution_count": 47,
   "id": "7e6d52d9-3c2b-4c60-bb46-6a3700717d2a",
   "metadata": {},
   "outputs": [
    {
     "data": {
      "text/plain": [
       "1"
      ]
     },
     "execution_count": 47,
     "metadata": {},
     "output_type": "execute_result"
    }
   ],
   "source": [
    "percentile(10, s)"
   ]
  },
  {
   "cell_type": "code",
   "execution_count": 48,
   "id": "surrounded-narrative",
   "metadata": {},
   "outputs": [
    {
     "data": {
      "text/plain": [
       "False"
      ]
     },
     "execution_count": 48,
     "metadata": {},
     "output_type": "execute_result"
    }
   ],
   "source": [
    "#1 \n",
    "percentile(10, s) == 0"
   ]
  },
  {
   "cell_type": "code",
   "execution_count": 52,
   "id": "1deb560f-9f6a-482c-ad4c-6e451935caa0",
   "metadata": {},
   "outputs": [
    {
     "data": {
      "text/plain": [
       "(3, 3, 5)"
      ]
     },
     "execution_count": 52,
     "metadata": {},
     "output_type": "execute_result"
    }
   ],
   "source": [
    "percentile(39, s), percentile(40, s), percentile(41, s) "
   ]
  },
  {
   "cell_type": "code",
   "execution_count": 51,
   "id": "pressed-policy",
   "metadata": {},
   "outputs": [
    {
     "data": {
      "text/plain": [
       "True"
      ]
     },
     "execution_count": 51,
     "metadata": {},
     "output_type": "execute_result"
    }
   ],
   "source": [
    "# 2 \n",
    "percentile(39, s) == percentile(40, s)"
   ]
  },
  {
   "cell_type": "code",
   "execution_count": 53,
   "id": "subsequent-cycling",
   "metadata": {},
   "outputs": [
    {
     "data": {
      "text/plain": [
       "False"
      ]
     },
     "execution_count": 53,
     "metadata": {},
     "output_type": "execute_result"
    }
   ],
   "source": [
    "# 3\n",
    "percentile(40, s) == percentile(41, s) "
   ]
  },
  {
   "cell_type": "code",
   "execution_count": 54,
   "id": "animated-camping",
   "metadata": {},
   "outputs": [
    {
     "data": {
      "text/plain": [
       "True"
      ]
     },
     "execution_count": 54,
     "metadata": {},
     "output_type": "execute_result"
    }
   ],
   "source": [
    "# 4\n",
    "percentile(50, s) == 5 "
   ]
  },
  {
   "cell_type": "markdown",
   "id": "wanted-animal",
   "metadata": {},
   "source": [
    "# Estimation"
   ]
  },
  {
   "cell_type": "markdown",
   "id": "hundred-papua",
   "metadata": {},
   "source": [
    "### Sample Median"
   ]
  },
  {
   "cell_type": "code",
   "execution_count": 55,
   "id": "distant-california",
   "metadata": {},
   "outputs": [
    {
     "data": {
      "text/html": [
       "<table border=\"1\" class=\"dataframe\">\n",
       "    <thead>\n",
       "        <tr>\n",
       "            <th>Year Type</th> <th>Year</th> <th>Organization Group Code</th> <th>Organization Group</th> <th>Department Code</th> <th>Department</th> <th>Union Code</th> <th>Union</th> <th>Job Family Code</th> <th>Job Family</th> <th>Job Code</th> <th>Job</th> <th>Employee Identifier</th> <th>Salaries</th> <th>Overtime</th> <th>Other Salaries</th> <th>Total Salary</th> <th>Retirement</th> <th>Health/Dental</th> <th>Other Benefits</th> <th>Total Benefits</th> <th>Total Compensation</th>\n",
       "        </tr>\n",
       "    </thead>\n",
       "    <tbody>\n",
       "        <tr>\n",
       "            <td>Calendar </td> <td>2015</td> <td>2                      </td> <td>Public Works, Transportation & Commerce</td> <td>WTR            </td> <td>PUC Water Department                  </td> <td>21        </td> <td>Prof & Tech Engineers - Miscellaneous, Local 21 </td> <td>2400           </td> <td>Lab, Pharmacy & Med Techs    </td> <td>2481    </td> <td>Water Qualitytech I/II        </td> <td>21538              </td> <td>82146   </td> <td>0       </td> <td>0             </td> <td>82146       </td> <td>16942.2   </td> <td>12340.9      </td> <td>6337.73       </td> <td>35620.8       </td> <td>117767            </td>\n",
       "        </tr>\n",
       "        <tr>\n",
       "            <td>Calendar </td> <td>2015</td> <td>2                      </td> <td>Public Works, Transportation & Commerce</td> <td>DPW            </td> <td>General Services Agency - Public Works</td> <td>12        </td> <td>Carpet, Linoleum and Soft Tile Workers, Local 12</td> <td>7300           </td> <td>Journeyman Trade             </td> <td>7393    </td> <td>Soft Floor Coverer            </td> <td>5459               </td> <td>32165.8 </td> <td>973.19  </td> <td>848.96        </td> <td>33987.9     </td> <td>0         </td> <td>4587.51      </td> <td>2634.42       </td> <td>7221.93       </td> <td>41209.8           </td>\n",
       "        </tr>\n",
       "        <tr>\n",
       "            <td>Calendar </td> <td>2015</td> <td>4                      </td> <td>Community Health                       </td> <td>DPH            </td> <td>Public Health                         </td> <td>790       </td> <td>SEIU - Miscellaneous, Local 1021                </td> <td>1600           </td> <td>Payroll, Billing & Accounting</td> <td>1636    </td> <td>Health Care Billing Clerk 2   </td> <td>41541              </td> <td>71311   </td> <td>5757.98 </td> <td>0             </td> <td>77069       </td> <td>14697.6   </td> <td>12424.5      </td> <td>6370.06       </td> <td>33492.2       </td> <td>110561            </td>\n",
       "        </tr>\n",
       "        <tr>\n",
       "            <td>Calendar </td> <td>2015</td> <td>4                      </td> <td>Community Health                       </td> <td>DPH            </td> <td>Public Health                         </td> <td>351       </td> <td>Municipal Executive Association - Miscellaneous </td> <td>0900           </td> <td>Management                   </td> <td>2620    </td> <td>Food Service Mgr Administrator</td> <td>26718              </td> <td>28430.2 </td> <td>0       </td> <td>763.07        </td> <td>29193.3     </td> <td>0         </td> <td>4223.14      </td> <td>5208.51       </td> <td>9431.65       </td> <td>38625             </td>\n",
       "        </tr>\n",
       "        <tr>\n",
       "            <td>Calendar </td> <td>2015</td> <td>2                      </td> <td>Public Works, Transportation & Commerce</td> <td>MTA            </td> <td>Municipal Transportation Agency       </td> <td>790       </td> <td>SEIU - Miscellaneous, Local 1021                </td> <td>8200           </td> <td>Protection & Apprehension    </td> <td>8201    </td> <td>School Crossing Guard         </td> <td>45810              </td> <td>7948.75 </td> <td>0       </td> <td>0             </td> <td>7948.75     </td> <td>0         </td> <td>2873.17      </td> <td>616.24        </td> <td>3489.41       </td> <td>11438.2           </td>\n",
       "        </tr>\n",
       "    </tbody>\n",
       "</table>\n",
       "<p>... (42984 rows omitted)</p>"
      ],
      "text/plain": [
       "<IPython.core.display.HTML object>"
      ]
     },
     "metadata": {},
     "output_type": "display_data"
    }
   ],
   "source": [
    "sf = Table.read_table('san_francisco_2015.csv')\n",
    "sf.show(5)"
   ]
  },
  {
   "cell_type": "markdown",
   "id": "advisory-company",
   "metadata": {},
   "source": [
    "**Question:** What is this dataset?"
   ]
  },
  {
   "cell_type": "code",
   "execution_count": null,
   "id": "mechanical-consultation",
   "metadata": {},
   "outputs": [],
   "source": []
  },
  {
   "cell_type": "code",
   "execution_count": 58,
   "id": "twelve-associate",
   "metadata": {},
   "outputs": [
    {
     "data": {
      "image/png": "[encoded data removed]",
      "text/plain": [
       "<Figure size 600x400 with 1 Axes>"
      ]
     },
     "metadata": {},
     "output_type": "display_data"
    }
   ],
   "source": [
    "sf.group(3).barh(0)"
   ]
  },
  {
   "cell_type": "code",
   "execution_count": null,
   "id": "enhanced-firmware",
   "metadata": {},
   "outputs": [],
   "source": [
    "# skip"
   ]
  },
  {
   "cell_type": "code",
   "execution_count": null,
   "id": "narrative-centre",
   "metadata": {},
   "outputs": [],
   "source": [
    "# skip"
   ]
  },
  {
   "cell_type": "code",
   "execution_count": null,
   "id": "acquired-native",
   "metadata": {},
   "outputs": [],
   "source": [
    "# skip"
   ]
  },
  {
   "cell_type": "code",
   "execution_count": 59,
   "id": "conceptual-balloon",
   "metadata": {},
   "outputs": [
    {
     "data": {
      "text/html": [
       "<table border=\"1\" class=\"dataframe\">\n",
       "    <thead>\n",
       "        <tr>\n",
       "            <th>Organization Group</th> <th>Job</th> <th>Total Compensation</th>\n",
       "        </tr>\n",
       "    </thead>\n",
       "    <tbody>\n",
       "        <tr>\n",
       "            <td>Public Works, Transportation & Commerce </td> <td>Water Qualitytech I/II        </td> <td>117767            </td>\n",
       "        </tr>\n",
       "        <tr>\n",
       "            <td>Public Works, Transportation & Commerce </td> <td>Soft Floor Coverer            </td> <td>41209.8           </td>\n",
       "        </tr>\n",
       "        <tr>\n",
       "            <td>Community Health                        </td> <td>Health Care Billing Clerk 2   </td> <td>110561            </td>\n",
       "        </tr>\n",
       "        <tr>\n",
       "            <td>Community Health                        </td> <td>Food Service Mgr Administrator</td> <td>38625             </td>\n",
       "        </tr>\n",
       "        <tr>\n",
       "            <td>Public Works, Transportation & Commerce </td> <td>School Crossing Guard         </td> <td>11438.2           </td>\n",
       "        </tr>\n",
       "        <tr>\n",
       "            <td>Public Protection                       </td> <td>Police Officer                </td> <td>3188.65           </td>\n",
       "        </tr>\n",
       "        <tr>\n",
       "            <td>Community Health                        </td> <td>Nurse Practitioner            </td> <td>260281            </td>\n",
       "        </tr>\n",
       "        <tr>\n",
       "            <td>Public Works, Transportation & Commerce </td> <td>Transit Operator              </td> <td>111057            </td>\n",
       "        </tr>\n",
       "        <tr>\n",
       "            <td>General Administration & Finance        </td> <td>Attorney (Civil/Criminal)     </td> <td>186781            </td>\n",
       "        </tr>\n",
       "        <tr>\n",
       "            <td>Human Welfare & Neighborhood Development</td> <td>Emp & Training Spec 2         </td> <td>103610            </td>\n",
       "        </tr>\n",
       "    </tbody>\n",
       "</table>\n",
       "<p>... (42979 rows omitted)</p>"
      ],
      "text/plain": [
       "Organization Group                       | Job                            | Total Compensation\n",
       "Public Works, Transportation & Commerce  | Water Qualitytech I/II         | 117767\n",
       "Public Works, Transportation & Commerce  | Soft Floor Coverer             | 41209.8\n",
       "Community Health                         | Health Care Billing Clerk 2    | 110561\n",
       "Community Health                         | Food Service Mgr Administrator | 38625\n",
       "Public Works, Transportation & Commerce  | School Crossing Guard          | 11438.2\n",
       "Public Protection                        | Police Officer                 | 3188.65\n",
       "Community Health                         | Nurse Practitioner             | 260281\n",
       "Public Works, Transportation & Commerce  | Transit Operator               | 111057\n",
       "General Administration & Finance         | Attorney (Civil/Criminal)      | 186781\n",
       "Human Welfare & Neighborhood Development | Emp & Training Spec 2          | 103610\n",
       "... (42979 rows omitted)"
      ]
     },
     "execution_count": 59,
     "metadata": {},
     "output_type": "execute_result"
    }
   ],
   "source": [
    "# We only care about salary for now\n",
    "salary_sf = sf.select(3, 11, 21)\n",
    "salary_sf"
   ]
  },
  {
   "cell_type": "markdown",
   "id": "attempted-intro",
   "metadata": {},
   "source": [
    "**Question:** Who is making the most money?"
   ]
  },
  {
   "cell_type": "code",
   "execution_count": 67,
   "id": "binding-lafayette",
   "metadata": {},
   "outputs": [
    {
     "data": {
      "text/plain": [
       "'Chief Investment Officer'"
      ]
     },
     "execution_count": 67,
     "metadata": {},
     "output_type": "execute_result"
    }
   ],
   "source": [
    "salary_sf.sort('Total Compensation', descending=True).column('Job').item(0)"
   ]
  },
  {
   "cell_type": "code",
   "execution_count": null,
   "id": "weird-explorer",
   "metadata": {},
   "outputs": [],
   "source": []
  },
  {
   "cell_type": "markdown",
   "id": "together-monkey",
   "metadata": {},
   "source": [
    "**Question:** Who is making the least money?"
   ]
  },
  {
   "cell_type": "code",
   "execution_count": 68,
   "id": "martial-palestine",
   "metadata": {},
   "outputs": [
    {
     "data": {
      "text/plain": [
       "'Firefighter'"
      ]
     },
     "execution_count": 68,
     "metadata": {},
     "output_type": "execute_result"
    }
   ],
   "source": [
    "salary_sf.sort('Total Compensation', descending=True).column('Job').item(-1) # will give us the last item in the array"
   ]
  },
  {
   "cell_type": "code",
   "execution_count": 69,
   "id": "14a1fc6d-990c-481b-8198-d33903aff217",
   "metadata": {},
   "outputs": [
    {
     "data": {
      "text/plain": [
       "'Firefighter'"
      ]
     },
     "execution_count": 69,
     "metadata": {},
     "output_type": "execute_result"
    }
   ],
   "source": [
    "salary_sf.sort('Total Compensation', descending=False).column('Job').item(0)"
   ]
  },
  {
   "cell_type": "code",
   "execution_count": 70,
   "id": "68bed2f0-95c8-4133-a9bf-fa717d0b2a99",
   "metadata": {},
   "outputs": [
    {
     "data": {
      "text/html": [
       "<table border=\"1\" class=\"dataframe\">\n",
       "    <thead>\n",
       "        <tr>\n",
       "            <th>Organization Group</th> <th>Job</th> <th>Total Compensation</th>\n",
       "        </tr>\n",
       "    </thead>\n",
       "    <tbody>\n",
       "        <tr>\n",
       "            <td>Public Protection                      </td> <td>Firefighter                  </td> <td>-423.76           </td>\n",
       "        </tr>\n",
       "        <tr>\n",
       "            <td>Community Health                       </td> <td>PS Aide Health Services      </td> <td>-410.61           </td>\n",
       "        </tr>\n",
       "        <tr>\n",
       "            <td>Public Protection                      </td> <td>Counselor, Juvenile Hall     </td> <td>-159.12           </td>\n",
       "        </tr>\n",
       "        <tr>\n",
       "            <td>General Administration & Finance       </td> <td>IS Business Analyst-Senior   </td> <td>-26.53            </td>\n",
       "        </tr>\n",
       "        <tr>\n",
       "            <td>General Administration & Finance       </td> <td>Planner 1                    </td> <td>-9.51             </td>\n",
       "        </tr>\n",
       "        <tr>\n",
       "            <td>Public Works, Transportation & Commerce</td> <td>IS Engineer-Principal        </td> <td>-3.1              </td>\n",
       "        </tr>\n",
       "        <tr>\n",
       "            <td>Public Protection                      </td> <td>Senior Stationary Engineer   </td> <td>-0.01             </td>\n",
       "        </tr>\n",
       "        <tr>\n",
       "            <td>Public Protection                      </td> <td>Manager I                    </td> <td>0                 </td>\n",
       "        </tr>\n",
       "        <tr>\n",
       "            <td>General City Responsibilities          </td> <td>Assistant Recreation Director</td> <td>1.27              </td>\n",
       "        </tr>\n",
       "        <tr>\n",
       "            <td>Community Health                       </td> <td>Cook                         </td> <td>2.38              </td>\n",
       "        </tr>\n",
       "    </tbody>\n",
       "</table>\n",
       "<p>... (42979 rows omitted)</p>"
      ],
      "text/plain": [
       "Organization Group                      | Job                           | Total Compensation\n",
       "Public Protection                       | Firefighter                   | -423.76\n",
       "Community Health                        | PS Aide Health Services       | -410.61\n",
       "Public Protection                       | Counselor, Juvenile Hall      | -159.12\n",
       "General Administration & Finance        | IS Business Analyst-Senior    | -26.53\n",
       "General Administration & Finance        | Planner 1                     | -9.51\n",
       "Public Works, Transportation & Commerce | IS Engineer-Principal         | -3.1\n",
       "Public Protection                       | Senior Stationary Engineer    | -0.01\n",
       "Public Protection                       | Manager I                     | 0\n",
       "General City Responsibilities           | Assistant Recreation Director | 1.27\n",
       "Community Health                        | Cook                          | 2.38\n",
       "... (42979 rows omitted)"
      ]
     },
     "execution_count": 70,
     "metadata": {},
     "output_type": "execute_result"
    }
   ],
   "source": [
    "salary_sf.sort('Total Compensation', descending=False)"
   ]
  },
  {
   "cell_type": "markdown",
   "id": "common-property",
   "metadata": {},
   "source": [
    "**Question:** What is the typical salary? Should we compute the mean or median for this?"
   ]
  },
  {
   "cell_type": "code",
   "execution_count": null,
   "id": "improving-condition",
   "metadata": {},
   "outputs": [],
   "source": [
    "# median is the 50th percentile"
   ]
  },
  {
   "cell_type": "markdown",
   "id": "noble-berlin",
   "metadata": {},
   "source": [
    "How can we compute the median with what we covered today?\n",
    "<details>\n",
    "<summary>Solution</summary>\n",
    "  percentile(50, sf.column('Total Compensation'))\n",
    "</details>  "
   ]
  },
  {
   "cell_type": "code",
   "execution_count": 72,
   "id": "configured-senegal",
   "metadata": {},
   "outputs": [
    {
     "data": {
      "text/plain": [
       "98174.899999999994"
      ]
     },
     "execution_count": 72,
     "metadata": {},
     "output_type": "execute_result"
    }
   ],
   "source": [
    "pop_median = percentile(50, salary_sf.column(2))\n",
    "pop_median"
   ]
  },
  {
   "cell_type": "code",
   "execution_count": 73,
   "id": "a72f745a-9c0d-4ee9-94b1-6e46d04225b5",
   "metadata": {},
   "outputs": [
    {
     "data": {
      "text/plain": [
       "98174.899999999994"
      ]
     },
     "execution_count": 73,
     "metadata": {},
     "output_type": "execute_result"
    }
   ],
   "source": [
    "np.median(salary_sf.column(2))"
   ]
  },
  {
   "cell_type": "code",
   "execution_count": 74,
   "id": "christian-month",
   "metadata": {},
   "outputs": [
    {
     "data": {
      "image/png": "[encoded data removed]",
      "text/plain": [
       "<Figure size 600x400 with 1 Axes>"
      ]
     },
     "metadata": {},
     "output_type": "display_data"
    }
   ],
   "source": [
    "sf_bins = np.arange(0, 700000, 25000)\n",
    "sf.hist('Total Compensation', bins=sf_bins)\n",
    "plots.title('Population Distribution');"
   ]
  },
  {
   "cell_type": "code",
   "execution_count": 75,
   "id": "cfdb91f1-4615-4044-8eac-a49d3b5a5d62",
   "metadata": {},
   "outputs": [
    {
     "data": {
      "text/plain": [
       "42989"
      ]
     },
     "execution_count": 75,
     "metadata": {},
     "output_type": "execute_result"
    }
   ],
   "source": [
    "sf.num_rows"
   ]
  },
  {
   "cell_type": "markdown",
   "id": "little-graduate",
   "metadata": {},
   "source": [
    "### Estimating Salaries\n",
    "Say we dont have salaries. What would we do to compute the 50% percentile of salaries?"
   ]
  },
  {
   "cell_type": "code",
   "execution_count": null,
   "id": "valuable-junction",
   "metadata": {},
   "outputs": [],
   "source": [
    "# skip"
   ]
  },
  {
   "cell_type": "code",
   "execution_count": null,
   "id": "supreme-stanford",
   "metadata": {},
   "outputs": [],
   "source": [
    "# skip"
   ]
  },
  {
   "cell_type": "code",
   "execution_count": null,
   "id": "special-aruba",
   "metadata": {},
   "outputs": [],
   "source": [
    "# skip"
   ]
  },
  {
   "cell_type": "code",
   "execution_count": 76,
   "id": "amended-sunset",
   "metadata": {},
   "outputs": [
    {
     "data": {
      "text/html": [
       "<table border=\"1\" class=\"dataframe\">\n",
       "    <thead>\n",
       "        <tr>\n",
       "            <th>Year Type</th> <th>Year</th> <th>Organization Group Code</th> <th>Organization Group</th> <th>Department Code</th> <th>Department</th> <th>Union Code</th> <th>Union</th> <th>Job Family Code</th> <th>Job Family</th> <th>Job Code</th> <th>Job</th> <th>Employee Identifier</th> <th>Salaries</th> <th>Overtime</th> <th>Other Salaries</th> <th>Total Salary</th> <th>Retirement</th> <th>Health/Dental</th> <th>Other Benefits</th> <th>Total Benefits</th> <th>Total Compensation</th>\n",
       "        </tr>\n",
       "    </thead>\n",
       "    <tbody>\n",
       "        <tr>\n",
       "            <td>Calendar </td> <td>2015</td> <td>5                      </td> <td>Culture & Recreation                    </td> <td>LIB            </td> <td>Public Library </td> <td>790       </td> <td>SEIU - Miscellaneous, Local 1021       </td> <td>3600           </td> <td>Library                      </td> <td>3610    </td> <td>Library Assistant           </td> <td>31653              </td> <td>47071.8 </td> <td>0       </td> <td>1059.39       </td> <td>48131.1     </td> <td>9703.9    </td> <td>9461.67      </td> <td>4049.57       </td> <td>23215.1       </td> <td>71346.3           </td>\n",
       "        </tr>\n",
       "        <tr>\n",
       "            <td>Calendar </td> <td>2015</td> <td>1                      </td> <td>Public Protection                       </td> <td>FIR            </td> <td>Fire Department</td> <td>798       </td> <td>Firefighters - Miscellaneous, Local 798</td> <td>H000           </td> <td>Fire Services                </td> <td>H003    </td> <td>EMT/Paramedic/Firefighter   </td> <td>26340              </td> <td>111630  </td> <td>7261.55 </td> <td>19955.6       </td> <td>138847      </td> <td>24654     </td> <td>12247.5      </td> <td>2319.21       </td> <td>39220.7       </td> <td>178068            </td>\n",
       "        </tr>\n",
       "        <tr>\n",
       "            <td>Calendar </td> <td>2015</td> <td>3                      </td> <td>Human Welfare & Neighborhood Development</td> <td>DSS            </td> <td>Human Services </td> <td>1         </td> <td>Miscellaneous Unrepresented Employees  </td> <td>9900           </td> <td>Public Service Aide          </td> <td>9916    </td> <td>Public Svc Aide-Public Works</td> <td>31477              </td> <td>2562.23 </td> <td>0       </td> <td>75.53         </td> <td>2637.76     </td> <td>0         </td> <td>1093.12      </td> <td>212.44        </td> <td>1305.56       </td> <td>3943.32           </td>\n",
       "        </tr>\n",
       "        <tr>\n",
       "            <td>Calendar </td> <td>2015</td> <td>4                      </td> <td>Community Health                        </td> <td>DPH            </td> <td>Public Health  </td> <td>790       </td> <td>SEIU - Miscellaneous, Local 1021       </td> <td>1400           </td> <td>Clerical, Secretarial & Steno</td> <td>1406    </td> <td>Senior Clerk                </td> <td>25680              </td> <td>46761.6 </td> <td>253.01  </td> <td>1000          </td> <td>48014.6     </td> <td>10882.8   </td> <td>10349.3      </td> <td>3893.5        </td> <td>25125.6       </td> <td>73140.2           </td>\n",
       "        </tr>\n",
       "        <tr>\n",
       "            <td>Calendar </td> <td>2015</td> <td>1                      </td> <td>Public Protection                       </td> <td>PDR            </td> <td>Public Defender</td> <td>311       </td> <td>Municipal Attorneys' Association       </td> <td>8100           </td> <td>Legal & Court                </td> <td>8177    </td> <td>Attorney (Civil/Criminal)   </td> <td>30316              </td> <td>184289  </td> <td>0       </td> <td>5185.78       </td> <td>189475      </td> <td>38130.6   </td> <td>12424.5      </td> <td>10918.1       </td> <td>61473.2       </td> <td>250948            </td>\n",
       "        </tr>\n",
       "    </tbody>\n",
       "</table>\n",
       "<p>... (295 rows omitted)</p>"
      ],
      "text/plain": [
       "<IPython.core.display.HTML object>"
      ]
     },
     "metadata": {},
     "output_type": "display_data"
    }
   ],
   "source": [
    "our_sample = sf.sample(300, with_replacement=False)\n",
    "our_sample.show(5)"
   ]
  },
  {
   "cell_type": "code",
   "execution_count": 77,
   "id": "pleased-latvia",
   "metadata": {},
   "outputs": [
    {
     "data": {
      "text/plain": [
       "94465.589999999997"
      ]
     },
     "execution_count": 77,
     "metadata": {},
     "output_type": "execute_result"
    }
   ],
   "source": [
    "estimate_median = percentile(50, our_sample.column('Total Compensation'))\n",
    "estimate_median"
   ]
  },
  {
   "cell_type": "code",
   "execution_count": 78,
   "id": "selective-encoding",
   "metadata": {},
   "outputs": [
    {
     "data": {
      "image/png": "[encoded data removed]",
      "text/plain": [
       "<Figure size 600x400 with 1 Axes>"
      ]
     },
     "metadata": {},
     "output_type": "display_data"
    }
   ],
   "source": [
    "our_sample.hist('Total Compensation', bins=sf_bins)\n",
    "plots.title('Sample Distribution');"
   ]
  },
  {
   "cell_type": "markdown",
   "id": "purple-experiment",
   "metadata": {},
   "source": [
    "**Question:** How far off is our estimate from the true median?"
   ]
  },
  {
   "cell_type": "markdown",
   "id": "fdebf50a-04ed-4400-9301-b0a13abcc9bb",
   "metadata": {},
   "source": [
    "**Question:** How far off is our estimate from the true median"
   ]
  },
  {
   "cell_type": "code",
   "execution_count": 79,
   "id": "involved-speed",
   "metadata": {},
   "outputs": [
    {
     "data": {
      "text/plain": [
       "(98174.899999999994, 94465.589999999997, 3709.3099999999977)"
      ]
     },
     "execution_count": 79,
     "metadata": {},
     "output_type": "execute_result"
    }
   ],
   "source": [
    "pop_median, estimate_median, abs(pop_median - estimate_median)"
   ]
  },
  {
   "cell_type": "markdown",
   "id": "bottom-incentive",
   "metadata": {},
   "source": [
    "## Variability of the Estimate\n",
    "\n",
    "Let's implement the following function:\n",
    "\n",
    "<details>\n",
    "<summary>Solution</summary>\n",
    "  our_sample = sf.sample(samp_size, with_replacement=False)\n",
    "  return percentile(50, our_sample.column('Total Compensation'))\n",
    "</details>\n"
   ]
  },
  {
   "cell_type": "code",
   "execution_count": null,
   "id": "excited-joint",
   "metadata": {},
   "outputs": [],
   "source": [
    "def generate_sample_median(samp_size):\n",
    "    \"\"\"\n",
    "    Given a sample size\n",
    "    Returns the median of a random sample of samp_size from the sf table\"\"\"\n",
    "    # Question: sample with or without replacement?\n",
    "    \n",
    "    \n",
    "\n",
    "sample_median = generate_sample_median(300)\n",
    "sample_median"
   ]
  },
  {
   "cell_type": "markdown",
   "id": "bored-demographic",
   "metadata": {},
   "source": [
    "**Question:** What is our error?\n",
    "\n",
    "\n",
    "<details>\n",
    "<summary>Solution</summary>\n",
    "  error = sample_median - pop_median\n",
    "</details>\n"
   ]
  },
  {
   "cell_type": "code",
   "execution_count": null,
   "id": "laden-night",
   "metadata": {},
   "outputs": [],
   "source": [
    "error = ...\n",
    "error"
   ]
  },
  {
   "cell_type": "markdown",
   "id": "little-musical",
   "metadata": {},
   "source": [
    "(back to slides)\n",
    "# Quantifying Uncertainty\n",
    "\n",
    "Lets take 1k estimates where each sample has 300 individuals\n"
   ]
  },
  {
   "cell_type": "code",
   "execution_count": null,
   "id": "novel-bacon",
   "metadata": {
    "tags": []
   },
   "outputs": [],
   "source": [
    "sample_medians = make_array()\n",
    "\n",
    "for i in np.arange(1000):\n",
    "    new_median = generate_sample_median(300)\n",
    "    sample_medians = np.append(sample_medians, new_median)\n",
    "sample_medians"
   ]
  },
  {
   "cell_type": "markdown",
   "id": "mineral-wages",
   "metadata": {},
   "source": [
    "Let's plot the medians"
   ]
  },
  {
   "cell_type": "code",
   "execution_count": null,
   "id": "funny-linux",
   "metadata": {},
   "outputs": [],
   "source": [
    "med_bins = np.arange(90000, 125001, 2500)\n",
    "Table().with_column(\n",
    "    'Sample Medians', sample_medians\n",
    ").hist(bins = med_bins)\n",
    "\n",
    "plots.scatter(pop_median, -1e-6, color=\"red\");"
   ]
  },
  {
   "cell_type": "markdown",
   "id": "short-leadership",
   "metadata": {},
   "source": [
    "Lets plot the errors"
   ]
  },
  {
   "cell_type": "code",
   "execution_count": null,
   "id": "pregnant-running",
   "metadata": {},
   "outputs": [],
   "source": [
    "err_bins = np.arange(-15000, 12501, 2500)\n",
    "Table().with_column(\n",
    "    'Errors', sample_medians - pop_median\n",
    ").hist(bins = err_bins)\n",
    "\n",
    "plots.scatter(0, -1e-6, color=\"red\");"
   ]
  },
  {
   "cell_type": "markdown",
   "id": "least-charity",
   "metadata": {},
   "source": [
    "(back to slides)\n",
    "# Bootstrap"
   ]
  },
  {
   "cell_type": "code",
   "execution_count": null,
   "id": "increased-lafayette",
   "metadata": {},
   "outputs": [],
   "source": [
    "our_sample"
   ]
  },
  {
   "cell_type": "code",
   "execution_count": null,
   "id": "conceptual-flexibility",
   "metadata": {},
   "outputs": [],
   "source": [
    "# Take a bootstrap (re)sample of size 300, WITH replacement\n",
    "\n",
    "# Sample from our sample\n",
    "boot_sample = our_sample.sample(with_replacement=True)\n",
    "#boot_sample"
   ]
  },
  {
   "cell_type": "markdown",
   "id": "recreational-twist",
   "metadata": {},
   "source": [
    "Let's compare the median from our sample with the median of the boostrapped sample"
   ]
  },
  {
   "cell_type": "code",
   "execution_count": null,
   "id": "toxic-execution",
   "metadata": {},
   "outputs": [],
   "source": [
    "our_sample_median = percentile(50, our_sample.column('Total Compensation'))\n",
    "boot_sample_median = percentile(50, boot_sample.column('Total Compensation'))"
   ]
  },
  {
   "cell_type": "code",
   "execution_count": null,
   "id": "better-retail",
   "metadata": {},
   "outputs": [],
   "source": [
    "# Show the bootstrap sample \n",
    "boot_sample.hist('Total Compensation', bins=sf_bins)\n",
    "plots.title('1 Bootstrap sample');\n",
    "\n",
    "print(\"Population Median =       \", pop_median)\n",
    "print(\"Our Sample Median =       \", our_sample_median)\n",
    "print(\"Bootstrap Sample Median = \", \n",
    "      percentile(50,boot_sample.column('Total Compensation')))"
   ]
  },
  {
   "cell_type": "markdown",
   "id": "million-swing",
   "metadata": {},
   "source": [
    "### Multiple Bootstraps\n",
    "Let's take 1k bootstraps. Lets start by implementing the following function\n",
    "\n",
    "<details>\n",
    "<summary>Solution</summary>\n",
    "   single_sample = our_sample.sample()\n",
    "   return percentile(50, single_sample.column('Total Compensation'))\n",
    "</details>  "
   ]
  },
  {
   "cell_type": "code",
   "execution_count": null,
   "id": "personalized-craft",
   "metadata": {},
   "outputs": [],
   "source": [
    "def one_bootstrap_median():\n",
    "    single_sample = ...\n",
    "    return ..."
   ]
  },
  {
   "cell_type": "markdown",
   "id": "caring-statement",
   "metadata": {},
   "source": [
    "Now let's keep track of 1k bootstrapped median"
   ]
  },
  {
   "cell_type": "code",
   "execution_count": null,
   "id": "increased-tension",
   "metadata": {},
   "outputs": [],
   "source": [
    "# Bootstrap our sample 1000 times\n",
    "bootstrap_medians = ...\n",
    "for i in np.arange(1000):\n",
    "    new_median = ...\n",
    "    bootstrap_medians = ..."
   ]
  },
  {
   "cell_type": "markdown",
   "id": "sound-segment",
   "metadata": {},
   "source": [
    "Let's visualize these bootstrapped medians"
   ]
  },
  {
   "cell_type": "code",
   "execution_count": null,
   "id": "connected-facility",
   "metadata": {},
   "outputs": [],
   "source": [
    "Table().with_column(\n",
    "    'Bootstrap Medians', bootstrap_medians\n",
    ").hist('Bootstrap Medians', bins=med_bins)\n",
    "\n",
    "plots.scatter(pop_median, 0, color=\"red\");\n",
    "plots.scatter(our_sample_median, 0, color=\"blue\");\n",
    "plots.title('Bootstrap Medians (1K Bootstraps from our Sample)');"
   ]
  },
  {
   "cell_type": "markdown",
   "id": "specialized-harris",
   "metadata": {},
   "source": [
    "# 95% Confidence Interval"
   ]
  },
  {
   "cell_type": "markdown",
   "id": "accredited-chance",
   "metadata": {},
   "source": [
    "**Question**: How could we make an interval based on the middle 95% of bootstrap samples?\n",
    "\n",
    "- *Hint 1:* Remember we stored the bootstrapped medians in an array called `bootstrap_medians`\n",
    "- *Hint 2:* What did we learn about in the begining of this lecture?\n",
    "\n",
    "\n",
    "<details>\n",
    "<summary>Solution</summary>\n",
    "  left = percentile(2.5, bootstrap_medians)\n",
    "right = percentile(97.5, bootstrap_medians)\n",
    "</details>  "
   ]
  },
  {
   "cell_type": "code",
   "execution_count": null,
   "id": "average-presence",
   "metadata": {},
   "outputs": [],
   "source": [
    "# Make an interval based on the middle 95% of bootstrap samples\n",
    "\n",
    "left = ...\n",
    "right = ..."
   ]
  },
  {
   "cell_type": "code",
   "execution_count": null,
   "id": "collaborative-texas",
   "metadata": {},
   "outputs": [],
   "source": [
    "Table().with_column(\n",
    "    'Bootstrap Medians', bootstrap_medians\n",
    ").hist('Bootstrap Medians', bins=med_bins)\n",
    "\n",
    "plots.plot([left, right], [0,0], color=\"gold\",lw=3, zorder=1);\n",
    "plots.scatter(pop_median, 0, color=\"red\", zorder=2);\n",
    "plots.scatter(our_sample_median, 0, color=\"blue\", zorder=2);\n",
    "plots.title('Bootstrap Medians (1K Bootstraps from our Sample)');"
   ]
  },
  {
   "cell_type": "markdown",
   "id": "cellular-sauce",
   "metadata": {},
   "source": [
    "## Another Example: Mean Maternal Age"
   ]
  },
  {
   "cell_type": "code",
   "execution_count": null,
   "id": "radio-payroll",
   "metadata": {},
   "outputs": [],
   "source": [
    "# This time we have a sample, but no population data!\n",
    "births = Table.read_table('baby.csv')\n",
    "births.show(5)"
   ]
  },
  {
   "cell_type": "markdown",
   "id": "billion-microphone",
   "metadata": {},
   "source": [
    "How can we see a distribution of maternal ages?\n",
    "\n",
    "<details>\n",
    "<summary>Solution</summary>\n",
    "  births.hist('Maternal Age')\n",
    "</details>  "
   ]
  },
  {
   "cell_type": "markdown",
   "id": "becoming-regression",
   "metadata": {},
   "source": [
    "What is the mean age?"
   ]
  },
  {
   "cell_type": "code",
   "execution_count": null,
   "id": "hybrid-pasta",
   "metadata": {},
   "outputs": [],
   "source": [
    "mean_age = ...\n",
    "mean_age"
   ]
  },
  {
   "cell_type": "markdown",
   "id": "competitive-board",
   "metadata": {},
   "source": [
    "Now let's use bootstraping to find samples means\n",
    "\n",
    "<details>\n",
    "<summary>Solution</summary>\n",
    "  np.mean(births.sample().column('Maternal Age'))\n",
    "</details>  "
   ]
  },
  {
   "cell_type": "code",
   "execution_count": null,
   "id": "athletic-outreach",
   "metadata": {},
   "outputs": [],
   "source": [
    "def one_bootstrap_mean():\n",
    "    return ..."
   ]
  },
  {
   "cell_type": "markdown",
   "id": "modular-removal",
   "metadata": {},
   "source": [
    "Let's compute 1k bootstrapped samples"
   ]
  },
  {
   "cell_type": "code",
   "execution_count": null,
   "id": "international-major",
   "metadata": {},
   "outputs": [],
   "source": [
    "bootstrap_means = make_array()\n",
    "\n",
    "for i in np.arange(1000):\n",
    "    new_mean = one_bootstrap_mean()\n",
    "    bootstrap_means = np.append(bootstrap_means, new_mean)\n",
    "    \n",
    "left = percentile(2.5, bootstrap_means)\n",
    "right = percentile(97.5, bootstrap_means)"
   ]
  },
  {
   "cell_type": "code",
   "execution_count": null,
   "id": "cognitive-moses",
   "metadata": {},
   "outputs": [],
   "source": [
    "Table().with_column('Bootstrap means', bootstrap_means).hist()\n",
    "\n",
    "plots.plot([left,right], [0,0], color=\"gold\", lw=3, zorder=1);\n",
    "plots.scatter(mean_age,0,color=\"blue\", zorder=2);\n",
    "plots.title('Bootstrap Means (1K Bootstraps from our Sample)');"
   ]
  }
 ],
 "metadata": {
  "kernelspec": {
   "display_name": "Python 3 (ipykernel)",
   "language": "python",
   "name": "python3"
  },
  "language_info": {
   "codemirror_mode": {
    "name": "ipython",
    "version": 3
   },
   "file_extension": ".py",
   "mimetype": "text/x-python",
   "name": "python",
   "nbconvert_exporter": "python",
   "pygments_lexer": "ipython3",
   "version": "3.12.6"
  }
 },
 "nbformat": 4,
 "nbformat_minor": 5
}
