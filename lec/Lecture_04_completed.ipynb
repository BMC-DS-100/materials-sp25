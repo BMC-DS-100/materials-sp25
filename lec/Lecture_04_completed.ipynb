{
 "cells": [
  {
   "cell_type": "code",
   "execution_count": 1,
   "metadata": {},
   "outputs": [],
   "source": [
    "from datascience import *\n",
    "import numpy as np\n",
    "\n",
    "%matplotlib inline\n",
    "import matplotlib.pyplot as plots\n",
    "plots.style.use('fivethirtyeight')"
   ]
  },
  {
   "cell_type": "markdown",
   "metadata": {},
   "source": [
    "# Table Questions"
   ]
  },
  {
   "cell_type": "markdown",
   "metadata": {},
   "source": [
    "**Question 1:** Given a file callled `nba_salaries.csv`, how can we load it into a `Table`?"
   ]
  },
  {
   "cell_type": "code",
   "execution_count": 2,
   "metadata": {},
   "outputs": [
    {
     "data": {
      "text/html": [
       "<table border=\"1\" class=\"dataframe\">\n",
       "    <thead>\n",
       "        <tr>\n",
       "            <th>rank</th> <th>name</th> <th>position</th> <th>team</th> <th>salary</th> <th>season</th>\n",
       "        </tr>\n",
       "    </thead>\n",
       "    <tbody>\n",
       "        <tr>\n",
       "            <td>1   </td> <td>Shaquille O'Neal</td> <td>C       </td> <td>Los Angeles Lakers    </td> <td>17142000</td> <td>2000  </td>\n",
       "        </tr>\n",
       "        <tr>\n",
       "            <td>2   </td> <td>Kevin Garnett   </td> <td>PF      </td> <td>Minnesota Timberwolves</td> <td>16806000</td> <td>2000  </td>\n",
       "        </tr>\n",
       "        <tr>\n",
       "            <td>3   </td> <td>Alonzo Mourning </td> <td>C       </td> <td>Miami Heat            </td> <td>15004000</td> <td>2000  </td>\n",
       "        </tr>\n",
       "        <tr>\n",
       "            <td>4   </td> <td>Juwan Howard    </td> <td>PF      </td> <td>Washington Wizards    </td> <td>15000000</td> <td>2000  </td>\n",
       "        </tr>\n",
       "        <tr>\n",
       "            <td>5   </td> <td>Scottie Pippen  </td> <td>SF      </td> <td>Portland Trail Blazers</td> <td>14795000</td> <td>2000  </td>\n",
       "        </tr>\n",
       "        <tr>\n",
       "            <td>6   </td> <td>Karl Malone     </td> <td>PF      </td> <td>Utah Jazz             </td> <td>14000000</td> <td>2000  </td>\n",
       "        </tr>\n",
       "        <tr>\n",
       "            <td>7   </td> <td>Larry Johnson   </td> <td>F       </td> <td>New York Knicks       </td> <td>11910000</td> <td>2000  </td>\n",
       "        </tr>\n",
       "        <tr>\n",
       "            <td>8   </td> <td>Gary Payton     </td> <td>PG      </td> <td>Seattle SuperSonics   </td> <td>11020000</td> <td>2000  </td>\n",
       "        </tr>\n",
       "        <tr>\n",
       "            <td>9   </td> <td>Rasheed Wallace </td> <td>PF      </td> <td>Portland Trail Blazers</td> <td>10800000</td> <td>2000  </td>\n",
       "        </tr>\n",
       "        <tr>\n",
       "            <td>10  </td> <td>Shawn Kemp      </td> <td>C       </td> <td>Cleveland Cavaliers   </td> <td>10780000</td> <td>2000  </td>\n",
       "        </tr>\n",
       "    </tbody>\n",
       "</table>\n",
       "<p>... (9446 rows omitted)</p>"
      ],
      "text/plain": [
       "rank | name             | position | team                   | salary   | season\n",
       "1    | Shaquille O'Neal | C        | Los Angeles Lakers     | 17142000 | 2000\n",
       "2    | Kevin Garnett    | PF       | Minnesota Timberwolves | 16806000 | 2000\n",
       "3    | Alonzo Mourning  | C        | Miami Heat             | 15004000 | 2000\n",
       "4    | Juwan Howard     | PF       | Washington Wizards     | 15000000 | 2000\n",
       "5    | Scottie Pippen   | SF       | Portland Trail Blazers | 14795000 | 2000\n",
       "6    | Karl Malone      | PF       | Utah Jazz              | 14000000 | 2000\n",
       "7    | Larry Johnson    | F        | New York Knicks        | 11910000 | 2000\n",
       "8    | Gary Payton      | PG       | Seattle SuperSonics    | 11020000 | 2000\n",
       "9    | Rasheed Wallace  | PF       | Portland Trail Blazers | 10800000 | 2000\n",
       "10   | Shawn Kemp       | C        | Cleveland Cavaliers    | 10780000 | 2000\n",
       "... (9446 rows omitted)"
      ]
     },
     "execution_count": 2,
     "metadata": {},
     "output_type": "execute_result"
    }
   ],
   "source": [
    "nba = Table.read_table(\"nba_salaries.csv\")\n",
    "nba"
   ]
  },
  {
   "cell_type": "code",
   "execution_count": 5,
   "metadata": {},
   "outputs": [
    {
     "data": {
      "text/plain": [
       "array([17142000, 16806000, 15004000, ...,   183115,   183115,   155647])"
      ]
     },
     "execution_count": 5,
     "metadata": {},
     "output_type": "execute_result"
    }
   ],
   "source": [
    "# this line will give us a new table with one column nba.select('salary')\n",
    "\n",
    "nba.column('salary')"
   ]
  },
  {
   "cell_type": "code",
   "execution_count": 6,
   "metadata": {},
   "outputs": [
    {
     "data": {
      "text/html": [
       "<table border=\"1\" class=\"dataframe\">\n",
       "    <thead>\n",
       "        <tr>\n",
       "            <th>rank</th> <th>name</th> <th>position</th> <th>team</th> <th>salary</th> <th>season</th>\n",
       "        </tr>\n",
       "    </thead>\n",
       "    <tbody>\n",
       "        <tr>\n",
       "            <td>1   </td> <td>Shaquille O'Neal</td> <td>C       </td> <td>Los Angeles Lakers    </td> <td>17142000</td> <td>2000  </td>\n",
       "        </tr>\n",
       "        <tr>\n",
       "            <td>2   </td> <td>Kevin Garnett   </td> <td>PF      </td> <td>Minnesota Timberwolves</td> <td>16806000</td> <td>2000  </td>\n",
       "        </tr>\n",
       "        <tr>\n",
       "            <td>3   </td> <td>Alonzo Mourning </td> <td>C       </td> <td>Miami Heat            </td> <td>15004000</td> <td>2000  </td>\n",
       "        </tr>\n",
       "        <tr>\n",
       "            <td>4   </td> <td>Juwan Howard    </td> <td>PF      </td> <td>Washington Wizards    </td> <td>15000000</td> <td>2000  </td>\n",
       "        </tr>\n",
       "        <tr>\n",
       "            <td>5   </td> <td>Scottie Pippen  </td> <td>SF      </td> <td>Portland Trail Blazers</td> <td>14795000</td> <td>2000  </td>\n",
       "        </tr>\n",
       "        <tr>\n",
       "            <td>6   </td> <td>Karl Malone     </td> <td>PF      </td> <td>Utah Jazz             </td> <td>14000000</td> <td>2000  </td>\n",
       "        </tr>\n",
       "        <tr>\n",
       "            <td>7   </td> <td>Larry Johnson   </td> <td>F       </td> <td>New York Knicks       </td> <td>11910000</td> <td>2000  </td>\n",
       "        </tr>\n",
       "        <tr>\n",
       "            <td>8   </td> <td>Gary Payton     </td> <td>PG      </td> <td>Seattle SuperSonics   </td> <td>11020000</td> <td>2000  </td>\n",
       "        </tr>\n",
       "        <tr>\n",
       "            <td>9   </td> <td>Rasheed Wallace </td> <td>PF      </td> <td>Portland Trail Blazers</td> <td>10800000</td> <td>2000  </td>\n",
       "        </tr>\n",
       "        <tr>\n",
       "            <td>10  </td> <td>Shawn Kemp      </td> <td>C       </td> <td>Cleveland Cavaliers   </td> <td>10780000</td> <td>2000  </td>\n",
       "        </tr>\n",
       "    </tbody>\n",
       "</table>\n",
       "<p>... (9446 rows omitted)</p>"
      ],
      "text/plain": [
       "rank | name             | position | team                   | salary   | season\n",
       "1    | Shaquille O'Neal | C        | Los Angeles Lakers     | 17142000 | 2000\n",
       "2    | Kevin Garnett    | PF       | Minnesota Timberwolves | 16806000 | 2000\n",
       "3    | Alonzo Mourning  | C        | Miami Heat             | 15004000 | 2000\n",
       "4    | Juwan Howard     | PF       | Washington Wizards     | 15000000 | 2000\n",
       "5    | Scottie Pippen   | SF       | Portland Trail Blazers | 14795000 | 2000\n",
       "6    | Karl Malone      | PF       | Utah Jazz              | 14000000 | 2000\n",
       "7    | Larry Johnson    | F        | New York Knicks        | 11910000 | 2000\n",
       "8    | Gary Payton      | PG       | Seattle SuperSonics    | 11020000 | 2000\n",
       "9    | Rasheed Wallace  | PF       | Portland Trail Blazers | 10800000 | 2000\n",
       "10   | Shawn Kemp       | C        | Cleveland Cavaliers    | 10780000 | 2000\n",
       "... (9446 rows omitted)"
      ]
     },
     "execution_count": 6,
     "metadata": {},
     "output_type": "execute_result"
    }
   ],
   "source": [
    "nba"
   ]
  },
  {
   "cell_type": "code",
   "execution_count": 13,
   "metadata": {},
   "outputs": [
    {
     "data": {
      "text/html": [
       "<table border=\"1\" class=\"dataframe\">\n",
       "    <thead>\n",
       "        <tr>\n",
       "            <th>rank</th> <th>name</th> <th>position</th> <th>team</th> <th>salary</th> <th>season</th>\n",
       "        </tr>\n",
       "    </thead>\n",
       "    <tbody>\n",
       "        <tr>\n",
       "            <td>2   </td> <td>Kevin Garnett</td> <td>PF      </td> <td>Minnesota Timberwolves</td> <td>16806000</td> <td>2000  </td>\n",
       "        </tr>\n",
       "    </tbody>\n",
       "</table>"
      ],
      "text/plain": [
       "rank | name          | position | team                   | salary   | season\n",
       "2    | Kevin Garnett | PF       | Minnesota Timberwolves | 16806000 | 2000"
      ]
     },
     "execution_count": 13,
     "metadata": {},
     "output_type": "execute_result"
    }
   ],
   "source": [
    "nba.take(1)"
   ]
  },
  {
   "cell_type": "code",
   "execution_count": 14,
   "metadata": {},
   "outputs": [
    {
     "data": {
      "text/html": [
       "<table border=\"1\" class=\"dataframe\">\n",
       "    <thead>\n",
       "        <tr>\n",
       "            <th>rank</th> <th>name</th> <th>position</th> <th>team</th> <th>salary</th> <th>season</th>\n",
       "        </tr>\n",
       "    </thead>\n",
       "    <tbody>\n",
       "        <tr>\n",
       "            <td>1   </td> <td>Shaquille O'Neal</td> <td>C       </td> <td>Los Angeles Lakers</td> <td>17142000</td> <td>2000  </td>\n",
       "        </tr>\n",
       "    </tbody>\n",
       "</table>"
      ],
      "text/plain": [
       "rank | name             | position | team               | salary   | season\n",
       "1    | Shaquille O'Neal | C        | Los Angeles Lakers | 17142000 | 2000"
      ]
     },
     "execution_count": 14,
     "metadata": {},
     "output_type": "execute_result"
    }
   ],
   "source": [
    "nba.take(0)"
   ]
  },
  {
   "cell_type": "code",
   "execution_count": 15,
   "metadata": {},
   "outputs": [
    {
     "data": {
      "text/html": [
       "<table border=\"1\" class=\"dataframe\">\n",
       "    <thead>\n",
       "        <tr>\n",
       "            <th>rank</th> <th>name</th> <th>position</th> <th>team</th> <th>salary</th> <th>season</th>\n",
       "        </tr>\n",
       "    </thead>\n",
       "    <tbody>\n",
       "        <tr>\n",
       "            <td>1   </td> <td>Shaquille O'Neal</td> <td>C       </td> <td>Los Angeles Lakers    </td> <td>17142000</td> <td>2000  </td>\n",
       "        </tr>\n",
       "        <tr>\n",
       "            <td>2   </td> <td>Kevin Garnett   </td> <td>PF      </td> <td>Minnesota Timberwolves</td> <td>16806000</td> <td>2000  </td>\n",
       "        </tr>\n",
       "        <tr>\n",
       "            <td>3   </td> <td>Alonzo Mourning </td> <td>C       </td> <td>Miami Heat            </td> <td>15004000</td> <td>2000  </td>\n",
       "        </tr>\n",
       "        <tr>\n",
       "            <td>4   </td> <td>Juwan Howard    </td> <td>PF      </td> <td>Washington Wizards    </td> <td>15000000</td> <td>2000  </td>\n",
       "        </tr>\n",
       "        <tr>\n",
       "            <td>5   </td> <td>Scottie Pippen  </td> <td>SF      </td> <td>Portland Trail Blazers</td> <td>14795000</td> <td>2000  </td>\n",
       "        </tr>\n",
       "    </tbody>\n",
       "</table>"
      ],
      "text/plain": [
       "rank | name             | position | team                   | salary   | season\n",
       "1    | Shaquille O'Neal | C        | Los Angeles Lakers     | 17142000 | 2000\n",
       "2    | Kevin Garnett    | PF       | Minnesota Timberwolves | 16806000 | 2000\n",
       "3    | Alonzo Mourning  | C        | Miami Heat             | 15004000 | 2000\n",
       "4    | Juwan Howard     | PF       | Washington Wizards     | 15000000 | 2000\n",
       "5    | Scottie Pippen   | SF       | Portland Trail Blazers | 14795000 | 2000"
      ]
     },
     "execution_count": 15,
     "metadata": {},
     "output_type": "execute_result"
    }
   ],
   "source": [
    "nba.take(0,1,2,3,4)"
   ]
  },
  {
   "cell_type": "code",
   "execution_count": null,
   "metadata": {},
   "outputs": [],
   "source": [
    "nba.take(0,1,2,3,4,5,6,7,8,9,10) # BAD IDEA< DONT DO THIS"
   ]
  },
  {
   "cell_type": "code",
   "execution_count": 16,
   "metadata": {},
   "outputs": [
    {
     "data": {
      "text/plain": [
       "array([0, 1, 2, 3, 4, 5, 6, 7, 8, 9])"
      ]
     },
     "execution_count": 16,
     "metadata": {},
     "output_type": "execute_result"
    }
   ],
   "source": [
    "np.arange(0,10,1)"
   ]
  },
  {
   "cell_type": "code",
   "execution_count": 19,
   "metadata": {},
   "outputs": [
    {
     "data": {
      "text/html": [
       "<table border=\"1\" class=\"dataframe\">\n",
       "    <thead>\n",
       "        <tr>\n",
       "            <th>rank</th> <th>name</th> <th>position</th> <th>team</th> <th>salary</th> <th>season</th>\n",
       "        </tr>\n",
       "    </thead>\n",
       "    <tbody>\n",
       "        <tr>\n",
       "            <td>1   </td> <td>Shaquille O'Neal</td> <td>C       </td> <td>Los Angeles Lakers    </td> <td>17142000</td> <td>2000  </td>\n",
       "        </tr>\n",
       "        <tr>\n",
       "            <td>2   </td> <td>Kevin Garnett   </td> <td>PF      </td> <td>Minnesota Timberwolves</td> <td>16806000</td> <td>2000  </td>\n",
       "        </tr>\n",
       "        <tr>\n",
       "            <td>3   </td> <td>Alonzo Mourning </td> <td>C       </td> <td>Miami Heat            </td> <td>15004000</td> <td>2000  </td>\n",
       "        </tr>\n",
       "        <tr>\n",
       "            <td>4   </td> <td>Juwan Howard    </td> <td>PF      </td> <td>Washington Wizards    </td> <td>15000000</td> <td>2000  </td>\n",
       "        </tr>\n",
       "        <tr>\n",
       "            <td>5   </td> <td>Scottie Pippen  </td> <td>SF      </td> <td>Portland Trail Blazers</td> <td>14795000</td> <td>2000  </td>\n",
       "        </tr>\n",
       "    </tbody>\n",
       "</table>"
      ],
      "text/plain": [
       "rank | name             | position | team                   | salary   | season\n",
       "1    | Shaquille O'Neal | C        | Los Angeles Lakers     | 17142000 | 2000\n",
       "2    | Kevin Garnett    | PF       | Minnesota Timberwolves | 16806000 | 2000\n",
       "3    | Alonzo Mourning  | C        | Miami Heat             | 15004000 | 2000\n",
       "4    | Juwan Howard     | PF       | Washington Wizards     | 15000000 | 2000\n",
       "5    | Scottie Pippen   | SF       | Portland Trail Blazers | 14795000 | 2000"
      ]
     },
     "execution_count": 19,
     "metadata": {},
     "output_type": "execute_result"
    }
   ],
   "source": [
    "nba.take(np.arange(0,5))"
   ]
  },
  {
   "cell_type": "markdown",
   "metadata": {},
   "source": [
    "how can we rearrange the table above so that SHawn Kemp is first, and Shaq is last?"
   ]
  },
  {
   "cell_type": "code",
   "execution_count": 20,
   "metadata": {},
   "outputs": [
    {
     "data": {
      "text/html": [
       "<table border=\"1\" class=\"dataframe\">\n",
       "    <thead>\n",
       "        <tr>\n",
       "            <th>rank</th> <th>name</th> <th>position</th> <th>team</th> <th>salary</th> <th>season</th>\n",
       "        </tr>\n",
       "    </thead>\n",
       "    <tbody>\n",
       "        <tr>\n",
       "            <td>3   </td> <td>Alonzo Mourning </td> <td>C       </td> <td>Miami Heat        </td> <td>15004000</td> <td>2000  </td>\n",
       "        </tr>\n",
       "        <tr>\n",
       "            <td>1   </td> <td>Shaquille O'Neal</td> <td>C       </td> <td>Los Angeles Lakers</td> <td>17142000</td> <td>2000  </td>\n",
       "        </tr>\n",
       "    </tbody>\n",
       "</table>"
      ],
      "text/plain": [
       "rank | name             | position | team               | salary   | season\n",
       "3    | Alonzo Mourning  | C        | Miami Heat         | 15004000 | 2000\n",
       "1    | Shaquille O'Neal | C        | Los Angeles Lakers | 17142000 | 2000"
      ]
     },
     "execution_count": 20,
     "metadata": {},
     "output_type": "execute_result"
    }
   ],
   "source": [
    "nba.take(2,0)"
   ]
  },
  {
   "cell_type": "code",
   "execution_count": 21,
   "metadata": {},
   "outputs": [
    {
     "data": {
      "text/html": [
       "<table border=\"1\" class=\"dataframe\">\n",
       "    <thead>\n",
       "        <tr>\n",
       "            <th>rank</th> <th>name</th> <th>position</th> <th>team</th> <th>salary</th> <th>season</th>\n",
       "        </tr>\n",
       "    </thead>\n",
       "    <tbody>\n",
       "        <tr>\n",
       "            <td>1   </td> <td>Shaquille O'Neal</td> <td>C       </td> <td>Los Angeles Lakers</td> <td>17142000</td> <td>2000  </td>\n",
       "        </tr>\n",
       "        <tr>\n",
       "            <td>1   </td> <td>Shaquille O'Neal</td> <td>C       </td> <td>Los Angeles Lakers</td> <td>17142000</td> <td>2000  </td>\n",
       "        </tr>\n",
       "        <tr>\n",
       "            <td>1   </td> <td>Shaquille O'Neal</td> <td>C       </td> <td>Los Angeles Lakers</td> <td>17142000</td> <td>2000  </td>\n",
       "        </tr>\n",
       "        <tr>\n",
       "            <td>1   </td> <td>Shaquille O'Neal</td> <td>C       </td> <td>Los Angeles Lakers</td> <td>17142000</td> <td>2000  </td>\n",
       "        </tr>\n",
       "    </tbody>\n",
       "</table>"
      ],
      "text/plain": [
       "rank | name             | position | team               | salary   | season\n",
       "1    | Shaquille O'Neal | C        | Los Angeles Lakers | 17142000 | 2000\n",
       "1    | Shaquille O'Neal | C        | Los Angeles Lakers | 17142000 | 2000\n",
       "1    | Shaquille O'Neal | C        | Los Angeles Lakers | 17142000 | 2000\n",
       "1    | Shaquille O'Neal | C        | Los Angeles Lakers | 17142000 | 2000"
      ]
     },
     "execution_count": 21,
     "metadata": {},
     "output_type": "execute_result"
    }
   ],
   "source": [
    "nba.take(0,0,0,0)"
   ]
  },
  {
   "cell_type": "markdown",
   "metadata": {},
   "source": [
    "#### how do we get the last ten rows in our table? (in ascending order)"
   ]
  },
  {
   "cell_type": "code",
   "execution_count": 25,
   "metadata": {},
   "outputs": [
    {
     "ename": "IndexError",
     "evalue": "index 9456 is out of bounds for axis 0 with size 9456",
     "output_type": "error",
     "traceback": [
      "\u001b[0;31m---------------------------------------------------------------------------\u001b[0m",
      "\u001b[0;31mIndexError\u001b[0m                                Traceback (most recent call last)",
      "Cell \u001b[0;32mIn[25], line 3\u001b[0m\n\u001b[1;32m      1\u001b[0m \u001b[38;5;66;03m#1. create a range\u001b[39;00m\n\u001b[1;32m      2\u001b[0m indices \u001b[38;5;241m=\u001b[39m np\u001b[38;5;241m.\u001b[39marange(nba\u001b[38;5;241m.\u001b[39mnum_rows, nba\u001b[38;5;241m.\u001b[39mnum_rows\u001b[38;5;241m-\u001b[39m\u001b[38;5;241m10\u001b[39m,\u001b[38;5;241m-\u001b[39m\u001b[38;5;241m1\u001b[39m)\n\u001b[0;32m----> 3\u001b[0m \u001b[43mnba\u001b[49m\u001b[38;5;241;43m.\u001b[39;49m\u001b[43mtake\u001b[49m\u001b[43m(\u001b[49m\u001b[43mindices\u001b[49m\u001b[43m)\u001b[49m\n",
      "File \u001b[0;32m/opt/tljh/user/lib/python3.12/site-packages/datascience/tables.py:5949\u001b[0m, in \u001b[0;36m_RowSelector.__call__\u001b[0;34m(self, row_numbers_or_slice, *args)\u001b[0m\n\u001b[1;32m   5947\u001b[0m \u001b[38;5;28;01melse\u001b[39;00m:\n\u001b[1;32m   5948\u001b[0m     all_args \u001b[38;5;241m=\u001b[39m row_numbers_or_slice\n\u001b[0;32m-> 5949\u001b[0m \u001b[38;5;28;01mreturn\u001b[39;00m \u001b[38;5;28;43mself\u001b[39;49m\u001b[38;5;241;43m.\u001b[39;49m\u001b[38;5;21;43m__getitem__\u001b[39;49m\u001b[43m(\u001b[49m\u001b[43mall_args\u001b[49m\u001b[43m)\u001b[49m\n",
      "File \u001b[0;32m/opt/tljh/user/lib/python3.12/site-packages/datascience/tables.py:6015\u001b[0m, in \u001b[0;36m_RowTaker.__getitem__\u001b[0;34m(self, row_indices_or_slice)\u001b[0m\n\u001b[1;32m   5958\u001b[0m \u001b[38;5;250m\u001b[39m\u001b[38;5;124;03m\"\"\"Return a new Table with selected rows taken by index.\u001b[39;00m\n\u001b[1;32m   5959\u001b[0m \n\u001b[1;32m   5960\u001b[0m \u001b[38;5;124;03mArgs:\u001b[39;00m\n\u001b[0;32m   (...)\u001b[0m\n\u001b[1;32m   6012\u001b[0m \u001b[38;5;124;03mIndexError: index 10 is out of bounds for axis 0 with size 6\u001b[39;00m\n\u001b[1;32m   6013\u001b[0m \u001b[38;5;124;03m\"\"\"\u001b[39;00m\n\u001b[1;32m   6014\u001b[0m \u001b[38;5;28;01mif\u001b[39;00m \u001b[38;5;28misinstance\u001b[39m(row_indices_or_slice, collections\u001b[38;5;241m.\u001b[39mabc\u001b[38;5;241m.\u001b[39mIterable):\n\u001b[0;32m-> 6015\u001b[0m     columns \u001b[38;5;241m=\u001b[39m [\u001b[43mnp\u001b[49m\u001b[38;5;241;43m.\u001b[39;49m\u001b[43mtake\u001b[49m\u001b[43m(\u001b[49m\u001b[43mcolumn\u001b[49m\u001b[43m,\u001b[49m\u001b[43m \u001b[49m\u001b[43mrow_indices_or_slice\u001b[49m\u001b[43m,\u001b[49m\u001b[43m \u001b[49m\u001b[43maxis\u001b[49m\u001b[38;5;241;43m=\u001b[39;49m\u001b[38;5;241;43m0\u001b[39;49m\u001b[43m)\u001b[49m\n\u001b[1;32m   6016\u001b[0m                \u001b[38;5;28;01mfor\u001b[39;00m column \u001b[38;5;129;01min\u001b[39;00m \u001b[38;5;28mself\u001b[39m\u001b[38;5;241m.\u001b[39m_table\u001b[38;5;241m.\u001b[39m_columns\u001b[38;5;241m.\u001b[39mvalues()]\n\u001b[1;32m   6017\u001b[0m     \u001b[38;5;28;01mreturn\u001b[39;00m \u001b[38;5;28mself\u001b[39m\u001b[38;5;241m.\u001b[39m_table\u001b[38;5;241m.\u001b[39m_with_columns(columns)\n\u001b[1;32m   6019\u001b[0m rows \u001b[38;5;241m=\u001b[39m \u001b[38;5;28mself\u001b[39m\u001b[38;5;241m.\u001b[39m_table\u001b[38;5;241m.\u001b[39mrows[row_indices_or_slice]\n",
      "File \u001b[0;32m/opt/tljh/user/lib/python3.12/site-packages/numpy/_core/fromnumeric.py:203\u001b[0m, in \u001b[0;36mtake\u001b[0;34m(a, indices, axis, out, mode)\u001b[0m\n\u001b[1;32m    109\u001b[0m \u001b[38;5;129m@array_function_dispatch\u001b[39m(_take_dispatcher)\n\u001b[1;32m    110\u001b[0m \u001b[38;5;28;01mdef\u001b[39;00m\u001b[38;5;250m \u001b[39m\u001b[38;5;21mtake\u001b[39m(a, indices, axis\u001b[38;5;241m=\u001b[39m\u001b[38;5;28;01mNone\u001b[39;00m, out\u001b[38;5;241m=\u001b[39m\u001b[38;5;28;01mNone\u001b[39;00m, mode\u001b[38;5;241m=\u001b[39m\u001b[38;5;124m'\u001b[39m\u001b[38;5;124mraise\u001b[39m\u001b[38;5;124m'\u001b[39m):\n\u001b[1;32m    111\u001b[0m \u001b[38;5;250m    \u001b[39m\u001b[38;5;124;03m\"\"\"\u001b[39;00m\n\u001b[1;32m    112\u001b[0m \u001b[38;5;124;03m    Take elements from an array along an axis.\u001b[39;00m\n\u001b[1;32m    113\u001b[0m \n\u001b[0;32m   (...)\u001b[0m\n\u001b[1;32m    201\u001b[0m \u001b[38;5;124;03m           [5, 7]])\u001b[39;00m\n\u001b[1;32m    202\u001b[0m \u001b[38;5;124;03m    \"\"\"\u001b[39;00m\n\u001b[0;32m--> 203\u001b[0m     \u001b[38;5;28;01mreturn\u001b[39;00m \u001b[43m_wrapfunc\u001b[49m\u001b[43m(\u001b[49m\u001b[43ma\u001b[49m\u001b[43m,\u001b[49m\u001b[43m \u001b[49m\u001b[38;5;124;43m'\u001b[39;49m\u001b[38;5;124;43mtake\u001b[39;49m\u001b[38;5;124;43m'\u001b[39;49m\u001b[43m,\u001b[49m\u001b[43m \u001b[49m\u001b[43mindices\u001b[49m\u001b[43m,\u001b[49m\u001b[43m \u001b[49m\u001b[43maxis\u001b[49m\u001b[38;5;241;43m=\u001b[39;49m\u001b[43maxis\u001b[49m\u001b[43m,\u001b[49m\u001b[43m \u001b[49m\u001b[43mout\u001b[49m\u001b[38;5;241;43m=\u001b[39;49m\u001b[43mout\u001b[49m\u001b[43m,\u001b[49m\u001b[43m \u001b[49m\u001b[43mmode\u001b[49m\u001b[38;5;241;43m=\u001b[39;49m\u001b[43mmode\u001b[49m\u001b[43m)\u001b[49m\n",
      "File \u001b[0;32m/opt/tljh/user/lib/python3.12/site-packages/numpy/_core/fromnumeric.py:57\u001b[0m, in \u001b[0;36m_wrapfunc\u001b[0;34m(obj, method, *args, **kwds)\u001b[0m\n\u001b[1;32m     54\u001b[0m     \u001b[38;5;28;01mreturn\u001b[39;00m _wrapit(obj, method, \u001b[38;5;241m*\u001b[39margs, \u001b[38;5;241m*\u001b[39m\u001b[38;5;241m*\u001b[39mkwds)\n\u001b[1;32m     56\u001b[0m \u001b[38;5;28;01mtry\u001b[39;00m:\n\u001b[0;32m---> 57\u001b[0m     \u001b[38;5;28;01mreturn\u001b[39;00m \u001b[43mbound\u001b[49m\u001b[43m(\u001b[49m\u001b[38;5;241;43m*\u001b[39;49m\u001b[43margs\u001b[49m\u001b[43m,\u001b[49m\u001b[43m \u001b[49m\u001b[38;5;241;43m*\u001b[39;49m\u001b[38;5;241;43m*\u001b[39;49m\u001b[43mkwds\u001b[49m\u001b[43m)\u001b[49m\n\u001b[1;32m     58\u001b[0m \u001b[38;5;28;01mexcept\u001b[39;00m \u001b[38;5;167;01mTypeError\u001b[39;00m:\n\u001b[1;32m     59\u001b[0m     \u001b[38;5;66;03m# A TypeError occurs if the object does have such a method in its\u001b[39;00m\n\u001b[1;32m     60\u001b[0m     \u001b[38;5;66;03m# class, but its signature is not identical to that of NumPy's. This\u001b[39;00m\n\u001b[0;32m   (...)\u001b[0m\n\u001b[1;32m     64\u001b[0m     \u001b[38;5;66;03m# Call _wrapit from within the except clause to ensure a potential\u001b[39;00m\n\u001b[1;32m     65\u001b[0m     \u001b[38;5;66;03m# exception has a traceback chain.\u001b[39;00m\n\u001b[1;32m     66\u001b[0m     \u001b[38;5;28;01mreturn\u001b[39;00m _wrapit(obj, method, \u001b[38;5;241m*\u001b[39margs, \u001b[38;5;241m*\u001b[39m\u001b[38;5;241m*\u001b[39mkwds)\n",
      "\u001b[0;31mIndexError\u001b[0m: index 9456 is out of bounds for axis 0 with size 9456"
     ]
    }
   ],
   "source": [
    "#1. create a range\n",
    "indices = np.arange(nba.num_rows, nba.num_rows-10,-1)\n",
    "nba.take(indices)\n"
   ]
  },
  {
   "cell_type": "code",
   "execution_count": 26,
   "metadata": {},
   "outputs": [
    {
     "data": {
      "text/plain": [
       "9456"
      ]
     },
     "execution_count": 26,
     "metadata": {},
     "output_type": "execute_result"
    }
   ],
   "source": [
    "nba.num_rows"
   ]
  },
  {
   "cell_type": "code",
   "execution_count": 27,
   "metadata": {},
   "outputs": [
    {
     "data": {
      "text/html": [
       "<table border=\"1\" class=\"dataframe\">\n",
       "    <thead>\n",
       "        <tr>\n",
       "            <th>rank</th> <th>name</th> <th>position</th> <th>team</th> <th>salary</th> <th>season</th>\n",
       "        </tr>\n",
       "    </thead>\n",
       "    <tbody>\n",
       "        <tr>\n",
       "            <td>1   </td> <td>Shaquille O'Neal</td> <td>C       </td> <td>Los Angeles Lakers</td> <td>17142000</td> <td>2000  </td>\n",
       "        </tr>\n",
       "    </tbody>\n",
       "</table>"
      ],
      "text/plain": [
       "rank | name             | position | team               | salary   | season\n",
       "1    | Shaquille O'Neal | C        | Los Angeles Lakers | 17142000 | 2000"
      ]
     },
     "execution_count": 27,
     "metadata": {},
     "output_type": "execute_result"
    }
   ],
   "source": [
    "nba.take(0)"
   ]
  },
  {
   "cell_type": "code",
   "execution_count": 29,
   "metadata": {},
   "outputs": [
    {
     "data": {
      "text/html": [
       "<table border=\"1\" class=\"dataframe\">\n",
       "    <thead>\n",
       "        <tr>\n",
       "            <th>rank</th> <th>name</th> <th>position</th> <th>team</th> <th>salary</th> <th>season</th>\n",
       "        </tr>\n",
       "    </thead>\n",
       "    <tbody>\n",
       "        <tr>\n",
       "            <td>528 </td> <td>Luguentz Dort</td> <td>SG      </td> <td>Oklahoma City Thunder</td> <td>155647</td> <td>2020  </td>\n",
       "        </tr>\n",
       "    </tbody>\n",
       "</table>"
      ],
      "text/plain": [
       "rank | name          | position | team                  | salary | season\n",
       "528  | Luguentz Dort | SG       | Oklahoma City Thunder | 155647 | 2020"
      ]
     },
     "execution_count": 29,
     "metadata": {},
     "output_type": "execute_result"
    }
   ],
   "source": [
    "nba.take(nba.num_rows-1)"
   ]
  },
  {
   "cell_type": "code",
   "execution_count": 33,
   "metadata": {},
   "outputs": [
    {
     "data": {
      "text/html": [
       "<table border=\"1\" class=\"dataframe\">\n",
       "    <thead>\n",
       "        <tr>\n",
       "            <th>rank</th> <th>name</th> <th>position</th> <th>team</th> <th>salary</th> <th>season</th>\n",
       "        </tr>\n",
       "    </thead>\n",
       "    <tbody>\n",
       "        <tr>\n",
       "            <td>528 </td> <td>Luguentz Dort        </td> <td>SG      </td> <td>Oklahoma City Thunder</td> <td>155647</td> <td>2020  </td>\n",
       "        </tr>\n",
       "        <tr>\n",
       "            <td>527 </td> <td>Tyler Johnson        </td> <td>SG      </td> <td>Phoenix Suns         </td> <td>183115</td> <td>2020  </td>\n",
       "        </tr>\n",
       "        <tr>\n",
       "            <td>526 </td> <td>Anthony Tolliver     </td> <td>PF      </td> <td>Memphis Grizzlies    </td> <td>183115</td> <td>2020  </td>\n",
       "        </tr>\n",
       "        <tr>\n",
       "            <td>525 </td> <td>Jontay Porter        </td> <td>PF      </td> <td>Memphis Grizzlies    </td> <td>197933</td> <td>2020  </td>\n",
       "        </tr>\n",
       "        <tr>\n",
       "            <td>524 </td> <td>Jimmer Fredette      </td> <td>G       </td> <td>Phoenix Suns         </td> <td>208509</td> <td>2020  </td>\n",
       "        </tr>\n",
       "        <tr>\n",
       "            <td>523 </td> <td>Tyler Zeller         </td> <td>C       </td> <td>San Antonio Spurs    </td> <td>245686</td> <td>2020  </td>\n",
       "        </tr>\n",
       "        <tr>\n",
       "            <td>522 </td> <td>Ky Bowman            </td> <td>PG      </td> <td>Golden State Warriors</td> <td>350189</td> <td>2020  </td>\n",
       "        </tr>\n",
       "        <tr>\n",
       "            <td>521 </td> <td>Juan Toscano-Anderson</td> <td>SF      </td> <td>Golden State Warriors</td> <td>350189</td> <td>2020  </td>\n",
       "        </tr>\n",
       "        <tr>\n",
       "            <td>520 </td> <td>Norvel Pelle         </td> <td>SF      </td> <td>Philadelphia 76ers   </td> <td>350189</td> <td>2020  </td>\n",
       "        </tr>\n",
       "        <tr>\n",
       "            <td>519 </td> <td>Dion Waiters         </td> <td>SG      </td> <td>Miami Heat           </td> <td>375385</td> <td>2020  </td>\n",
       "        </tr>\n",
       "    </tbody>\n",
       "</table>"
      ],
      "text/plain": [
       "rank | name                  | position | team                  | salary | season\n",
       "528  | Luguentz Dort         | SG       | Oklahoma City Thunder | 155647 | 2020\n",
       "527  | Tyler Johnson         | SG       | Phoenix Suns          | 183115 | 2020\n",
       "526  | Anthony Tolliver      | PF       | Memphis Grizzlies     | 183115 | 2020\n",
       "525  | Jontay Porter         | PF       | Memphis Grizzlies     | 197933 | 2020\n",
       "524  | Jimmer Fredette       | G        | Phoenix Suns          | 208509 | 2020\n",
       "523  | Tyler Zeller          | C        | San Antonio Spurs     | 245686 | 2020\n",
       "522  | Ky Bowman             | PG       | Golden State Warriors | 350189 | 2020\n",
       "521  | Juan Toscano-Anderson | SF       | Golden State Warriors | 350189 | 2020\n",
       "520  | Norvel Pelle          | SF       | Philadelphia 76ers    | 350189 | 2020\n",
       "519  | Dion Waiters          | SG       | Miami Heat            | 375385 | 2020"
      ]
     },
     "execution_count": 33,
     "metadata": {},
     "output_type": "execute_result"
    }
   ],
   "source": [
    "indices = np.arange(nba.num_rows-1, nba.num_rows-11,-1)\n",
    "nba.take(indices)"
   ]
  },
  {
   "cell_type": "markdown",
   "metadata": {},
   "source": [
    "# **Question 2:** What are the columns in our table?"
   ]
  },
  {
   "cell_type": "code",
   "execution_count": null,
   "metadata": {},
   "outputs": [],
   "source": []
  },
  {
   "cell_type": "code",
   "execution_count": 3,
   "metadata": {},
   "outputs": [
    {
     "data": {
      "text/plain": [
       "('rank', 'name', 'position', 'team', 'salary', 'season')"
      ]
     },
     "execution_count": 3,
     "metadata": {},
     "output_type": "execute_result"
    }
   ],
   "source": [
    "nba.labels"
   ]
  },
  {
   "cell_type": "code",
   "execution_count": null,
   "metadata": {},
   "outputs": [],
   "source": []
  },
  {
   "cell_type": "markdown",
   "metadata": {},
   "source": [
    "**Question 3**: Find the names of all centers (C) who make more than $15M/year\n",
    "\n",
    "*Hint:* break this into two steps"
   ]
  },
  {
   "cell_type": "code",
   "execution_count": null,
   "metadata": {},
   "outputs": [],
   "source": []
  },
  {
   "cell_type": "markdown",
   "metadata": {},
   "source": [
    "**Question 4**: Which player had the highest salary in 2015?\n",
    "\n",
    "*Hint:* how do we access an individual (row) in a Table"
   ]
  },
  {
   "cell_type": "markdown",
   "metadata": {},
   "source": [
    "1. find al rows in 2015 season\n",
    "2. sort the rows by salary (in descidning)\n",
    "3. get the name at the first row"
   ]
  },
  {
   "cell_type": "markdown",
   "metadata": {},
   "source": [
    "1. sort the rows by salary (in ascending order)\n",
    "2. find all rows in 2015 season\n",
    "3. get the name at the last row"
   ]
  },
  {
   "cell_type": "code",
   "execution_count": 37,
   "metadata": {},
   "outputs": [
    {
     "data": {
      "text/html": [
       "<table border=\"1\" class=\"dataframe\">\n",
       "    <thead>\n",
       "        <tr>\n",
       "            <th>rank</th> <th>name</th> <th>position</th> <th>team</th> <th>salary</th> <th>season</th>\n",
       "        </tr>\n",
       "    </thead>\n",
       "    <tbody>\n",
       "        <tr>\n",
       "            <td>1   </td> <td>Kobe Bryant    </td> <td>SF      </td> <td>Los Angeles Lakers   </td> <td>23500000</td> <td>2015  </td>\n",
       "        </tr>\n",
       "        <tr>\n",
       "            <td>2   </td> <td>Joe Johnson    </td> <td>G       </td> <td>Brooklyn Nets        </td> <td>23180790</td> <td>2015  </td>\n",
       "        </tr>\n",
       "        <tr>\n",
       "            <td>3   </td> <td>Carmelo Anthony</td> <td>PF      </td> <td>New York Knicks      </td> <td>22458401</td> <td>2015  </td>\n",
       "        </tr>\n",
       "        <tr>\n",
       "            <td>4   </td> <td>Dwight Howard  </td> <td>C       </td> <td>Houston Rockets      </td> <td>21436271</td> <td>2015  </td>\n",
       "        </tr>\n",
       "        <tr>\n",
       "            <td>5   </td> <td>Chris Bosh     </td> <td>PF      </td> <td>Miami Heat           </td> <td>20644400</td> <td>2015  </td>\n",
       "        </tr>\n",
       "        <tr>\n",
       "            <td>6   </td> <td>LeBron James   </td> <td>SF      </td> <td>Cleveland Cavaliers  </td> <td>20644400</td> <td>2015  </td>\n",
       "        </tr>\n",
       "        <tr>\n",
       "            <td>7   </td> <td>Chris Paul     </td> <td>PG      </td> <td>LA Clippers          </td> <td>20068563</td> <td>2015  </td>\n",
       "        </tr>\n",
       "        <tr>\n",
       "            <td>8   </td> <td>Deron Williams </td> <td>PG      </td> <td>Brooklyn Nets        </td> <td>19754465</td> <td>2015  </td>\n",
       "        </tr>\n",
       "        <tr>\n",
       "            <td>9   </td> <td>Rudy Gay       </td> <td>SF      </td> <td>Sacramento Kings     </td> <td>19317326</td> <td>2015  </td>\n",
       "        </tr>\n",
       "        <tr>\n",
       "            <td>10  </td> <td>Kevin Durant   </td> <td>SF      </td> <td>Oklahoma City Thunder</td> <td>18995624</td> <td>2015  </td>\n",
       "        </tr>\n",
       "    </tbody>\n",
       "</table>\n",
       "<p>... (517 rows omitted)</p>"
      ],
      "text/plain": [
       "rank | name            | position | team                  | salary   | season\n",
       "1    | Kobe Bryant     | SF       | Los Angeles Lakers    | 23500000 | 2015\n",
       "2    | Joe Johnson     | G        | Brooklyn Nets         | 23180790 | 2015\n",
       "3    | Carmelo Anthony | PF       | New York Knicks       | 22458401 | 2015\n",
       "4    | Dwight Howard   | C        | Houston Rockets       | 21436271 | 2015\n",
       "5    | Chris Bosh      | PF       | Miami Heat            | 20644400 | 2015\n",
       "6    | LeBron James    | SF       | Cleveland Cavaliers   | 20644400 | 2015\n",
       "7    | Chris Paul      | PG       | LA Clippers           | 20068563 | 2015\n",
       "8    | Deron Williams  | PG       | Brooklyn Nets         | 19754465 | 2015\n",
       "9    | Rudy Gay        | SF       | Sacramento Kings      | 19317326 | 2015\n",
       "10   | Kevin Durant    | SF       | Oklahoma City Thunder | 18995624 | 2015\n",
       "... (517 rows omitted)"
      ]
     },
     "execution_count": 37,
     "metadata": {},
     "output_type": "execute_result"
    }
   ],
   "source": [
    "nba_2015 = nba.where(\"season\", 2015)\n",
    "nba_2015"
   ]
  },
  {
   "cell_type": "code",
   "execution_count": 40,
   "metadata": {},
   "outputs": [
    {
     "data": {
      "text/html": [
       "<table border=\"1\" class=\"dataframe\">\n",
       "    <thead>\n",
       "        <tr>\n",
       "            <th>name</th>\n",
       "        </tr>\n",
       "    </thead>\n",
       "    <tbody>\n",
       "        <tr>\n",
       "            <td>Kobe Bryant</td>\n",
       "        </tr>\n",
       "    </tbody>\n",
       "</table>"
      ],
      "text/plain": [
       "name\n",
       "Kobe Bryant"
      ]
     },
     "execution_count": 40,
     "metadata": {},
     "output_type": "execute_result"
    }
   ],
   "source": [
    "nba_sorted= nba_2015.sort('salary', descending=True)\n",
    "\n",
    "nba_sorted.select(\"name\").take(0)\n",
    "#highest_paid = ...\n",
    "# this gets us the answer as a table with one row and one column, but what we want is a string"
   ]
  },
  {
   "cell_type": "code",
   "execution_count": 44,
   "metadata": {},
   "outputs": [
    {
     "data": {
      "text/plain": [
       "'Kobe Bryant'"
      ]
     },
     "execution_count": 44,
     "metadata": {},
     "output_type": "execute_result"
    }
   ],
   "source": [
    "highest_paid = nba_sorted.column(\"name\").item(0)\n",
    "highest_paid"
   ]
  },
  {
   "cell_type": "code",
   "execution_count": null,
   "metadata": {},
   "outputs": [],
   "source": [
    "# skip"
   ]
  },
  {
   "cell_type": "code",
   "execution_count": null,
   "metadata": {},
   "outputs": [],
   "source": [
    "# skip"
   ]
  },
  {
   "cell_type": "code",
   "execution_count": null,
   "metadata": {},
   "outputs": [],
   "source": [
    "# skip"
   ]
  },
  {
   "cell_type": "markdown",
   "metadata": {},
   "source": [
    "**Question:** What type is returned by `take()`?"
   ]
  },
  {
   "cell_type": "code",
   "execution_count": null,
   "metadata": {},
   "outputs": [],
   "source": []
  },
  {
   "cell_type": "markdown",
   "metadata": {},
   "source": [
    "# Arrays"
   ]
  },
  {
   "cell_type": "code",
   "execution_count": null,
   "metadata": {},
   "outputs": [],
   "source": [
    " # let's make an array\n",
    "  # does anyone know how to make an array from the reading?\n",
    "  # lets make the array be an array of numbers"
   ]
  },
  {
   "cell_type": "code",
   "execution_count": null,
   "metadata": {},
   "outputs": [],
   "source": []
  },
  {
   "cell_type": "markdown",
   "metadata": {},
   "source": [
    "#### lets apply different computations to the array"
   ]
  },
  {
   "cell_type": "code",
   "execution_count": null,
   "metadata": {},
   "outputs": [],
   "source": [
    " # addition"
   ]
  },
  {
   "cell_type": "code",
   "execution_count": null,
   "metadata": {},
   "outputs": [],
   "source": [
    " # multiplication"
   ]
  },
  {
   "cell_type": "code",
   "execution_count": null,
   "metadata": {},
   "outputs": [],
   "source": [
    " # square"
   ]
  },
  {
   "cell_type": "code",
   "execution_count": null,
   "metadata": {},
   "outputs": [],
   "source": [
    "  # absolute value "
   ]
  },
  {
   "cell_type": "code",
   "execution_count": null,
   "metadata": {},
   "outputs": [],
   "source": [
    "make_array(1,2,34)"
   ]
  },
  {
   "cell_type": "code",
   "execution_count": null,
   "metadata": {},
   "outputs": [],
   "source": [
    "aa = make_array(1,2,3,4)\n",
    "aa"
   ]
  },
  {
   "cell_type": "code",
   "execution_count": null,
   "metadata": {},
   "outputs": [],
   "source": [
    "# find the sum of all values in an array"
   ]
  },
  {
   "cell_type": "code",
   "execution_count": null,
   "metadata": {},
   "outputs": [],
   "source": []
  },
  {
   "cell_type": "code",
   "execution_count": null,
   "metadata": {},
   "outputs": [],
   "source": [
    "# find the maximum value in the array"
   ]
  },
  {
   "cell_type": "code",
   "execution_count": null,
   "metadata": {},
   "outputs": [],
   "source": []
  },
  {
   "cell_type": "code",
   "execution_count": null,
   "metadata": {},
   "outputs": [],
   "source": [
    "# find the minimum value"
   ]
  },
  {
   "cell_type": "code",
   "execution_count": null,
   "metadata": {},
   "outputs": [],
   "source": []
  },
  {
   "cell_type": "code",
   "execution_count": null,
   "metadata": {},
   "outputs": [],
   "source": [
    "# find the first item in an array\n",
    "# note to Adam (dont use index slicing)"
   ]
  },
  {
   "cell_type": "code",
   "execution_count": null,
   "metadata": {},
   "outputs": [],
   "source": []
  },
  {
   "cell_type": "markdown",
   "metadata": {},
   "source": [
    "\n",
    "# Ranges"
   ]
  },
  {
   "cell_type": "code",
   "execution_count": null,
   "metadata": {},
   "outputs": [],
   "source": [
    "  #np.arrange(end), np.arrange(start, end), step"
   ]
  },
  {
   "cell_type": "code",
   "execution_count": null,
   "metadata": {},
   "outputs": [],
   "source": []
  },
  {
   "cell_type": "markdown",
   "metadata": {},
   "source": [
    "## Array statistics using numpy\n",
    "(look at end of array's in python reference)"
   ]
  },
  {
   "cell_type": "code",
   "execution_count": null,
   "metadata": {},
   "outputs": [],
   "source": [
    "# np.mean, np.average"
   ]
  },
  {
   "cell_type": "code",
   "execution_count": null,
   "metadata": {},
   "outputs": [],
   "source": []
  },
  {
   "cell_type": "code",
   "execution_count": null,
   "metadata": {},
   "outputs": [],
   "source": [
    "# absolute"
   ]
  },
  {
   "cell_type": "code",
   "execution_count": null,
   "metadata": {},
   "outputs": [],
   "source": []
  },
  {
   "cell_type": "markdown",
   "metadata": {},
   "source": [
    "(back to slides)\n",
    "# Census"
   ]
  },
  {
   "cell_type": "code",
   "execution_count": 45,
   "metadata": {},
   "outputs": [
    {
     "data": {
      "text/html": [
       "<table border=\"1\" class=\"dataframe\">\n",
       "    <thead>\n",
       "        <tr>\n",
       "            <th>SUMLEV</th> <th>REGION</th> <th>DIVISION</th> <th>STATE</th> <th>NAME</th> <th>ESTIMATESBASE2010</th> <th>POPESTIMATE2010</th> <th>POPESTIMATE2011</th> <th>POPESTIMATE2012</th> <th>POPESTIMATE2013</th> <th>POPESTIMATE2014</th> <th>POPESTIMATE2015</th> <th>NPOPCHG_2010</th> <th>NPOPCHG_2011</th> <th>NPOPCHG_2012</th> <th>NPOPCHG_2013</th> <th>NPOPCHG_2014</th> <th>NPOPCHG_2015</th> <th>PPOPCHG_2010</th> <th>PPOPCHG_2011</th> <th>PPOPCHG_2012</th> <th>PPOPCHG_2013</th> <th>PPOPCHG_2014</th> <th>PPOPCHG_2015</th> <th>NRANK_ESTBASE2010</th> <th>NRANK_POPEST2010</th> <th>NRANK_POPEST2011</th> <th>NRANK_POPEST2012</th> <th>NRANK_POPEST2013</th> <th>NRANK_POPEST2014</th> <th>NRANK_POPEST2015</th> <th>NRANK_NPCHG2010</th> <th>NRANK_NPCHG2011</th> <th>NRANK_NPCHG2012</th> <th>NRANK_NPCHG2013</th> <th>NRANK_NPCHG2014</th> <th>NRANK_NPCHG2015</th> <th>NRANK_PPCHG2010</th> <th>NRANK_PPCHG2011</th> <th>NRANK_PPCHG2012</th> <th>NRANK_PPCHG2013</th> <th>NRANK_PPCHG2014</th> <th>NRANK_PPCHG2015</th>\n",
       "        </tr>\n",
       "    </thead>\n",
       "    <tbody>\n",
       "        <tr>\n",
       "            <td>10    </td> <td>0     </td> <td>0       </td> <td>0    </td> <td>United States   </td> <td>308758105        </td> <td>309346863      </td> <td>311718857      </td> <td>314102623      </td> <td>316427395      </td> <td>318907401      </td> <td>321418820      </td> <td>588758      </td> <td>2371994     </td> <td>2383766     </td> <td>2324772     </td> <td>2480006     </td> <td>2511419     </td> <td>0.190686    </td> <td>0.766775    </td> <td>0.764717    </td> <td>0.740131    </td> <td>0.783752    </td> <td>0.787507    </td> <td>X                </td> <td>X               </td> <td>X               </td> <td>X               </td> <td>X               </td> <td>X               </td> <td>X               </td> <td>X              </td> <td>X              </td> <td>X              </td> <td>X              </td> <td>X              </td> <td>X              </td> <td>X              </td> <td>X              </td> <td>X              </td> <td>X              </td> <td>X              </td> <td>X              </td>\n",
       "        </tr>\n",
       "        <tr>\n",
       "            <td>20    </td> <td>1     </td> <td>0       </td> <td>0    </td> <td>Northeast Region</td> <td>55318348         </td> <td>55387174       </td> <td>55638038       </td> <td>55835056       </td> <td>56019353       </td> <td>56171281       </td> <td>56283891       </td> <td>68826       </td> <td>250864      </td> <td>197018      </td> <td>184297      </td> <td>151928      </td> <td>112610      </td> <td>0.124418    </td> <td>0.452928    </td> <td>0.354107    </td> <td>0.330074    </td> <td>0.271206    </td> <td>0.200476    </td> <td>4                </td> <td>4               </td> <td>4               </td> <td>4               </td> <td>4               </td> <td>4               </td> <td>4               </td> <td>3              </td> <td>3              </td> <td>3              </td> <td>4              </td> <td>4              </td> <td>4              </td> <td>3              </td> <td>3              </td> <td>3              </td> <td>4              </td> <td>4              </td> <td>4              </td>\n",
       "        </tr>\n",
       "        <tr>\n",
       "            <td>20    </td> <td>2     </td> <td>0       </td> <td>0    </td> <td>Midwest Region  </td> <td>66929897         </td> <td>66977505       </td> <td>67156488       </td> <td>67340231       </td> <td>67565788       </td> <td>67762069       </td> <td>67907403       </td> <td>47608       </td> <td>178983      </td> <td>183743      </td> <td>225557      </td> <td>196281      </td> <td>145334      </td> <td>0.0711311   </td> <td>0.267229    </td> <td>0.273604    </td> <td>0.334951    </td> <td>0.290504    </td> <td>0.214477    </td> <td>3                </td> <td>3               </td> <td>3               </td> <td>3               </td> <td>3               </td> <td>3               </td> <td>3               </td> <td>4              </td> <td>4              </td> <td>4              </td> <td>3              </td> <td>3              </td> <td>3              </td> <td>4              </td> <td>4              </td> <td>4              </td> <td>3              </td> <td>3              </td> <td>3              </td>\n",
       "        </tr>\n",
       "        <tr>\n",
       "            <td>20    </td> <td>3     </td> <td>0       </td> <td>0    </td> <td>South Region    </td> <td>114562953        </td> <td>114862858      </td> <td>116080267      </td> <td>117331340      </td> <td>118487418      </td> <td>119795010      </td> <td>121182847      </td> <td>299905      </td> <td>1217409     </td> <td>1251073     </td> <td>1156078     </td> <td>1307592     </td> <td>1387837     </td> <td>0.261782    </td> <td>1.05988     </td> <td>1.07777     </td> <td>0.98531     </td> <td>1.10357     </td> <td>1.15851     </td> <td>1                </td> <td>1               </td> <td>1               </td> <td>1               </td> <td>1               </td> <td>1               </td> <td>1               </td> <td>1              </td> <td>1              </td> <td>1              </td> <td>1              </td> <td>1              </td> <td>1              </td> <td>1              </td> <td>1              </td> <td>1              </td> <td>2              </td> <td>2              </td> <td>1              </td>\n",
       "        </tr>\n",
       "        <tr>\n",
       "            <td>20    </td> <td>4     </td> <td>0       </td> <td>0    </td> <td>West Region     </td> <td>71946907         </td> <td>72119326       </td> <td>72844064       </td> <td>73595996       </td> <td>74354836       </td> <td>75179041       </td> <td>76044679       </td> <td>172419      </td> <td>724738      </td> <td>751932      </td> <td>758840      </td> <td>824205      </td> <td>865638      </td> <td>0.239648    </td> <td>1.00492     </td> <td>1.03225     </td> <td>1.03109     </td> <td>1.10848     </td> <td>1.15144     </td> <td>2                </td> <td>2               </td> <td>2               </td> <td>2               </td> <td>2               </td> <td>2               </td> <td>2               </td> <td>2              </td> <td>2              </td> <td>2              </td> <td>2              </td> <td>2              </td> <td>2              </td> <td>2              </td> <td>2              </td> <td>2              </td> <td>1              </td> <td>1              </td> <td>2              </td>\n",
       "        </tr>\n",
       "        <tr>\n",
       "            <td>40    </td> <td>3     </td> <td>6       </td> <td>1    </td> <td>Alabama         </td> <td>4780127          </td> <td>4785161        </td> <td>4801108        </td> <td>4816089        </td> <td>4830533        </td> <td>4846411        </td> <td>4858979        </td> <td>5034        </td> <td>15947       </td> <td>14981       </td> <td>14444       </td> <td>15878       </td> <td>12568       </td> <td>0.105311    </td> <td>0.333259    </td> <td>0.312032    </td> <td>0.299911    </td> <td>0.328701    </td> <td>0.259326    </td> <td>23               </td> <td>23              </td> <td>23              </td> <td>23              </td> <td>23              </td> <td>23              </td> <td>24              </td> <td>30             </td> <td>27             </td> <td>27             </td> <td>31             </td> <td>28             </td> <td>29             </td> <td>38             </td> <td>39             </td> <td>38             </td> <td>37             </td> <td>33             </td> <td>35             </td>\n",
       "        </tr>\n",
       "        <tr>\n",
       "            <td>40    </td> <td>4     </td> <td>9       </td> <td>2    </td> <td>Alaska          </td> <td>710249           </td> <td>714021         </td> <td>722720         </td> <td>731228         </td> <td>737442         </td> <td>737046         </td> <td>738432         </td> <td>3772        </td> <td>8699        </td> <td>8508        </td> <td>6214        </td> <td>-396        </td> <td>1386        </td> <td>0.531081    </td> <td>1.21831     </td> <td>1.17722     </td> <td>0.849803    </td> <td>-0.0536991  </td> <td>0.188048    </td> <td>47               </td> <td>47              </td> <td>47              </td> <td>47              </td> <td>47              </td> <td>48              </td> <td>48              </td> <td>33             </td> <td>39             </td> <td>41             </td> <td>42             </td> <td>47             </td> <td>44             </td> <td>2              </td> <td>7              </td> <td>11             </td> <td>21             </td> <td>46             </td> <td>40             </td>\n",
       "        </tr>\n",
       "        <tr>\n",
       "            <td>40    </td> <td>4     </td> <td>8       </td> <td>4    </td> <td>Arizona         </td> <td>6392307          </td> <td>6408208        </td> <td>6468732        </td> <td>6553262        </td> <td>6630799        </td> <td>6728783        </td> <td>6828065        </td> <td>15901       </td> <td>60524       </td> <td>84530       </td> <td>77537       </td> <td>97984       </td> <td>99282       </td> <td>0.248752    </td> <td>0.944476    </td> <td>1.30675     </td> <td>1.18318     </td> <td>1.47771     </td> <td>1.47548     </td> <td>16               </td> <td>16              </td> <td>16              </td> <td>15              </td> <td>15              </td> <td>15              </td> <td>14              </td> <td>11             </td> <td>10             </td> <td>6              </td> <td>7              </td> <td>5              </td> <td>8              </td> <td>16             </td> <td>16             </td> <td>8              </td> <td>9              </td> <td>7              </td> <td>9              </td>\n",
       "        </tr>\n",
       "        <tr>\n",
       "            <td>40    </td> <td>3     </td> <td>7       </td> <td>5    </td> <td>Arkansas        </td> <td>2915958          </td> <td>2922394        </td> <td>2938538        </td> <td>2949499        </td> <td>2957957        </td> <td>2966835        </td> <td>2978204        </td> <td>6436        </td> <td>16144       </td> <td>10961       </td> <td>8458        </td> <td>8878        </td> <td>11369       </td> <td>0.220716    </td> <td>0.552424    </td> <td>0.373009    </td> <td>0.286761    </td> <td>0.30014     </td> <td>0.383203    </td> <td>32               </td> <td>32              </td> <td>32              </td> <td>32              </td> <td>32              </td> <td>32              </td> <td>33              </td> <td>25             </td> <td>26             </td> <td>36             </td> <td>39             </td> <td>37             </td> <td>33             </td> <td>20             </td> <td>32             </td> <td>32             </td> <td>39             </td> <td>35             </td> <td>29             </td>\n",
       "        </tr>\n",
       "        <tr>\n",
       "            <td>40    </td> <td>4     </td> <td>9       </td> <td>6    </td> <td>California      </td> <td>37254503         </td> <td>37334079       </td> <td>37700034       </td> <td>38056055       </td> <td>38414128       </td> <td>38792291       </td> <td>39144818       </td> <td>79576       </td> <td>365955      </td> <td>356021      </td> <td>358073      </td> <td>378163      </td> <td>352527      </td> <td>0.213601    </td> <td>0.980217    </td> <td>0.944352    </td> <td>0.940909    </td> <td>0.984437    </td> <td>0.908755    </td> <td>1                </td> <td>1               </td> <td>1               </td> <td>1               </td> <td>1               </td> <td>1               </td> <td>1               </td> <td>2              </td> <td>2              </td> <td>2              </td> <td>2              </td> <td>2              </td> <td>3              </td> <td>21             </td> <td>12             </td> <td>19             </td> <td>16             </td> <td>15             </td> <td>17             </td>\n",
       "        </tr>\n",
       "    </tbody>\n",
       "</table>\n",
       "<p>... (47 rows omitted)</p>"
      ],
      "text/plain": [
       "SUMLEV | REGION | DIVISION | STATE | NAME             | ESTIMATESBASE2010 | POPESTIMATE2010 | POPESTIMATE2011 | POPESTIMATE2012 | POPESTIMATE2013 | POPESTIMATE2014 | POPESTIMATE2015 | NPOPCHG_2010 | NPOPCHG_2011 | NPOPCHG_2012 | NPOPCHG_2013 | NPOPCHG_2014 | NPOPCHG_2015 | PPOPCHG_2010 | PPOPCHG_2011 | PPOPCHG_2012 | PPOPCHG_2013 | PPOPCHG_2014 | PPOPCHG_2015 | NRANK_ESTBASE2010 | NRANK_POPEST2010 | NRANK_POPEST2011 | NRANK_POPEST2012 | NRANK_POPEST2013 | NRANK_POPEST2014 | NRANK_POPEST2015 | NRANK_NPCHG2010 | NRANK_NPCHG2011 | NRANK_NPCHG2012 | NRANK_NPCHG2013 | NRANK_NPCHG2014 | NRANK_NPCHG2015 | NRANK_PPCHG2010 | NRANK_PPCHG2011 | NRANK_PPCHG2012 | NRANK_PPCHG2013 | NRANK_PPCHG2014 | NRANK_PPCHG2015\n",
       "10     | 0      | 0        | 0     | United States    | 308758105         | 309346863       | 311718857       | 314102623       | 316427395       | 318907401       | 321418820       | 588758       | 2371994      | 2383766      | 2324772      | 2480006      | 2511419      | 0.190686     | 0.766775     | 0.764717     | 0.740131     | 0.783752     | 0.787507     | X                 | X                | X                | X                | X                | X                | X                | X               | X               | X               | X               | X               | X               | X               | X               | X               | X               | X               | X\n",
       "20     | 1      | 0        | 0     | Northeast Region | 55318348          | 55387174        | 55638038        | 55835056        | 56019353        | 56171281        | 56283891        | 68826        | 250864       | 197018       | 184297       | 151928       | 112610       | 0.124418     | 0.452928     | 0.354107     | 0.330074     | 0.271206     | 0.200476     | 4                 | 4                | 4                | 4                | 4                | 4                | 4                | 3               | 3               | 3               | 4               | 4               | 4               | 3               | 3               | 3               | 4               | 4               | 4\n",
       "20     | 2      | 0        | 0     | Midwest Region   | 66929897          | 66977505        | 67156488        | 67340231        | 67565788        | 67762069        | 67907403        | 47608        | 178983       | 183743       | 225557       | 196281       | 145334       | 0.0711311    | 0.267229     | 0.273604     | 0.334951     | 0.290504     | 0.214477     | 3                 | 3                | 3                | 3                | 3                | 3                | 3                | 4               | 4               | 4               | 3               | 3               | 3               | 4               | 4               | 4               | 3               | 3               | 3\n",
       "20     | 3      | 0        | 0     | South Region     | 114562953         | 114862858       | 116080267       | 117331340       | 118487418       | 119795010       | 121182847       | 299905       | 1217409      | 1251073      | 1156078      | 1307592      | 1387837      | 0.261782     | 1.05988      | 1.07777      | 0.98531      | 1.10357      | 1.15851      | 1                 | 1                | 1                | 1                | 1                | 1                | 1                | 1               | 1               | 1               | 1               | 1               | 1               | 1               | 1               | 1               | 2               | 2               | 1\n",
       "20     | 4      | 0        | 0     | West Region      | 71946907          | 72119326        | 72844064        | 73595996        | 74354836        | 75179041        | 76044679        | 172419       | 724738       | 751932       | 758840       | 824205       | 865638       | 0.239648     | 1.00492      | 1.03225      | 1.03109      | 1.10848      | 1.15144      | 2                 | 2                | 2                | 2                | 2                | 2                | 2                | 2               | 2               | 2               | 2               | 2               | 2               | 2               | 2               | 2               | 1               | 1               | 2\n",
       "40     | 3      | 6        | 1     | Alabama          | 4780127           | 4785161         | 4801108         | 4816089         | 4830533         | 4846411         | 4858979         | 5034         | 15947        | 14981        | 14444        | 15878        | 12568        | 0.105311     | 0.333259     | 0.312032     | 0.299911     | 0.328701     | 0.259326     | 23                | 23               | 23               | 23               | 23               | 23               | 24               | 30              | 27              | 27              | 31              | 28              | 29              | 38              | 39              | 38              | 37              | 33              | 35\n",
       "40     | 4      | 9        | 2     | Alaska           | 710249            | 714021          | 722720          | 731228          | 737442          | 737046          | 738432          | 3772         | 8699         | 8508         | 6214         | -396         | 1386         | 0.531081     | 1.21831      | 1.17722      | 0.849803     | -0.0536991   | 0.188048     | 47                | 47               | 47               | 47               | 47               | 48               | 48               | 33              | 39              | 41              | 42              | 47              | 44              | 2               | 7               | 11              | 21              | 46              | 40\n",
       "40     | 4      | 8        | 4     | Arizona          | 6392307           | 6408208         | 6468732         | 6553262         | 6630799         | 6728783         | 6828065         | 15901        | 60524        | 84530        | 77537        | 97984        | 99282        | 0.248752     | 0.944476     | 1.30675      | 1.18318      | 1.47771      | 1.47548      | 16                | 16               | 16               | 15               | 15               | 15               | 14               | 11              | 10              | 6               | 7               | 5               | 8               | 16              | 16              | 8               | 9               | 7               | 9\n",
       "40     | 3      | 7        | 5     | Arkansas         | 2915958           | 2922394         | 2938538         | 2949499         | 2957957         | 2966835         | 2978204         | 6436         | 16144        | 10961        | 8458         | 8878         | 11369        | 0.220716     | 0.552424     | 0.373009     | 0.286761     | 0.30014      | 0.383203     | 32                | 32               | 32               | 32               | 32               | 32               | 33               | 25              | 26              | 36              | 39              | 37              | 33              | 20              | 32              | 32              | 39              | 35              | 29\n",
       "40     | 4      | 9        | 6     | California       | 37254503          | 37334079        | 37700034        | 38056055        | 38414128        | 38792291        | 39144818        | 79576        | 365955       | 356021       | 358073       | 378163       | 352527       | 0.213601     | 0.980217     | 0.944352     | 0.940909     | 0.984437     | 0.908755     | 1                 | 1                | 1                | 1                | 1                | 1                | 1                | 2               | 2               | 2               | 2               | 2               | 3               | 21              | 12              | 19              | 16              | 15              | 17\n",
       "... (47 rows omitted)"
      ]
     },
     "execution_count": 45,
     "metadata": {},
     "output_type": "execute_result"
    }
   ],
   "source": [
    "data_url = \"https://www2.census.gov/programs-surveys/popest/datasets/2010-2015/national/totals/nst-est2015-popchg2010_2015.csv\"\n",
    "census = Table.read_table(data_url)\n",
    "census"
   ]
  },
  {
   "cell_type": "markdown",
   "metadata": {},
   "source": [
    "### Difference between `select()` and `column()`"
   ]
  },
  {
   "cell_type": "code",
   "execution_count": 46,
   "metadata": {},
   "outputs": [
    {
     "data": {
      "text/plain": [
       "array([10, 20, 20, 20, 20, 40, 40, 40, 40, 40, 40, 40, 40, 40, 40, 40, 40,\n",
       "       40, 40, 40, 40, 40, 40, 40, 40, 40, 40, 40, 40, 40, 40, 40, 40, 40,\n",
       "       40, 40, 40, 40, 40, 40, 40, 40, 40, 40, 40, 40, 40, 40, 40, 40, 40,\n",
       "       40, 40, 40, 40, 40, 40])"
      ]
     },
     "execution_count": 46,
     "metadata": {},
     "output_type": "execute_result"
    }
   ],
   "source": [
    "census.column(0)"
   ]
  },
  {
   "cell_type": "code",
   "execution_count": 47,
   "metadata": {},
   "outputs": [
    {
     "data": {
      "text/html": [
       "<table border=\"1\" class=\"dataframe\">\n",
       "    <thead>\n",
       "        <tr>\n",
       "            <th>SUMLEV</th>\n",
       "        </tr>\n",
       "    </thead>\n",
       "    <tbody>\n",
       "        <tr>\n",
       "            <td>10    </td>\n",
       "        </tr>\n",
       "        <tr>\n",
       "            <td>20    </td>\n",
       "        </tr>\n",
       "        <tr>\n",
       "            <td>20    </td>\n",
       "        </tr>\n",
       "        <tr>\n",
       "            <td>20    </td>\n",
       "        </tr>\n",
       "        <tr>\n",
       "            <td>20    </td>\n",
       "        </tr>\n",
       "        <tr>\n",
       "            <td>40    </td>\n",
       "        </tr>\n",
       "        <tr>\n",
       "            <td>40    </td>\n",
       "        </tr>\n",
       "        <tr>\n",
       "            <td>40    </td>\n",
       "        </tr>\n",
       "        <tr>\n",
       "            <td>40    </td>\n",
       "        </tr>\n",
       "        <tr>\n",
       "            <td>40    </td>\n",
       "        </tr>\n",
       "    </tbody>\n",
       "</table>\n",
       "<p>... (47 rows omitted)</p>"
      ],
      "text/plain": [
       "SUMLEV\n",
       "10\n",
       "20\n",
       "20\n",
       "20\n",
       "20\n",
       "40\n",
       "40\n",
       "40\n",
       "40\n",
       "40\n",
       "... (47 rows omitted)"
      ]
     },
     "execution_count": 47,
     "metadata": {},
     "output_type": "execute_result"
    }
   ],
   "source": [
    "census.select(0)"
   ]
  },
  {
   "cell_type": "markdown",
   "metadata": {},
   "source": [
    "**Question:** What's the difference between these two?"
   ]
  },
  {
   "cell_type": "markdown",
   "metadata": {},
   "source": [
    "Answer: the former is an array of integers, the latter is a table with a single column"
   ]
  },
  {
   "cell_type": "markdown",
   "metadata": {},
   "source": [
    "### Explore data"
   ]
  },
  {
   "cell_type": "code",
   "execution_count": 48,
   "metadata": {},
   "outputs": [
    {
     "data": {
      "text/html": [
       "<table border=\"1\" class=\"dataframe\">\n",
       "    <thead>\n",
       "        <tr>\n",
       "            <th>SUMLEV</th> <th>REGION</th> <th>DIVISION</th> <th>STATE</th> <th>NAME</th> <th>ESTIMATESBASE2010</th> <th>POPESTIMATE2010</th> <th>POPESTIMATE2011</th> <th>POPESTIMATE2012</th> <th>POPESTIMATE2013</th> <th>POPESTIMATE2014</th> <th>POPESTIMATE2015</th> <th>NPOPCHG_2010</th> <th>NPOPCHG_2011</th> <th>NPOPCHG_2012</th> <th>NPOPCHG_2013</th> <th>NPOPCHG_2014</th> <th>NPOPCHG_2015</th> <th>PPOPCHG_2010</th> <th>PPOPCHG_2011</th> <th>PPOPCHG_2012</th> <th>PPOPCHG_2013</th> <th>PPOPCHG_2014</th> <th>PPOPCHG_2015</th> <th>NRANK_ESTBASE2010</th> <th>NRANK_POPEST2010</th> <th>NRANK_POPEST2011</th> <th>NRANK_POPEST2012</th> <th>NRANK_POPEST2013</th> <th>NRANK_POPEST2014</th> <th>NRANK_POPEST2015</th> <th>NRANK_NPCHG2010</th> <th>NRANK_NPCHG2011</th> <th>NRANK_NPCHG2012</th> <th>NRANK_NPCHG2013</th> <th>NRANK_NPCHG2014</th> <th>NRANK_NPCHG2015</th> <th>NRANK_PPCHG2010</th> <th>NRANK_PPCHG2011</th> <th>NRANK_PPCHG2012</th> <th>NRANK_PPCHG2013</th> <th>NRANK_PPCHG2014</th> <th>NRANK_PPCHG2015</th>\n",
       "        </tr>\n",
       "    </thead>\n",
       "    <tbody>\n",
       "        <tr>\n",
       "            <td>10    </td> <td>0     </td> <td>0       </td> <td>0    </td> <td>United States   </td> <td>308758105        </td> <td>309346863      </td> <td>311718857      </td> <td>314102623      </td> <td>316427395      </td> <td>318907401      </td> <td>321418820      </td> <td>588758      </td> <td>2371994     </td> <td>2383766     </td> <td>2324772     </td> <td>2480006     </td> <td>2511419     </td> <td>0.190686    </td> <td>0.766775    </td> <td>0.764717    </td> <td>0.740131    </td> <td>0.783752    </td> <td>0.787507    </td> <td>X                </td> <td>X               </td> <td>X               </td> <td>X               </td> <td>X               </td> <td>X               </td> <td>X               </td> <td>X              </td> <td>X              </td> <td>X              </td> <td>X              </td> <td>X              </td> <td>X              </td> <td>X              </td> <td>X              </td> <td>X              </td> <td>X              </td> <td>X              </td> <td>X              </td>\n",
       "        </tr>\n",
       "        <tr>\n",
       "            <td>20    </td> <td>1     </td> <td>0       </td> <td>0    </td> <td>Northeast Region</td> <td>55318348         </td> <td>55387174       </td> <td>55638038       </td> <td>55835056       </td> <td>56019353       </td> <td>56171281       </td> <td>56283891       </td> <td>68826       </td> <td>250864      </td> <td>197018      </td> <td>184297      </td> <td>151928      </td> <td>112610      </td> <td>0.124418    </td> <td>0.452928    </td> <td>0.354107    </td> <td>0.330074    </td> <td>0.271206    </td> <td>0.200476    </td> <td>4                </td> <td>4               </td> <td>4               </td> <td>4               </td> <td>4               </td> <td>4               </td> <td>4               </td> <td>3              </td> <td>3              </td> <td>3              </td> <td>4              </td> <td>4              </td> <td>4              </td> <td>3              </td> <td>3              </td> <td>3              </td> <td>4              </td> <td>4              </td> <td>4              </td>\n",
       "        </tr>\n",
       "        <tr>\n",
       "            <td>20    </td> <td>2     </td> <td>0       </td> <td>0    </td> <td>Midwest Region  </td> <td>66929897         </td> <td>66977505       </td> <td>67156488       </td> <td>67340231       </td> <td>67565788       </td> <td>67762069       </td> <td>67907403       </td> <td>47608       </td> <td>178983      </td> <td>183743      </td> <td>225557      </td> <td>196281      </td> <td>145334      </td> <td>0.0711311   </td> <td>0.267229    </td> <td>0.273604    </td> <td>0.334951    </td> <td>0.290504    </td> <td>0.214477    </td> <td>3                </td> <td>3               </td> <td>3               </td> <td>3               </td> <td>3               </td> <td>3               </td> <td>3               </td> <td>4              </td> <td>4              </td> <td>4              </td> <td>3              </td> <td>3              </td> <td>3              </td> <td>4              </td> <td>4              </td> <td>4              </td> <td>3              </td> <td>3              </td> <td>3              </td>\n",
       "        </tr>\n",
       "        <tr>\n",
       "            <td>20    </td> <td>3     </td> <td>0       </td> <td>0    </td> <td>South Region    </td> <td>114562953        </td> <td>114862858      </td> <td>116080267      </td> <td>117331340      </td> <td>118487418      </td> <td>119795010      </td> <td>121182847      </td> <td>299905      </td> <td>1217409     </td> <td>1251073     </td> <td>1156078     </td> <td>1307592     </td> <td>1387837     </td> <td>0.261782    </td> <td>1.05988     </td> <td>1.07777     </td> <td>0.98531     </td> <td>1.10357     </td> <td>1.15851     </td> <td>1                </td> <td>1               </td> <td>1               </td> <td>1               </td> <td>1               </td> <td>1               </td> <td>1               </td> <td>1              </td> <td>1              </td> <td>1              </td> <td>1              </td> <td>1              </td> <td>1              </td> <td>1              </td> <td>1              </td> <td>1              </td> <td>2              </td> <td>2              </td> <td>1              </td>\n",
       "        </tr>\n",
       "        <tr>\n",
       "            <td>20    </td> <td>4     </td> <td>0       </td> <td>0    </td> <td>West Region     </td> <td>71946907         </td> <td>72119326       </td> <td>72844064       </td> <td>73595996       </td> <td>74354836       </td> <td>75179041       </td> <td>76044679       </td> <td>172419      </td> <td>724738      </td> <td>751932      </td> <td>758840      </td> <td>824205      </td> <td>865638      </td> <td>0.239648    </td> <td>1.00492     </td> <td>1.03225     </td> <td>1.03109     </td> <td>1.10848     </td> <td>1.15144     </td> <td>2                </td> <td>2               </td> <td>2               </td> <td>2               </td> <td>2               </td> <td>2               </td> <td>2               </td> <td>2              </td> <td>2              </td> <td>2              </td> <td>2              </td> <td>2              </td> <td>2              </td> <td>2              </td> <td>2              </td> <td>2              </td> <td>1              </td> <td>1              </td> <td>2              </td>\n",
       "        </tr>\n",
       "    </tbody>\n",
       "</table>\n",
       "<p>... (52 rows omitted)</p>"
      ],
      "text/plain": [
       "<IPython.core.display.HTML object>"
      ]
     },
     "metadata": {},
     "output_type": "display_data"
    },
    {
     "data": {
      "text/plain": [
       "(43, 57)"
      ]
     },
     "execution_count": 48,
     "metadata": {},
     "output_type": "execute_result"
    }
   ],
   "source": [
    "census.show(5)\n",
    "census.num_columns, census.num_rows"
   ]
  },
  {
   "cell_type": "markdown",
   "metadata": {},
   "source": [
    "## Exploring the Table\n",
    "If we look at [this documentation](https://www2.census.gov/programs-surveys/popest/datasets/2010-2015/national/totals/nst-est2015-popchg2010-2015.pdf), we can see a description of the table"
   ]
  },
  {
   "cell_type": "code",
   "execution_count": null,
   "metadata": {},
   "outputs": [],
   "source": [
    "# Lets explore a few of the columns"
   ]
  },
  {
   "cell_type": "code",
   "execution_count": null,
   "metadata": {},
   "outputs": [],
   "source": [
    " # \"REGION\"\n",
    "# Categorical or Numerical?"
   ]
  },
  {
   "cell_type": "code",
   "execution_count": null,
   "metadata": {},
   "outputs": [],
   "source": [
    " # DIVISION\n",
    "    # Categorical or Numerical?"
   ]
  },
  {
   "cell_type": "code",
   "execution_count": null,
   "metadata": {},
   "outputs": [],
   "source": [
    " # STATE\n",
    "    # Categorical or Numerical?"
   ]
  },
  {
   "cell_type": "code",
   "execution_count": null,
   "metadata": {},
   "outputs": [],
   "source": [
    " # NAME\n",
    "    # Categorical or Numerical?"
   ]
  },
  {
   "cell_type": "markdown",
   "metadata": {},
   "source": [
    "## Selecting a few columns of interest\n",
    "\n",
    "Lets look at the \"NAME\", \"STATE\", \"REGION\", \"2013 Estimate\", \"2014 Estimate\""
   ]
  },
  {
   "cell_type": "code",
   "execution_count": null,
   "metadata": {},
   "outputs": [],
   "source": [
    "partial_census = census.select(...)"
   ]
  },
  {
   "cell_type": "code",
   "execution_count": null,
   "metadata": {},
   "outputs": [],
   "source": [
    "# Relabel columns"
   ]
  },
  {
   "cell_type": "markdown",
   "metadata": {},
   "source": [
    "# Column Arithmetic \n",
    "\n",
    "Difference between 13 and 13 estimate"
   ]
  },
  {
   "cell_type": "code",
   "execution_count": null,
   "metadata": {},
   "outputs": [],
   "source": [
    "change = ...\n",
    "change"
   ]
  },
  {
   "cell_type": "markdown",
   "metadata": {},
   "source": [
    "## Make new table with change"
   ]
  },
  {
   "cell_type": "code",
   "execution_count": null,
   "metadata": {},
   "outputs": [],
   "source": [
    "\n",
    "# Hint, use with_columns"
   ]
  },
  {
   "cell_type": "markdown",
   "metadata": {},
   "source": [
    "### Reformatter"
   ]
  },
  {
   "cell_type": "code",
   "execution_count": null,
   "metadata": {},
   "outputs": [],
   "source": [
    "## Reformat these changes\n",
    "# NumberFormatter, PercentFormatter\n",
    "# set_format"
   ]
  },
  {
   "cell_type": "markdown",
   "metadata": {},
   "source": [
    "### Interpretting these changes\n",
    "\n",
    "**Are these changes meaningful?**"
   ]
  },
  {
   "cell_type": "code",
   "execution_count": null,
   "metadata": {},
   "outputs": [],
   "source": [
    " # Convert changes to percentages"
   ]
  },
  {
   "cell_type": "code",
   "execution_count": null,
   "metadata": {},
   "outputs": [],
   "source": [
    "# Let's look at larger ranges in time, we might see more changes then"
   ]
  },
  {
   "cell_type": "markdown",
   "metadata": {},
   "source": [
    "# Analyzing the results/table"
   ]
  },
  {
   "cell_type": "code",
   "execution_count": null,
   "metadata": {},
   "outputs": [],
   "source": [
    "# find the regiion with the largest total change"
   ]
  },
  {
   "cell_type": "code",
   "execution_count": null,
   "metadata": {},
   "outputs": [],
   "source": [
    "# demonstrate rows"
   ]
  },
  {
   "cell_type": "code",
   "execution_count": null,
   "metadata": {},
   "outputs": [],
   "source": [
    "# find the regiion with the largest percentage change"
   ]
  },
  {
   "cell_type": "code",
   "execution_count": null,
   "metadata": {},
   "outputs": [],
   "source": [
    "# add anual growth based on total growth"
   ]
  }
 ],
 "metadata": {
  "kernelspec": {
   "display_name": "Python 3 (ipykernel)",
   "language": "python",
   "name": "python3"
  },
  "language_info": {
   "codemirror_mode": {
    "name": "ipython",
    "version": 3
   },
   "file_extension": ".py",
   "mimetype": "text/x-python",
   "name": "python",
   "nbconvert_exporter": "python",
   "pygments_lexer": "ipython3",
   "version": "3.12.6"
  }
 },
 "nbformat": 4,
 "nbformat_minor": 4
}
