{
 "cells": [
  {
   "cell_type": "code",
   "execution_count": 1,
   "metadata": {},
   "outputs": [],
   "source": [
    "import numpy as np\n",
    "from datascience import *"
   ]
  },
  {
   "cell_type": "markdown",
   "metadata": {},
   "source": [
    "# Group"
   ]
  },
  {
   "cell_type": "code",
   "execution_count": 2,
   "metadata": {},
   "outputs": [
    {
     "data": {
      "text/html": [
       "<table border=\"1\" class=\"dataframe\">\n",
       "    <thead>\n",
       "        <tr>\n",
       "            <th>name</th> <th>material</th> <th>city</th> <th>height</th> <th>age</th>\n",
       "        </tr>\n",
       "    </thead>\n",
       "    <tbody>\n",
       "        <tr>\n",
       "            <td>One World Trade Center</td> <td>mixed/composite</td> <td>New York City</td> <td>541.3 </td> <td>11  </td>\n",
       "        </tr>\n",
       "        <tr>\n",
       "            <td>Willis Tower          </td> <td>steel          </td> <td>Chicago      </td> <td>442.14</td> <td>51  </td>\n",
       "        </tr>\n",
       "        <tr>\n",
       "            <td>432 Park Avenue       </td> <td>concrete       </td> <td>New York City</td> <td>425.5 </td> <td>10  </td>\n",
       "        </tr>\n",
       "    </tbody>\n",
       "</table>\n",
       "<p>... (1778 rows omitted)</p>"
      ],
      "text/plain": [
       "<IPython.core.display.HTML object>"
      ]
     },
     "metadata": {},
     "output_type": "display_data"
    }
   ],
   "source": [
    "sky = Table.read_table('skyscrapers_v2.csv')\n",
    "sky = (sky.with_column('age', 2025 - sky.column('completed'))\n",
    "          .drop('completed'))\n",
    "sky.show(3)"
   ]
  },
  {
   "cell_type": "markdown",
   "metadata": {},
   "source": [
    "#### 1. How many towers are in each city?\n"
   ]
  },
  {
   "cell_type": "code",
   "execution_count": 3,
   "metadata": {},
   "outputs": [
    {
     "data": {
      "text/plain": [
       "531"
      ]
     },
     "execution_count": 3,
     "metadata": {},
     "output_type": "execute_result"
    }
   ],
   "source": [
    "sky.where(\"city\", \"New York City\").num_rows"
   ]
  },
  {
   "cell_type": "code",
   "execution_count": 4,
   "metadata": {},
   "outputs": [
    {
     "data": {
      "text/plain": [
       "358"
      ]
     },
     "execution_count": 4,
     "metadata": {},
     "output_type": "execute_result"
    }
   ],
   "source": [
    "sky.where(\"city\", \"Chicago\").num_rows"
   ]
  },
  {
   "cell_type": "code",
   "execution_count": 5,
   "metadata": {},
   "outputs": [
    {
     "data": {
      "text/plain": [
       "31"
      ]
     },
     "execution_count": 5,
     "metadata": {},
     "output_type": "execute_result"
    }
   ],
   "source": [
    "sky.where(\"city\", \"Philadelphia\").num_rows"
   ]
  },
  {
   "cell_type": "code",
   "execution_count": 6,
   "metadata": {},
   "outputs": [
    {
     "data": {
      "text/html": [
       "<table border=\"1\" class=\"dataframe\">\n",
       "    <thead>\n",
       "        <tr>\n",
       "            <th>name</th> <th>material</th> <th>city</th> <th>height</th> <th>age</th>\n",
       "        </tr>\n",
       "    </thead>\n",
       "    <tbody>\n",
       "        <tr>\n",
       "            <td>Comcast Center                    </td> <td>mixed/composite</td> <td>Philadelphia</td> <td>296.73</td> <td>17  </td>\n",
       "        </tr>\n",
       "        <tr>\n",
       "            <td>One Liberty Place                 </td> <td>steel          </td> <td>Philadelphia</td> <td>288.04</td> <td>38  </td>\n",
       "        </tr>\n",
       "        <tr>\n",
       "            <td>Two Liberty Place                 </td> <td>steel          </td> <td>Philadelphia</td> <td>258.47</td> <td>35  </td>\n",
       "        </tr>\n",
       "        <tr>\n",
       "            <td>Mellon Bank Center                </td> <td>mixed/composite</td> <td>Philadelphia</td> <td>241.41</td> <td>35  </td>\n",
       "        </tr>\n",
       "        <tr>\n",
       "            <td>Three Logan                       </td> <td>steel          </td> <td>Philadelphia</td> <td>225.25</td> <td>34  </td>\n",
       "        </tr>\n",
       "        <tr>\n",
       "            <td>The Residences at the Ritz-Carlton</td> <td>concrete       </td> <td>Philadelphia</td> <td>157.89</td> <td>16  </td>\n",
       "        </tr>\n",
       "        <tr>\n",
       "            <td>1818 Market Street                </td> <td>steel          </td> <td>Philadelphia</td> <td>152.4 </td> <td>51  </td>\n",
       "        </tr>\n",
       "        <tr>\n",
       "            <td>The St. James                     </td> <td>concrete       </td> <td>Philadelphia</td> <td>151.84</td> <td>21  </td>\n",
       "        </tr>\n",
       "        <tr>\n",
       "            <td>Loews Philadelphia Hotel          </td> <td>steel          </td> <td>Philadelphia</td> <td>149.96</td> <td>93  </td>\n",
       "        </tr>\n",
       "        <tr>\n",
       "            <td>The Murano                        </td> <td>concrete       </td> <td>Philadelphia</td> <td>144.78</td> <td>17  </td>\n",
       "        </tr>\n",
       "    </tbody>\n",
       "</table>\n",
       "<p>... (21 rows omitted)</p>"
      ],
      "text/plain": [
       "name                               | material        | city         | height | age\n",
       "Comcast Center                     | mixed/composite | Philadelphia | 296.73 | 17\n",
       "One Liberty Place                  | steel           | Philadelphia | 288.04 | 38\n",
       "Two Liberty Place                  | steel           | Philadelphia | 258.47 | 35\n",
       "Mellon Bank Center                 | mixed/composite | Philadelphia | 241.41 | 35\n",
       "Three Logan                        | steel           | Philadelphia | 225.25 | 34\n",
       "The Residences at the Ritz-Carlton | concrete        | Philadelphia | 157.89 | 16\n",
       "1818 Market Street                 | steel           | Philadelphia | 152.4  | 51\n",
       "The St. James                      | concrete        | Philadelphia | 151.84 | 21\n",
       "Loews Philadelphia Hotel           | steel           | Philadelphia | 149.96 | 93\n",
       "The Murano                         | concrete        | Philadelphia | 144.78 | 17\n",
       "... (21 rows omitted)"
      ]
     },
     "execution_count": 6,
     "metadata": {},
     "output_type": "execute_result"
    }
   ],
   "source": [
    "sky.where(\"city\", \"Philadelphia\")"
   ]
  },
  {
   "cell_type": "code",
   "execution_count": null,
   "metadata": {},
   "outputs": [],
   "source": [
    "# skip"
   ]
  },
  {
   "cell_type": "code",
   "execution_count": null,
   "metadata": {},
   "outputs": [],
   "source": [
    "# skip"
   ]
  },
  {
   "cell_type": "code",
   "execution_count": null,
   "metadata": {},
   "outputs": [],
   "source": [
    "# skip"
   ]
  },
  {
   "cell_type": "code",
   "execution_count": null,
   "metadata": {},
   "outputs": [],
   "source": [
    "# skip"
   ]
  },
  {
   "cell_type": "code",
   "execution_count": 8,
   "metadata": {},
   "outputs": [
    {
     "data": {
      "text/plain": [
       "datascience.tables.Table"
      ]
     },
     "execution_count": 8,
     "metadata": {},
     "output_type": "execute_result"
    }
   ],
   "source": [
    "type(sky.group('city'))"
   ]
  },
  {
   "cell_type": "markdown",
   "metadata": {},
   "source": [
    "Tells us how many cities have skyscrapers"
   ]
  },
  {
   "cell_type": "code",
   "execution_count": 10,
   "metadata": {},
   "outputs": [
    {
     "data": {
      "text/plain": [
       "35"
      ]
     },
     "execution_count": 10,
     "metadata": {},
     "output_type": "execute_result"
    }
   ],
   "source": [
    "sky.group('city').num_rows"
   ]
  },
  {
   "cell_type": "code",
   "execution_count": 11,
   "metadata": {},
   "outputs": [
    {
     "data": {
      "text/html": [
       "<table border=\"1\" class=\"dataframe\">\n",
       "    <thead>\n",
       "        <tr>\n",
       "            <th>city</th> <th>count</th>\n",
       "        </tr>\n",
       "    </thead>\n",
       "    <tbody>\n",
       "        <tr>\n",
       "            <td>Atlanta   </td> <td>38   </td>\n",
       "        </tr>\n",
       "        <tr>\n",
       "            <td>Austin    </td> <td>17   </td>\n",
       "        </tr>\n",
       "        <tr>\n",
       "            <td>Baltimore </td> <td>14   </td>\n",
       "        </tr>\n",
       "        <tr>\n",
       "            <td>Boston    </td> <td>32   </td>\n",
       "        </tr>\n",
       "        <tr>\n",
       "            <td>Charlotte </td> <td>12   </td>\n",
       "        </tr>\n",
       "        <tr>\n",
       "            <td>Chicago   </td> <td>358  </td>\n",
       "        </tr>\n",
       "        <tr>\n",
       "            <td>Cincinnati</td> <td>13   </td>\n",
       "        </tr>\n",
       "        <tr>\n",
       "            <td>Cleveland </td> <td>16   </td>\n",
       "        </tr>\n",
       "        <tr>\n",
       "            <td>Columbus  </td> <td>13   </td>\n",
       "        </tr>\n",
       "        <tr>\n",
       "            <td>Dallas    </td> <td>20   </td>\n",
       "        </tr>\n",
       "    </tbody>\n",
       "</table>\n",
       "<p>... (25 rows omitted)</p>"
      ],
      "text/plain": [
       "city       | count\n",
       "Atlanta    | 38\n",
       "Austin     | 17\n",
       "Baltimore  | 14\n",
       "Boston     | 32\n",
       "Charlotte  | 12\n",
       "Chicago    | 358\n",
       "Cincinnati | 13\n",
       "Cleveland  | 16\n",
       "Columbus   | 13\n",
       "Dallas     | 20\n",
       "... (25 rows omitted)"
      ]
     },
     "execution_count": 11,
     "metadata": {},
     "output_type": "execute_result"
    }
   ],
   "source": [
    "sky.group('city')"
   ]
  },
  {
   "cell_type": "markdown",
   "metadata": {},
   "source": [
    "How can we find the city with the most amount of skyscrapers"
   ]
  },
  {
   "cell_type": "code",
   "execution_count": 16,
   "metadata": {},
   "outputs": [
    {
     "data": {
      "text/plain": [
       "'New York City'"
      ]
     },
     "execution_count": 16,
     "metadata": {},
     "output_type": "execute_result"
    }
   ],
   "source": [
    "sky.group('city').sort('count',descending=True).column('city').item(0)"
   ]
  },
  {
   "cell_type": "markdown",
   "metadata": {},
   "source": [
    "How can we visualize the number of skyscrapers in each city?\n",
    "\n",
    "Q: what visualization should we use? answer is the type of ofigure we use for a categorical distribution?"
   ]
  },
  {
   "cell_type": "code",
   "execution_count": 22,
   "metadata": {},
   "outputs": [
    {
     "data": {
      "text/html": [
       "<table border=\"1\" class=\"dataframe\">\n",
       "    <thead>\n",
       "        <tr>\n",
       "            <th>city</th> <th>count</th>\n",
       "        </tr>\n",
       "    </thead>\n",
       "    <tbody>\n",
       "        <tr>\n",
       "            <td>Atlanta   </td> <td>38   </td>\n",
       "        </tr>\n",
       "        <tr>\n",
       "            <td>Austin    </td> <td>17   </td>\n",
       "        </tr>\n",
       "        <tr>\n",
       "            <td>Baltimore </td> <td>14   </td>\n",
       "        </tr>\n",
       "        <tr>\n",
       "            <td>Boston    </td> <td>32   </td>\n",
       "        </tr>\n",
       "        <tr>\n",
       "            <td>Charlotte </td> <td>12   </td>\n",
       "        </tr>\n",
       "        <tr>\n",
       "            <td>Chicago   </td> <td>358  </td>\n",
       "        </tr>\n",
       "        <tr>\n",
       "            <td>Cincinnati</td> <td>13   </td>\n",
       "        </tr>\n",
       "        <tr>\n",
       "            <td>Cleveland </td> <td>16   </td>\n",
       "        </tr>\n",
       "        <tr>\n",
       "            <td>Columbus  </td> <td>13   </td>\n",
       "        </tr>\n",
       "        <tr>\n",
       "            <td>Dallas    </td> <td>20   </td>\n",
       "        </tr>\n",
       "    </tbody>\n",
       "</table>\n",
       "<p>... (25 rows omitted)</p>"
      ],
      "text/plain": [
       "city       | count\n",
       "Atlanta    | 38\n",
       "Austin     | 17\n",
       "Baltimore  | 14\n",
       "Boston     | 32\n",
       "Charlotte  | 12\n",
       "Chicago    | 358\n",
       "Cincinnati | 13\n",
       "Cleveland  | 16\n",
       "Columbus   | 13\n",
       "Dallas     | 20\n",
       "... (25 rows omitted)"
      ]
     },
     "execution_count": 22,
     "metadata": {},
     "output_type": "execute_result"
    }
   ],
   "source": [
    "sky.group('city') # for homework, plot this as a bar plot"
   ]
  },
  {
   "cell_type": "markdown",
   "metadata": {},
   "source": [
    "#### 2. For each city, what’s the tallest building?"
   ]
  },
  {
   "cell_type": "code",
   "execution_count": null,
   "metadata": {},
   "outputs": [],
   "source": [
    "#skip"
   ]
  },
  {
   "cell_type": "code",
   "execution_count": null,
   "metadata": {},
   "outputs": [],
   "source": [
    "#skip"
   ]
  },
  {
   "cell_type": "code",
   "execution_count": 23,
   "metadata": {},
   "outputs": [
    {
     "data": {
      "text/html": [
       "<table border=\"1\" class=\"dataframe\">\n",
       "    <thead>\n",
       "        <tr>\n",
       "            <th>city</th> <th>name max</th> <th>material max</th> <th>height max</th> <th>age max</th>\n",
       "        </tr>\n",
       "    </thead>\n",
       "    <tbody>\n",
       "        <tr>\n",
       "            <td>Atlanta   </td> <td>Westin Peachtree Plaza                 </td> <td>steel       </td> <td>311.8     </td> <td>128    </td>\n",
       "        </tr>\n",
       "        <tr>\n",
       "            <td>Austin    </td> <td>Windsor on the Lake                    </td> <td>steel       </td> <td>208.15    </td> <td>88     </td>\n",
       "        </tr>\n",
       "        <tr>\n",
       "            <td>Baltimore </td> <td>The John and Frances Angelos Law Center</td> <td>steel       </td> <td>161.24    </td> <td>114    </td>\n",
       "        </tr>\n",
       "        <tr>\n",
       "            <td>Boston    </td> <td>Two International Place                </td> <td>steel       </td> <td>240.79    </td> <td>110    </td>\n",
       "        </tr>\n",
       "        <tr>\n",
       "            <td>Charlotte </td> <td>TradeMark                              </td> <td>steel       </td> <td>265.48    </td> <td>101    </td>\n",
       "        </tr>\n",
       "        <tr>\n",
       "            <td>Chicago   </td> <td>theWit Hotel                           </td> <td>steel       </td> <td>442.14    </td> <td>137    </td>\n",
       "        </tr>\n",
       "        <tr>\n",
       "            <td>Cincinnati</td> <td>Scripps Center                         </td> <td>steel       </td> <td>202.69    </td> <td>112    </td>\n",
       "        </tr>\n",
       "        <tr>\n",
       "            <td>Cleveland </td> <td>Tower at Erieview                      </td> <td>steel       </td> <td>288.65    </td> <td>101    </td>\n",
       "        </tr>\n",
       "        <tr>\n",
       "            <td>Columbus  </td> <td>William Green Building                 </td> <td>steel       </td> <td>169.3     </td> <td>98     </td>\n",
       "        </tr>\n",
       "        <tr>\n",
       "            <td>Dallas    </td> <td>W Dallas Victory Hotel & Residences    </td> <td>steel       </td> <td>280.72    </td> <td>97     </td>\n",
       "        </tr>\n",
       "    </tbody>\n",
       "</table>\n",
       "<p>... (25 rows omitted)</p>"
      ],
      "text/plain": [
       "city       | name max                                | material max | height max | age max\n",
       "Atlanta    | Westin Peachtree Plaza                  | steel        | 311.8      | 128\n",
       "Austin     | Windsor on the Lake                     | steel        | 208.15     | 88\n",
       "Baltimore  | The John and Frances Angelos Law Center | steel        | 161.24     | 114\n",
       "Boston     | Two International Place                 | steel        | 240.79     | 110\n",
       "Charlotte  | TradeMark                               | steel        | 265.48     | 101\n",
       "Chicago    | theWit Hotel                            | steel        | 442.14     | 137\n",
       "Cincinnati | Scripps Center                          | steel        | 202.69     | 112\n",
       "Cleveland  | Tower at Erieview                       | steel        | 288.65     | 101\n",
       "Columbus   | William Green Building                  | steel        | 169.3      | 98\n",
       "Dallas     | W Dallas Victory Hotel & Residences     | steel        | 280.72     | 97\n",
       "... (25 rows omitted)"
      ]
     },
     "execution_count": 23,
     "metadata": {},
     "output_type": "execute_result"
    }
   ],
   "source": [
    "#skip\n",
    "sky.group('city', max)"
   ]
  },
  {
   "cell_type": "code",
   "execution_count": 24,
   "metadata": {},
   "outputs": [
    {
     "data": {
      "text/html": [
       "<table border=\"1\" class=\"dataframe\">\n",
       "    <thead>\n",
       "        <tr>\n",
       "            <th>height</th>\n",
       "        </tr>\n",
       "    </thead>\n",
       "    <tbody>\n",
       "        <tr>\n",
       "            <td>220.37</td>\n",
       "        </tr>\n",
       "    </tbody>\n",
       "</table>"
      ],
      "text/plain": [
       "height\n",
       "220.37"
      ]
     },
     "execution_count": 24,
     "metadata": {},
     "output_type": "execute_result"
    }
   ],
   "source": [
    "sky.where(\"name\", \"Westin Peachtree Plaza\").select('height')"
   ]
  },
  {
   "cell_type": "markdown",
   "metadata": {},
   "source": [
    "#### 3. For each city, what’s the tallest building for each material?\n",
    "(back to slides after asking this question)"
   ]
  },
  {
   "cell_type": "code",
   "execution_count": null,
   "metadata": {},
   "outputs": [],
   "source": [
    "# skip"
   ]
  },
  {
   "cell_type": "code",
   "execution_count": null,
   "metadata": {},
   "outputs": [],
   "source": [
    "# skip"
   ]
  },
  {
   "cell_type": "code",
   "execution_count": null,
   "metadata": {},
   "outputs": [],
   "source": [
    "#skip"
   ]
  },
  {
   "cell_type": "code",
   "execution_count": null,
   "metadata": {},
   "outputs": [],
   "source": [
    "# skip"
   ]
  },
  {
   "cell_type": "code",
   "execution_count": null,
   "metadata": {},
   "outputs": [],
   "source": [
    "# skip"
   ]
  },
  {
   "cell_type": "code",
   "execution_count": null,
   "metadata": {},
   "outputs": [],
   "source": [
    "# skip"
   ]
  },
  {
   "cell_type": "code",
   "execution_count": null,
   "metadata": {},
   "outputs": [],
   "source": [
    "sky.group(['city', 'material'], max)"
   ]
  },
  {
   "cell_type": "markdown",
   "metadata": {},
   "source": [
    "## Lists detour"
   ]
  },
  {
   "cell_type": "code",
   "execution_count": 26,
   "metadata": {},
   "outputs": [
    {
     "data": {
      "text/plain": [
       "[100.0, 200, '50']"
      ]
     },
     "execution_count": 26,
     "metadata": {},
     "output_type": "execute_result"
    }
   ],
   "source": [
    "[100., 200, \"50\"]"
   ]
  },
  {
   "cell_type": "code",
   "execution_count": 28,
   "metadata": {},
   "outputs": [
    {
     "data": {
      "text/html": [
       "<table border=\"1\" class=\"dataframe\">\n",
       "    <thead>\n",
       "        <tr>\n",
       "            <th>height</th>\n",
       "        </tr>\n",
       "    </thead>\n",
       "    <tbody>\n",
       "        <tr>\n",
       "            <td>100.0 </td>\n",
       "        </tr>\n",
       "        <tr>\n",
       "            <td>200   </td>\n",
       "        </tr>\n",
       "        <tr>\n",
       "            <td>50    </td>\n",
       "        </tr>\n",
       "    </tbody>\n",
       "</table>"
      ],
      "text/plain": [
       "height\n",
       "100.0\n",
       "200\n",
       "50"
      ]
     },
     "execution_count": 28,
     "metadata": {},
     "output_type": "execute_result"
    }
   ],
   "source": [
    "tmp = Table().with_columns('height', [100., 200, \"50\"])\n",
    "tmp"
   ]
  },
  {
   "cell_type": "code",
   "execution_count": 32,
   "metadata": {},
   "outputs": [
    {
     "data": {
      "text/plain": [
       "str"
      ]
     },
     "execution_count": 32,
     "metadata": {},
     "output_type": "execute_result"
    }
   ],
   "source": [
    "type(tmp.column('height').item(0))"
   ]
  },
  {
   "cell_type": "code",
   "execution_count": 33,
   "metadata": {},
   "outputs": [
    {
     "data": {
      "text/html": [
       "<table border=\"1\" class=\"dataframe\">\n",
       "    <thead>\n",
       "        <tr>\n",
       "            <th>height</th>\n",
       "        </tr>\n",
       "    </thead>\n",
       "    <tbody>\n",
       "        <tr>\n",
       "            <td>100   </td>\n",
       "        </tr>\n",
       "        <tr>\n",
       "            <td>200   </td>\n",
       "        </tr>\n",
       "        <tr>\n",
       "            <td>50    </td>\n",
       "        </tr>\n",
       "        <tr>\n",
       "            <td>20    </td>\n",
       "        </tr>\n",
       "    </tbody>\n",
       "</table>"
      ],
      "text/plain": [
       "height\n",
       "100\n",
       "200\n",
       "50\n",
       "20"
      ]
     },
     "execution_count": 33,
     "metadata": {},
     "output_type": "execute_result"
    }
   ],
   "source": [
    "tmp = Table().with_columns('height', [100., 200, 50., 20])\n",
    "tmp"
   ]
  },
  {
   "cell_type": "code",
   "execution_count": 34,
   "metadata": {},
   "outputs": [
    {
     "data": {
      "text/plain": [
       "float"
      ]
     },
     "execution_count": 34,
     "metadata": {},
     "output_type": "execute_result"
    }
   ],
   "source": [
    "type(tmp.column('height').item(0))"
   ]
  },
  {
   "cell_type": "markdown",
   "metadata": {},
   "source": [
    "#### 4. For each city, whats the combined hiehgt of all the buildings?\n"
   ]
  },
  {
   "cell_type": "code",
   "execution_count": null,
   "metadata": {},
   "outputs": [],
   "source": [
    "# skip"
   ]
  },
  {
   "cell_type": "code",
   "execution_count": 35,
   "metadata": {},
   "outputs": [
    {
     "data": {
      "text/html": [
       "<table border=\"1\" class=\"dataframe\">\n",
       "    <thead>\n",
       "        <tr>\n",
       "            <th>city</th> <th>count</th>\n",
       "        </tr>\n",
       "    </thead>\n",
       "    <tbody>\n",
       "        <tr>\n",
       "            <td>Atlanta   </td> <td>38   </td>\n",
       "        </tr>\n",
       "        <tr>\n",
       "            <td>Austin    </td> <td>17   </td>\n",
       "        </tr>\n",
       "        <tr>\n",
       "            <td>Baltimore </td> <td>14   </td>\n",
       "        </tr>\n",
       "        <tr>\n",
       "            <td>Boston    </td> <td>32   </td>\n",
       "        </tr>\n",
       "        <tr>\n",
       "            <td>Charlotte </td> <td>12   </td>\n",
       "        </tr>\n",
       "        <tr>\n",
       "            <td>Chicago   </td> <td>358  </td>\n",
       "        </tr>\n",
       "        <tr>\n",
       "            <td>Cincinnati</td> <td>13   </td>\n",
       "        </tr>\n",
       "        <tr>\n",
       "            <td>Cleveland </td> <td>16   </td>\n",
       "        </tr>\n",
       "        <tr>\n",
       "            <td>Columbus  </td> <td>13   </td>\n",
       "        </tr>\n",
       "        <tr>\n",
       "            <td>Dallas    </td> <td>20   </td>\n",
       "        </tr>\n",
       "    </tbody>\n",
       "</table>\n",
       "<p>... (25 rows omitted)</p>"
      ],
      "text/plain": [
       "city       | count\n",
       "Atlanta    | 38\n",
       "Austin     | 17\n",
       "Baltimore  | 14\n",
       "Boston     | 32\n",
       "Charlotte  | 12\n",
       "Chicago    | 358\n",
       "Cincinnati | 13\n",
       "Cleveland  | 16\n",
       "Columbus   | 13\n",
       "Dallas     | 20\n",
       "... (25 rows omitted)"
      ]
     },
     "execution_count": 35,
     "metadata": {},
     "output_type": "execute_result"
    }
   ],
   "source": [
    "sky.group('city')"
   ]
  },
  {
   "cell_type": "code",
   "execution_count": 36,
   "metadata": {},
   "outputs": [
    {
     "data": {
      "text/html": [
       "<table border=\"1\" class=\"dataframe\">\n",
       "    <thead>\n",
       "        <tr>\n",
       "            <th>city</th> <th>name max</th> <th>material max</th> <th>height max</th> <th>age max</th>\n",
       "        </tr>\n",
       "    </thead>\n",
       "    <tbody>\n",
       "        <tr>\n",
       "            <td>Atlanta   </td> <td>Westin Peachtree Plaza                 </td> <td>steel       </td> <td>311.8     </td> <td>128    </td>\n",
       "        </tr>\n",
       "        <tr>\n",
       "            <td>Austin    </td> <td>Windsor on the Lake                    </td> <td>steel       </td> <td>208.15    </td> <td>88     </td>\n",
       "        </tr>\n",
       "        <tr>\n",
       "            <td>Baltimore </td> <td>The John and Frances Angelos Law Center</td> <td>steel       </td> <td>161.24    </td> <td>114    </td>\n",
       "        </tr>\n",
       "        <tr>\n",
       "            <td>Boston    </td> <td>Two International Place                </td> <td>steel       </td> <td>240.79    </td> <td>110    </td>\n",
       "        </tr>\n",
       "        <tr>\n",
       "            <td>Charlotte </td> <td>TradeMark                              </td> <td>steel       </td> <td>265.48    </td> <td>101    </td>\n",
       "        </tr>\n",
       "        <tr>\n",
       "            <td>Chicago   </td> <td>theWit Hotel                           </td> <td>steel       </td> <td>442.14    </td> <td>137    </td>\n",
       "        </tr>\n",
       "        <tr>\n",
       "            <td>Cincinnati</td> <td>Scripps Center                         </td> <td>steel       </td> <td>202.69    </td> <td>112    </td>\n",
       "        </tr>\n",
       "        <tr>\n",
       "            <td>Cleveland </td> <td>Tower at Erieview                      </td> <td>steel       </td> <td>288.65    </td> <td>101    </td>\n",
       "        </tr>\n",
       "        <tr>\n",
       "            <td>Columbus  </td> <td>William Green Building                 </td> <td>steel       </td> <td>169.3     </td> <td>98     </td>\n",
       "        </tr>\n",
       "        <tr>\n",
       "            <td>Dallas    </td> <td>W Dallas Victory Hotel & Residences    </td> <td>steel       </td> <td>280.72    </td> <td>97     </td>\n",
       "        </tr>\n",
       "    </tbody>\n",
       "</table>\n",
       "<p>... (25 rows omitted)</p>"
      ],
      "text/plain": [
       "city       | name max                                | material max | height max | age max\n",
       "Atlanta    | Westin Peachtree Plaza                  | steel        | 311.8      | 128\n",
       "Austin     | Windsor on the Lake                     | steel        | 208.15     | 88\n",
       "Baltimore  | The John and Frances Angelos Law Center | steel        | 161.24     | 114\n",
       "Boston     | Two International Place                 | steel        | 240.79     | 110\n",
       "Charlotte  | TradeMark                               | steel        | 265.48     | 101\n",
       "Chicago    | theWit Hotel                            | steel        | 442.14     | 137\n",
       "Cincinnati | Scripps Center                          | steel        | 202.69     | 112\n",
       "Cleveland  | Tower at Erieview                       | steel        | 288.65     | 101\n",
       "Columbus   | William Green Building                  | steel        | 169.3      | 98\n",
       "Dallas     | W Dallas Victory Hotel & Residences     | steel        | 280.72     | 97\n",
       "... (25 rows omitted)"
      ]
     },
     "execution_count": 36,
     "metadata": {},
     "output_type": "execute_result"
    }
   ],
   "source": [
    "sky.group('city',max)"
   ]
  },
  {
   "cell_type": "code",
   "execution_count": 38,
   "metadata": {},
   "outputs": [
    {
     "data": {
      "text/html": [
       "<table border=\"1\" class=\"dataframe\">\n",
       "    <thead>\n",
       "        <tr>\n",
       "            <th>city</th> <th>height sum</th>\n",
       "        </tr>\n",
       "    </thead>\n",
       "    <tbody>\n",
       "        <tr>\n",
       "            <td>Atlanta   </td> <td>5720.79   </td>\n",
       "        </tr>\n",
       "        <tr>\n",
       "            <td>Austin    </td> <td>2137.03   </td>\n",
       "        </tr>\n",
       "        <tr>\n",
       "            <td>Baltimore </td> <td>1567.78   </td>\n",
       "        </tr>\n",
       "        <tr>\n",
       "            <td>Boston    </td> <td>4394.79   </td>\n",
       "        </tr>\n",
       "        <tr>\n",
       "            <td>Charlotte </td> <td>1902.82   </td>\n",
       "        </tr>\n",
       "        <tr>\n",
       "            <td>Chicago   </td> <td>47257     </td>\n",
       "        </tr>\n",
       "        <tr>\n",
       "            <td>Cincinnati</td> <td>1563.67   </td>\n",
       "        </tr>\n",
       "        <tr>\n",
       "            <td>Cleveland </td> <td>2238.02   </td>\n",
       "        </tr>\n",
       "        <tr>\n",
       "            <td>Columbus  </td> <td>1399.42   </td>\n",
       "        </tr>\n",
       "        <tr>\n",
       "            <td>Dallas    </td> <td>3363.54   </td>\n",
       "        </tr>\n",
       "    </tbody>\n",
       "</table>\n",
       "<p>... (25 rows omitted)</p>"
      ],
      "text/plain": [
       "city       | height sum\n",
       "Atlanta    | 5720.79\n",
       "Austin     | 2137.03\n",
       "Baltimore  | 1567.78\n",
       "Boston     | 4394.79\n",
       "Charlotte  | 1902.82\n",
       "Chicago    | 47257\n",
       "Cincinnati | 1563.67\n",
       "Cleveland  | 2238.02\n",
       "Columbus   | 1399.42\n",
       "Dallas     | 3363.54\n",
       "... (25 rows omitted)"
      ]
     },
     "execution_count": 38,
     "metadata": {},
     "output_type": "execute_result"
    }
   ],
   "source": [
    "sky.group('city',sum).select('city', 'height sum')"
   ]
  },
  {
   "cell_type": "markdown",
   "metadata": {},
   "source": [
    "### For each city, find the average age of all skyscrapers"
   ]
  },
  {
   "cell_type": "code",
   "execution_count": 39,
   "metadata": {},
   "outputs": [
    {
     "data": {
      "text/html": [
       "<table border=\"1\" class=\"dataframe\">\n",
       "    <thead>\n",
       "        <tr>\n",
       "            <th>city</th> <th>name sum</th> <th>material sum</th> <th>height sum</th> <th>age sum</th>\n",
       "        </tr>\n",
       "    </thead>\n",
       "    <tbody>\n",
       "        <tr>\n",
       "            <td>Atlanta   </td> <td>        </td> <td>            </td> <td>5720.79   </td> <td>1205   </td>\n",
       "        </tr>\n",
       "        <tr>\n",
       "            <td>Austin    </td> <td>        </td> <td>            </td> <td>2137.03   </td> <td>384    </td>\n",
       "        </tr>\n",
       "        <tr>\n",
       "            <td>Baltimore </td> <td>        </td> <td>            </td> <td>1567.78   </td> <td>666    </td>\n",
       "        </tr>\n",
       "        <tr>\n",
       "            <td>Boston    </td> <td>        </td> <td>            </td> <td>4394.79   </td> <td>1442   </td>\n",
       "        </tr>\n",
       "        <tr>\n",
       "            <td>Charlotte </td> <td>        </td> <td>            </td> <td>1902.82   </td> <td>363    </td>\n",
       "        </tr>\n",
       "        <tr>\n",
       "            <td>Chicago   </td> <td>        </td> <td>            </td> <td>47257     </td> <td>16290  </td>\n",
       "        </tr>\n",
       "        <tr>\n",
       "            <td>Cincinnati</td> <td>        </td> <td>            </td> <td>1563.67   </td> <td>743    </td>\n",
       "        </tr>\n",
       "        <tr>\n",
       "            <td>Cleveland </td> <td>        </td> <td>            </td> <td>2238.02   </td> <td>877    </td>\n",
       "        </tr>\n",
       "        <tr>\n",
       "            <td>Columbus  </td> <td>        </td> <td>            </td> <td>1399.42   </td> <td>613    </td>\n",
       "        </tr>\n",
       "        <tr>\n",
       "            <td>Dallas    </td> <td>        </td> <td>            </td> <td>3363.54   </td> <td>891    </td>\n",
       "        </tr>\n",
       "    </tbody>\n",
       "</table>\n",
       "<p>... (25 rows omitted)</p>"
      ],
      "text/plain": [
       "city       | name sum | material sum | height sum | age sum\n",
       "Atlanta    |          |              | 5720.79    | 1205\n",
       "Austin     |          |              | 2137.03    | 384\n",
       "Baltimore  |          |              | 1567.78    | 666\n",
       "Boston     |          |              | 4394.79    | 1442\n",
       "Charlotte  |          |              | 1902.82    | 363\n",
       "Chicago    |          |              | 47257      | 16290\n",
       "Cincinnati |          |              | 1563.67    | 743\n",
       "Cleveland  |          |              | 2238.02    | 877\n",
       "Columbus   |          |              | 1399.42    | 613\n",
       "Dallas     |          |              | 3363.54    | 891\n",
       "... (25 rows omitted)"
      ]
     },
     "execution_count": 39,
     "metadata": {},
     "output_type": "execute_result"
    }
   ],
   "source": [
    "sky.group('city',sum)"
   ]
  },
  {
   "cell_type": "code",
   "execution_count": 40,
   "metadata": {},
   "outputs": [
    {
     "data": {
      "text/html": [
       "<table border=\"1\" class=\"dataframe\">\n",
       "    <thead>\n",
       "        <tr>\n",
       "            <th>city</th> <th>count</th>\n",
       "        </tr>\n",
       "    </thead>\n",
       "    <tbody>\n",
       "        <tr>\n",
       "            <td>Atlanta   </td> <td>38   </td>\n",
       "        </tr>\n",
       "        <tr>\n",
       "            <td>Austin    </td> <td>17   </td>\n",
       "        </tr>\n",
       "        <tr>\n",
       "            <td>Baltimore </td> <td>14   </td>\n",
       "        </tr>\n",
       "        <tr>\n",
       "            <td>Boston    </td> <td>32   </td>\n",
       "        </tr>\n",
       "        <tr>\n",
       "            <td>Charlotte </td> <td>12   </td>\n",
       "        </tr>\n",
       "        <tr>\n",
       "            <td>Chicago   </td> <td>358  </td>\n",
       "        </tr>\n",
       "        <tr>\n",
       "            <td>Cincinnati</td> <td>13   </td>\n",
       "        </tr>\n",
       "        <tr>\n",
       "            <td>Cleveland </td> <td>16   </td>\n",
       "        </tr>\n",
       "        <tr>\n",
       "            <td>Columbus  </td> <td>13   </td>\n",
       "        </tr>\n",
       "        <tr>\n",
       "            <td>Dallas    </td> <td>20   </td>\n",
       "        </tr>\n",
       "    </tbody>\n",
       "</table>\n",
       "<p>... (25 rows omitted)</p>"
      ],
      "text/plain": [
       "city       | count\n",
       "Atlanta    | 38\n",
       "Austin     | 17\n",
       "Baltimore  | 14\n",
       "Boston     | 32\n",
       "Charlotte  | 12\n",
       "Chicago    | 358\n",
       "Cincinnati | 13\n",
       "Cleveland  | 16\n",
       "Columbus   | 13\n",
       "Dallas     | 20\n",
       "... (25 rows omitted)"
      ]
     },
     "execution_count": 40,
     "metadata": {},
     "output_type": "execute_result"
    }
   ],
   "source": [
    "sky.group('city')"
   ]
  },
  {
   "cell_type": "code",
   "execution_count": 43,
   "metadata": {},
   "outputs": [],
   "source": [
    "avg_age_array = sky.group('city',sum).column('age sum') / sky.group('city').column('count')"
   ]
  },
  {
   "cell_type": "code",
   "execution_count": 44,
   "metadata": {},
   "outputs": [
    {
     "ename": "ValueError",
     "evalue": "Column length mismatch. New column does not have the same number of rows as table.",
     "output_type": "error",
     "traceback": [
      "\u001b[0;31m---------------------------------------------------------------------------\u001b[0m",
      "\u001b[0;31mValueError\u001b[0m                                Traceback (most recent call last)",
      "Cell \u001b[0;32mIn[44], line 1\u001b[0m\n\u001b[0;32m----> 1\u001b[0m \u001b[43msky\u001b[49m\u001b[38;5;241;43m.\u001b[39;49m\u001b[43mwith_columns\u001b[49m\u001b[43m(\u001b[49m\u001b[38;5;124;43m'\u001b[39;49m\u001b[38;5;124;43mavg age\u001b[39;49m\u001b[38;5;124;43m'\u001b[39;49m\u001b[43m,\u001b[49m\u001b[43m \u001b[49m\u001b[43mavg_age_array\u001b[49m\u001b[43m)\u001b[49m\n",
      "File \u001b[0;32m/opt/tljh/user/lib/python3.12/site-packages/datascience/tables.py:2583\u001b[0m, in \u001b[0;36mTable.with_columns\u001b[0;34m(self, *labels_and_values, **formatter)\u001b[0m\n\u001b[1;32m   2581\u001b[0m \u001b[38;5;28;01mfor\u001b[39;00m i \u001b[38;5;129;01min\u001b[39;00m \u001b[38;5;28mrange\u001b[39m(\u001b[38;5;241m0\u001b[39m, \u001b[38;5;28mlen\u001b[39m(labels_and_values), \u001b[38;5;241m2\u001b[39m):\n\u001b[1;32m   2582\u001b[0m     label, values \u001b[38;5;241m=\u001b[39m labels_and_values[i], labels_and_values[i\u001b[38;5;241m+\u001b[39m\u001b[38;5;241m1\u001b[39m]\n\u001b[0;32m-> 2583\u001b[0m     \u001b[38;5;28mself\u001b[39m \u001b[38;5;241m=\u001b[39m \u001b[38;5;28;43mself\u001b[39;49m\u001b[38;5;241;43m.\u001b[39;49m\u001b[43mwith_column\u001b[49m\u001b[43m(\u001b[49m\u001b[43mlabel\u001b[49m\u001b[43m,\u001b[49m\u001b[43m \u001b[49m\u001b[43mvalues\u001b[49m\u001b[43m,\u001b[49m\u001b[43m \u001b[49m\u001b[43mformatter\u001b[49m\u001b[43m)\u001b[49m\n\u001b[1;32m   2584\u001b[0m \u001b[38;5;28;01mreturn\u001b[39;00m \u001b[38;5;28mself\u001b[39m\n",
      "File \u001b[0;32m/opt/tljh/user/lib/python3.12/site-packages/datascience/tables.py:2500\u001b[0m, in \u001b[0;36mTable.with_column\u001b[0;34m(self, label, values, formatter)\u001b[0m\n\u001b[1;32m   2498\u001b[0m \u001b[38;5;28;01melif\u001b[39;00m \u001b[38;5;28misinstance\u001b[39m(formatter, \u001b[38;5;28mdict\u001b[39m):\n\u001b[1;32m   2499\u001b[0m     formatter \u001b[38;5;241m=\u001b[39m formatter[\u001b[38;5;124m\"\u001b[39m\u001b[38;5;124mformatter\u001b[39m\u001b[38;5;124m\"\u001b[39m]\n\u001b[0;32m-> 2500\u001b[0m \u001b[43mnew_table\u001b[49m\u001b[38;5;241;43m.\u001b[39;49m\u001b[43mappend_column\u001b[49m\u001b[43m(\u001b[49m\u001b[43mlabel\u001b[49m\u001b[43m,\u001b[49m\u001b[43m \u001b[49m\u001b[43mvalues\u001b[49m\u001b[43m,\u001b[49m\u001b[43m \u001b[49m\u001b[43mformatter\u001b[49m\u001b[43m)\u001b[49m\n\u001b[1;32m   2501\u001b[0m \u001b[38;5;28;01mreturn\u001b[39;00m new_table\n",
      "File \u001b[0;32m/opt/tljh/user/lib/python3.12/site-packages/datascience/tables.py:991\u001b[0m, in \u001b[0;36mTable.append_column\u001b[0;34m(self, label, values, formatter)\u001b[0m\n\u001b[1;32m    988\u001b[0m         values \u001b[38;5;241m=\u001b[39m np\u001b[38;5;241m.\u001b[39marray(\u001b[38;5;28mtuple\u001b[39m(values))\n\u001b[1;32m    990\u001b[0m \u001b[38;5;28;01mif\u001b[39;00m \u001b[38;5;28mself\u001b[39m\u001b[38;5;241m.\u001b[39mnum_rows \u001b[38;5;241m!=\u001b[39m \u001b[38;5;241m0\u001b[39m \u001b[38;5;129;01mand\u001b[39;00m \u001b[38;5;28mlen\u001b[39m(values) \u001b[38;5;241m!=\u001b[39m \u001b[38;5;28mself\u001b[39m\u001b[38;5;241m.\u001b[39mnum_rows:\n\u001b[0;32m--> 991\u001b[0m     \u001b[38;5;28;01mraise\u001b[39;00m \u001b[38;5;167;01mValueError\u001b[39;00m(\u001b[38;5;124m'\u001b[39m\u001b[38;5;124mColumn length mismatch. New column does not have \u001b[39m\u001b[38;5;124m'\u001b[39m\n\u001b[1;32m    992\u001b[0m                      \u001b[38;5;124m'\u001b[39m\u001b[38;5;124mthe same number of rows as table.\u001b[39m\u001b[38;5;124m'\u001b[39m)\n\u001b[1;32m    993\u001b[0m \u001b[38;5;28;01melse\u001b[39;00m:\n\u001b[1;32m    994\u001b[0m     \u001b[38;5;28mself\u001b[39m\u001b[38;5;241m.\u001b[39m_num_rows \u001b[38;5;241m=\u001b[39m \u001b[38;5;28mlen\u001b[39m(values)\n",
      "\u001b[0;31mValueError\u001b[0m: Column length mismatch. New column does not have the same number of rows as table."
     ]
    }
   ],
   "source": [
    "sky.with_columns('avg age', avg_age_array)"
   ]
  },
  {
   "cell_type": "code",
   "execution_count": 45,
   "metadata": {},
   "outputs": [
    {
     "data": {
      "text/html": [
       "<table border=\"1\" class=\"dataframe\">\n",
       "    <thead>\n",
       "        <tr>\n",
       "            <th>city</th> <th>name sum</th> <th>material sum</th> <th>height sum</th> <th>age sum</th>\n",
       "        </tr>\n",
       "    </thead>\n",
       "    <tbody>\n",
       "        <tr>\n",
       "            <td>Atlanta   </td> <td>        </td> <td>            </td> <td>5720.79   </td> <td>1205   </td>\n",
       "        </tr>\n",
       "        <tr>\n",
       "            <td>Austin    </td> <td>        </td> <td>            </td> <td>2137.03   </td> <td>384    </td>\n",
       "        </tr>\n",
       "        <tr>\n",
       "            <td>Baltimore </td> <td>        </td> <td>            </td> <td>1567.78   </td> <td>666    </td>\n",
       "        </tr>\n",
       "        <tr>\n",
       "            <td>Boston    </td> <td>        </td> <td>            </td> <td>4394.79   </td> <td>1442   </td>\n",
       "        </tr>\n",
       "        <tr>\n",
       "            <td>Charlotte </td> <td>        </td> <td>            </td> <td>1902.82   </td> <td>363    </td>\n",
       "        </tr>\n",
       "        <tr>\n",
       "            <td>Chicago   </td> <td>        </td> <td>            </td> <td>47257     </td> <td>16290  </td>\n",
       "        </tr>\n",
       "        <tr>\n",
       "            <td>Cincinnati</td> <td>        </td> <td>            </td> <td>1563.67   </td> <td>743    </td>\n",
       "        </tr>\n",
       "        <tr>\n",
       "            <td>Cleveland </td> <td>        </td> <td>            </td> <td>2238.02   </td> <td>877    </td>\n",
       "        </tr>\n",
       "        <tr>\n",
       "            <td>Columbus  </td> <td>        </td> <td>            </td> <td>1399.42   </td> <td>613    </td>\n",
       "        </tr>\n",
       "        <tr>\n",
       "            <td>Dallas    </td> <td>        </td> <td>            </td> <td>3363.54   </td> <td>891    </td>\n",
       "        </tr>\n",
       "    </tbody>\n",
       "</table>\n",
       "<p>... (25 rows omitted)</p>"
      ],
      "text/plain": [
       "city       | name sum | material sum | height sum | age sum\n",
       "Atlanta    |          |              | 5720.79    | 1205\n",
       "Austin     |          |              | 2137.03    | 384\n",
       "Baltimore  |          |              | 1567.78    | 666\n",
       "Boston     |          |              | 4394.79    | 1442\n",
       "Charlotte  |          |              | 1902.82    | 363\n",
       "Chicago    |          |              | 47257      | 16290\n",
       "Cincinnati |          |              | 1563.67    | 743\n",
       "Cleveland  |          |              | 2238.02    | 877\n",
       "Columbus   |          |              | 1399.42    | 613\n",
       "Dallas     |          |              | 3363.54    | 891\n",
       "... (25 rows omitted)"
      ]
     },
     "execution_count": 45,
     "metadata": {},
     "output_type": "execute_result"
    }
   ],
   "source": [
    "sky.group('city', sum)"
   ]
  },
  {
   "cell_type": "code",
   "execution_count": 46,
   "metadata": {},
   "outputs": [
    {
     "data": {
      "text/html": [
       "<table border=\"1\" class=\"dataframe\">\n",
       "    <thead>\n",
       "        <tr>\n",
       "            <th>city</th> <th>name mean</th> <th>material mean</th> <th>height mean</th> <th>age mean</th>\n",
       "        </tr>\n",
       "    </thead>\n",
       "    <tbody>\n",
       "        <tr>\n",
       "            <td>Atlanta   </td> <td>         </td> <td>             </td> <td>150.547    </td> <td>31.7105 </td>\n",
       "        </tr>\n",
       "        <tr>\n",
       "            <td>Austin    </td> <td>         </td> <td>             </td> <td>125.708    </td> <td>22.5882 </td>\n",
       "        </tr>\n",
       "        <tr>\n",
       "            <td>Baltimore </td> <td>         </td> <td>             </td> <td>111.984    </td> <td>47.5714 </td>\n",
       "        </tr>\n",
       "        <tr>\n",
       "            <td>Boston    </td> <td>         </td> <td>             </td> <td>137.337    </td> <td>45.0625 </td>\n",
       "        </tr>\n",
       "        <tr>\n",
       "            <td>Charlotte </td> <td>         </td> <td>             </td> <td>158.568    </td> <td>30.25   </td>\n",
       "        </tr>\n",
       "        <tr>\n",
       "            <td>Chicago   </td> <td>         </td> <td>             </td> <td>132.003    </td> <td>45.5028 </td>\n",
       "        </tr>\n",
       "        <tr>\n",
       "            <td>Cincinnati</td> <td>         </td> <td>             </td> <td>120.282    </td> <td>57.1538 </td>\n",
       "        </tr>\n",
       "        <tr>\n",
       "            <td>Cleveland </td> <td>         </td> <td>             </td> <td>139.876    </td> <td>54.8125 </td>\n",
       "        </tr>\n",
       "        <tr>\n",
       "            <td>Columbus  </td> <td>         </td> <td>             </td> <td>107.648    </td> <td>47.1538 </td>\n",
       "        </tr>\n",
       "        <tr>\n",
       "            <td>Dallas    </td> <td>         </td> <td>             </td> <td>168.177    </td> <td>44.55   </td>\n",
       "        </tr>\n",
       "    </tbody>\n",
       "</table>\n",
       "<p>... (25 rows omitted)</p>"
      ],
      "text/plain": [
       "city       | name mean | material mean | height mean | age mean\n",
       "Atlanta    |           |               | 150.547     | 31.7105\n",
       "Austin     |           |               | 125.708     | 22.5882\n",
       "Baltimore  |           |               | 111.984     | 47.5714\n",
       "Boston     |           |               | 137.337     | 45.0625\n",
       "Charlotte  |           |               | 158.568     | 30.25\n",
       "Chicago    |           |               | 132.003     | 45.5028\n",
       "Cincinnati |           |               | 120.282     | 57.1538\n",
       "Cleveland  |           |               | 139.876     | 54.8125\n",
       "Columbus   |           |               | 107.648     | 47.1538\n",
       "Dallas     |           |               | 168.177     | 44.55\n",
       "... (25 rows omitted)"
      ]
     },
     "execution_count": 46,
     "metadata": {},
     "output_type": "execute_result"
    }
   ],
   "source": [
    "sky.group('city', np.mean)"
   ]
  },
  {
   "cell_type": "markdown",
   "metadata": {},
   "source": [
    "#### 5. For each city, how many buidlings are there for the different materials?"
   ]
  },
  {
   "cell_type": "code",
   "execution_count": 47,
   "metadata": {},
   "outputs": [
    {
     "data": {
      "text/html": [
       "<table border=\"1\" class=\"dataframe\">\n",
       "    <thead>\n",
       "        <tr>\n",
       "            <th>city</th> <th>count</th>\n",
       "        </tr>\n",
       "    </thead>\n",
       "    <tbody>\n",
       "        <tr>\n",
       "            <td>Atlanta   </td> <td>38   </td>\n",
       "        </tr>\n",
       "        <tr>\n",
       "            <td>Austin    </td> <td>17   </td>\n",
       "        </tr>\n",
       "        <tr>\n",
       "            <td>Baltimore </td> <td>14   </td>\n",
       "        </tr>\n",
       "        <tr>\n",
       "            <td>Boston    </td> <td>32   </td>\n",
       "        </tr>\n",
       "        <tr>\n",
       "            <td>Charlotte </td> <td>12   </td>\n",
       "        </tr>\n",
       "        <tr>\n",
       "            <td>Chicago   </td> <td>358  </td>\n",
       "        </tr>\n",
       "        <tr>\n",
       "            <td>Cincinnati</td> <td>13   </td>\n",
       "        </tr>\n",
       "        <tr>\n",
       "            <td>Cleveland </td> <td>16   </td>\n",
       "        </tr>\n",
       "        <tr>\n",
       "            <td>Columbus  </td> <td>13   </td>\n",
       "        </tr>\n",
       "        <tr>\n",
       "            <td>Dallas    </td> <td>20   </td>\n",
       "        </tr>\n",
       "    </tbody>\n",
       "</table>\n",
       "<p>... (25 rows omitted)</p>"
      ],
      "text/plain": [
       "city       | count\n",
       "Atlanta    | 38\n",
       "Austin     | 17\n",
       "Baltimore  | 14\n",
       "Boston     | 32\n",
       "Charlotte  | 12\n",
       "Chicago    | 358\n",
       "Cincinnati | 13\n",
       "Cleveland  | 16\n",
       "Columbus   | 13\n",
       "Dallas     | 20\n",
       "... (25 rows omitted)"
      ]
     },
     "execution_count": 47,
     "metadata": {},
     "output_type": "execute_result"
    }
   ],
   "source": [
    "sky.group('city')"
   ]
  },
  {
   "cell_type": "code",
   "execution_count": 48,
   "metadata": {},
   "outputs": [
    {
     "data": {
      "text/html": [
       "<table border=\"1\" class=\"dataframe\">\n",
       "    <thead>\n",
       "        <tr>\n",
       "            <th>city</th> <th>material</th> <th>count</th>\n",
       "        </tr>\n",
       "    </thead>\n",
       "    <tbody>\n",
       "        <tr>\n",
       "            <td>Atlanta  </td> <td>concrete       </td> <td>27   </td>\n",
       "        </tr>\n",
       "        <tr>\n",
       "            <td>Atlanta  </td> <td>mixed/composite</td> <td>4    </td>\n",
       "        </tr>\n",
       "        <tr>\n",
       "            <td>Atlanta  </td> <td>steel          </td> <td>7    </td>\n",
       "        </tr>\n",
       "        <tr>\n",
       "            <td>Austin   </td> <td>concrete       </td> <td>16   </td>\n",
       "        </tr>\n",
       "        <tr>\n",
       "            <td>Austin   </td> <td>steel          </td> <td>1    </td>\n",
       "        </tr>\n",
       "        <tr>\n",
       "            <td>Baltimore</td> <td>concrete       </td> <td>8    </td>\n",
       "        </tr>\n",
       "        <tr>\n",
       "            <td>Baltimore</td> <td>steel          </td> <td>6    </td>\n",
       "        </tr>\n",
       "        <tr>\n",
       "            <td>Boston   </td> <td>concrete       </td> <td>4    </td>\n",
       "        </tr>\n",
       "        <tr>\n",
       "            <td>Boston   </td> <td>mixed/composite</td> <td>2    </td>\n",
       "        </tr>\n",
       "        <tr>\n",
       "            <td>Boston   </td> <td>steel          </td> <td>26   </td>\n",
       "        </tr>\n",
       "    </tbody>\n",
       "</table>\n",
       "<p>... (81 rows omitted)</p>"
      ],
      "text/plain": [
       "city      | material        | count\n",
       "Atlanta   | concrete        | 27\n",
       "Atlanta   | mixed/composite | 4\n",
       "Atlanta   | steel           | 7\n",
       "Austin    | concrete        | 16\n",
       "Austin    | steel           | 1\n",
       "Baltimore | concrete        | 8\n",
       "Baltimore | steel           | 6\n",
       "Boston    | concrete        | 4\n",
       "Boston    | mixed/composite | 2\n",
       "Boston    | steel           | 26\n",
       "... (81 rows omitted)"
      ]
     },
     "execution_count": 48,
     "metadata": {},
     "output_type": "execute_result"
    }
   ],
   "source": [
    "sky.group(['city', 'material'])"
   ]
  },
  {
   "cell_type": "markdown",
   "metadata": {},
   "source": [
    "#### 6. For each city, whats the combined hiehgt of all the buildings for the different materials?\n"
   ]
  },
  {
   "cell_type": "code",
   "execution_count": 49,
   "metadata": {},
   "outputs": [
    {
     "data": {
      "text/html": [
       "<table border=\"1\" class=\"dataframe\">\n",
       "    <thead>\n",
       "        <tr>\n",
       "            <th>city</th> <th>material</th> <th>name sum</th> <th>height sum</th> <th>age sum</th>\n",
       "        </tr>\n",
       "    </thead>\n",
       "    <tbody>\n",
       "        <tr>\n",
       "            <td>Atlanta  </td> <td>concrete       </td> <td>        </td> <td>4016.93   </td> <td>620    </td>\n",
       "        </tr>\n",
       "        <tr>\n",
       "            <td>Atlanta  </td> <td>mixed/composite</td> <td>        </td> <td>916.96    </td> <td>120    </td>\n",
       "        </tr>\n",
       "        <tr>\n",
       "            <td>Atlanta  </td> <td>steel          </td> <td>        </td> <td>786.9     </td> <td>465    </td>\n",
       "        </tr>\n",
       "        <tr>\n",
       "            <td>Austin   </td> <td>concrete       </td> <td>        </td> <td>2043.43   </td> <td>296    </td>\n",
       "        </tr>\n",
       "        <tr>\n",
       "            <td>Austin   </td> <td>steel          </td> <td>        </td> <td>93.6      </td> <td>88     </td>\n",
       "        </tr>\n",
       "        <tr>\n",
       "            <td>Baltimore</td> <td>concrete       </td> <td>        </td> <td>902.66    </td> <td>267    </td>\n",
       "        </tr>\n",
       "        <tr>\n",
       "            <td>Baltimore</td> <td>steel          </td> <td>        </td> <td>665.12    </td> <td>399    </td>\n",
       "        </tr>\n",
       "        <tr>\n",
       "            <td>Boston   </td> <td>concrete       </td> <td>        </td> <td>423.06    </td> <td>171    </td>\n",
       "        </tr>\n",
       "        <tr>\n",
       "            <td>Boston   </td> <td>mixed/composite</td> <td>        </td> <td>243.2     </td> <td>47     </td>\n",
       "        </tr>\n",
       "        <tr>\n",
       "            <td>Boston   </td> <td>steel          </td> <td>        </td> <td>3728.53   </td> <td>1224   </td>\n",
       "        </tr>\n",
       "    </tbody>\n",
       "</table>\n",
       "<p>... (81 rows omitted)</p>"
      ],
      "text/plain": [
       "city      | material        | name sum | height sum | age sum\n",
       "Atlanta   | concrete        |          | 4016.93    | 620\n",
       "Atlanta   | mixed/composite |          | 916.96     | 120\n",
       "Atlanta   | steel           |          | 786.9      | 465\n",
       "Austin    | concrete        |          | 2043.43    | 296\n",
       "Austin    | steel           |          | 93.6       | 88\n",
       "Baltimore | concrete        |          | 902.66     | 267\n",
       "Baltimore | steel           |          | 665.12     | 399\n",
       "Boston    | concrete        |          | 423.06     | 171\n",
       "Boston    | mixed/composite |          | 243.2      | 47\n",
       "Boston    | steel           |          | 3728.53    | 1224\n",
       "... (81 rows omitted)"
      ]
     },
     "execution_count": 49,
     "metadata": {},
     "output_type": "execute_result"
    }
   ],
   "source": [
    "sky.group(['city', 'material'], sum)"
   ]
  },
  {
   "cell_type": "code",
   "execution_count": null,
   "metadata": {},
   "outputs": [],
   "source": [
    "# skip answer below"
   ]
  },
  {
   "cell_type": "code",
   "execution_count": 50,
   "metadata": {},
   "outputs": [
    {
     "data": {
      "text/html": [
       "<table border=\"1\" class=\"dataframe\">\n",
       "    <thead>\n",
       "        <tr>\n",
       "            <th>city</th> <th>material</th> <th>name mean</th> <th>height mean</th> <th>age mean</th>\n",
       "        </tr>\n",
       "    </thead>\n",
       "    <tbody>\n",
       "        <tr>\n",
       "            <td>Atlanta  </td> <td>concrete       </td> <td>         </td> <td>148.775    </td> <td>22.963  </td>\n",
       "        </tr>\n",
       "        <tr>\n",
       "            <td>Atlanta  </td> <td>mixed/composite</td> <td>         </td> <td>229.24     </td> <td>30      </td>\n",
       "        </tr>\n",
       "        <tr>\n",
       "            <td>Atlanta  </td> <td>steel          </td> <td>         </td> <td>112.414    </td> <td>66.4286 </td>\n",
       "        </tr>\n",
       "        <tr>\n",
       "            <td>Austin   </td> <td>concrete       </td> <td>         </td> <td>127.714    </td> <td>18.5    </td>\n",
       "        </tr>\n",
       "        <tr>\n",
       "            <td>Austin   </td> <td>steel          </td> <td>         </td> <td>93.6       </td> <td>88      </td>\n",
       "        </tr>\n",
       "        <tr>\n",
       "            <td>Baltimore</td> <td>concrete       </td> <td>         </td> <td>112.833    </td> <td>33.375  </td>\n",
       "        </tr>\n",
       "        <tr>\n",
       "            <td>Baltimore</td> <td>steel          </td> <td>         </td> <td>110.853    </td> <td>66.5    </td>\n",
       "        </tr>\n",
       "        <tr>\n",
       "            <td>Boston   </td> <td>concrete       </td> <td>         </td> <td>105.765    </td> <td>42.75   </td>\n",
       "        </tr>\n",
       "        <tr>\n",
       "            <td>Boston   </td> <td>mixed/composite</td> <td>         </td> <td>121.6      </td> <td>23.5    </td>\n",
       "        </tr>\n",
       "        <tr>\n",
       "            <td>Boston   </td> <td>steel          </td> <td>         </td> <td>143.405    </td> <td>47.0769 </td>\n",
       "        </tr>\n",
       "    </tbody>\n",
       "</table>\n",
       "<p>... (81 rows omitted)</p>"
      ],
      "text/plain": [
       "city      | material        | name mean | height mean | age mean\n",
       "Atlanta   | concrete        |           | 148.775     | 22.963\n",
       "Atlanta   | mixed/composite |           | 229.24      | 30\n",
       "Atlanta   | steel           |           | 112.414     | 66.4286\n",
       "Austin    | concrete        |           | 127.714     | 18.5\n",
       "Austin    | steel           |           | 93.6        | 88\n",
       "Baltimore | concrete        |           | 112.833     | 33.375\n",
       "Baltimore | steel           |           | 110.853     | 66.5\n",
       "Boston    | concrete        |           | 105.765     | 42.75\n",
       "Boston    | mixed/composite |           | 121.6       | 23.5\n",
       "Boston    | steel           |           | 143.405     | 47.0769\n",
       "... (81 rows omitted)"
      ]
     },
     "execution_count": 50,
     "metadata": {},
     "output_type": "execute_result"
    }
   ],
   "source": [
    "sky.group(['city', 'material'], np.mean)"
   ]
  },
  {
   "cell_type": "code",
   "execution_count": 51,
   "metadata": {},
   "outputs": [
    {
     "data": {
      "text/html": [
       "<table border=\"1\" class=\"dataframe\">\n",
       "    <thead>\n",
       "        <tr>\n",
       "            <th>city</th> <th>material</th> <th>name max</th> <th>height max</th>\n",
       "        </tr>\n",
       "    </thead>\n",
       "    <tbody>\n",
       "        <tr>\n",
       "            <td>Atlanta  </td> <td>concrete       </td> <td>Westin Peachtree Plaza                 </td> <td>264.25    </td>\n",
       "        </tr>\n",
       "        <tr>\n",
       "            <td>Atlanta  </td> <td>mixed/composite</td> <td>Two Alliance Center                    </td> <td>311.8     </td>\n",
       "        </tr>\n",
       "        <tr>\n",
       "            <td>Atlanta  </td> <td>steel          </td> <td>State of Georgia Building              </td> <td>169.47    </td>\n",
       "        </tr>\n",
       "        <tr>\n",
       "            <td>Austin   </td> <td>concrete       </td> <td>Windsor on the Lake                    </td> <td>208.15    </td>\n",
       "        </tr>\n",
       "        <tr>\n",
       "            <td>Austin   </td> <td>steel          </td> <td>University of Texas Tower              </td> <td>93.6      </td>\n",
       "        </tr>\n",
       "        <tr>\n",
       "            <td>Baltimore</td> <td>concrete       </td> <td>The John and Frances Angelos Law Center</td> <td>161.24    </td>\n",
       "        </tr>\n",
       "        <tr>\n",
       "            <td>Baltimore</td> <td>steel          </td> <td>Mercy Medical Center Inpatient Tower   </td> <td>155.15    </td>\n",
       "        </tr>\n",
       "        <tr>\n",
       "            <td>Boston   </td> <td>concrete       </td> <td>Harbor Towers II                       </td> <td>121.92    </td>\n",
       "        </tr>\n",
       "        <tr>\n",
       "            <td>Boston   </td> <td>mixed/composite</td> <td>Ellison Building                       </td> <td>139       </td>\n",
       "        </tr>\n",
       "        <tr>\n",
       "            <td>Boston   </td> <td>steel          </td> <td>Two International Place                </td> <td>240.79    </td>\n",
       "        </tr>\n",
       "    </tbody>\n",
       "</table>\n",
       "<p>... (81 rows omitted)</p>"
      ],
      "text/plain": [
       "city      | material        | name max                                | height max\n",
       "Atlanta   | concrete        | Westin Peachtree Plaza                  | 264.25\n",
       "Atlanta   | mixed/composite | Two Alliance Center                     | 311.8\n",
       "Atlanta   | steel           | State of Georgia Building               | 169.47\n",
       "Austin    | concrete        | Windsor on the Lake                     | 208.15\n",
       "Austin    | steel           | University of Texas Tower               | 93.6\n",
       "Baltimore | concrete        | The John and Frances Angelos Law Center | 161.24\n",
       "Baltimore | steel           | Mercy Medical Center Inpatient Tower    | 155.15\n",
       "Boston    | concrete        | Harbor Towers II                        | 121.92\n",
       "Boston    | mixed/composite | Ellison Building                        | 139\n",
       "Boston    | steel           | Two International Place                 | 240.79\n",
       "... (81 rows omitted)"
      ]
     },
     "execution_count": 51,
     "metadata": {},
     "output_type": "execute_result"
    }
   ],
   "source": [
    "sky.drop('age').group(['city', 'material'], max)"
   ]
  },
  {
   "cell_type": "code",
   "execution_count": 52,
   "metadata": {},
   "outputs": [
    {
     "data": {
      "text/html": [
       "<table border=\"1\" class=\"dataframe\">\n",
       "    <thead>\n",
       "        <tr>\n",
       "            <th>city</th> <th>material</th> <th>name sum</th> <th>height sum</th>\n",
       "        </tr>\n",
       "    </thead>\n",
       "    <tbody>\n",
       "        <tr>\n",
       "            <td>Atlanta  </td> <td>concrete       </td> <td>        </td> <td>4016.93   </td>\n",
       "        </tr>\n",
       "        <tr>\n",
       "            <td>Atlanta  </td> <td>mixed/composite</td> <td>        </td> <td>916.96    </td>\n",
       "        </tr>\n",
       "        <tr>\n",
       "            <td>Atlanta  </td> <td>steel          </td> <td>        </td> <td>786.9     </td>\n",
       "        </tr>\n",
       "        <tr>\n",
       "            <td>Austin   </td> <td>concrete       </td> <td>        </td> <td>2043.43   </td>\n",
       "        </tr>\n",
       "        <tr>\n",
       "            <td>Austin   </td> <td>steel          </td> <td>        </td> <td>93.6      </td>\n",
       "        </tr>\n",
       "        <tr>\n",
       "            <td>Baltimore</td> <td>concrete       </td> <td>        </td> <td>902.66    </td>\n",
       "        </tr>\n",
       "        <tr>\n",
       "            <td>Baltimore</td> <td>steel          </td> <td>        </td> <td>665.12    </td>\n",
       "        </tr>\n",
       "        <tr>\n",
       "            <td>Boston   </td> <td>concrete       </td> <td>        </td> <td>423.06    </td>\n",
       "        </tr>\n",
       "        <tr>\n",
       "            <td>Boston   </td> <td>mixed/composite</td> <td>        </td> <td>243.2     </td>\n",
       "        </tr>\n",
       "        <tr>\n",
       "            <td>Boston   </td> <td>steel          </td> <td>        </td> <td>3728.53   </td>\n",
       "        </tr>\n",
       "    </tbody>\n",
       "</table>\n",
       "<p>... (81 rows omitted)</p>"
      ],
      "text/plain": [
       "city      | material        | name sum | height sum\n",
       "Atlanta   | concrete        |          | 4016.93\n",
       "Atlanta   | mixed/composite |          | 916.96\n",
       "Atlanta   | steel           |          | 786.9\n",
       "Austin    | concrete        |          | 2043.43\n",
       "Austin    | steel           |          | 93.6\n",
       "Baltimore | concrete        |          | 902.66\n",
       "Baltimore | steel           |          | 665.12\n",
       "Boston    | concrete        |          | 423.06\n",
       "Boston    | mixed/composite |          | 243.2\n",
       "Boston    | steel           |          | 3728.53\n",
       "... (81 rows omitted)"
      ]
     },
     "execution_count": 52,
     "metadata": {},
     "output_type": "execute_result"
    }
   ],
   "source": [
    "sky.drop('age').group(['city', 'material'], sum)"
   ]
  },
  {
   "cell_type": "markdown",
   "metadata": {},
   "source": [
    "(back to slides)\n",
    "# Pivot"
   ]
  },
  {
   "cell_type": "code",
   "execution_count": 53,
   "metadata": {},
   "outputs": [
    {
     "data": {
      "text/html": [
       "<table border=\"1\" class=\"dataframe\">\n",
       "    <thead>\n",
       "        <tr>\n",
       "            <th>name</th> <th>material</th> <th>city</th>\n",
       "        </tr>\n",
       "    </thead>\n",
       "    <tbody>\n",
       "        <tr>\n",
       "            <td>Willis Tower                     </td> <td>steel          </td> <td>Chicago    </td>\n",
       "        </tr>\n",
       "        <tr>\n",
       "            <td>Trump International Hotel & Tower</td> <td>concrete       </td> <td>Chicago    </td>\n",
       "        </tr>\n",
       "        <tr>\n",
       "            <td>Aon Center                       </td> <td>steel          </td> <td>Chicago    </td>\n",
       "        </tr>\n",
       "        <tr>\n",
       "            <td>John Hancock Center              </td> <td>steel          </td> <td>Chicago    </td>\n",
       "        </tr>\n",
       "        <tr>\n",
       "            <td>Bank of America Plaza            </td> <td>mixed/composite</td> <td>Atlanta    </td>\n",
       "        </tr>\n",
       "        <tr>\n",
       "            <td>U.S. Bank Tower                  </td> <td>steel          </td> <td>Los Angeles</td>\n",
       "        </tr>\n",
       "        <tr>\n",
       "            <td>The Franklin - North Tower       </td> <td>mixed/composite</td> <td>Chicago    </td>\n",
       "        </tr>\n",
       "        <tr>\n",
       "            <td>JPMorgan Chase Tower             </td> <td>mixed/composite</td> <td>Houston    </td>\n",
       "        </tr>\n",
       "        <tr>\n",
       "            <td>Two Prudential Plaza             </td> <td>concrete       </td> <td>Chicago    </td>\n",
       "        </tr>\n",
       "        <tr>\n",
       "            <td>Wells Fargo Plaza                </td> <td>steel          </td> <td>Houston    </td>\n",
       "        </tr>\n",
       "    </tbody>\n",
       "</table>\n",
       "<p>... (1196 rows omitted)</p>"
      ],
      "text/plain": [
       "<IPython.core.display.HTML object>"
      ]
     },
     "metadata": {},
     "output_type": "display_data"
    }
   ],
   "source": [
    "sky = Table.read_table('skyscrapers_v2.csv')\n",
    "sky = (sky.with_column('age', 2020 - sky.column('completed'))\n",
    "          .drop('completed'))\n",
    "sky.drop('height', 'age').where('city', are.not_equal_to('New York City')).where('city', are.not_equal_to('Las Vegas')).show(10)"
   ]
  },
  {
   "cell_type": "markdown",
   "metadata": {},
   "source": [
    "#### 1. In every city, how many towers are there of each material?"
   ]
  },
  {
   "cell_type": "code",
   "execution_count": null,
   "metadata": {},
   "outputs": [],
   "source": [
    "# skip"
   ]
  },
  {
   "cell_type": "code",
   "execution_count": null,
   "metadata": {},
   "outputs": [],
   "source": [
    "# skip"
   ]
  },
  {
   "cell_type": "code",
   "execution_count": null,
   "metadata": {},
   "outputs": [],
   "source": [
    "# skip"
   ]
  },
  {
   "cell_type": "code",
   "execution_count": 57,
   "metadata": {},
   "outputs": [
    {
     "data": {
      "text/html": [
       "<table border=\"1\" class=\"dataframe\">\n",
       "    <thead>\n",
       "        <tr>\n",
       "            <th>city</th> <th>material</th> <th>count</th>\n",
       "        </tr>\n",
       "    </thead>\n",
       "    <tbody>\n",
       "        <tr>\n",
       "            <td>Atlanta  </td> <td>concrete       </td> <td>27   </td>\n",
       "        </tr>\n",
       "        <tr>\n",
       "            <td>Atlanta  </td> <td>mixed/composite</td> <td>4    </td>\n",
       "        </tr>\n",
       "        <tr>\n",
       "            <td>Atlanta  </td> <td>steel          </td> <td>7    </td>\n",
       "        </tr>\n",
       "        <tr>\n",
       "            <td>Austin   </td> <td>concrete       </td> <td>16   </td>\n",
       "        </tr>\n",
       "        <tr>\n",
       "            <td>Austin   </td> <td>steel          </td> <td>1    </td>\n",
       "        </tr>\n",
       "        <tr>\n",
       "            <td>Baltimore</td> <td>concrete       </td> <td>8    </td>\n",
       "        </tr>\n",
       "        <tr>\n",
       "            <td>Baltimore</td> <td>steel          </td> <td>6    </td>\n",
       "        </tr>\n",
       "        <tr>\n",
       "            <td>Boston   </td> <td>concrete       </td> <td>4    </td>\n",
       "        </tr>\n",
       "        <tr>\n",
       "            <td>Boston   </td> <td>mixed/composite</td> <td>2    </td>\n",
       "        </tr>\n",
       "        <tr>\n",
       "            <td>Boston   </td> <td>steel          </td> <td>26   </td>\n",
       "        </tr>\n",
       "    </tbody>\n",
       "</table>\n",
       "<p>... (81 rows omitted)</p>"
      ],
      "text/plain": [
       "city      | material        | count\n",
       "Atlanta   | concrete        | 27\n",
       "Atlanta   | mixed/composite | 4\n",
       "Atlanta   | steel           | 7\n",
       "Austin    | concrete        | 16\n",
       "Austin    | steel           | 1\n",
       "Baltimore | concrete        | 8\n",
       "Baltimore | steel           | 6\n",
       "Boston    | concrete        | 4\n",
       "Boston    | mixed/composite | 2\n",
       "Boston    | steel           | 26\n",
       "... (81 rows omitted)"
      ]
     },
     "execution_count": 57,
     "metadata": {},
     "output_type": "execute_result"
    }
   ],
   "source": [
    "sky.group(['city', 'material'])"
   ]
  },
  {
   "cell_type": "code",
   "execution_count": 54,
   "metadata": {},
   "outputs": [
    {
     "data": {
      "text/html": [
       "<table border=\"1\" class=\"dataframe\">\n",
       "    <thead>\n",
       "        <tr>\n",
       "            <th>city</th> <th>concrete</th> <th>mixed/composite</th> <th>steel</th>\n",
       "        </tr>\n",
       "    </thead>\n",
       "    <tbody>\n",
       "        <tr>\n",
       "            <td>Atlanta   </td> <td>27      </td> <td>4              </td> <td>7    </td>\n",
       "        </tr>\n",
       "        <tr>\n",
       "            <td>Austin    </td> <td>16      </td> <td>0              </td> <td>1    </td>\n",
       "        </tr>\n",
       "        <tr>\n",
       "            <td>Baltimore </td> <td>8       </td> <td>0              </td> <td>6    </td>\n",
       "        </tr>\n",
       "        <tr>\n",
       "            <td>Boston    </td> <td>4       </td> <td>2              </td> <td>26   </td>\n",
       "        </tr>\n",
       "        <tr>\n",
       "            <td>Charlotte </td> <td>5       </td> <td>3              </td> <td>4    </td>\n",
       "        </tr>\n",
       "        <tr>\n",
       "            <td>Chicago   </td> <td>244     </td> <td>35             </td> <td>79   </td>\n",
       "        </tr>\n",
       "        <tr>\n",
       "            <td>Cincinnati</td> <td>5       </td> <td>1              </td> <td>7    </td>\n",
       "        </tr>\n",
       "        <tr>\n",
       "            <td>Cleveland </td> <td>2       </td> <td>3              </td> <td>11   </td>\n",
       "        </tr>\n",
       "        <tr>\n",
       "            <td>Columbus  </td> <td>4       </td> <td>0              </td> <td>9    </td>\n",
       "        </tr>\n",
       "        <tr>\n",
       "            <td>Dallas    </td> <td>7       </td> <td>2              </td> <td>11   </td>\n",
       "        </tr>\n",
       "    </tbody>\n",
       "</table>\n",
       "<p>... (25 rows omitted)</p>"
      ],
      "text/plain": [
       "city       | concrete | mixed/composite | steel\n",
       "Atlanta    | 27       | 4               | 7\n",
       "Austin     | 16       | 0               | 1\n",
       "Baltimore  | 8        | 0               | 6\n",
       "Boston     | 4        | 2               | 26\n",
       "Charlotte  | 5        | 3               | 4\n",
       "Chicago    | 244      | 35              | 79\n",
       "Cincinnati | 5        | 1               | 7\n",
       "Cleveland  | 2        | 3               | 11\n",
       "Columbus   | 4        | 0               | 9\n",
       "Dallas     | 7        | 2               | 11\n",
       "... (25 rows omitted)"
      ]
     },
     "execution_count": 54,
     "metadata": {},
     "output_type": "execute_result"
    }
   ],
   "source": [
    "sky.pivot('material', 'city')"
   ]
  },
  {
   "cell_type": "markdown",
   "metadata": {},
   "source": [
    "#### What just happened?\n",
    "(back to slides)"
   ]
  },
  {
   "cell_type": "code",
   "execution_count": 58,
   "metadata": {},
   "outputs": [
    {
     "data": {
      "text/html": [
       "<table border=\"1\" class=\"dataframe\">\n",
       "    <thead>\n",
       "        <tr>\n",
       "            <th>city</th> <th>concrete</th> <th>mixed/composite</th> <th>steel</th>\n",
       "        </tr>\n",
       "    </thead>\n",
       "    <tbody>\n",
       "        <tr>\n",
       "            <td>Atlanta  </td> <td>27      </td> <td>4              </td> <td>7    </td>\n",
       "        </tr>\n",
       "        <tr>\n",
       "            <td>Austin   </td> <td>16      </td> <td>0              </td> <td>1    </td>\n",
       "        </tr>\n",
       "        <tr>\n",
       "            <td>Baltimore</td> <td>8       </td> <td>0              </td> <td>6    </td>\n",
       "        </tr>\n",
       "        <tr>\n",
       "            <td>Boston   </td> <td>4       </td> <td>2              </td> <td>26   </td>\n",
       "        </tr>\n",
       "        <tr>\n",
       "            <td>Charlotte</td> <td>5       </td> <td>3              </td> <td>4    </td>\n",
       "        </tr>\n",
       "    </tbody>\n",
       "</table>\n",
       "<p>... (30 rows omitted)</p>"
      ],
      "text/plain": [
       "<IPython.core.display.HTML object>"
      ]
     },
     "metadata": {},
     "output_type": "display_data"
    }
   ],
   "source": [
    "sky.pivot('material', 'city').show(5)"
   ]
  },
  {
   "cell_type": "code",
   "execution_count": 59,
   "metadata": {},
   "outputs": [
    {
     "data": {
      "text/plain": [
       "35"
      ]
     },
     "execution_count": 59,
     "metadata": {},
     "output_type": "execute_result"
    }
   ],
   "source": [
    "sky.pivot('material', 'city').num_rows"
   ]
  },
  {
   "cell_type": "code",
   "execution_count": null,
   "metadata": {},
   "outputs": [],
   "source": [
    "#sky.pivot('city', 'material').show(5)"
   ]
  },
  {
   "cell_type": "markdown",
   "metadata": {},
   "source": [
    "What happens if you run `group()` with these two columns?\n",
    "\n",
    "*Remember when grouping on multiple columns, we need to pass in a list of column names*"
   ]
  },
  {
   "cell_type": "code",
   "execution_count": 61,
   "metadata": {},
   "outputs": [
    {
     "data": {
      "text/html": [
       "<table border=\"1\" class=\"dataframe\">\n",
       "    <thead>\n",
       "        <tr>\n",
       "            <th>material</th> <th>city</th> <th>count</th>\n",
       "        </tr>\n",
       "    </thead>\n",
       "    <tbody>\n",
       "        <tr>\n",
       "            <td>concrete</td> <td>Atlanta   </td> <td>27   </td>\n",
       "        </tr>\n",
       "        <tr>\n",
       "            <td>concrete</td> <td>Austin    </td> <td>16   </td>\n",
       "        </tr>\n",
       "        <tr>\n",
       "            <td>concrete</td> <td>Baltimore </td> <td>8    </td>\n",
       "        </tr>\n",
       "        <tr>\n",
       "            <td>concrete</td> <td>Boston    </td> <td>4    </td>\n",
       "        </tr>\n",
       "        <tr>\n",
       "            <td>concrete</td> <td>Charlotte </td> <td>5    </td>\n",
       "        </tr>\n",
       "        <tr>\n",
       "            <td>concrete</td> <td>Chicago   </td> <td>244  </td>\n",
       "        </tr>\n",
       "        <tr>\n",
       "            <td>concrete</td> <td>Cincinnati</td> <td>5    </td>\n",
       "        </tr>\n",
       "        <tr>\n",
       "            <td>concrete</td> <td>Cleveland </td> <td>2    </td>\n",
       "        </tr>\n",
       "        <tr>\n",
       "            <td>concrete</td> <td>Columbus  </td> <td>4    </td>\n",
       "        </tr>\n",
       "        <tr>\n",
       "            <td>concrete</td> <td>Dallas    </td> <td>7    </td>\n",
       "        </tr>\n",
       "    </tbody>\n",
       "</table>\n",
       "<p>... (81 rows omitted)</p>"
      ],
      "text/plain": [
       "material | city       | count\n",
       "concrete | Atlanta    | 27\n",
       "concrete | Austin     | 16\n",
       "concrete | Baltimore  | 8\n",
       "concrete | Boston     | 4\n",
       "concrete | Charlotte  | 5\n",
       "concrete | Chicago    | 244\n",
       "concrete | Cincinnati | 5\n",
       "concrete | Cleveland  | 2\n",
       "concrete | Columbus   | 4\n",
       "concrete | Dallas     | 7\n",
       "... (81 rows omitted)"
      ]
     },
     "execution_count": 61,
     "metadata": {},
     "output_type": "execute_result"
    }
   ],
   "source": [
    "sky.group(['material', 'city'])"
   ]
  },
  {
   "cell_type": "code",
   "execution_count": 62,
   "metadata": {},
   "outputs": [
    {
     "data": {
      "text/html": [
       "<table border=\"1\" class=\"dataframe\">\n",
       "    <thead>\n",
       "        <tr>\n",
       "            <th>city</th> <th>concrete</th> <th>mixed/composite</th> <th>steel</th>\n",
       "        </tr>\n",
       "    </thead>\n",
       "    <tbody>\n",
       "        <tr>\n",
       "            <td>Atlanta  </td> <td>27      </td> <td>4              </td> <td>7    </td>\n",
       "        </tr>\n",
       "        <tr>\n",
       "            <td>Austin   </td> <td>16      </td> <td>0              </td> <td>1    </td>\n",
       "        </tr>\n",
       "        <tr>\n",
       "            <td>Baltimore</td> <td>8       </td> <td>0              </td> <td>6    </td>\n",
       "        </tr>\n",
       "        <tr>\n",
       "            <td>Boston   </td> <td>4       </td> <td>2              </td> <td>26   </td>\n",
       "        </tr>\n",
       "        <tr>\n",
       "            <td>Charlotte</td> <td>5       </td> <td>3              </td> <td>4    </td>\n",
       "        </tr>\n",
       "    </tbody>\n",
       "</table>\n",
       "<p>... (30 rows omitted)</p>"
      ],
      "text/plain": [
       "<IPython.core.display.HTML object>"
      ]
     },
     "metadata": {},
     "output_type": "display_data"
    }
   ],
   "source": [
    "sky.pivot('material', 'city').show(5)"
   ]
  },
  {
   "cell_type": "code",
   "execution_count": null,
   "metadata": {},
   "outputs": [],
   "source": [
    "sky.group(['material', 'city']).show(5)"
   ]
  },
  {
   "cell_type": "code",
   "execution_count": null,
   "metadata": {},
   "outputs": [],
   "source": [
    "sky.group(['city', 'material']).show(5)"
   ]
  },
  {
   "cell_type": "markdown",
   "metadata": {},
   "source": [
    "Let's find the skyscrapers only with steel?"
   ]
  },
  {
   "cell_type": "code",
   "execution_count": null,
   "metadata": {},
   "outputs": [],
   "source": []
  },
  {
   "cell_type": "code",
   "execution_count": 63,
   "metadata": {},
   "outputs": [
    {
     "data": {
      "text/html": [
       "<table border=\"1\" class=\"dataframe\">\n",
       "    <thead>\n",
       "        <tr>\n",
       "            <th>city</th> <th>count</th>\n",
       "        </tr>\n",
       "    </thead>\n",
       "    <tbody>\n",
       "        <tr>\n",
       "            <td>Atlanta   </td> <td>7    </td>\n",
       "        </tr>\n",
       "        <tr>\n",
       "            <td>Austin    </td> <td>1    </td>\n",
       "        </tr>\n",
       "        <tr>\n",
       "            <td>Baltimore </td> <td>6    </td>\n",
       "        </tr>\n",
       "        <tr>\n",
       "            <td>Boston    </td> <td>26   </td>\n",
       "        </tr>\n",
       "        <tr>\n",
       "            <td>Charlotte </td> <td>4    </td>\n",
       "        </tr>\n",
       "        <tr>\n",
       "            <td>Chicago   </td> <td>79   </td>\n",
       "        </tr>\n",
       "        <tr>\n",
       "            <td>Cincinnati</td> <td>7    </td>\n",
       "        </tr>\n",
       "        <tr>\n",
       "            <td>Cleveland </td> <td>11   </td>\n",
       "        </tr>\n",
       "        <tr>\n",
       "            <td>Columbus  </td> <td>9    </td>\n",
       "        </tr>\n",
       "        <tr>\n",
       "            <td>Dallas    </td> <td>11   </td>\n",
       "        </tr>\n",
       "    </tbody>\n",
       "</table>\n",
       "<p>... (23 rows omitted)</p>"
      ],
      "text/plain": [
       "city       | count\n",
       "Atlanta    | 7\n",
       "Austin     | 1\n",
       "Baltimore  | 6\n",
       "Boston     | 26\n",
       "Charlotte  | 4\n",
       "Chicago    | 79\n",
       "Cincinnati | 7\n",
       "Cleveland  | 11\n",
       "Columbus   | 9\n",
       "Dallas     | 11\n",
       "... (23 rows omitted)"
      ]
     },
     "execution_count": 63,
     "metadata": {},
     "output_type": "execute_result"
    }
   ],
   "source": [
    "sky.group(['material', 'city']).where('material', are.equal_to('steel')).drop('material')"
   ]
  },
  {
   "cell_type": "markdown",
   "metadata": {},
   "source": [
    "### Let's find the average height of towers in each city by each material\n",
    "\n",
    "`tbl.pivot(col1, col2, values, collect)`"
   ]
  },
  {
   "cell_type": "code",
   "execution_count": 67,
   "metadata": {},
   "outputs": [
    {
     "data": {
      "text/html": [
       "<table border=\"1\" class=\"dataframe\">\n",
       "    <thead>\n",
       "        <tr>\n",
       "            <th>city</th> <th>concrete</th> <th>mixed/composite</th> <th>steel</th>\n",
       "        </tr>\n",
       "    </thead>\n",
       "    <tbody>\n",
       "        <tr>\n",
       "            <td>Atlanta   </td> <td>148.775 </td> <td>229.24         </td> <td>112.414</td>\n",
       "        </tr>\n",
       "        <tr>\n",
       "            <td>Austin    </td> <td>127.714 </td> <td>0              </td> <td>93.6   </td>\n",
       "        </tr>\n",
       "        <tr>\n",
       "            <td>Baltimore </td> <td>112.833 </td> <td>0              </td> <td>110.853</td>\n",
       "        </tr>\n",
       "        <tr>\n",
       "            <td>Boston    </td> <td>105.765 </td> <td>121.6          </td> <td>143.405</td>\n",
       "        </tr>\n",
       "        <tr>\n",
       "            <td>Charlotte </td> <td>161.348 </td> <td>196.01         </td> <td>127.013</td>\n",
       "        </tr>\n",
       "        <tr>\n",
       "            <td>Chicago   </td> <td>128.285 </td> <td>160.217        </td> <td>130.985</td>\n",
       "        </tr>\n",
       "        <tr>\n",
       "            <td>Cincinnati</td> <td>102.808 </td> <td>202.69         </td> <td>120.991</td>\n",
       "        </tr>\n",
       "        <tr>\n",
       "            <td>Cleveland </td> <td>116.755 </td> <td>166.363        </td> <td>136.856</td>\n",
       "        </tr>\n",
       "        <tr>\n",
       "            <td>Columbus  </td> <td>77.825  </td> <td>0              </td> <td>120.902</td>\n",
       "        </tr>\n",
       "        <tr>\n",
       "            <td>Dallas    </td> <td>125.19  </td> <td>260.3          </td> <td>178.783</td>\n",
       "        </tr>\n",
       "    </tbody>\n",
       "</table>\n",
       "<p>... (25 rows omitted)</p>"
      ],
      "text/plain": [
       "city       | concrete | mixed/composite | steel\n",
       "Atlanta    | 148.775  | 229.24          | 112.414\n",
       "Austin     | 127.714  | 0               | 93.6\n",
       "Baltimore  | 112.833  | 0               | 110.853\n",
       "Boston     | 105.765  | 121.6           | 143.405\n",
       "Charlotte  | 161.348  | 196.01          | 127.013\n",
       "Chicago    | 128.285  | 160.217         | 130.985\n",
       "Cincinnati | 102.808  | 202.69          | 120.991\n",
       "Cleveland  | 116.755  | 166.363         | 136.856\n",
       "Columbus   | 77.825   | 0               | 120.902\n",
       "Dallas     | 125.19   | 260.3           | 178.783\n",
       "... (25 rows omitted)"
      ]
     },
     "execution_count": 67,
     "metadata": {},
     "output_type": "execute_result"
    }
   ],
   "source": [
    "sky.pivot('material', 'city', values='height', collect=np.mean)"
   ]
  },
  {
   "cell_type": "code",
   "execution_count": null,
   "metadata": {},
   "outputs": [],
   "source": []
  },
  {
   "cell_type": "code",
   "execution_count": 64,
   "metadata": {},
   "outputs": [
    {
     "data": {
      "text/plain": [
       "('name', 'material', 'city', 'height', 'age')"
      ]
     },
     "execution_count": 64,
     "metadata": {},
     "output_type": "execute_result"
    }
   ],
   "source": [
    "sky.pivot('material', 'city')\n",
    "sky.labels"
   ]
  },
  {
   "cell_type": "code",
   "execution_count": 65,
   "metadata": {},
   "outputs": [
    {
     "data": {
      "text/html": [
       "<table border=\"1\" class=\"dataframe\">\n",
       "    <thead>\n",
       "        <tr>\n",
       "            <th>city</th> <th>concrete</th> <th>mixed/composite</th> <th>steel</th>\n",
       "        </tr>\n",
       "    </thead>\n",
       "    <tbody>\n",
       "        <tr>\n",
       "            <td>Atlanta   </td> <td>27      </td> <td>4              </td> <td>7    </td>\n",
       "        </tr>\n",
       "        <tr>\n",
       "            <td>Austin    </td> <td>16      </td> <td>0              </td> <td>1    </td>\n",
       "        </tr>\n",
       "        <tr>\n",
       "            <td>Baltimore </td> <td>8       </td> <td>0              </td> <td>6    </td>\n",
       "        </tr>\n",
       "        <tr>\n",
       "            <td>Boston    </td> <td>4       </td> <td>2              </td> <td>26   </td>\n",
       "        </tr>\n",
       "        <tr>\n",
       "            <td>Charlotte </td> <td>5       </td> <td>3              </td> <td>4    </td>\n",
       "        </tr>\n",
       "        <tr>\n",
       "            <td>Chicago   </td> <td>244     </td> <td>35             </td> <td>79   </td>\n",
       "        </tr>\n",
       "        <tr>\n",
       "            <td>Cincinnati</td> <td>5       </td> <td>1              </td> <td>7    </td>\n",
       "        </tr>\n",
       "        <tr>\n",
       "            <td>Cleveland </td> <td>2       </td> <td>3              </td> <td>11   </td>\n",
       "        </tr>\n",
       "        <tr>\n",
       "            <td>Columbus  </td> <td>4       </td> <td>0              </td> <td>9    </td>\n",
       "        </tr>\n",
       "        <tr>\n",
       "            <td>Dallas    </td> <td>7       </td> <td>2              </td> <td>11   </td>\n",
       "        </tr>\n",
       "    </tbody>\n",
       "</table>\n",
       "<p>... (25 rows omitted)</p>"
      ],
      "text/plain": [
       "city       | concrete | mixed/composite | steel\n",
       "Atlanta    | 27       | 4               | 7\n",
       "Austin     | 16       | 0               | 1\n",
       "Baltimore  | 8        | 0               | 6\n",
       "Boston     | 4        | 2               | 26\n",
       "Charlotte  | 5        | 3               | 4\n",
       "Chicago    | 244      | 35              | 79\n",
       "Cincinnati | 5        | 1               | 7\n",
       "Cleveland  | 2        | 3               | 11\n",
       "Columbus   | 4        | 0               | 9\n",
       "Dallas     | 7        | 2               | 11\n",
       "... (25 rows omitted)"
      ]
     },
     "execution_count": 65,
     "metadata": {},
     "output_type": "execute_result"
    }
   ],
   "source": [
    "sky.pivot('material', 'city')"
   ]
  },
  {
   "cell_type": "code",
   "execution_count": null,
   "metadata": {},
   "outputs": [],
   "source": [
    "#skip\n",
    "\n",
    "\n",
    "\n"
   ]
  },
  {
   "cell_type": "code",
   "execution_count": null,
   "metadata": {},
   "outputs": [],
   "source": [
    "# skip\n",
    "\n",
    "\n"
   ]
  },
  {
   "cell_type": "markdown",
   "metadata": {},
   "source": [
    "### Let's find the max height of towers in each city by each material\n"
   ]
  },
  {
   "cell_type": "code",
   "execution_count": 68,
   "metadata": {},
   "outputs": [
    {
     "data": {
      "text/html": [
       "<table border=\"1\" class=\"dataframe\">\n",
       "    <thead>\n",
       "        <tr>\n",
       "            <th>city</th> <th>concrete</th> <th>mixed/composite</th> <th>steel</th>\n",
       "        </tr>\n",
       "    </thead>\n",
       "    <tbody>\n",
       "        <tr>\n",
       "            <td>Atlanta   </td> <td>264.25  </td> <td>311.8          </td> <td>169.47</td>\n",
       "        </tr>\n",
       "        <tr>\n",
       "            <td>Austin    </td> <td>208.15  </td> <td>0              </td> <td>93.6  </td>\n",
       "        </tr>\n",
       "        <tr>\n",
       "            <td>Baltimore </td> <td>161.24  </td> <td>0              </td> <td>155.15</td>\n",
       "        </tr>\n",
       "        <tr>\n",
       "            <td>Boston    </td> <td>121.92  </td> <td>139            </td> <td>240.79</td>\n",
       "        </tr>\n",
       "        <tr>\n",
       "            <td>Charlotte </td> <td>265.48  </td> <td>239.7          </td> <td>179.23</td>\n",
       "        </tr>\n",
       "        <tr>\n",
       "            <td>Chicago   </td> <td>423.22  </td> <td>306.94         </td> <td>442.14</td>\n",
       "        </tr>\n",
       "        <tr>\n",
       "            <td>Cincinnati</td> <td>125     </td> <td>202.69         </td> <td>175   </td>\n",
       "        </tr>\n",
       "        <tr>\n",
       "            <td>Cleveland </td> <td>125     </td> <td>288.65         </td> <td>215.8 </td>\n",
       "        </tr>\n",
       "        <tr>\n",
       "            <td>Columbus  </td> <td>79.25   </td> <td>0              </td> <td>169.3 </td>\n",
       "        </tr>\n",
       "        <tr>\n",
       "            <td>Dallas    </td> <td>176.48  </td> <td>280.72         </td> <td>270.06</td>\n",
       "        </tr>\n",
       "    </tbody>\n",
       "</table>\n",
       "<p>... (25 rows omitted)</p>"
      ],
      "text/plain": [
       "city       | concrete | mixed/composite | steel\n",
       "Atlanta    | 264.25   | 311.8           | 169.47\n",
       "Austin     | 208.15   | 0               | 93.6\n",
       "Baltimore  | 161.24   | 0               | 155.15\n",
       "Boston     | 121.92   | 139             | 240.79\n",
       "Charlotte  | 265.48   | 239.7           | 179.23\n",
       "Chicago    | 423.22   | 306.94          | 442.14\n",
       "Cincinnati | 125      | 202.69          | 175\n",
       "Cleveland  | 125      | 288.65          | 215.8\n",
       "Columbus   | 79.25    | 0               | 169.3\n",
       "Dallas     | 176.48   | 280.72          | 270.06\n",
       "... (25 rows omitted)"
      ]
     },
     "execution_count": 68,
     "metadata": {},
     "output_type": "execute_result"
    }
   ],
   "source": [
    "sky.pivot('material', 'city', values='height', collect=max)"
   ]
  },
  {
   "cell_type": "code",
   "execution_count": null,
   "metadata": {},
   "outputs": [],
   "source": []
  },
  {
   "cell_type": "code",
   "execution_count": null,
   "metadata": {},
   "outputs": [],
   "source": [
    "#skip"
   ]
  },
  {
   "cell_type": "code",
   "execution_count": null,
   "metadata": {},
   "outputs": [],
   "source": [
    "#skip"
   ]
  },
  {
   "cell_type": "code",
   "execution_count": null,
   "metadata": {},
   "outputs": [],
   "source": [
    "#skip"
   ]
  },
  {
   "cell_type": "code",
   "execution_count": null,
   "metadata": {
    "scrolled": true
   },
   "outputs": [],
   "source": [
    "sky.pivot('material', 'city', 'height', max)"
   ]
  },
  {
   "cell_type": "markdown",
   "metadata": {},
   "source": [
    "### How to find the range of heights in each city for each type of material?"
   ]
  },
  {
   "cell_type": "code",
   "execution_count": null,
   "metadata": {},
   "outputs": [],
   "source": []
  },
  {
   "cell_type": "code",
   "execution_count": null,
   "metadata": {},
   "outputs": [],
   "source": []
  },
  {
   "cell_type": "code",
   "execution_count": 69,
   "metadata": {},
   "outputs": [],
   "source": [
    "def max_min_difference(column):\n",
    "    \"\"\"\n",
    "    Find the difference between the maximum value and minimum value of a column\n",
    "    \"\"\"\n",
    "    return max(column) - min(column)"
   ]
  },
  {
   "cell_type": "code",
   "execution_count": 70,
   "metadata": {},
   "outputs": [
    {
     "data": {
      "text/plain": [
       "98"
      ]
     },
     "execution_count": 70,
     "metadata": {},
     "output_type": "execute_result"
    }
   ],
   "source": [
    "max_min_difference(np.arange(1,100))"
   ]
  },
  {
   "cell_type": "code",
   "execution_count": 71,
   "metadata": {},
   "outputs": [
    {
     "data": {
      "text/plain": [
       "211"
      ]
     },
     "execution_count": 71,
     "metadata": {},
     "output_type": "execute_result"
    }
   ],
   "source": [
    "max_min_difference(make_array(213,12,5,8,14,9,15,21,37,39,63,2,71))"
   ]
  },
  {
   "cell_type": "code",
   "execution_count": null,
   "metadata": {},
   "outputs": [],
   "source": []
  },
  {
   "cell_type": "code",
   "execution_count": null,
   "metadata": {},
   "outputs": [],
   "source": [
    "np.arange(1,100)\n",
    "max(np.arange(1, 100)) - min(np.arange(1,100)), max_min_difference(np.arange(1,100))"
   ]
  },
  {
   "cell_type": "code",
   "execution_count": null,
   "metadata": {},
   "outputs": [],
   "source": []
  },
  {
   "cell_type": "code",
   "execution_count": null,
   "metadata": {},
   "outputs": [],
   "source": []
  },
  {
   "cell_type": "code",
   "execution_count": 72,
   "metadata": {},
   "outputs": [
    {
     "data": {
      "text/plain": [
       "function"
      ]
     },
     "execution_count": 72,
     "metadata": {},
     "output_type": "execute_result"
    }
   ],
   "source": [
    "type(max_min_difference)"
   ]
  },
  {
   "cell_type": "code",
   "execution_count": 75,
   "metadata": {},
   "outputs": [
    {
     "data": {
      "text/html": [
       "<table border=\"1\" class=\"dataframe\">\n",
       "    <thead>\n",
       "        <tr>\n",
       "            <th>city</th> <th>concrete</th> <th>mixed/composite</th> <th>steel</th>\n",
       "        </tr>\n",
       "    </thead>\n",
       "    <tbody>\n",
       "        <tr>\n",
       "            <td>Atlanta   </td> <td>184.25  </td> <td>191.28         </td> <td>121.27</td>\n",
       "        </tr>\n",
       "        <tr>\n",
       "            <td>Austin    </td> <td>127.99  </td> <td>0              </td> <td>0     </td>\n",
       "        </tr>\n",
       "        <tr>\n",
       "            <td>Baltimore </td> <td>90.74   </td> <td>0              </td> <td>71.15 </td>\n",
       "        </tr>\n",
       "        <tr>\n",
       "            <td>Boston    </td> <td>53.34   </td> <td>34.8           </td> <td>166.39</td>\n",
       "        </tr>\n",
       "        <tr>\n",
       "            <td>Charlotte </td> <td>166.42  </td> <td>92.18          </td> <td>98.23 </td>\n",
       "        </tr>\n",
       "        <tr>\n",
       "            <td>Chicago   </td> <td>378.72  </td> <td>255.84         </td> <td>388.79</td>\n",
       "        </tr>\n",
       "        <tr>\n",
       "            <td>Cincinnati</td> <td>38.5    </td> <td>0              </td> <td>120.7 </td>\n",
       "        </tr>\n",
       "        <tr>\n",
       "            <td>Cleveland </td> <td>16.49   </td> <td>197.21         </td> <td>127.71</td>\n",
       "        </tr>\n",
       "        <tr>\n",
       "            <td>Columbus  </td> <td>3.45    </td> <td>0              </td> <td>125.41</td>\n",
       "        </tr>\n",
       "        <tr>\n",
       "            <td>Dallas    </td> <td>122.84  </td> <td>40.84          </td> <td>156.67</td>\n",
       "        </tr>\n",
       "    </tbody>\n",
       "</table>\n",
       "<p>... (25 rows omitted)</p>"
      ],
      "text/plain": [
       "city       | concrete | mixed/composite | steel\n",
       "Atlanta    | 184.25   | 191.28          | 121.27\n",
       "Austin     | 127.99   | 0               | 0\n",
       "Baltimore  | 90.74    | 0               | 71.15\n",
       "Boston     | 53.34    | 34.8            | 166.39\n",
       "Charlotte  | 166.42   | 92.18           | 98.23\n",
       "Chicago    | 378.72   | 255.84          | 388.79\n",
       "Cincinnati | 38.5     | 0               | 120.7\n",
       "Cleveland  | 16.49    | 197.21          | 127.71\n",
       "Columbus   | 3.45     | 0               | 125.41\n",
       "Dallas     | 122.84   | 40.84           | 156.67\n",
       "... (25 rows omitted)"
      ]
     },
     "execution_count": 75,
     "metadata": {},
     "output_type": "execute_result"
    }
   ],
   "source": [
    "sky.pivot('material', 'city', 'height', max_min_difference)"
   ]
  },
  {
   "cell_type": "markdown",
   "metadata": {},
   "source": [
    "The table above represents a pivot table of the range of values"
   ]
  },
  {
   "cell_type": "code",
   "execution_count": null,
   "metadata": {},
   "outputs": [],
   "source": []
  },
  {
   "cell_type": "code",
   "execution_count": null,
   "metadata": {},
   "outputs": [],
   "source": []
  },
  {
   "cell_type": "code",
   "execution_count": 74,
   "metadata": {},
   "outputs": [
    {
     "data": {
      "text/plain": [
       "184.25"
      ]
     },
     "execution_count": 74,
     "metadata": {},
     "output_type": "execute_result"
    }
   ],
   "source": [
    "atlanta_heights = sky.where('city', 'Atlanta').where('material', 'concrete').column('height')\n",
    "max(atlanta_heights) - min(atlanta_heights)"
   ]
  },
  {
   "cell_type": "code",
   "execution_count": null,
   "metadata": {},
   "outputs": [],
   "source": [
    "sky.group(['city', 'material']).where('city', 'Austin')"
   ]
  },
  {
   "cell_type": "code",
   "execution_count": null,
   "metadata": {},
   "outputs": [],
   "source": [
    "sky.pivot('city', 'material')"
   ]
  },
  {
   "cell_type": "markdown",
   "metadata": {},
   "source": [
    "(back to slides)\n",
    "# Join"
   ]
  },
  {
   "cell_type": "code",
   "execution_count": 80,
   "metadata": {},
   "outputs": [
    {
     "data": {
      "text/html": [
       "<table border=\"1\" class=\"dataframe\">\n",
       "    <thead>\n",
       "        <tr>\n",
       "            <th>name</th> <th>net worth</th> <th>citizenship</th> <th>industry</th>\n",
       "        </tr>\n",
       "    </thead>\n",
       "    <tbody>\n",
       "        <tr>\n",
       "            <td>Jeff Bezos     </td> <td>115739645754</td> <td>United States</td> <td>Technology </td>\n",
       "        </tr>\n",
       "        <tr>\n",
       "            <td>Bill Gates     </td> <td>115488591742</td> <td>United States</td> <td>Technology </td>\n",
       "        </tr>\n",
       "        <tr>\n",
       "            <td>Bernard Arnault</td> <td>102244728472</td> <td>France       </td> <td>Consumer   </td>\n",
       "        </tr>\n",
       "        <tr>\n",
       "            <td>Warren Buffett </td> <td>89408278188 </td> <td>United States</td> <td>Diversified</td>\n",
       "        </tr>\n",
       "        <tr>\n",
       "            <td>Mark Zuckerberg</td> <td>83053011017 </td> <td>United States</td> <td>Technology </td>\n",
       "        </tr>\n",
       "        <tr>\n",
       "            <td>Amancio Ortega </td> <td>73839366133 </td> <td>Spain        </td> <td>Retail     </td>\n",
       "        </tr>\n",
       "        <tr>\n",
       "            <td>Larry Page     </td> <td>69933009751 </td> <td>United States</td> <td>Technology </td>\n",
       "        </tr>\n",
       "        <tr>\n",
       "            <td>Sergey Brin    </td> <td>67825250468 </td> <td>United States</td> <td>Technology </td>\n",
       "        </tr>\n",
       "        <tr>\n",
       "            <td>Carlos Slim    </td> <td>62527178289 </td> <td>Mexico       </td> <td>Diversified</td>\n",
       "        </tr>\n",
       "        <tr>\n",
       "            <td>Charles Koch   </td> <td>61046822719 </td> <td>United States</td> <td>Industrial </td>\n",
       "        </tr>\n",
       "    </tbody>\n",
       "</table>\n",
       "<p>... (490 rows omitted)</p>"
      ],
      "text/plain": [
       "<IPython.core.display.HTML object>"
      ]
     },
     "metadata": {},
     "output_type": "display_data"
    },
    {
     "data": {
      "text/html": [
       "<table border=\"1\" class=\"dataframe\">\n",
       "    <thead>\n",
       "        <tr>\n",
       "            <th>Continent</th> <th>Country</th>\n",
       "        </tr>\n",
       "    </thead>\n",
       "    <tbody>\n",
       "        <tr>\n",
       "            <td>Africa   </td> <td>Algeria                 </td>\n",
       "        </tr>\n",
       "        <tr>\n",
       "            <td>Africa   </td> <td>Angola                  </td>\n",
       "        </tr>\n",
       "        <tr>\n",
       "            <td>Africa   </td> <td>Benin                   </td>\n",
       "        </tr>\n",
       "        <tr>\n",
       "            <td>Africa   </td> <td>Botswana                </td>\n",
       "        </tr>\n",
       "        <tr>\n",
       "            <td>Africa   </td> <td>Burkina                 </td>\n",
       "        </tr>\n",
       "        <tr>\n",
       "            <td>Africa   </td> <td>Burundi                 </td>\n",
       "        </tr>\n",
       "        <tr>\n",
       "            <td>Africa   </td> <td>Cameroon                </td>\n",
       "        </tr>\n",
       "        <tr>\n",
       "            <td>Africa   </td> <td>Cape Verde              </td>\n",
       "        </tr>\n",
       "        <tr>\n",
       "            <td>Africa   </td> <td>Central African Republic</td>\n",
       "        </tr>\n",
       "        <tr>\n",
       "            <td>Africa   </td> <td>Chad                    </td>\n",
       "        </tr>\n",
       "    </tbody>\n",
       "</table>\n",
       "<p>... (188 rows omitted)</p>"
      ],
      "text/plain": [
       "<IPython.core.display.HTML object>"
      ]
     },
     "metadata": {},
     "output_type": "display_data"
    }
   ],
   "source": [
    "billionaires = Table.read_table('https://raw.githubusercontent.com/BC-COMS-1016/materials-sp22/refs/heads/master/demos/billionaires.csv')\n",
    "billionaires.show(10)\n",
    "\n",
    "countries = Table.read_table('https://raw.githubusercontent.com/BC-COMS-1016/materials-sp22/refs/heads/master/demos/countries.csv')\n",
    "countries.show(10)"
   ]
  },
  {
   "cell_type": "markdown",
   "metadata": {},
   "source": [
    "### What can we join these two tables on?\n",
    "In other words, which columns will have similar values?\n"
   ]
  },
  {
   "cell_type": "code",
   "execution_count": null,
   "metadata": {},
   "outputs": [],
   "source": [
    "# answer below"
   ]
  },
  {
   "cell_type": "code",
   "execution_count": null,
   "metadata": {},
   "outputs": [],
   "source": []
  },
  {
   "cell_type": "code",
   "execution_count": null,
   "metadata": {},
   "outputs": [],
   "source": []
  },
  {
   "cell_type": "code",
   "execution_count": null,
   "metadata": {},
   "outputs": [],
   "source": []
  },
  {
   "cell_type": "code",
   "execution_count": null,
   "metadata": {},
   "outputs": [],
   "source": []
  },
  {
   "cell_type": "code",
   "execution_count": null,
   "metadata": {},
   "outputs": [],
   "source": []
  },
  {
   "cell_type": "code",
   "execution_count": 81,
   "metadata": {},
   "outputs": [
    {
     "data": {
      "text/html": [
       "<table border=\"1\" class=\"dataframe\">\n",
       "    <thead>\n",
       "        <tr>\n",
       "            <th>citizenship</th> <th>name</th> <th>net worth</th> <th>industry</th> <th>Continent</th>\n",
       "        </tr>\n",
       "    </thead>\n",
       "    <tbody>\n",
       "        <tr>\n",
       "            <td>Australia  </td> <td>Gina Rinehart      </td> <td>19984845036</td> <td>Commodities    </td> <td>Oceania      </td>\n",
       "        </tr>\n",
       "        <tr>\n",
       "            <td>Australia  </td> <td>Andrew Forrest     </td> <td>10221458789</td> <td>Commodities    </td> <td>Oceania      </td>\n",
       "        </tr>\n",
       "        <tr>\n",
       "            <td>Australia  </td> <td>Harry Triguboff    </td> <td>9467000000 </td> <td>Real Estate    </td> <td>Oceania      </td>\n",
       "        </tr>\n",
       "        <tr>\n",
       "            <td>Australia  </td> <td>Scott Farquhar     </td> <td>9335988154 </td> <td>Technology     </td> <td>Oceania      </td>\n",
       "        </tr>\n",
       "        <tr>\n",
       "            <td>Australia  </td> <td>Mike Cannon-Brookes</td> <td>9335988154 </td> <td>Technology     </td> <td>Oceania      </td>\n",
       "        </tr>\n",
       "        <tr>\n",
       "            <td>Australia  </td> <td>Frank Lowy         </td> <td>6655432824 </td> <td>Real Estate    </td> <td>Oceania      </td>\n",
       "        </tr>\n",
       "        <tr>\n",
       "            <td>Australia  </td> <td>Anthony Pratt      </td> <td>6566000000 </td> <td>Industrial     </td> <td>Oceania      </td>\n",
       "        </tr>\n",
       "        <tr>\n",
       "            <td>Austria    </td> <td>Dietrich Mateschitz</td> <td>12251315379</td> <td>Food & Beverage</td> <td>Europe       </td>\n",
       "        </tr>\n",
       "        <tr>\n",
       "            <td>Austria    </td> <td>Johann Graf        </td> <td>6509183360 </td> <td>Entertainment  </td> <td>Europe       </td>\n",
       "        </tr>\n",
       "        <tr>\n",
       "            <td>Brazil     </td> <td>Jorge Paulo Lemann </td> <td>23056345424</td> <td>Food & Beverage</td> <td>South America</td>\n",
       "        </tr>\n",
       "    </tbody>\n",
       "</table>\n",
       "<p>... (490 rows omitted)</p>"
      ],
      "text/plain": [
       "citizenship | name                | net worth   | industry        | Continent\n",
       "Australia   | Gina Rinehart       | 19984845036 | Commodities     | Oceania\n",
       "Australia   | Andrew Forrest      | 10221458789 | Commodities     | Oceania\n",
       "Australia   | Harry Triguboff     | 9467000000  | Real Estate     | Oceania\n",
       "Australia   | Scott Farquhar      | 9335988154  | Technology      | Oceania\n",
       "Australia   | Mike Cannon-Brookes | 9335988154  | Technology      | Oceania\n",
       "Australia   | Frank Lowy          | 6655432824  | Real Estate     | Oceania\n",
       "Australia   | Anthony Pratt       | 6566000000  | Industrial      | Oceania\n",
       "Austria     | Dietrich Mateschitz | 12251315379 | Food & Beverage | Europe\n",
       "Austria     | Johann Graf         | 6509183360  | Entertainment   | Europe\n",
       "Brazil      | Jorge Paulo Lemann  | 23056345424 | Food & Beverage | South America\n",
       "... (490 rows omitted)"
      ]
     },
     "execution_count": 81,
     "metadata": {},
     "output_type": "execute_result"
    }
   ],
   "source": [
    "#tblA.join(colA, tblB, colB)\n",
    "billionaires.join('citizenship', countries, 'Country')"
   ]
  },
  {
   "cell_type": "code",
   "execution_count": 82,
   "metadata": {},
   "outputs": [
    {
     "data": {
      "text/plain": [
       "(500, 198, 500)"
      ]
     },
     "execution_count": 82,
     "metadata": {},
     "output_type": "execute_result"
    }
   ],
   "source": [
    "billionaires.num_rows, countries.num_rows, billionaires.join('citizenship', countries, 'Country').num_rows"
   ]
  },
  {
   "cell_type": "code",
   "execution_count": 83,
   "metadata": {},
   "outputs": [
    {
     "data": {
      "text/html": [
       "<table border=\"1\" class=\"dataframe\">\n",
       "    <thead>\n",
       "        <tr>\n",
       "            <th>Country</th> <th>Continent</th> <th>name</th> <th>net worth</th> <th>industry</th>\n",
       "        </tr>\n",
       "    </thead>\n",
       "    <tbody>\n",
       "        <tr>\n",
       "            <td>Australia</td> <td>Oceania      </td> <td>Gina Rinehart      </td> <td>19984845036</td> <td>Commodities    </td>\n",
       "        </tr>\n",
       "        <tr>\n",
       "            <td>Australia</td> <td>Oceania      </td> <td>Andrew Forrest     </td> <td>10221458789</td> <td>Commodities    </td>\n",
       "        </tr>\n",
       "        <tr>\n",
       "            <td>Australia</td> <td>Oceania      </td> <td>Harry Triguboff    </td> <td>9467000000 </td> <td>Real Estate    </td>\n",
       "        </tr>\n",
       "        <tr>\n",
       "            <td>Australia</td> <td>Oceania      </td> <td>Scott Farquhar     </td> <td>9335988154 </td> <td>Technology     </td>\n",
       "        </tr>\n",
       "        <tr>\n",
       "            <td>Australia</td> <td>Oceania      </td> <td>Mike Cannon-Brookes</td> <td>9335988154 </td> <td>Technology     </td>\n",
       "        </tr>\n",
       "        <tr>\n",
       "            <td>Australia</td> <td>Oceania      </td> <td>Frank Lowy         </td> <td>6655432824 </td> <td>Real Estate    </td>\n",
       "        </tr>\n",
       "        <tr>\n",
       "            <td>Australia</td> <td>Oceania      </td> <td>Anthony Pratt      </td> <td>6566000000 </td> <td>Industrial     </td>\n",
       "        </tr>\n",
       "        <tr>\n",
       "            <td>Austria  </td> <td>Europe       </td> <td>Dietrich Mateschitz</td> <td>12251315379</td> <td>Food & Beverage</td>\n",
       "        </tr>\n",
       "        <tr>\n",
       "            <td>Austria  </td> <td>Europe       </td> <td>Johann Graf        </td> <td>6509183360 </td> <td>Entertainment  </td>\n",
       "        </tr>\n",
       "        <tr>\n",
       "            <td>Brazil   </td> <td>South America</td> <td>Jorge Paulo Lemann </td> <td>23056345424</td> <td>Food & Beverage</td>\n",
       "        </tr>\n",
       "    </tbody>\n",
       "</table>\n",
       "<p>... (490 rows omitted)</p>"
      ],
      "text/plain": [
       "Country   | Continent     | name                | net worth   | industry\n",
       "Australia | Oceania       | Gina Rinehart       | 19984845036 | Commodities\n",
       "Australia | Oceania       | Andrew Forrest      | 10221458789 | Commodities\n",
       "Australia | Oceania       | Harry Triguboff     | 9467000000  | Real Estate\n",
       "Australia | Oceania       | Scott Farquhar      | 9335988154  | Technology\n",
       "Australia | Oceania       | Mike Cannon-Brookes | 9335988154  | Technology\n",
       "Australia | Oceania       | Frank Lowy          | 6655432824  | Real Estate\n",
       "Australia | Oceania       | Anthony Pratt       | 6566000000  | Industrial\n",
       "Austria   | Europe        | Dietrich Mateschitz | 12251315379 | Food & Beverage\n",
       "Austria   | Europe        | Johann Graf         | 6509183360  | Entertainment\n",
       "Brazil    | South America | Jorge Paulo Lemann  | 23056345424 | Food & Beverage\n",
       "... (490 rows omitted)"
      ]
     },
     "execution_count": 83,
     "metadata": {},
     "output_type": "execute_result"
    }
   ],
   "source": [
    "countries.join('Country', billionaires, 'citizenship')"
   ]
  },
  {
   "cell_type": "markdown",
   "metadata": {},
   "source": [
    "##### How many billionaries are in a specific industry and Continent?\n"
   ]
  },
  {
   "cell_type": "code",
   "execution_count": null,
   "metadata": {},
   "outputs": [],
   "source": [
    "# answer below"
   ]
  },
  {
   "cell_type": "code",
   "execution_count": 84,
   "metadata": {},
   "outputs": [
    {
     "data": {
      "text/html": [
       "<table border=\"1\" class=\"dataframe\">\n",
       "    <thead>\n",
       "        <tr>\n",
       "            <th>citizenship</th> <th>name</th> <th>net worth</th> <th>industry</th> <th>Continent</th>\n",
       "        </tr>\n",
       "    </thead>\n",
       "    <tbody>\n",
       "        <tr>\n",
       "            <td>Australia  </td> <td>Gina Rinehart      </td> <td>19984845036</td> <td>Commodities    </td> <td>Oceania      </td>\n",
       "        </tr>\n",
       "        <tr>\n",
       "            <td>Australia  </td> <td>Andrew Forrest     </td> <td>10221458789</td> <td>Commodities    </td> <td>Oceania      </td>\n",
       "        </tr>\n",
       "        <tr>\n",
       "            <td>Australia  </td> <td>Harry Triguboff    </td> <td>9467000000 </td> <td>Real Estate    </td> <td>Oceania      </td>\n",
       "        </tr>\n",
       "        <tr>\n",
       "            <td>Australia  </td> <td>Scott Farquhar     </td> <td>9335988154 </td> <td>Technology     </td> <td>Oceania      </td>\n",
       "        </tr>\n",
       "        <tr>\n",
       "            <td>Australia  </td> <td>Mike Cannon-Brookes</td> <td>9335988154 </td> <td>Technology     </td> <td>Oceania      </td>\n",
       "        </tr>\n",
       "        <tr>\n",
       "            <td>Australia  </td> <td>Frank Lowy         </td> <td>6655432824 </td> <td>Real Estate    </td> <td>Oceania      </td>\n",
       "        </tr>\n",
       "        <tr>\n",
       "            <td>Australia  </td> <td>Anthony Pratt      </td> <td>6566000000 </td> <td>Industrial     </td> <td>Oceania      </td>\n",
       "        </tr>\n",
       "        <tr>\n",
       "            <td>Austria    </td> <td>Dietrich Mateschitz</td> <td>12251315379</td> <td>Food & Beverage</td> <td>Europe       </td>\n",
       "        </tr>\n",
       "        <tr>\n",
       "            <td>Austria    </td> <td>Johann Graf        </td> <td>6509183360 </td> <td>Entertainment  </td> <td>Europe       </td>\n",
       "        </tr>\n",
       "        <tr>\n",
       "            <td>Brazil     </td> <td>Jorge Paulo Lemann </td> <td>23056345424</td> <td>Food & Beverage</td> <td>South America</td>\n",
       "        </tr>\n",
       "    </tbody>\n",
       "</table>\n",
       "<p>... (490 rows omitted)</p>"
      ],
      "text/plain": [
       "citizenship | name                | net worth   | industry        | Continent\n",
       "Australia   | Gina Rinehart       | 19984845036 | Commodities     | Oceania\n",
       "Australia   | Andrew Forrest      | 10221458789 | Commodities     | Oceania\n",
       "Australia   | Harry Triguboff     | 9467000000  | Real Estate     | Oceania\n",
       "Australia   | Scott Farquhar      | 9335988154  | Technology      | Oceania\n",
       "Australia   | Mike Cannon-Brookes | 9335988154  | Technology      | Oceania\n",
       "Australia   | Frank Lowy          | 6655432824  | Real Estate     | Oceania\n",
       "Australia   | Anthony Pratt       | 6566000000  | Industrial      | Oceania\n",
       "Austria     | Dietrich Mateschitz | 12251315379 | Food & Beverage | Europe\n",
       "Austria     | Johann Graf         | 6509183360  | Entertainment   | Europe\n",
       "Brazil      | Jorge Paulo Lemann  | 23056345424 | Food & Beverage | South America\n",
       "... (490 rows omitted)"
      ]
     },
     "execution_count": 84,
     "metadata": {},
     "output_type": "execute_result"
    }
   ],
   "source": [
    "billionaires.join('citizenship', countries, 'Country')"
   ]
  },
  {
   "cell_type": "code",
   "execution_count": 85,
   "metadata": {},
   "outputs": [
    {
     "data": {
      "text/html": [
       "<table border=\"1\" class=\"dataframe\">\n",
       "    <thead>\n",
       "        <tr>\n",
       "            <th>Continent</th> <th>Commodities</th> <th>Consumer</th> <th>Diversified</th> <th>Energy</th> <th>Entertainment</th> <th>Finance</th> <th>Food & Beverage</th> <th>Health Care</th> <th>Industrial</th> <th>Media & Telecom</th> <th>Real Estate</th> <th>Retail</th> <th>Services</th> <th>Technology</th>\n",
       "        </tr>\n",
       "    </thead>\n",
       "    <tbody>\n",
       "        <tr>\n",
       "            <td>Africa       </td> <td>0          </td> <td>0       </td> <td>2          </td> <td>0     </td> <td>0            </td> <td>0      </td> <td>1              </td> <td>0          </td> <td>2         </td> <td>2              </td> <td>0          </td> <td>0     </td> <td>0       </td> <td>0         </td>\n",
       "        </tr>\n",
       "        <tr>\n",
       "            <td>Asia         </td> <td>7          </td> <td>10      </td> <td>27         </td> <td>12    </td> <td>4            </td> <td>4      </td> <td>11             </td> <td>11         </td> <td>21        </td> <td>3              </td> <td>23         </td> <td>8     </td> <td>6       </td> <td>21        </td>\n",
       "        </tr>\n",
       "        <tr>\n",
       "            <td>Europe       </td> <td>1          </td> <td>17      </td> <td>13         </td> <td>1     </td> <td>4            </td> <td>1      </td> <td>9              </td> <td>10         </td> <td>21        </td> <td>4              </td> <td>5          </td> <td>15    </td> <td>4       </td> <td>6         </td>\n",
       "        </tr>\n",
       "        <tr>\n",
       "            <td>North America</td> <td>6          </td> <td>14      </td> <td>10         </td> <td>17    </td> <td>9            </td> <td>29     </td> <td>14             </td> <td>6          </td> <td>4         </td> <td>19             </td> <td>12         </td> <td>17    </td> <td>2       </td> <td>33        </td>\n",
       "        </tr>\n",
       "        <tr>\n",
       "            <td>Oceania      </td> <td>2          </td> <td>0       </td> <td>0          </td> <td>0     </td> <td>0            </td> <td>1      </td> <td>0              </td> <td>0          </td> <td>1         </td> <td>0              </td> <td>2          </td> <td>0     </td> <td>0       </td> <td>2         </td>\n",
       "        </tr>\n",
       "        <tr>\n",
       "            <td>South America</td> <td>2          </td> <td>0       </td> <td>0          </td> <td>0     </td> <td>0            </td> <td>6      </td> <td>4              </td> <td>0          </td> <td>1         </td> <td>0              </td> <td>0          </td> <td>0     </td> <td>0       </td> <td>1         </td>\n",
       "        </tr>\n",
       "    </tbody>\n",
       "</table>"
      ],
      "text/plain": [
       "Continent     | Commodities | Consumer | Diversified | Energy | Entertainment | Finance | Food & Beverage | Health Care | Industrial | Media & Telecom | Real Estate | Retail | Services | Technology\n",
       "Africa        | 0           | 0        | 2           | 0      | 0             | 0       | 1               | 0           | 2          | 2               | 0           | 0      | 0        | 0\n",
       "Asia          | 7           | 10       | 27          | 12     | 4             | 4       | 11              | 11          | 21         | 3               | 23          | 8      | 6        | 21\n",
       "Europe        | 1           | 17       | 13          | 1      | 4             | 1       | 9               | 10          | 21         | 4               | 5           | 15     | 4        | 6\n",
       "North America | 6           | 14       | 10          | 17     | 9             | 29      | 14              | 6           | 4          | 19              | 12          | 17     | 2        | 33\n",
       "Oceania       | 2           | 0        | 0           | 0      | 0             | 1       | 0               | 0           | 1          | 0               | 2           | 0      | 0        | 2\n",
       "South America | 2           | 0        | 0           | 0      | 0             | 6       | 4               | 0           | 1          | 0               | 0           | 0      | 0        | 1"
      ]
     },
     "execution_count": 85,
     "metadata": {},
     "output_type": "execute_result"
    }
   ],
   "source": [
    "billionaires.join('citizenship', countries, 'Country').pivot('industry', 'Continent')"
   ]
  },
  {
   "cell_type": "code",
   "execution_count": null,
   "metadata": {},
   "outputs": [],
   "source": []
  },
  {
   "cell_type": "code",
   "execution_count": null,
   "metadata": {},
   "outputs": [],
   "source": []
  },
  {
   "cell_type": "code",
   "execution_count": null,
   "metadata": {},
   "outputs": [],
   "source": []
  },
  {
   "cell_type": "code",
   "execution_count": null,
   "metadata": {},
   "outputs": [],
   "source": []
  },
  {
   "cell_type": "code",
   "execution_count": null,
   "metadata": {},
   "outputs": [],
   "source": []
  },
  {
   "cell_type": "code",
   "execution_count": null,
   "metadata": {},
   "outputs": [],
   "source": []
  },
  {
   "cell_type": "code",
   "execution_count": null,
   "metadata": {},
   "outputs": [],
   "source": []
  },
  {
   "cell_type": "code",
   "execution_count": null,
   "metadata": {},
   "outputs": [],
   "source": []
  },
  {
   "cell_type": "code",
   "execution_count": null,
   "metadata": {},
   "outputs": [],
   "source": []
  },
  {
   "cell_type": "code",
   "execution_count": 86,
   "metadata": {},
   "outputs": [
    {
     "data": {
      "text/html": [
       "<table border=\"1\" class=\"dataframe\">\n",
       "    <thead>\n",
       "        <tr>\n",
       "            <th>citizenship</th> <th>name</th> <th>net worth</th> <th>industry</th> <th>Continent</th>\n",
       "        </tr>\n",
       "    </thead>\n",
       "    <tbody>\n",
       "        <tr>\n",
       "            <td>Australia  </td> <td>Gina Rinehart      </td> <td>19984845036</td> <td>Commodities    </td> <td>Oceania      </td>\n",
       "        </tr>\n",
       "        <tr>\n",
       "            <td>Australia  </td> <td>Andrew Forrest     </td> <td>10221458789</td> <td>Commodities    </td> <td>Oceania      </td>\n",
       "        </tr>\n",
       "        <tr>\n",
       "            <td>Australia  </td> <td>Harry Triguboff    </td> <td>9467000000 </td> <td>Real Estate    </td> <td>Oceania      </td>\n",
       "        </tr>\n",
       "        <tr>\n",
       "            <td>Australia  </td> <td>Scott Farquhar     </td> <td>9335988154 </td> <td>Technology     </td> <td>Oceania      </td>\n",
       "        </tr>\n",
       "        <tr>\n",
       "            <td>Australia  </td> <td>Mike Cannon-Brookes</td> <td>9335988154 </td> <td>Technology     </td> <td>Oceania      </td>\n",
       "        </tr>\n",
       "        <tr>\n",
       "            <td>Australia  </td> <td>Frank Lowy         </td> <td>6655432824 </td> <td>Real Estate    </td> <td>Oceania      </td>\n",
       "        </tr>\n",
       "        <tr>\n",
       "            <td>Australia  </td> <td>Anthony Pratt      </td> <td>6566000000 </td> <td>Industrial     </td> <td>Oceania      </td>\n",
       "        </tr>\n",
       "        <tr>\n",
       "            <td>Austria    </td> <td>Dietrich Mateschitz</td> <td>12251315379</td> <td>Food & Beverage</td> <td>Europe       </td>\n",
       "        </tr>\n",
       "        <tr>\n",
       "            <td>Austria    </td> <td>Johann Graf        </td> <td>6509183360 </td> <td>Entertainment  </td> <td>Europe       </td>\n",
       "        </tr>\n",
       "        <tr>\n",
       "            <td>Brazil     </td> <td>Jorge Paulo Lemann </td> <td>23056345424</td> <td>Food & Beverage</td> <td>South America</td>\n",
       "        </tr>\n",
       "    </tbody>\n",
       "</table>\n",
       "<p>... (490 rows omitted)</p>"
      ],
      "text/plain": [
       "citizenship | name                | net worth   | industry        | Continent\n",
       "Australia   | Gina Rinehart       | 19984845036 | Commodities     | Oceania\n",
       "Australia   | Andrew Forrest      | 10221458789 | Commodities     | Oceania\n",
       "Australia   | Harry Triguboff     | 9467000000  | Real Estate     | Oceania\n",
       "Australia   | Scott Farquhar      | 9335988154  | Technology      | Oceania\n",
       "Australia   | Mike Cannon-Brookes | 9335988154  | Technology      | Oceania\n",
       "Australia   | Frank Lowy          | 6655432824  | Real Estate     | Oceania\n",
       "Australia   | Anthony Pratt       | 6566000000  | Industrial      | Oceania\n",
       "Austria     | Dietrich Mateschitz | 12251315379 | Food & Beverage | Europe\n",
       "Austria     | Johann Graf         | 6509183360  | Entertainment   | Europe\n",
       "Brazil      | Jorge Paulo Lemann  | 23056345424 | Food & Beverage | South America\n",
       "... (490 rows omitted)"
      ]
     },
     "execution_count": 86,
     "metadata": {},
     "output_type": "execute_result"
    }
   ],
   "source": [
    "b_and_c = billionaires.join('citizenship', countries, 'Country')\n",
    "b_and_c"
   ]
  },
  {
   "cell_type": "code",
   "execution_count": null,
   "metadata": {},
   "outputs": [],
   "source": [
    "b_and_c.pivot('Continent', 'industry')"
   ]
  },
  {
   "cell_type": "code",
   "execution_count": 87,
   "metadata": {},
   "outputs": [
    {
     "data": {
      "text/html": [
       "<table border=\"1\" class=\"dataframe\">\n",
       "    <thead>\n",
       "        <tr>\n",
       "            <th>Continent</th> <th>industry</th> <th>count</th>\n",
       "        </tr>\n",
       "    </thead>\n",
       "    <tbody>\n",
       "        <tr>\n",
       "            <td>Africa   </td> <td>Diversified    </td> <td>2    </td>\n",
       "        </tr>\n",
       "        <tr>\n",
       "            <td>Africa   </td> <td>Food & Beverage</td> <td>1    </td>\n",
       "        </tr>\n",
       "        <tr>\n",
       "            <td>Africa   </td> <td>Industrial     </td> <td>2    </td>\n",
       "        </tr>\n",
       "        <tr>\n",
       "            <td>Africa   </td> <td>Media & Telecom</td> <td>2    </td>\n",
       "        </tr>\n",
       "        <tr>\n",
       "            <td>Asia     </td> <td>Commodities    </td> <td>7    </td>\n",
       "        </tr>\n",
       "        <tr>\n",
       "            <td>Asia     </td> <td>Consumer       </td> <td>10   </td>\n",
       "        </tr>\n",
       "        <tr>\n",
       "            <td>Asia     </td> <td>Diversified    </td> <td>27   </td>\n",
       "        </tr>\n",
       "        <tr>\n",
       "            <td>Asia     </td> <td>Energy         </td> <td>12   </td>\n",
       "        </tr>\n",
       "        <tr>\n",
       "            <td>Asia     </td> <td>Entertainment  </td> <td>4    </td>\n",
       "        </tr>\n",
       "        <tr>\n",
       "            <td>Asia     </td> <td>Finance        </td> <td>4    </td>\n",
       "        </tr>\n",
       "    </tbody>\n",
       "</table>\n",
       "<p>... (46 rows omitted)</p>"
      ],
      "text/plain": [
       "Continent | industry        | count\n",
       "Africa    | Diversified     | 2\n",
       "Africa    | Food & Beverage | 1\n",
       "Africa    | Industrial      | 2\n",
       "Africa    | Media & Telecom | 2\n",
       "Asia      | Commodities     | 7\n",
       "Asia      | Consumer        | 10\n",
       "Asia      | Diversified     | 27\n",
       "Asia      | Energy          | 12\n",
       "Asia      | Entertainment   | 4\n",
       "Asia      | Finance         | 4\n",
       "... (46 rows omitted)"
      ]
     },
     "execution_count": 87,
     "metadata": {},
     "output_type": "execute_result"
    }
   ],
   "source": [
    "b_and_c.group(['Continent', 'industry'])"
   ]
  },
  {
   "cell_type": "markdown",
   "metadata": {},
   "source": [
    "##### What is the average net worth of the billionaries in each specific industry and Continent?\n"
   ]
  },
  {
   "cell_type": "code",
   "execution_count": null,
   "metadata": {},
   "outputs": [],
   "source": [
    "b_and_c.labels"
   ]
  },
  {
   "cell_type": "code",
   "execution_count": 88,
   "metadata": {},
   "outputs": [
    {
     "data": {
      "text/html": [
       "<table border=\"1\" class=\"dataframe\">\n",
       "    <thead>\n",
       "        <tr>\n",
       "            <th>industry</th> <th>Africa</th> <th>Asia</th> <th>Europe</th> <th>North America</th> <th>Oceania</th> <th>South America</th>\n",
       "        </tr>\n",
       "    </thead>\n",
       "    <tbody>\n",
       "        <tr>\n",
       "            <td>Commodities    </td> <td>0          </td> <td>1.03705e+10</td> <td>9.09765e+09</td> <td>6.89452e+09  </td> <td>1.51032e+10</td> <td>1.00079e+10  </td>\n",
       "        </tr>\n",
       "        <tr>\n",
       "            <td>Consumer       </td> <td>0          </td> <td>8.03002e+09</td> <td>2.10536e+10</td> <td>9.61956e+09  </td> <td>0          </td> <td>0            </td>\n",
       "        </tr>\n",
       "        <tr>\n",
       "            <td>Diversified    </td> <td>7.29722e+09</td> <td>1.01818e+10</td> <td>8.05679e+09</td> <td>2.51075e+10  </td> <td>0          </td> <td>0            </td>\n",
       "        </tr>\n",
       "        <tr>\n",
       "            <td>Energy         </td> <td>0          </td> <td>1.50254e+10</td> <td>7.09577e+09</td> <td>6.72667e+09  </td> <td>0          </td> <td>0            </td>\n",
       "        </tr>\n",
       "        <tr>\n",
       "            <td>Entertainment  </td> <td>0          </td> <td>7.96645e+09</td> <td>5.39832e+09</td> <td>1.05302e+10  </td> <td>0          </td> <td>0            </td>\n",
       "        </tr>\n",
       "        <tr>\n",
       "            <td>Finance        </td> <td>0          </td> <td>8.79806e+09</td> <td>8.31946e+09</td> <td>8.92508e+09  </td> <td>7.07147e+09</td> <td>9.0227e+09   </td>\n",
       "        </tr>\n",
       "        <tr>\n",
       "            <td>Food & Beverage</td> <td>6.15496e+09</td> <td>9.40541e+09</td> <td>1.04686e+10</td> <td>1.27264e+10  </td> <td>0          </td> <td>1.41998e+10  </td>\n",
       "        </tr>\n",
       "        <tr>\n",
       "            <td>Health Care    </td> <td>0          </td> <td>8.79122e+09</td> <td>5.72663e+09</td> <td>1.00891e+10  </td> <td>0          </td> <td>0            </td>\n",
       "        </tr>\n",
       "        <tr>\n",
       "            <td>Industrial     </td> <td>1.16792e+10</td> <td>9.31591e+09</td> <td>1.01403e+10</td> <td>3.71755e+10  </td> <td>6.566e+09  </td> <td>5.36317e+09  </td>\n",
       "        </tr>\n",
       "        <tr>\n",
       "            <td>Media & Telecom</td> <td>4.91348e+09</td> <td>7.12921e+09</td> <td>7.5358e+09 </td> <td>8.63351e+09  </td> <td>0          </td> <td>0            </td>\n",
       "        </tr>\n",
       "    </tbody>\n",
       "</table>\n",
       "<p>... (4 rows omitted)</p>"
      ],
      "text/plain": [
       "industry        | Africa      | Asia        | Europe      | North America | Oceania     | South America\n",
       "Commodities     | 0           | 1.03705e+10 | 9.09765e+09 | 6.89452e+09   | 1.51032e+10 | 1.00079e+10\n",
       "Consumer        | 0           | 8.03002e+09 | 2.10536e+10 | 9.61956e+09   | 0           | 0\n",
       "Diversified     | 7.29722e+09 | 1.01818e+10 | 8.05679e+09 | 2.51075e+10   | 0           | 0\n",
       "Energy          | 0           | 1.50254e+10 | 7.09577e+09 | 6.72667e+09   | 0           | 0\n",
       "Entertainment   | 0           | 7.96645e+09 | 5.39832e+09 | 1.05302e+10   | 0           | 0\n",
       "Finance         | 0           | 8.79806e+09 | 8.31946e+09 | 8.92508e+09   | 7.07147e+09 | 9.0227e+09\n",
       "Food & Beverage | 6.15496e+09 | 9.40541e+09 | 1.04686e+10 | 1.27264e+10   | 0           | 1.41998e+10\n",
       "Health Care     | 0           | 8.79122e+09 | 5.72663e+09 | 1.00891e+10   | 0           | 0\n",
       "Industrial      | 1.16792e+10 | 9.31591e+09 | 1.01403e+10 | 3.71755e+10   | 6.566e+09   | 5.36317e+09\n",
       "Media & Telecom | 4.91348e+09 | 7.12921e+09 | 7.5358e+09  | 8.63351e+09   | 0           | 0\n",
       "... (4 rows omitted)"
      ]
     },
     "execution_count": 88,
     "metadata": {},
     "output_type": "execute_result"
    }
   ],
   "source": [
    "# tbl.pivot(col1, col2, values, collect)\n",
    "b_and_c.pivot('Continent', 'industry', 'net worth', np.average)"
   ]
  },
  {
   "cell_type": "markdown",
   "metadata": {},
   "source": [
    "##### What is the range of net worths of the billionaries in each specific industry and Continent?\n"
   ]
  },
  {
   "cell_type": "code",
   "execution_count": null,
   "metadata": {},
   "outputs": [],
   "source": [
    "def range(x):\n",
    "    return ..."
   ]
  },
  {
   "cell_type": "code",
   "execution_count": null,
   "metadata": {},
   "outputs": [],
   "source": []
  },
  {
   "cell_type": "markdown",
   "metadata": {},
   "source": [
    "# Comparison"
   ]
  },
  {
   "cell_type": "code",
   "execution_count": null,
   "metadata": {},
   "outputs": [],
   "source": [
    "x = 2\n",
    "y = 3\n",
    "x, y"
   ]
  },
  {
   "cell_type": "code",
   "execution_count": null,
   "metadata": {},
   "outputs": [],
   "source": [
    "x > 1"
   ]
  },
  {
   "cell_type": "code",
   "execution_count": null,
   "metadata": {},
   "outputs": [],
   "source": [
    "2 > 1"
   ]
  },
  {
   "cell_type": "code",
   "execution_count": null,
   "metadata": {},
   "outputs": [],
   "source": [
    "x > y"
   ]
  },
  {
   "cell_type": "code",
   "execution_count": null,
   "metadata": {},
   "outputs": [],
   "source": [
    "y >= 3"
   ]
  },
  {
   "cell_type": "code",
   "execution_count": null,
   "metadata": {},
   "outputs": [],
   "source": [
    "x == y"
   ]
  },
  {
   "cell_type": "code",
   "execution_count": null,
   "metadata": {},
   "outputs": [],
   "source": [
    "x != 2"
   ]
  },
  {
   "cell_type": "code",
   "execution_count": null,
   "metadata": {},
   "outputs": [],
   "source": [
    "2 != 2"
   ]
  },
  {
   "cell_type": "code",
   "execution_count": null,
   "metadata": {},
   "outputs": [],
   "source": [
    "2 < x < 5"
   ]
  },
  {
   "cell_type": "code",
   "execution_count": null,
   "metadata": {},
   "outputs": [],
   "source": [
    "-1 * x < -1 * y"
   ]
  },
  {
   "cell_type": "markdown",
   "metadata": {},
   "source": [
    "### Comparing strings\n",
    "\n",
    "What do we think `\"dog\" > \"cat\"` will return?"
   ]
  },
  {
   "cell_type": "code",
   "execution_count": null,
   "metadata": {},
   "outputs": [],
   "source": [
    "\"dog\" > \"cat\""
   ]
  },
  {
   "cell_type": "code",
   "execution_count": null,
   "metadata": {},
   "outputs": [],
   "source": [
    "\"zack\" > \"adam\""
   ]
  },
  {
   "cell_type": "code",
   "execution_count": null,
   "metadata": {},
   "outputs": [],
   "source": [
    "\"cat\" < \"dog\""
   ]
  },
  {
   "cell_type": "markdown",
   "metadata": {},
   "source": [
    "Why is this the case?\n",
    "\n",
    "What about strings that start the same?"
   ]
  },
  {
   "cell_type": "code",
   "execution_count": null,
   "metadata": {},
   "outputs": [],
   "source": [
    "\"dogma\" > \"dog\""
   ]
  },
  {
   "cell_type": "markdown",
   "metadata": {},
   "source": [
    "### Comparisions to arrays"
   ]
  },
  {
   "cell_type": "code",
   "execution_count": null,
   "metadata": {},
   "outputs": [],
   "source": [
    "range_between_one_twenty = np.arange(1, 20)\n",
    "range_between_one_twenty"
   ]
  },
  {
   "cell_type": "code",
   "execution_count": null,
   "metadata": {},
   "outputs": [],
   "source": [
    "range_between_one_twenty * 2"
   ]
  },
  {
   "cell_type": "code",
   "execution_count": null,
   "metadata": {},
   "outputs": [],
   "source": [
    "range_between_one_twenty > 2"
   ]
  },
  {
   "cell_type": "markdown",
   "metadata": {},
   "source": [
    "back to slides\n",
    "\n",
    "### Combining comparisons\n"
   ]
  },
  {
   "cell_type": "code",
   "execution_count": null,
   "metadata": {},
   "outputs": [],
   "source": [
    "a = True\n",
    "b = False\n",
    "a, b"
   ]
  },
  {
   "cell_type": "code",
   "execution_count": null,
   "metadata": {},
   "outputs": [],
   "source": [
    "a or b"
   ]
  },
  {
   "cell_type": "code",
   "execution_count": null,
   "metadata": {},
   "outputs": [],
   "source": [
    "not a, not b"
   ]
  },
  {
   "cell_type": "code",
   "execution_count": null,
   "metadata": {},
   "outputs": [],
   "source": [
    "\n",
    "#True and (not False)\n",
    "#True and True\n",
    "a and not b"
   ]
  },
  {
   "cell_type": "code",
   "execution_count": null,
   "metadata": {},
   "outputs": [],
   "source": []
  },
  {
   "cell_type": "code",
   "execution_count": null,
   "metadata": {},
   "outputs": [],
   "source": [
    "x, y"
   ]
  },
  {
   "cell_type": "code",
   "execution_count": null,
   "metadata": {},
   "outputs": [],
   "source": [
    "x > 2 or y > 2"
   ]
  },
  {
   "cell_type": "code",
   "execution_count": null,
   "metadata": {},
   "outputs": [],
   "source": [
    "x > 2 and y > 2"
   ]
  },
  {
   "cell_type": "code",
   "execution_count": null,
   "metadata": {},
   "outputs": [],
   "source": [
    "not (x > 2 or y > 2)"
   ]
  },
  {
   "cell_type": "markdown",
   "metadata": {},
   "source": [
    "back to slides\n",
    "### Aggregating Comparisons"
   ]
  },
  {
   "cell_type": "code",
   "execution_count": null,
   "metadata": {},
   "outputs": [],
   "source": [
    "range_between_one_twenty"
   ]
  },
  {
   "cell_type": "code",
   "execution_count": null,
   "metadata": {},
   "outputs": [],
   "source": [
    "6 % 2 == 0"
   ]
  },
  {
   "cell_type": "markdown",
   "metadata": {},
   "source": [
    "Lets find the number of values that are even"
   ]
  },
  {
   "cell_type": "code",
   "execution_count": null,
   "metadata": {},
   "outputs": [],
   "source": [
    "# Lets first make a function that tells us if a number is even\n",
    "def is_even(x):\n",
    "    \"\"\" Converts numbers into bool based on whether the number is even or odd\n",
    "    \"\"\"\n",
    "    return x % 2 == 0"
   ]
  },
  {
   "cell_type": "markdown",
   "metadata": {},
   "source": [
    "Let's test if this function works:"
   ]
  },
  {
   "cell_type": "code",
   "execution_count": null,
   "metadata": {},
   "outputs": [],
   "source": [
    "is_even(2), is_even(5), is_even(-4)"
   ]
  },
  {
   "cell_type": "markdown",
   "metadata": {},
   "source": [
    "Now let's apply this function to our array (either make a new table and use `apply` or pass it to our function)\n"
   ]
  },
  {
   "cell_type": "code",
   "execution_count": null,
   "metadata": {},
   "outputs": [],
   "source": [
    "t = Table().with_columns('number', range_between_one_twenty)\n",
    "t = t.with_columns('is_even', t.apply(is_even, 'number'))\n",
    "t"
   ]
  },
  {
   "cell_type": "markdown",
   "metadata": {},
   "source": [
    "Now how many of these numbers are even?"
   ]
  },
  {
   "cell_type": "code",
   "execution_count": null,
   "metadata": {},
   "outputs": [],
   "source": [
    "sum(t.column('is_even'))"
   ]
  },
  {
   "cell_type": "markdown",
   "metadata": {},
   "source": [
    "back to slides\n",
    "\n",
    "# Control Statements"
   ]
  },
  {
   "cell_type": "code",
   "execution_count": null,
   "metadata": {},
   "outputs": [],
   "source": [
    "def sign(x):\n",
    "    '''\n",
    "    Returns \"positive\", \"negative\", \"zero\" depending on the value of x\n",
    "    Adam: only use if's\n",
    "    '''\n",
    "    return_string = \"\"\n",
    "    ...\n",
    "    return return_string"
   ]
  },
  {
   "cell_type": "code",
   "execution_count": null,
   "metadata": {},
   "outputs": [],
   "source": [
    "sign(10), sign(-10), sign(0)"
   ]
  },
  {
   "cell_type": "markdown",
   "metadata": {},
   "source": [
    "### `if`, `elif`, and `else`"
   ]
  },
  {
   "cell_type": "code",
   "execution_count": null,
   "metadata": {},
   "outputs": [],
   "source": [
    "def sign(x):\n",
    "    '''\n",
    "    Returns \"positive\", \"negative\", \"zero\" depending on the value of x\n",
    "    '''"
   ]
  },
  {
   "cell_type": "markdown",
   "metadata": {},
   "source": [
    "### `abs()`\n",
    "Now try implementing the `abs()` function"
   ]
  },
  {
   "cell_type": "code",
   "execution_count": null,
   "metadata": {},
   "outputs": [],
   "source": [
    "help(abs)"
   ]
  },
  {
   "cell_type": "code",
   "execution_count": null,
   "metadata": {},
   "outputs": [],
   "source": [
    "def abs(x):\n",
    "    ...\n",
    "    "
   ]
  },
  {
   "cell_type": "markdown",
   "metadata": {},
   "source": [
    "# Random Selection"
   ]
  },
  {
   "cell_type": "code",
   "execution_count": null,
   "metadata": {},
   "outputs": [],
   "source": [
    "groups = make_array('treatment', 'control')\n",
    "groups"
   ]
  },
  {
   "cell_type": "markdown",
   "metadata": {},
   "source": [
    "Let's randomly assign 1 individual to each group"
   ]
  },
  {
   "cell_type": "code",
   "execution_count": null,
   "metadata": {},
   "outputs": [],
   "source": []
  },
  {
   "cell_type": "markdown",
   "metadata": {},
   "source": [
    "Let's randomly assign 5 individuals to each group"
   ]
  },
  {
   "cell_type": "code",
   "execution_count": null,
   "metadata": {},
   "outputs": [],
   "source": []
  },
  {
   "cell_type": "markdown",
   "metadata": {},
   "source": [
    "Let's repeat this"
   ]
  },
  {
   "cell_type": "code",
   "execution_count": null,
   "metadata": {},
   "outputs": [],
   "source": []
  },
  {
   "cell_type": "markdown",
   "metadata": {},
   "source": [
    "Do we see any differences?"
   ]
  },
  {
   "cell_type": "code",
   "execution_count": null,
   "metadata": {},
   "outputs": [],
   "source": []
  },
  {
   "cell_type": "markdown",
   "metadata": {},
   "source": [
    "So now let's store the outcome"
   ]
  },
  {
   "cell_type": "code",
   "execution_count": null,
   "metadata": {},
   "outputs": [],
   "source": []
  },
  {
   "cell_type": "markdown",
   "metadata": {},
   "source": [
    "back to slides\n",
    "# `np.append()`\n",
    "Manually grow an empty array to [0,...,8] one element at a time "
   ]
  },
  {
   "cell_type": "code",
   "execution_count": null,
   "metadata": {},
   "outputs": [],
   "source": []
  },
  {
   "cell_type": "markdown",
   "metadata": {},
   "source": [
    "back to slides\n",
    "# `For` Statements"
   ]
  },
  {
   "cell_type": "code",
   "execution_count": null,
   "metadata": {},
   "outputs": [],
   "source": [
    "for i in np.arange(4):\n",
    "    print('iteration', i)"
   ]
  },
  {
   "cell_type": "markdown",
   "metadata": {},
   "source": [
    "Use a for loop to grow the array `t`"
   ]
  },
  {
   "cell_type": "code",
   "execution_count": null,
   "metadata": {},
   "outputs": [],
   "source": []
  }
 ],
 "metadata": {
  "kernelspec": {
   "display_name": "Python 3 (ipykernel)",
   "language": "python",
   "name": "python3"
  },
  "language_info": {
   "codemirror_mode": {
    "name": "ipython",
    "version": 3
   },
   "file_extension": ".py",
   "mimetype": "text/x-python",
   "name": "python",
   "nbconvert_exporter": "python",
   "pygments_lexer": "ipython3",
   "version": "3.12.6"
  }
 },
 "nbformat": 4,
 "nbformat_minor": 4
}
