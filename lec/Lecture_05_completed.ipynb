{
 "cells": [
  {
   "cell_type": "code",
   "execution_count": 1,
   "metadata": {},
   "outputs": [],
   "source": [
    "from datascience import *\n",
    "import numpy as np\n",
    "\n",
    "%matplotlib inline\n",
    "import matplotlib.pyplot as plots\n",
    "plots.style.use('fivethirtyeight')"
   ]
  },
  {
   "cell_type": "markdown",
   "metadata": {},
   "source": [
    "## Census ##"
   ]
  },
  {
   "cell_type": "code",
   "execution_count": 3,
   "metadata": {},
   "outputs": [
    {
     "data": {
      "text/html": [
       "<table border=\"1\" class=\"dataframe\">\n",
       "    <thead>\n",
       "        <tr>\n",
       "            <th>SEX</th> <th>AGE</th> <th>CENSUS2010POP</th> <th>ESTIMATESBASE2010</th> <th>POPESTIMATE2010</th> <th>POPESTIMATE2011</th> <th>POPESTIMATE2012</th> <th>POPESTIMATE2013</th> <th>POPESTIMATE2014</th> <th>POPESTIMATE2015</th> <th>POPESTIMATE2016</th> <th>POPESTIMATE2017</th> <th>POPESTIMATE2018</th> <th>POPESTIMATE2019</th>\n",
       "        </tr>\n",
       "    </thead>\n",
       "    <tbody>\n",
       "        <tr>\n",
       "            <td>0   </td> <td>0   </td> <td>3944153      </td> <td>3944160          </td> <td>3951430        </td> <td>3963092        </td> <td>3926570        </td> <td>3931258        </td> <td>3954787        </td> <td>3983981        </td> <td>3954773        </td> <td>3893990        </td> <td>3815343        </td> <td>3783052        </td>\n",
       "        </tr>\n",
       "        <tr>\n",
       "            <td>0   </td> <td>1   </td> <td>3978070      </td> <td>3978090          </td> <td>3957730        </td> <td>3966225        </td> <td>3977549        </td> <td>3942698        </td> <td>3948891        </td> <td>3973133        </td> <td>4002903        </td> <td>3972711        </td> <td>3908830        </td> <td>3829599        </td>\n",
       "        </tr>\n",
       "        <tr>\n",
       "            <td>0   </td> <td>2   </td> <td>4096929      </td> <td>4096939          </td> <td>4090621        </td> <td>3970654        </td> <td>3978925        </td> <td>3991740        </td> <td>3958711        </td> <td>3966321        </td> <td>3991349        </td> <td>4020045        </td> <td>3987032        </td> <td>3922044        </td>\n",
       "        </tr>\n",
       "        <tr>\n",
       "            <td>0   </td> <td>3   </td> <td>4119040      </td> <td>4119051          </td> <td>4111688        </td> <td>4101644        </td> <td>3981531        </td> <td>3991017        </td> <td>4005928        </td> <td>3974351        </td> <td>3982984        </td> <td>4006946        </td> <td>4033038        </td> <td>3998665        </td>\n",
       "        </tr>\n",
       "        <tr>\n",
       "            <td>0   </td> <td>4   </td> <td>4063170      </td> <td>4063186          </td> <td>4077346        </td> <td>4121488        </td> <td>4111490        </td> <td>3992502        </td> <td>4004032        </td> <td>4020292        </td> <td>3989750        </td> <td>3997280        </td> <td>4018719        </td> <td>4043323        </td>\n",
       "        </tr>\n",
       "        <tr>\n",
       "            <td>0   </td> <td>5   </td> <td>4056858      </td> <td>4056872          </td> <td>4064521        </td> <td>4087054        </td> <td>4131049        </td> <td>4121876        </td> <td>4004576        </td> <td>4017589        </td> <td>4035033        </td> <td>4003452        </td> <td>4008443        </td> <td>4028281        </td>\n",
       "        </tr>\n",
       "        <tr>\n",
       "            <td>0   </td> <td>6   </td> <td>4066381      </td> <td>4066412          </td> <td>4072904        </td> <td>4074531        </td> <td>4096631        </td> <td>4141126        </td> <td>4133372        </td> <td>4017388        </td> <td>4031568        </td> <td>4048018        </td> <td>4014057        </td> <td>4017227        </td>\n",
       "        </tr>\n",
       "        <tr>\n",
       "            <td>0   </td> <td>7   </td> <td>4030579      </td> <td>4030594          </td> <td>4042990        </td> <td>4082821        </td> <td>4084175        </td> <td>4106756        </td> <td>4152666        </td> <td>4145872        </td> <td>4030888        </td> <td>4044139        </td> <td>4058370        </td> <td>4022319        </td>\n",
       "        </tr>\n",
       "        <tr>\n",
       "            <td>0   </td> <td>8   </td> <td>4046486      </td> <td>4046497          </td> <td>4025501        </td> <td>4052773        </td> <td>4092559        </td> <td>4094513        </td> <td>4118349        </td> <td>4165033        </td> <td>4158848        </td> <td>4042924        </td> <td>4054236        </td> <td>4066194        </td>\n",
       "        </tr>\n",
       "        <tr>\n",
       "            <td>0   </td> <td>9   </td> <td>4148353      </td> <td>4148369          </td> <td>4125312        </td> <td>4035319        </td> <td>4062726        </td> <td>4103052        </td> <td>4106068        </td> <td>4130887        </td> <td>4177895        </td> <td>4170813        </td> <td>4053179        </td> <td>4061874        </td>\n",
       "        </tr>\n",
       "    </tbody>\n",
       "</table>\n",
       "<p>... (296 rows omitted)</p>"
      ],
      "text/plain": [
       "SEX  | AGE  | CENSUS2010POP | ESTIMATESBASE2010 | POPESTIMATE2010 | POPESTIMATE2011 | POPESTIMATE2012 | POPESTIMATE2013 | POPESTIMATE2014 | POPESTIMATE2015 | POPESTIMATE2016 | POPESTIMATE2017 | POPESTIMATE2018 | POPESTIMATE2019\n",
       "0    | 0    | 3944153       | 3944160           | 3951430         | 3963092         | 3926570         | 3931258         | 3954787         | 3983981         | 3954773         | 3893990         | 3815343         | 3783052\n",
       "0    | 1    | 3978070       | 3978090           | 3957730         | 3966225         | 3977549         | 3942698         | 3948891         | 3973133         | 4002903         | 3972711         | 3908830         | 3829599\n",
       "0    | 2    | 4096929       | 4096939           | 4090621         | 3970654         | 3978925         | 3991740         | 3958711         | 3966321         | 3991349         | 4020045         | 3987032         | 3922044\n",
       "0    | 3    | 4119040       | 4119051           | 4111688         | 4101644         | 3981531         | 3991017         | 4005928         | 3974351         | 3982984         | 4006946         | 4033038         | 3998665\n",
       "0    | 4    | 4063170       | 4063186           | 4077346         | 4121488         | 4111490         | 3992502         | 4004032         | 4020292         | 3989750         | 3997280         | 4018719         | 4043323\n",
       "0    | 5    | 4056858       | 4056872           | 4064521         | 4087054         | 4131049         | 4121876         | 4004576         | 4017589         | 4035033         | 4003452         | 4008443         | 4028281\n",
       "0    | 6    | 4066381       | 4066412           | 4072904         | 4074531         | 4096631         | 4141126         | 4133372         | 4017388         | 4031568         | 4048018         | 4014057         | 4017227\n",
       "0    | 7    | 4030579       | 4030594           | 4042990         | 4082821         | 4084175         | 4106756         | 4152666         | 4145872         | 4030888         | 4044139         | 4058370         | 4022319\n",
       "0    | 8    | 4046486       | 4046497           | 4025501         | 4052773         | 4092559         | 4094513         | 4118349         | 4165033         | 4158848         | 4042924         | 4054236         | 4066194\n",
       "0    | 9    | 4148353       | 4148369           | 4125312         | 4035319         | 4062726         | 4103052         | 4106068         | 4130887         | 4177895         | 4170813         | 4053179         | 4061874\n",
       "... (296 rows omitted)"
      ]
     },
     "execution_count": 3,
     "metadata": {},
     "output_type": "execute_result"
    }
   ],
   "source": [
    "census_filename = \"nc-est2019-agesex-res.csv\"\n",
    "full = Table.read_table(census_filename) # load in the census table\n",
    "full"
   ]
  },
  {
   "cell_type": "code",
   "execution_count": 4,
   "metadata": {},
   "outputs": [
    {
     "data": {
      "text/plain": [
       "(306, 14)"
      ]
     },
     "execution_count": 4,
     "metadata": {},
     "output_type": "execute_result"
    }
   ],
   "source": [
    "full.num_rows, full.num_columns"
   ]
  },
  {
   "cell_type": "code",
   "execution_count": 5,
   "metadata": {},
   "outputs": [
    {
     "data": {
      "text/plain": [
       "('SEX',\n",
       " 'AGE',\n",
       " 'CENSUS2010POP',\n",
       " 'ESTIMATESBASE2010',\n",
       " 'POPESTIMATE2010',\n",
       " 'POPESTIMATE2011',\n",
       " 'POPESTIMATE2012',\n",
       " 'POPESTIMATE2013',\n",
       " 'POPESTIMATE2014',\n",
       " 'POPESTIMATE2015',\n",
       " 'POPESTIMATE2016',\n",
       " 'POPESTIMATE2017',\n",
       " 'POPESTIMATE2018',\n",
       " 'POPESTIMATE2019')"
      ]
     },
     "execution_count": 5,
     "metadata": {},
     "output_type": "execute_result"
    }
   ],
   "source": [
    "full.labels"
   ]
  },
  {
   "cell_type": "code",
   "execution_count": 6,
   "metadata": {},
   "outputs": [
    {
     "data": {
      "text/html": [
       "<table border=\"1\" class=\"dataframe\">\n",
       "    <thead>\n",
       "        <tr>\n",
       "            <th>POPESTIMATE2015</th>\n",
       "        </tr>\n",
       "    </thead>\n",
       "    <tbody>\n",
       "        <tr>\n",
       "            <td>3983981        </td>\n",
       "        </tr>\n",
       "        <tr>\n",
       "            <td>3973133        </td>\n",
       "        </tr>\n",
       "        <tr>\n",
       "            <td>3966321        </td>\n",
       "        </tr>\n",
       "        <tr>\n",
       "            <td>3974351        </td>\n",
       "        </tr>\n",
       "        <tr>\n",
       "            <td>4020292        </td>\n",
       "        </tr>\n",
       "        <tr>\n",
       "            <td>4017589        </td>\n",
       "        </tr>\n",
       "        <tr>\n",
       "            <td>4017388        </td>\n",
       "        </tr>\n",
       "        <tr>\n",
       "            <td>4145872        </td>\n",
       "        </tr>\n",
       "        <tr>\n",
       "            <td>4165033        </td>\n",
       "        </tr>\n",
       "        <tr>\n",
       "            <td>4130887        </td>\n",
       "        </tr>\n",
       "    </tbody>\n",
       "</table>\n",
       "<p>... (296 rows omitted)</p>"
      ],
      "text/plain": [
       "POPESTIMATE2015\n",
       "3983981\n",
       "3973133\n",
       "3966321\n",
       "3974351\n",
       "4020292\n",
       "4017589\n",
       "4017388\n",
       "4145872\n",
       "4165033\n",
       "4130887\n",
       "... (296 rows omitted)"
      ]
     },
     "execution_count": 6,
     "metadata": {},
     "output_type": "execute_result"
    }
   ],
   "source": [
    "full.select('POPESTIMATE2015')"
   ]
  },
  {
   "cell_type": "code",
   "execution_count": 8,
   "metadata": {},
   "outputs": [
    {
     "data": {
      "text/plain": [
       "array([0, 0, 0, 0, 0, 0, 0, 0, 0, 0, 0, 0, 0, 0, 0, 0, 0, 0, 0, 0, 0, 0, 0,\n",
       "       0, 0, 0, 0, 0, 0, 0, 0, 0, 0, 0, 0, 0, 0, 0, 0, 0, 0, 0, 0, 0, 0, 0,\n",
       "       0, 0, 0, 0, 0, 0, 0, 0, 0, 0, 0, 0, 0, 0, 0, 0, 0, 0, 0, 0, 0, 0, 0,\n",
       "       0, 0, 0, 0, 0, 0, 0, 0, 0, 0, 0, 0, 0, 0, 0, 0, 0, 0, 0, 0, 0, 0, 0,\n",
       "       0, 0, 0, 0, 0, 0, 0, 0, 0, 0, 1, 1, 1, 1, 1, 1, 1, 1, 1, 1, 1, 1, 1,\n",
       "       1, 1, 1, 1, 1, 1, 1, 1, 1, 1, 1, 1, 1, 1, 1, 1, 1, 1, 1, 1, 1, 1, 1,\n",
       "       1, 1, 1, 1, 1, 1, 1, 1, 1, 1, 1, 1, 1, 1, 1, 1, 1, 1, 1, 1, 1, 1, 1,\n",
       "       1, 1, 1, 1, 1, 1, 1, 1, 1, 1, 1, 1, 1, 1, 1, 1, 1, 1, 1, 1, 1, 1, 1,\n",
       "       1, 1, 1, 1, 1, 1, 1, 1, 1, 1, 1, 1, 1, 1, 1, 1, 1, 1, 1, 1, 2, 2, 2,\n",
       "       2, 2, 2, 2, 2, 2, 2, 2, 2, 2, 2, 2, 2, 2, 2, 2, 2, 2, 2, 2, 2, 2, 2,\n",
       "       2, 2, 2, 2, 2, 2, 2, 2, 2, 2, 2, 2, 2, 2, 2, 2, 2, 2, 2, 2, 2, 2, 2,\n",
       "       2, 2, 2, 2, 2, 2, 2, 2, 2, 2, 2, 2, 2, 2, 2, 2, 2, 2, 2, 2, 2, 2, 2,\n",
       "       2, 2, 2, 2, 2, 2, 2, 2, 2, 2, 2, 2, 2, 2, 2, 2, 2, 2, 2, 2, 2, 2, 2,\n",
       "       2, 2, 2, 2, 2, 2, 2])"
      ]
     },
     "execution_count": 8,
     "metadata": {},
     "output_type": "execute_result"
    }
   ],
   "source": [
    "full.column('SEX')"
   ]
  },
  {
   "cell_type": "code",
   "execution_count": 10,
   "metadata": {},
   "outputs": [
    {
     "data": {
      "text/html": [
       "<table border=\"1\" class=\"dataframe\">\n",
       "    <thead>\n",
       "        <tr>\n",
       "            <th>SEX</th> <th>AGE</th> <th>CENSUS2010POP</th> <th>ESTIMATESBASE2010</th> <th>POPESTIMATE2010</th> <th>POPESTIMATE2011</th> <th>POPESTIMATE2012</th> <th>POPESTIMATE2013</th> <th>POPESTIMATE2014</th> <th>POPESTIMATE2015</th> <th>POPESTIMATE2016</th> <th>POPESTIMATE2017</th> <th>POPESTIMATE2018</th> <th>POPESTIMATE2019</th>\n",
       "        </tr>\n",
       "    </thead>\n",
       "    <tbody>\n",
       "        <tr>\n",
       "            <td>0   </td> <td>0   </td> <td>3944153      </td> <td>3944160          </td> <td>3951430        </td> <td>3963092        </td> <td>3926570        </td> <td>3931258        </td> <td>3954787        </td> <td>3983981        </td> <td>3954773        </td> <td>3893990        </td> <td>3815343        </td> <td>3783052        </td>\n",
       "        </tr>\n",
       "        <tr>\n",
       "            <td>1   </td> <td>0   </td> <td>2014276      </td> <td>2014278          </td> <td>2018474        </td> <td>2028430        </td> <td>2007742        </td> <td>2009723        </td> <td>2024511        </td> <td>2037646        </td> <td>2021375        </td> <td>1991761        </td> <td>1951663        </td> <td>1935117        </td>\n",
       "        </tr>\n",
       "        <tr>\n",
       "            <td>2   </td> <td>0   </td> <td>1929877      </td> <td>1929882          </td> <td>1932956        </td> <td>1934662        </td> <td>1918828        </td> <td>1921535        </td> <td>1930276        </td> <td>1946335        </td> <td>1933398        </td> <td>1902229        </td> <td>1863680        </td> <td>1847935        </td>\n",
       "        </tr>\n",
       "    </tbody>\n",
       "</table>"
      ],
      "text/plain": [
       "SEX  | AGE  | CENSUS2010POP | ESTIMATESBASE2010 | POPESTIMATE2010 | POPESTIMATE2011 | POPESTIMATE2012 | POPESTIMATE2013 | POPESTIMATE2014 | POPESTIMATE2015 | POPESTIMATE2016 | POPESTIMATE2017 | POPESTIMATE2018 | POPESTIMATE2019\n",
       "0    | 0    | 3944153       | 3944160           | 3951430         | 3963092         | 3926570         | 3931258         | 3954787         | 3983981         | 3954773         | 3893990         | 3815343         | 3783052\n",
       "1    | 0    | 2014276       | 2014278           | 2018474         | 2028430         | 2007742         | 2009723         | 2024511         | 2037646         | 2021375         | 1991761         | 1951663         | 1935117\n",
       "2    | 0    | 1929877       | 1929882           | 1932956         | 1934662         | 1918828         | 1921535         | 1930276         | 1946335         | 1933398         | 1902229         | 1863680         | 1847935"
      ]
     },
     "execution_count": 10,
     "metadata": {},
     "output_type": "execute_result"
    }
   ],
   "source": [
    "full.where('AGE',0)"
   ]
  },
  {
   "cell_type": "code",
   "execution_count": 20,
   "metadata": {},
   "outputs": [
    {
     "data": {
      "text/html": [
       "<table border=\"1\" class=\"dataframe\">\n",
       "    <thead>\n",
       "        <tr>\n",
       "            <th>SEX</th> <th>AGE</th> <th>POPESTIMATE2010</th> <th>POPESTIMATE2014</th>\n",
       "        </tr>\n",
       "    </thead>\n",
       "    <tbody>\n",
       "        <tr>\n",
       "            <td>0   </td> <td>0   </td> <td>3951430        </td> <td>3954787        </td>\n",
       "        </tr>\n",
       "        <tr>\n",
       "            <td>0   </td> <td>1   </td> <td>3957730        </td> <td>3948891        </td>\n",
       "        </tr>\n",
       "        <tr>\n",
       "            <td>0   </td> <td>2   </td> <td>4090621        </td> <td>3958711        </td>\n",
       "        </tr>\n",
       "        <tr>\n",
       "            <td>0   </td> <td>3   </td> <td>4111688        </td> <td>4005928        </td>\n",
       "        </tr>\n",
       "        <tr>\n",
       "            <td>0   </td> <td>4   </td> <td>4077346        </td> <td>4004032        </td>\n",
       "        </tr>\n",
       "        <tr>\n",
       "            <td>0   </td> <td>5   </td> <td>4064521        </td> <td>4004576        </td>\n",
       "        </tr>\n",
       "        <tr>\n",
       "            <td>0   </td> <td>6   </td> <td>4072904        </td> <td>4133372        </td>\n",
       "        </tr>\n",
       "        <tr>\n",
       "            <td>0   </td> <td>7   </td> <td>4042990        </td> <td>4152666        </td>\n",
       "        </tr>\n",
       "        <tr>\n",
       "            <td>0   </td> <td>8   </td> <td>4025501        </td> <td>4118349        </td>\n",
       "        </tr>\n",
       "        <tr>\n",
       "            <td>0   </td> <td>9   </td> <td>4125312        </td> <td>4106068        </td>\n",
       "        </tr>\n",
       "    </tbody>\n",
       "</table>\n",
       "<p>... (296 rows omitted)</p>"
      ],
      "text/plain": [
       "SEX  | AGE  | POPESTIMATE2010 | POPESTIMATE2014\n",
       "0    | 0    | 3951430         | 3954787\n",
       "0    | 1    | 3957730         | 3948891\n",
       "0    | 2    | 4090621         | 3958711\n",
       "0    | 3    | 4111688         | 4005928\n",
       "0    | 4    | 4077346         | 4004032\n",
       "0    | 5    | 4064521         | 4004576\n",
       "0    | 6    | 4072904         | 4133372\n",
       "0    | 7    | 4042990         | 4152666\n",
       "0    | 8    | 4025501         | 4118349\n",
       "0    | 9    | 4125312         | 4106068\n",
       "... (296 rows omitted)"
      ]
     },
     "execution_count": 20,
     "metadata": {},
     "output_type": "execute_result"
    }
   ],
   "source": [
    "# Keep only the columns we care about\n",
    "# sex, age, estimate from 2010, estimate from 2014\n",
    "partial = full.select(\"SEX\",\"AGE\",\"POPESTIMATE2010\", \"POPESTIMATE2014\")\n",
    "partial"
   ]
  },
  {
   "cell_type": "code",
   "execution_count": 21,
   "metadata": {},
   "outputs": [
    {
     "data": {
      "text/html": [
       "<table border=\"1\" class=\"dataframe\">\n",
       "    <thead>\n",
       "        <tr>\n",
       "            <th>SEX</th> <th>AGE</th> <th>2010</th> <th>2014</th>\n",
       "        </tr>\n",
       "    </thead>\n",
       "    <tbody>\n",
       "        <tr>\n",
       "            <td>0   </td> <td>0   </td> <td>3951430</td> <td>3954787</td>\n",
       "        </tr>\n",
       "        <tr>\n",
       "            <td>0   </td> <td>1   </td> <td>3957730</td> <td>3948891</td>\n",
       "        </tr>\n",
       "        <tr>\n",
       "            <td>0   </td> <td>2   </td> <td>4090621</td> <td>3958711</td>\n",
       "        </tr>\n",
       "        <tr>\n",
       "            <td>0   </td> <td>3   </td> <td>4111688</td> <td>4005928</td>\n",
       "        </tr>\n",
       "        <tr>\n",
       "            <td>0   </td> <td>4   </td> <td>4077346</td> <td>4004032</td>\n",
       "        </tr>\n",
       "        <tr>\n",
       "            <td>0   </td> <td>5   </td> <td>4064521</td> <td>4004576</td>\n",
       "        </tr>\n",
       "        <tr>\n",
       "            <td>0   </td> <td>6   </td> <td>4072904</td> <td>4133372</td>\n",
       "        </tr>\n",
       "        <tr>\n",
       "            <td>0   </td> <td>7   </td> <td>4042990</td> <td>4152666</td>\n",
       "        </tr>\n",
       "        <tr>\n",
       "            <td>0   </td> <td>8   </td> <td>4025501</td> <td>4118349</td>\n",
       "        </tr>\n",
       "        <tr>\n",
       "            <td>0   </td> <td>9   </td> <td>4125312</td> <td>4106068</td>\n",
       "        </tr>\n",
       "    </tbody>\n",
       "</table>\n",
       "<p>... (296 rows omitted)</p>"
      ],
      "text/plain": [
       "SEX  | AGE  | 2010    | 2014\n",
       "0    | 0    | 3951430 | 3954787\n",
       "0    | 1    | 3957730 | 3948891\n",
       "0    | 2    | 4090621 | 3958711\n",
       "0    | 3    | 4111688 | 4005928\n",
       "0    | 4    | 4077346 | 4004032\n",
       "0    | 5    | 4064521 | 4004576\n",
       "0    | 6    | 4072904 | 4133372\n",
       "0    | 7    | 4042990 | 4152666\n",
       "0    | 8    | 4025501 | 4118349\n",
       "0    | 9    | 4125312 | 4106068\n",
       "... (296 rows omitted)"
      ]
     },
     "execution_count": 21,
     "metadata": {},
     "output_type": "execute_result"
    }
   ],
   "source": [
    "# Make things easier to read by changing the names of the estimate labels\n",
    "simple = partial.relabeled(\"POPESTIMATE2010\",\"2010\").relabeled(\"POPESTIMATE2014\",\"2014\")\n",
    "simple"
   ]
  },
  {
   "cell_type": "markdown",
   "metadata": {},
   "source": [
    "<b>warning</b>\n",
    "relabel works in place, modifies the existing table\n",
    "relabeled, doesnt work in place, i.e. it does not modiffy the existing table"
   ]
  },
  {
   "cell_type": "code",
   "execution_count": 27,
   "metadata": {},
   "outputs": [
    {
     "data": {
      "text/html": [
       "<table border=\"1\" class=\"dataframe\">\n",
       "    <thead>\n",
       "        <tr>\n",
       "            <th>SEX</th> <th>AGE</th> <th>2010</th> <th>2014</th>\n",
       "        </tr>\n",
       "    </thead>\n",
       "    <tbody>\n",
       "        <tr>\n",
       "            <td>0   </td> <td>0   </td> <td>3951430</td> <td>3954787</td>\n",
       "        </tr>\n",
       "        <tr>\n",
       "            <td>1   </td> <td>0   </td> <td>2018474</td> <td>2024511</td>\n",
       "        </tr>\n",
       "        <tr>\n",
       "            <td>2   </td> <td>0   </td> <td>1932956</td> <td>1930276</td>\n",
       "        </tr>\n",
       "        <tr>\n",
       "            <td>0   </td> <td>1   </td> <td>3957730</td> <td>3948891</td>\n",
       "        </tr>\n",
       "        <tr>\n",
       "            <td>1   </td> <td>1   </td> <td>2020235</td> <td>2018511</td>\n",
       "        </tr>\n",
       "    </tbody>\n",
       "</table>\n",
       "<p>... (301 rows omitted)</p>"
      ],
      "text/plain": [
       "<IPython.core.display.HTML object>"
      ]
     },
     "metadata": {},
     "output_type": "display_data"
    }
   ],
   "source": [
    "# Sort by age\n",
    "simple_sorted = simple.sort('AGE') #.where('AGE', 0)\n",
    "simple_sorted.show(5)"
   ]
  },
  {
   "cell_type": "code",
   "execution_count": 34,
   "metadata": {},
   "outputs": [
    {
     "data": {
      "text/html": [
       "<table border=\"1\" class=\"dataframe\">\n",
       "    <thead>\n",
       "        <tr>\n",
       "            <th>SEX</th> <th>AGE</th> <th>2010</th> <th>2014</th>\n",
       "        </tr>\n",
       "    </thead>\n",
       "    <tbody>\n",
       "        <tr>\n",
       "            <td>0   </td> <td>999 </td> <td>309321666</td> <td>318301008</td>\n",
       "        </tr>\n",
       "        <tr>\n",
       "            <td>1   </td> <td>999 </td> <td>152074758</td> <td>156654424</td>\n",
       "        </tr>\n",
       "        <tr>\n",
       "            <td>2   </td> <td>999 </td> <td>157246908</td> <td>161646584</td>\n",
       "        </tr>\n",
       "        <tr>\n",
       "            <td>0   </td> <td>100 </td> <td>54437    </td> <td>70685    </td>\n",
       "        </tr>\n",
       "        <tr>\n",
       "            <td>1   </td> <td>100 </td> <td>9357     </td> <td>13577    </td>\n",
       "        </tr>\n",
       "        <tr>\n",
       "            <td>2   </td> <td>100 </td> <td>45080    </td> <td>57108    </td>\n",
       "        </tr>\n",
       "        <tr>\n",
       "            <td>0   </td> <td>99  </td> <td>32214    </td> <td>41277    </td>\n",
       "        </tr>\n",
       "        <tr>\n",
       "            <td>1   </td> <td>99  </td> <td>6116     </td> <td>9032     </td>\n",
       "        </tr>\n",
       "        <tr>\n",
       "            <td>2   </td> <td>99  </td> <td>26098    </td> <td>32245    </td>\n",
       "        </tr>\n",
       "        <tr>\n",
       "            <td>0   </td> <td>98  </td> <td>47086    </td> <td>59546    </td>\n",
       "        </tr>\n",
       "    </tbody>\n",
       "</table>\n",
       "<p>... (296 rows omitted)</p>"
      ],
      "text/plain": [
       "SEX  | AGE  | 2010      | 2014\n",
       "0    | 999  | 309321666 | 318301008\n",
       "1    | 999  | 152074758 | 156654424\n",
       "2    | 999  | 157246908 | 161646584\n",
       "0    | 100  | 54437     | 70685\n",
       "1    | 100  | 9357      | 13577\n",
       "2    | 100  | 45080     | 57108\n",
       "0    | 99   | 32214     | 41277\n",
       "1    | 99   | 6116      | 9032\n",
       "2    | 99   | 26098     | 32245\n",
       "0    | 98   | 47086     | 59546\n",
       "... (296 rows omitted)"
      ]
     },
     "execution_count": 34,
     "metadata": {},
     "output_type": "execute_result"
    }
   ],
   "source": [
    "# Sort by age (another way)\n",
    "simple.sort(\"AGE\", descending=True)"
   ]
  },
  {
   "cell_type": "markdown",
   "metadata": {},
   "source": [
    "<b> What age, had the most number of people in the 2010 estimate?"
   ]
  },
  {
   "cell_type": "code",
   "execution_count": 42,
   "metadata": {},
   "outputs": [],
   "source": [
    "largest_age_group = np.max(simple.where(\"AGE\", are.not_equal_to(999)).where(\"SEX\",0).column(\"2010\"))"
   ]
  },
  {
   "cell_type": "code",
   "execution_count": 43,
   "metadata": {},
   "outputs": [
    {
     "data": {
      "text/html": [
       "<table border=\"1\" class=\"dataframe\">\n",
       "    <thead>\n",
       "        <tr>\n",
       "            <th>SEX</th> <th>AGE</th> <th>2010</th> <th>2014</th>\n",
       "        </tr>\n",
       "    </thead>\n",
       "    <tbody>\n",
       "        <tr>\n",
       "            <td>0   </td> <td>50  </td> <td>4645689</td> <td>4479191</td>\n",
       "        </tr>\n",
       "    </tbody>\n",
       "</table>"
      ],
      "text/plain": [
       "SEX  | AGE  | 2010    | 2014\n",
       "0    | 50   | 4645689 | 4479191"
      ]
     },
     "execution_count": 43,
     "metadata": {},
     "output_type": "execute_result"
    }
   ],
   "source": [
    "simple.where(\"2010\",largest_age_group) "
   ]
  },
  {
   "cell_type": "markdown",
   "metadata": {},
   "source": [
    "the largest age group in the 2010 estimate were 50 year olds"
   ]
  },
  {
   "cell_type": "markdown",
   "metadata": {},
   "source": [
    "<b>Question:</b> What does `999` mean in age?"
   ]
  },
  {
   "cell_type": "code",
   "execution_count": 45,
   "metadata": {},
   "outputs": [
    {
     "data": {
      "text/html": [
       "<table border=\"1\" class=\"dataframe\">\n",
       "    <thead>\n",
       "        <tr>\n",
       "            <th>SEX</th> <th>AGE</th> <th>2010</th> <th>2014</th>\n",
       "        </tr>\n",
       "    </thead>\n",
       "    <tbody>\n",
       "        <tr>\n",
       "            <td>0   </td> <td>999 </td> <td>309321666</td> <td>318301008</td>\n",
       "        </tr>\n",
       "        <tr>\n",
       "            <td>1   </td> <td>999 </td> <td>152074758</td> <td>156654424</td>\n",
       "        </tr>\n",
       "        <tr>\n",
       "            <td>2   </td> <td>999 </td> <td>157246908</td> <td>161646584</td>\n",
       "        </tr>\n",
       "        <tr>\n",
       "            <td>0   </td> <td>100 </td> <td>54437    </td> <td>70685    </td>\n",
       "        </tr>\n",
       "        <tr>\n",
       "            <td>1   </td> <td>100 </td> <td>9357     </td> <td>13577    </td>\n",
       "        </tr>\n",
       "        <tr>\n",
       "            <td>2   </td> <td>100 </td> <td>45080    </td> <td>57108    </td>\n",
       "        </tr>\n",
       "        <tr>\n",
       "            <td>0   </td> <td>99  </td> <td>32214    </td> <td>41277    </td>\n",
       "        </tr>\n",
       "        <tr>\n",
       "            <td>1   </td> <td>99  </td> <td>6116     </td> <td>9032     </td>\n",
       "        </tr>\n",
       "        <tr>\n",
       "            <td>2   </td> <td>99  </td> <td>26098    </td> <td>32245    </td>\n",
       "        </tr>\n",
       "        <tr>\n",
       "            <td>0   </td> <td>98  </td> <td>47086    </td> <td>59546    </td>\n",
       "        </tr>\n",
       "    </tbody>\n",
       "</table>\n",
       "<p>... (296 rows omitted)</p>"
      ],
      "text/plain": [
       "SEX  | AGE  | 2010      | 2014\n",
       "0    | 999  | 309321666 | 318301008\n",
       "1    | 999  | 152074758 | 156654424\n",
       "2    | 999  | 157246908 | 161646584\n",
       "0    | 100  | 54437     | 70685\n",
       "1    | 100  | 9357      | 13577\n",
       "2    | 100  | 45080     | 57108\n",
       "0    | 99   | 32214     | 41277\n",
       "1    | 99   | 6116      | 9032\n",
       "2    | 99   | 26098     | 32245\n",
       "0    | 98   | 47086     | 59546\n",
       "... (296 rows omitted)"
      ]
     },
     "execution_count": 45,
     "metadata": {},
     "output_type": "execute_result"
    }
   ],
   "source": [
    "simple.sort(\"AGE\", descending=True)"
   ]
  },
  {
   "cell_type": "markdown",
   "metadata": {},
   "source": [
    "Maybe it reporesents that number of people in that category (across all ages)?"
   ]
  },
  {
   "cell_type": "code",
   "execution_count": 47,
   "metadata": {},
   "outputs": [
    {
     "data": {
      "text/plain": [
       "array([  3951430,   3957730,   4090621,   4111688,   4077346,   4064521,\n",
       "         4072904,   4042990,   4025501,   4125312,   4186957,   4115415,\n",
       "         4113230,   4119537,   4145467,   4230851,   4313036,   4376130,\n",
       "         4490335,   4570747,   4567951,   4387413,   4286330,   4216524,\n",
       "         4243080,   4288870,   4160319,   4236631,   4247132,   4209925,\n",
       "         4303827,   4042153,   3967147,   3933076,   3821734,   3947854,\n",
       "         3829703,   3896217,   4079655,   4323834,   4386825,   4162937,\n",
       "         4082210,   4093285,   4177952,   4438000,   4529194,   4534994,\n",
       "         4534165,   4598583,   4645689,   4498526,   4480160,   4439014,\n",
       "         4288067,   4258545,   4092793,   3946199,   3802133,   3693990,\n",
       "         3616436,   3519888,   3494867,   3651970,   2705897,   2678332,\n",
       "         2621200,   2693584,   2359713,   2167750,   2062466,   1953486,\n",
       "         1883725,   1750237,   1685936,   1631850,   1481687,   1449156,\n",
       "         1402199,   1354926,   1319723,   1212519,   1158188,   1081226,\n",
       "          986814,    914842,    821428,    721149,    636650,    546248,\n",
       "          448417,    344555,    288965,    219192,    170904,    131195,\n",
       "           97259,     68966,     47086,     32214,     54437, 309321666])"
      ]
     },
     "execution_count": 47,
     "metadata": {},
     "output_type": "execute_result"
    }
   ],
   "source": [
    "simple.where(\"SEX\",0).column('2010')"
   ]
  },
  {
   "cell_type": "code",
   "execution_count": 49,
   "metadata": {},
   "outputs": [],
   "source": [
    "counts_0s_2010 = simple.where(\"SEX\",0).column('2010')"
   ]
  },
  {
   "cell_type": "code",
   "execution_count": 51,
   "metadata": {},
   "outputs": [
    {
     "data": {
      "text/plain": [
       "True"
      ]
     },
     "execution_count": 51,
     "metadata": {},
     "output_type": "execute_result"
    }
   ],
   "source": [
    "counts_0s_2010.sum() - counts_0s_2010.item(-1) == counts_0s_2010.item(-1)"
   ]
  },
  {
   "cell_type": "markdown",
   "metadata": {},
   "source": [
    "Indeed, `999` represents that sum of all similar individuals"
   ]
  },
  {
   "cell_type": "code",
   "execution_count": 56,
   "metadata": {},
   "outputs": [
    {
     "data": {
      "text/plain": [
       "7902860"
      ]
     },
     "execution_count": 56,
     "metadata": {},
     "output_type": "execute_result"
    }
   ],
   "source": [
    "simple.where(\"AGE\",0).column(\"2010\").sum()"
   ]
  },
  {
   "cell_type": "code",
   "execution_count": 62,
   "metadata": {},
   "outputs": [
    {
     "data": {
      "text/plain": [
       "3951430"
      ]
     },
     "execution_count": 62,
     "metadata": {},
     "output_type": "execute_result"
    }
   ],
   "source": [
    "simple.where(\"AGE\",0).where(\"SEX\",0).column(\"2010\").item(0)"
   ]
  },
  {
   "cell_type": "code",
   "execution_count": 63,
   "metadata": {},
   "outputs": [
    {
     "data": {
      "text/plain": [
       "3951430.0"
      ]
     },
     "execution_count": 63,
     "metadata": {},
     "output_type": "execute_result"
    }
   ],
   "source": [
    "simple.where(\"AGE\",0).column(\"2010\").sum() / 2"
   ]
  },
  {
   "cell_type": "markdown",
   "metadata": {},
   "source": [
    "# Column Arithmetic \n",
    "\n",
    "Difference between 14 estimate and 10 estimate"
   ]
  },
  {
   "cell_type": "code",
   "execution_count": 85,
   "metadata": {},
   "outputs": [
    {
     "data": {
      "text/plain": [
       "array([   3357,   -8839, -131910, -105760,  -73314,  -59945,   60468,\n",
       "        109676,   92848,  -19244,  -72399,  -30958,  -46043,   48558,\n",
       "         85886,  -68023, -147111, -194190, -268991, -249958, -157041,\n",
       "         92853,  317785,  475771,  443273,  212376,  236846,   88165,\n",
       "         98115,  172265,  -56880,  272298,  347060,  335145,  532250,\n",
       "        136311,  174715,   68222, -230799, -354497, -541000, -257140,\n",
       "          1614,  225980,  197498, -290468, -466939, -466409, -388368,\n",
       "       -201514, -166498,  -22245,  -12436,   84231,  275186,  151898,\n",
       "        291659,  389709,  378718,  451891,  359969,  305813,  182541,\n",
       "        -87373,  775892,  698338,  719449,  786520,  207798,  362710,\n",
       "        398960,  562906,  307917,  249865,  202205,  140582,  211273,\n",
       "        106815,   78536,   59084,  -56183,    3115,   -5262,    7828,\n",
       "         47604,    7556,   31247,   46460,   35783,   50703,   61864,\n",
       "         80279,   63563,   65450,   46109,   24797,   23168,   13982,\n",
       "         12460,    9063,   16248, 8979342,    6037,   -1724,  -64793,\n",
       "        -51899,  -40690,  -33691,   29990,   58326,   49945,  -10587,\n",
       "        -43058,  -21920,  -29334,   22411,   40636,  -42345,  -84961,\n",
       "       -116022, -143314, -116700,  -65133,   66197,  177134,  247371,\n",
       "        228627,  116282,  134150,   61923,   69216,  103048,  -29408,\n",
       "        141170,  177073,  172868,  278817,   67863,   92768,   39631,\n",
       "       -110996, -168282, -278711, -139593,   -6336,  110039,  102967,\n",
       "       -141909, -223402, -225611, -183789,  -88880,  -85780,  -10925,\n",
       "         -5398,   42510,  145565,   77612,  150715,  194275,  183704,\n",
       "        222591,  167142,  140959,   79722,  -56839,  365699,  330926,\n",
       "        346052,  380715,  103236,  178169,  192379,  264193,  146747,\n",
       "        117101,   97405,   76578,  103842,   58087,   45719,   36339,\n",
       "         -9865,   14454,   13403,   18265,   34190,   19950,   25815,\n",
       "         28057,   22691,   24073,   28057,   33183,   25958,   25560,\n",
       "         18106,   11031,    9281,    5740,    4140,    2916,    4220,\n",
       "       4579666,   -2680,   -7115,  -67117,  -53861,  -32624,  -26254,\n",
       "         30478,   51350,   42903,   -8657,  -29341,   -9038,  -16709,\n",
       "         26147,   45250,  -25678,  -62150,  -78168, -125677, -133258,\n",
       "        -91908,   26656,  140651,  228400,  214646,   96094,  102696,\n",
       "         26242,   28899,   69217,  -27472,  131128,  169987,  162277,\n",
       "        253433,   68448,   81947,   28591, -119803, -186215, -262289,\n",
       "       -117547,    7950,  115941,   94531, -148559, -243537, -240798,\n",
       "       -204579, -112634,  -80718,  -11320,   -7038,   41721,  129621,\n",
       "         74286,  140944,  195434,  195014,  229300,  192827,  164854,\n",
       "        102819,  -30534,  410193,  367412,  373397,  405805,  104562,\n",
       "        184541,  206581,  298713,  161170,  132764,  104800,   64004,\n",
       "        107431,   48728,   32817,   22745,  -46318,  -11339,  -18665,\n",
       "        -10437,   13414,  -12394,    5432,   18403,   13092,   26630,\n",
       "         33807,   47096,   37605,   39890,   28003,   13766,   13887,\n",
       "          8242,    8320,    6147,   12028, 4399676])"
      ]
     },
     "execution_count": 85,
     "metadata": {},
     "output_type": "execute_result"
    }
   ],
   "source": [
    "estimate_2014 = simple.column(\"2014\")#simple_sorted.column('2014') \n",
    "estimate_2010 = simple.column(\"2010\")#simple_sorted.column('2010')\n",
    "estimate_2014 - estimate_2010"
   ]
  },
  {
   "cell_type": "markdown",
   "metadata": {},
   "source": [
    "## Make new table with change"
   ]
  },
  {
   "cell_type": "code",
   "execution_count": 86,
   "metadata": {},
   "outputs": [],
   "source": [
    "# store the difference in array assigned to the name `changed`\n",
    "difference_in_estamtes = estimate_2014 - estimate_2010"
   ]
  },
  {
   "cell_type": "markdown",
   "metadata": {},
   "source": [
    "#### addthe change as a column to a table"
   ]
  },
  {
   "cell_type": "code",
   "execution_count": 87,
   "metadata": {},
   "outputs": [
    {
     "data": {
      "text/html": [
       "<table border=\"1\" class=\"dataframe\">\n",
       "    <thead>\n",
       "        <tr>\n",
       "            <th>SEX</th> <th>AGE</th> <th>2010</th> <th>2014</th> <th>change</th>\n",
       "        </tr>\n",
       "    </thead>\n",
       "    <tbody>\n",
       "        <tr>\n",
       "            <td>0   </td> <td>0   </td> <td>3951430</td> <td>3954787</td> <td>3357   </td>\n",
       "        </tr>\n",
       "        <tr>\n",
       "            <td>0   </td> <td>1   </td> <td>3957730</td> <td>3948891</td> <td>-8839  </td>\n",
       "        </tr>\n",
       "        <tr>\n",
       "            <td>0   </td> <td>2   </td> <td>4090621</td> <td>3958711</td> <td>-131910</td>\n",
       "        </tr>\n",
       "        <tr>\n",
       "            <td>0   </td> <td>3   </td> <td>4111688</td> <td>4005928</td> <td>-105760</td>\n",
       "        </tr>\n",
       "        <tr>\n",
       "            <td>0   </td> <td>4   </td> <td>4077346</td> <td>4004032</td> <td>-73314 </td>\n",
       "        </tr>\n",
       "        <tr>\n",
       "            <td>0   </td> <td>5   </td> <td>4064521</td> <td>4004576</td> <td>-59945 </td>\n",
       "        </tr>\n",
       "        <tr>\n",
       "            <td>0   </td> <td>6   </td> <td>4072904</td> <td>4133372</td> <td>60468  </td>\n",
       "        </tr>\n",
       "        <tr>\n",
       "            <td>0   </td> <td>7   </td> <td>4042990</td> <td>4152666</td> <td>109676 </td>\n",
       "        </tr>\n",
       "        <tr>\n",
       "            <td>0   </td> <td>8   </td> <td>4025501</td> <td>4118349</td> <td>92848  </td>\n",
       "        </tr>\n",
       "        <tr>\n",
       "            <td>0   </td> <td>9   </td> <td>4125312</td> <td>4106068</td> <td>-19244 </td>\n",
       "        </tr>\n",
       "    </tbody>\n",
       "</table>\n",
       "<p>... (296 rows omitted)</p>"
      ],
      "text/plain": [
       "SEX  | AGE  | 2010    | 2014    | change\n",
       "0    | 0    | 3951430 | 3954787 | 3357\n",
       "0    | 1    | 3957730 | 3948891 | -8839\n",
       "0    | 2    | 4090621 | 3958711 | -131910\n",
       "0    | 3    | 4111688 | 4005928 | -105760\n",
       "0    | 4    | 4077346 | 4004032 | -73314\n",
       "0    | 5    | 4064521 | 4004576 | -59945\n",
       "0    | 6    | 4072904 | 4133372 | 60468\n",
       "0    | 7    | 4042990 | 4152666 | 109676\n",
       "0    | 8    | 4025501 | 4118349 | 92848\n",
       "0    | 9    | 4125312 | 4106068 | -19244\n",
       "... (296 rows omitted)"
      ]
     },
     "execution_count": 87,
     "metadata": {},
     "output_type": "execute_result"
    }
   ],
   "source": [
    "partial_census_change = simple.with_columns(\"change\", difference_in_estamtes)\n",
    "\n",
    "partial_census_change"
   ]
  },
  {
   "cell_type": "markdown",
   "metadata": {},
   "source": [
    "### Reformatter"
   ]
  },
  {
   "cell_type": "code",
   "execution_count": 88,
   "metadata": {},
   "outputs": [
    {
     "data": {
      "text/html": [
       "<table border=\"1\" class=\"dataframe\">\n",
       "    <thead>\n",
       "        <tr>\n",
       "            <th>SEX</th> <th>AGE</th> <th>2010</th> <th>2014</th> <th>change</th>\n",
       "        </tr>\n",
       "    </thead>\n",
       "    <tbody>\n",
       "        <tr>\n",
       "            <td>0   </td> <td>0   </td> <td>3,951,430</td> <td>3954787</td> <td>3357   </td>\n",
       "        </tr>\n",
       "        <tr>\n",
       "            <td>0   </td> <td>1   </td> <td>3,957,730</td> <td>3948891</td> <td>-8839  </td>\n",
       "        </tr>\n",
       "        <tr>\n",
       "            <td>0   </td> <td>2   </td> <td>4,090,621</td> <td>3958711</td> <td>-131910</td>\n",
       "        </tr>\n",
       "        <tr>\n",
       "            <td>0   </td> <td>3   </td> <td>4,111,688</td> <td>4005928</td> <td>-105760</td>\n",
       "        </tr>\n",
       "        <tr>\n",
       "            <td>0   </td> <td>4   </td> <td>4,077,346</td> <td>4004032</td> <td>-73314 </td>\n",
       "        </tr>\n",
       "        <tr>\n",
       "            <td>0   </td> <td>5   </td> <td>4,064,521</td> <td>4004576</td> <td>-59945 </td>\n",
       "        </tr>\n",
       "        <tr>\n",
       "            <td>0   </td> <td>6   </td> <td>4,072,904</td> <td>4133372</td> <td>60468  </td>\n",
       "        </tr>\n",
       "        <tr>\n",
       "            <td>0   </td> <td>7   </td> <td>4,042,990</td> <td>4152666</td> <td>109676 </td>\n",
       "        </tr>\n",
       "        <tr>\n",
       "            <td>0   </td> <td>8   </td> <td>4,025,501</td> <td>4118349</td> <td>92848  </td>\n",
       "        </tr>\n",
       "        <tr>\n",
       "            <td>0   </td> <td>9   </td> <td>4,125,312</td> <td>4106068</td> <td>-19244 </td>\n",
       "        </tr>\n",
       "    </tbody>\n",
       "</table>\n",
       "<p>... (296 rows omitted)</p>"
      ],
      "text/plain": [
       "SEX  | AGE  | 2010      | 2014    | change\n",
       "0    | 0    | 3,951,430 | 3954787 | 3357\n",
       "0    | 1    | 3,957,730 | 3948891 | -8839\n",
       "0    | 2    | 4,090,621 | 3958711 | -131910\n",
       "0    | 3    | 4,111,688 | 4005928 | -105760\n",
       "0    | 4    | 4,077,346 | 4004032 | -73314\n",
       "0    | 5    | 4,064,521 | 4004576 | -59945\n",
       "0    | 6    | 4,072,904 | 4133372 | 60468\n",
       "0    | 7    | 4,042,990 | 4152666 | 109676\n",
       "0    | 8    | 4,025,501 | 4118349 | 92848\n",
       "0    | 9    | 4,125,312 | 4106068 | -19244\n",
       "... (296 rows omitted)"
      ]
     },
     "execution_count": 88,
     "metadata": {},
     "output_type": "execute_result"
    }
   ],
   "source": [
    "## Reformat these changes\n",
    "# NumberFormatter, PercentFormatter\n",
    "# set_format\n",
    "\n",
    "partial_census_change.set_format(\"2010\", NumberFormatter)\n"
   ]
  },
  {
   "cell_type": "code",
   "execution_count": 89,
   "metadata": {},
   "outputs": [
    {
     "data": {
      "text/html": [
       "<table border=\"1\" class=\"dataframe\">\n",
       "    <thead>\n",
       "        <tr>\n",
       "            <th>SEX</th> <th>AGE</th> <th>2010</th> <th>2014</th> <th>change</th>\n",
       "        </tr>\n",
       "    </thead>\n",
       "    <tbody>\n",
       "        <tr>\n",
       "            <td>0   </td> <td>0   </td> <td>3,951,430</td> <td>3954787</td> <td>3357   </td>\n",
       "        </tr>\n",
       "        <tr>\n",
       "            <td>0   </td> <td>1   </td> <td>3,957,730</td> <td>3948891</td> <td>-8839  </td>\n",
       "        </tr>\n",
       "        <tr>\n",
       "            <td>0   </td> <td>2   </td> <td>4,090,621</td> <td>3958711</td> <td>-131910</td>\n",
       "        </tr>\n",
       "        <tr>\n",
       "            <td>0   </td> <td>3   </td> <td>4,111,688</td> <td>4005928</td> <td>-105760</td>\n",
       "        </tr>\n",
       "        <tr>\n",
       "            <td>0   </td> <td>4   </td> <td>4,077,346</td> <td>4004032</td> <td>-73314 </td>\n",
       "        </tr>\n",
       "        <tr>\n",
       "            <td>0   </td> <td>5   </td> <td>4,064,521</td> <td>4004576</td> <td>-59945 </td>\n",
       "        </tr>\n",
       "        <tr>\n",
       "            <td>0   </td> <td>6   </td> <td>4,072,904</td> <td>4133372</td> <td>60468  </td>\n",
       "        </tr>\n",
       "        <tr>\n",
       "            <td>0   </td> <td>7   </td> <td>4,042,990</td> <td>4152666</td> <td>109676 </td>\n",
       "        </tr>\n",
       "        <tr>\n",
       "            <td>0   </td> <td>8   </td> <td>4,025,501</td> <td>4118349</td> <td>92848  </td>\n",
       "        </tr>\n",
       "        <tr>\n",
       "            <td>0   </td> <td>9   </td> <td>4,125,312</td> <td>4106068</td> <td>-19244 </td>\n",
       "        </tr>\n",
       "    </tbody>\n",
       "</table>\n",
       "<p>... (296 rows omitted)</p>"
      ],
      "text/plain": [
       "SEX  | AGE  | 2010      | 2014    | change\n",
       "0    | 0    | 3,951,430 | 3954787 | 3357\n",
       "0    | 1    | 3,957,730 | 3948891 | -8839\n",
       "0    | 2    | 4,090,621 | 3958711 | -131910\n",
       "0    | 3    | 4,111,688 | 4005928 | -105760\n",
       "0    | 4    | 4,077,346 | 4004032 | -73314\n",
       "0    | 5    | 4,064,521 | 4004576 | -59945\n",
       "0    | 6    | 4,072,904 | 4133372 | 60468\n",
       "0    | 7    | 4,042,990 | 4152666 | 109676\n",
       "0    | 8    | 4,025,501 | 4118349 | 92848\n",
       "0    | 9    | 4,125,312 | 4106068 | -19244\n",
       "... (296 rows omitted)"
      ]
     },
     "execution_count": 89,
     "metadata": {},
     "output_type": "execute_result"
    }
   ],
   "source": [
    "partial_census_change"
   ]
  },
  {
   "cell_type": "code",
   "execution_count": 90,
   "metadata": {},
   "outputs": [
    {
     "data": {
      "text/html": [
       "<table border=\"1\" class=\"dataframe\">\n",
       "    <thead>\n",
       "        <tr>\n",
       "            <th>SEX</th> <th>AGE</th> <th>2010</th> <th>2014</th> <th>change</th>\n",
       "        </tr>\n",
       "    </thead>\n",
       "    <tbody>\n",
       "        <tr>\n",
       "            <td>0   </td> <td>0   </td> <td>3,951,430</td> <td>3,954,787</td> <td>3357   </td>\n",
       "        </tr>\n",
       "        <tr>\n",
       "            <td>0   </td> <td>1   </td> <td>3,957,730</td> <td>3,948,891</td> <td>-8839  </td>\n",
       "        </tr>\n",
       "        <tr>\n",
       "            <td>0   </td> <td>2   </td> <td>4,090,621</td> <td>3,958,711</td> <td>-131910</td>\n",
       "        </tr>\n",
       "        <tr>\n",
       "            <td>0   </td> <td>3   </td> <td>4,111,688</td> <td>4,005,928</td> <td>-105760</td>\n",
       "        </tr>\n",
       "        <tr>\n",
       "            <td>0   </td> <td>4   </td> <td>4,077,346</td> <td>4,004,032</td> <td>-73314 </td>\n",
       "        </tr>\n",
       "        <tr>\n",
       "            <td>0   </td> <td>5   </td> <td>4,064,521</td> <td>4,004,576</td> <td>-59945 </td>\n",
       "        </tr>\n",
       "        <tr>\n",
       "            <td>0   </td> <td>6   </td> <td>4,072,904</td> <td>4,133,372</td> <td>60468  </td>\n",
       "        </tr>\n",
       "        <tr>\n",
       "            <td>0   </td> <td>7   </td> <td>4,042,990</td> <td>4,152,666</td> <td>109676 </td>\n",
       "        </tr>\n",
       "        <tr>\n",
       "            <td>0   </td> <td>8   </td> <td>4,025,501</td> <td>4,118,349</td> <td>92848  </td>\n",
       "        </tr>\n",
       "        <tr>\n",
       "            <td>0   </td> <td>9   </td> <td>4,125,312</td> <td>4,106,068</td> <td>-19244 </td>\n",
       "        </tr>\n",
       "    </tbody>\n",
       "</table>\n",
       "<p>... (296 rows omitted)</p>"
      ],
      "text/plain": [
       "SEX  | AGE  | 2010      | 2014      | change\n",
       "0    | 0    | 3,951,430 | 3,954,787 | 3357\n",
       "0    | 1    | 3,957,730 | 3,948,891 | -8839\n",
       "0    | 2    | 4,090,621 | 3,958,711 | -131910\n",
       "0    | 3    | 4,111,688 | 4,005,928 | -105760\n",
       "0    | 4    | 4,077,346 | 4,004,032 | -73314\n",
       "0    | 5    | 4,064,521 | 4,004,576 | -59945\n",
       "0    | 6    | 4,072,904 | 4,133,372 | 60468\n",
       "0    | 7    | 4,042,990 | 4,152,666 | 109676\n",
       "0    | 8    | 4,025,501 | 4,118,349 | 92848\n",
       "0    | 9    | 4,125,312 | 4,106,068 | -19244\n",
       "... (296 rows omitted)"
      ]
     },
     "execution_count": 90,
     "metadata": {},
     "output_type": "execute_result"
    }
   ],
   "source": [
    "partial_census_change.set_format(\"2014\", NumberFormatter)"
   ]
  },
  {
   "cell_type": "code",
   "execution_count": 91,
   "metadata": {},
   "outputs": [
    {
     "data": {
      "text/html": [
       "<table border=\"1\" class=\"dataframe\">\n",
       "    <thead>\n",
       "        <tr>\n",
       "            <th>SEX</th> <th>AGE</th> <th>2010</th> <th>2014</th> <th>change</th>\n",
       "        </tr>\n",
       "    </thead>\n",
       "    <tbody>\n",
       "        <tr>\n",
       "            <td>0   </td> <td>0   </td> <td>3,951,430</td> <td>395478700.00%</td> <td>3357   </td>\n",
       "        </tr>\n",
       "        <tr>\n",
       "            <td>0   </td> <td>1   </td> <td>3,957,730</td> <td>394889100.00%</td> <td>-8839  </td>\n",
       "        </tr>\n",
       "        <tr>\n",
       "            <td>0   </td> <td>2   </td> <td>4,090,621</td> <td>395871100.00%</td> <td>-131910</td>\n",
       "        </tr>\n",
       "        <tr>\n",
       "            <td>0   </td> <td>3   </td> <td>4,111,688</td> <td>400592800.00%</td> <td>-105760</td>\n",
       "        </tr>\n",
       "        <tr>\n",
       "            <td>0   </td> <td>4   </td> <td>4,077,346</td> <td>400403200.00%</td> <td>-73314 </td>\n",
       "        </tr>\n",
       "        <tr>\n",
       "            <td>0   </td> <td>5   </td> <td>4,064,521</td> <td>400457600.00%</td> <td>-59945 </td>\n",
       "        </tr>\n",
       "        <tr>\n",
       "            <td>0   </td> <td>6   </td> <td>4,072,904</td> <td>413337200.00%</td> <td>60468  </td>\n",
       "        </tr>\n",
       "        <tr>\n",
       "            <td>0   </td> <td>7   </td> <td>4,042,990</td> <td>415266600.00%</td> <td>109676 </td>\n",
       "        </tr>\n",
       "        <tr>\n",
       "            <td>0   </td> <td>8   </td> <td>4,025,501</td> <td>411834900.00%</td> <td>92848  </td>\n",
       "        </tr>\n",
       "        <tr>\n",
       "            <td>0   </td> <td>9   </td> <td>4,125,312</td> <td>410606800.00%</td> <td>-19244 </td>\n",
       "        </tr>\n",
       "    </tbody>\n",
       "</table>\n",
       "<p>... (296 rows omitted)</p>"
      ],
      "text/plain": [
       "SEX  | AGE  | 2010      | 2014          | change\n",
       "0    | 0    | 3,951,430 | 395478700.00% | 3357\n",
       "0    | 1    | 3,957,730 | 394889100.00% | -8839\n",
       "0    | 2    | 4,090,621 | 395871100.00% | -131910\n",
       "0    | 3    | 4,111,688 | 400592800.00% | -105760\n",
       "0    | 4    | 4,077,346 | 400403200.00% | -73314\n",
       "0    | 5    | 4,064,521 | 400457600.00% | -59945\n",
       "0    | 6    | 4,072,904 | 413337200.00% | 60468\n",
       "0    | 7    | 4,042,990 | 415266600.00% | 109676\n",
       "0    | 8    | 4,025,501 | 411834900.00% | 92848\n",
       "0    | 9    | 4,125,312 | 410606800.00% | -19244\n",
       "... (296 rows omitted)"
      ]
     },
     "execution_count": 91,
     "metadata": {},
     "output_type": "execute_result"
    }
   ],
   "source": [
    "partial_census_change.set_format(\"2014\", PercentFormatter)"
   ]
  },
  {
   "cell_type": "code",
   "execution_count": 92,
   "metadata": {},
   "outputs": [
    {
     "data": {
      "text/html": [
       "<table border=\"1\" class=\"dataframe\">\n",
       "    <thead>\n",
       "        <tr>\n",
       "            <th>SEX</th> <th>AGE</th> <th>2010</th> <th>2014</th> <th>change</th>\n",
       "        </tr>\n",
       "    </thead>\n",
       "    <tbody>\n",
       "        <tr>\n",
       "            <td>0   </td> <td>0   </td> <td>3,951,430</td> <td>3,954,787</td> <td>3357   </td>\n",
       "        </tr>\n",
       "        <tr>\n",
       "            <td>0   </td> <td>1   </td> <td>3,957,730</td> <td>3,948,891</td> <td>-8839  </td>\n",
       "        </tr>\n",
       "        <tr>\n",
       "            <td>0   </td> <td>2   </td> <td>4,090,621</td> <td>3,958,711</td> <td>-131910</td>\n",
       "        </tr>\n",
       "        <tr>\n",
       "            <td>0   </td> <td>3   </td> <td>4,111,688</td> <td>4,005,928</td> <td>-105760</td>\n",
       "        </tr>\n",
       "        <tr>\n",
       "            <td>0   </td> <td>4   </td> <td>4,077,346</td> <td>4,004,032</td> <td>-73314 </td>\n",
       "        </tr>\n",
       "        <tr>\n",
       "            <td>0   </td> <td>5   </td> <td>4,064,521</td> <td>4,004,576</td> <td>-59945 </td>\n",
       "        </tr>\n",
       "        <tr>\n",
       "            <td>0   </td> <td>6   </td> <td>4,072,904</td> <td>4,133,372</td> <td>60468  </td>\n",
       "        </tr>\n",
       "        <tr>\n",
       "            <td>0   </td> <td>7   </td> <td>4,042,990</td> <td>4,152,666</td> <td>109676 </td>\n",
       "        </tr>\n",
       "        <tr>\n",
       "            <td>0   </td> <td>8   </td> <td>4,025,501</td> <td>4,118,349</td> <td>92848  </td>\n",
       "        </tr>\n",
       "        <tr>\n",
       "            <td>0   </td> <td>9   </td> <td>4,125,312</td> <td>4,106,068</td> <td>-19244 </td>\n",
       "        </tr>\n",
       "    </tbody>\n",
       "</table>\n",
       "<p>... (296 rows omitted)</p>"
      ],
      "text/plain": [
       "SEX  | AGE  | 2010      | 2014      | change\n",
       "0    | 0    | 3,951,430 | 3,954,787 | 3357\n",
       "0    | 1    | 3,957,730 | 3,948,891 | -8839\n",
       "0    | 2    | 4,090,621 | 3,958,711 | -131910\n",
       "0    | 3    | 4,111,688 | 4,005,928 | -105760\n",
       "0    | 4    | 4,077,346 | 4,004,032 | -73314\n",
       "0    | 5    | 4,064,521 | 4,004,576 | -59945\n",
       "0    | 6    | 4,072,904 | 4,133,372 | 60468\n",
       "0    | 7    | 4,042,990 | 4,152,666 | 109676\n",
       "0    | 8    | 4,025,501 | 4,118,349 | 92848\n",
       "0    | 9    | 4,125,312 | 4,106,068 | -19244\n",
       "... (296 rows omitted)"
      ]
     },
     "execution_count": 92,
     "metadata": {},
     "output_type": "execute_result"
    }
   ],
   "source": [
    "partial_census_change.set_format(\"2014\", NumberFormatter)"
   ]
  },
  {
   "cell_type": "markdown",
   "metadata": {},
   "source": [
    "### Interpretting these changes\n",
    "\n",
    "**Are these changes meaningful?**"
   ]
  },
  {
   "cell_type": "code",
   "execution_count": 93,
   "metadata": {},
   "outputs": [
    {
     "data": {
      "text/plain": [
       "5"
      ]
     },
     "execution_count": 93,
     "metadata": {},
     "output_type": "execute_result"
    }
   ],
   "source": [
    "a = 5\n",
    "b = 10\n",
    "change = b - a\n",
    "change"
   ]
  },
  {
   "cell_type": "code",
   "execution_count": 94,
   "metadata": {},
   "outputs": [
    {
     "data": {
      "text/plain": [
       "100.0"
      ]
     },
     "execution_count": 94,
     "metadata": {},
     "output_type": "execute_result"
    }
   ],
   "source": [
    "change / a * 100"
   ]
  },
  {
   "cell_type": "code",
   "execution_count": 95,
   "metadata": {},
   "outputs": [
    {
     "data": {
      "text/plain": [
       "100.0"
      ]
     },
     "execution_count": 95,
     "metadata": {},
     "output_type": "execute_result"
    }
   ],
   "source": [
    " # Convert changes to percentages\n",
    "    # a = 5\n",
    "    # b = 10\n",
    "    # change = second - first\n",
    "    # change/initial \n",
    "#partial_census_change_clean \n",
    "a = 5\n",
    "b= 10\n",
    "(b - a) / a * 100"
   ]
  },
  {
   "cell_type": "code",
   "execution_count": null,
   "metadata": {},
   "outputs": [],
   "source": []
  },
  {
   "cell_type": "code",
   "execution_count": null,
   "metadata": {},
   "outputs": [],
   "source": []
  },
  {
   "cell_type": "markdown",
   "metadata": {},
   "source": [
    "#### Let's add the eprcent change to the table"
   ]
  },
  {
   "cell_type": "code",
   "execution_count": 96,
   "metadata": {},
   "outputs": [
    {
     "data": {
      "text/html": [
       "<table border=\"1\" class=\"dataframe\">\n",
       "    <thead>\n",
       "        <tr>\n",
       "            <th>SEX</th> <th>AGE</th> <th>2010</th> <th>2014</th> <th>change</th>\n",
       "        </tr>\n",
       "    </thead>\n",
       "    <tbody>\n",
       "        <tr>\n",
       "            <td>0   </td> <td>0   </td> <td>3,951,430</td> <td>3,954,787</td> <td>3357   </td>\n",
       "        </tr>\n",
       "        <tr>\n",
       "            <td>0   </td> <td>1   </td> <td>3,957,730</td> <td>3,948,891</td> <td>-8839  </td>\n",
       "        </tr>\n",
       "        <tr>\n",
       "            <td>0   </td> <td>2   </td> <td>4,090,621</td> <td>3,958,711</td> <td>-131910</td>\n",
       "        </tr>\n",
       "        <tr>\n",
       "            <td>0   </td> <td>3   </td> <td>4,111,688</td> <td>4,005,928</td> <td>-105760</td>\n",
       "        </tr>\n",
       "        <tr>\n",
       "            <td>0   </td> <td>4   </td> <td>4,077,346</td> <td>4,004,032</td> <td>-73314 </td>\n",
       "        </tr>\n",
       "        <tr>\n",
       "            <td>0   </td> <td>5   </td> <td>4,064,521</td> <td>4,004,576</td> <td>-59945 </td>\n",
       "        </tr>\n",
       "        <tr>\n",
       "            <td>0   </td> <td>6   </td> <td>4,072,904</td> <td>4,133,372</td> <td>60468  </td>\n",
       "        </tr>\n",
       "        <tr>\n",
       "            <td>0   </td> <td>7   </td> <td>4,042,990</td> <td>4,152,666</td> <td>109676 </td>\n",
       "        </tr>\n",
       "        <tr>\n",
       "            <td>0   </td> <td>8   </td> <td>4,025,501</td> <td>4,118,349</td> <td>92848  </td>\n",
       "        </tr>\n",
       "        <tr>\n",
       "            <td>0   </td> <td>9   </td> <td>4,125,312</td> <td>4,106,068</td> <td>-19244 </td>\n",
       "        </tr>\n",
       "    </tbody>\n",
       "</table>\n",
       "<p>... (296 rows omitted)</p>"
      ],
      "text/plain": [
       "SEX  | AGE  | 2010      | 2014      | change\n",
       "0    | 0    | 3,951,430 | 3,954,787 | 3357\n",
       "0    | 1    | 3,957,730 | 3,948,891 | -8839\n",
       "0    | 2    | 4,090,621 | 3,958,711 | -131910\n",
       "0    | 3    | 4,111,688 | 4,005,928 | -105760\n",
       "0    | 4    | 4,077,346 | 4,004,032 | -73314\n",
       "0    | 5    | 4,064,521 | 4,004,576 | -59945\n",
       "0    | 6    | 4,072,904 | 4,133,372 | 60468\n",
       "0    | 7    | 4,042,990 | 4,152,666 | 109676\n",
       "0    | 8    | 4,025,501 | 4,118,349 | 92848\n",
       "0    | 9    | 4,125,312 | 4,106,068 | -19244\n",
       "... (296 rows omitted)"
      ]
     },
     "execution_count": 96,
     "metadata": {},
     "output_type": "execute_result"
    }
   ],
   "source": [
    "partial_census_change"
   ]
  },
  {
   "cell_type": "code",
   "execution_count": 104,
   "metadata": {},
   "outputs": [
    {
     "data": {
      "text/plain": [
       "array([  8.49565853e-02,  -2.23335094e-01,  -3.22469376e+00,\n",
       "        -2.57217960e+00,  -1.79808140e+00,  -1.47483553e+00,\n",
       "         1.48464093e+00,   2.71274478e+00,   2.30649551e+00,\n",
       "        -4.66485929e-01,  -1.72915557e+00,  -7.52244913e-01,\n",
       "        -1.11938793e+00,   1.17872470e+00,   2.07180518e+00,\n",
       "        -1.60778529e+00,  -3.41084563e+00,  -4.43748243e+00,\n",
       "        -5.99044392e+00,  -5.46864659e+00,  -3.43788714e+00,\n",
       "         2.11634966e+00,   7.41391820e+00,   1.12834885e+01,\n",
       "         1.04469631e+01,   4.95179383e+00,   5.69297691e+00,\n",
       "         2.08101673e+00,   2.31014718e+00,   4.09187812e+00,\n",
       "        -1.32161446e+00,   6.73645951e+00,   8.74835241e+00,\n",
       "         8.52119308e+00,   1.39269243e+01,   3.45278726e+00,\n",
       "         4.56210312e+00,   1.75098050e+00,  -5.65731661e+00,\n",
       "        -8.19867275e+00,  -1.23323816e+01,  -6.17688906e+00,\n",
       "         3.95374074e-02,   5.52074923e+00,   4.72714861e+00,\n",
       "        -6.54502028e+00,  -1.03095385e+01,  -1.02846663e+01,\n",
       "        -8.56536981e+00,  -4.38208900e+00,  -3.58392480e+00,\n",
       "        -4.94495308e-01,  -2.77579372e-01,   1.89751598e+00,\n",
       "         6.41748368e+00,   3.56689902e+00,   7.12616055e+00,\n",
       "         9.87555367e+00,   9.96067208e+00,   1.22331409e+01,\n",
       "         9.95369474e+00,   8.68814576e+00,   5.22311722e+00,\n",
       "        -2.39248953e+00,   2.86741144e+01,   2.60736160e+01,\n",
       "         2.74473142e+01,   2.91997576e+01,   8.80607091e+00,\n",
       "         1.67320955e+01,   1.93438340e+01,   2.88154612e+01,\n",
       "         1.63461758e+01,   1.42760666e+01,   1.19936344e+01,\n",
       "         8.61488495e+00,   1.42589494e+01,   7.37084206e+00,\n",
       "         5.60091685e+00,   4.36068095e+00,  -4.25718124e+00,\n",
       "         2.56903191e-01,  -4.54330385e-01,   7.23992949e-01,\n",
       "         4.82400939e+00,   8.25934970e-01,   3.80398525e+00,\n",
       "         6.44249663e+00,   5.62051363e+00,   9.28204771e+00,\n",
       "         1.37960871e+01,   2.32993281e+01,   2.19967816e+01,\n",
       "         2.98596664e+01,   2.69794739e+01,   1.89008727e+01,\n",
       "         2.38209317e+01,   2.02737581e+01,   2.64622181e+01,\n",
       "         2.81337307e+01,   2.98473465e+01,   2.90291402e+00,\n",
       "         2.99087330e-01,  -8.53366069e-02,  -3.10230328e+00,\n",
       "        -2.47002949e+00,  -1.95229473e+00,  -1.62250461e+00,\n",
       "         1.44226723e+00,   2.82710484e+00,   2.43114001e+00,\n",
       "        -5.02476072e-01,  -2.01008169e+00,  -1.04145039e+00,\n",
       "        -1.39445470e+00,   1.06471426e+00,   1.91422360e+00,\n",
       "        -1.95106780e+00,  -3.83590675e+00,  -5.15036206e+00,\n",
       "        -6.21649957e+00,  -4.99875781e+00,  -2.79351820e+00,\n",
       "         2.95412992e+00,   8.09612567e+00,   1.15017601e+01,\n",
       "         1.05793524e+01,   5.34170130e+00,   6.38177424e+00,\n",
       "         2.90045894e+00,   3.24233625e+00,   4.87892642e+00,\n",
       "        -1.35696017e+00,   6.96719491e+00,   8.91644406e+00,\n",
       "         8.80469317e+00,   1.46093903e+01,   3.43717332e+00,\n",
       "         4.86432351e+00,   2.04893539e+00,  -5.47391781e+00,\n",
       "        -7.83298640e+00,  -1.27313606e+01,  -6.73177916e+00,\n",
       "        -3.11885925e-01,   5.41876118e+00,   4.96397315e+00,\n",
       "        -6.44571544e+00,  -9.97995539e+00,  -1.00822855e+01,\n",
       "        -8.22306695e+00,  -3.92894133e+00,  -3.74486053e+00,\n",
       "        -4.94441885e-01,  -2.45705167e-01,   1.95832377e+00,\n",
       "         6.96000383e+00,   3.74033014e+00,   7.59546938e+00,\n",
       "         1.01723501e+01,   9.99188483e+00,   1.25096453e+01,\n",
       "         9.59433784e+00,   8.33437790e+00,   4.74827960e+00,\n",
       "        -3.24089622e+00,   2.83099378e+01,   2.60039494e+01,\n",
       "         2.79134973e+01,   2.99755528e+01,   9.33707289e+00,\n",
       "         1.76976181e+01,   2.01652811e+01,   2.92510017e+01,\n",
       "         1.70143422e+01,   1.47368222e+01,   1.28366313e+01,\n",
       "         1.05530505e+01,   1.58888171e+01,   9.20760423e+00,\n",
       "         7.58464060e+00,   6.33217107e+00,  -1.79622620e+00,\n",
       "         2.91410115e+00,   2.89672462e+00,   4.31925349e+00,\n",
       "         9.10354450e+00,   5.90976281e+00,   8.74092133e+00,\n",
       "         1.10630059e+01,   1.04935303e+01,   1.33362510e+01,\n",
       "         1.98354177e+01,   3.17994078e+01,   3.10766321e+01,\n",
       "         4.24246448e+01,   4.12597133e+01,   3.47050496e+01,\n",
       "         4.20735301e+01,   3.87811634e+01,   4.34919634e+01,\n",
       "         4.76782211e+01,   4.50999252e+01,   3.01145704e+00,\n",
       "        -1.38647750e-01,  -3.67226754e-01,  -3.35237024e+00,\n",
       "        -2.67893336e+00,  -1.63682084e+00,  -1.32059717e+00,\n",
       "         1.52883891e+00,   2.59357843e+00,   2.17658533e+00,\n",
       "        -4.28915558e-01,  -1.43486947e+00,  -4.49504590e-01,\n",
       "        -8.31454032e-01,   1.29784137e+00,   2.23719509e+00,\n",
       "        -1.24620177e+00,  -2.96213472e+00,  -3.68120695e+00,\n",
       "        -5.75192887e+00,  -5.95921503e+00,  -4.10968643e+00,\n",
       "         1.24178695e+00,   6.70263300e+00,   1.10562440e+01,\n",
       "         1.03095467e+01,   4.54990961e+00,   4.98950802e+00,\n",
       "         1.24861243e+00,   1.36808095e+00,   3.29947121e+00,\n",
       "        -1.28576309e+00,   6.50454899e+00,   8.57986344e+00,\n",
       "         8.23860723e+00,   1.32461626e+01,   3.46840844e+00,\n",
       "         4.26231657e+00,   1.45724271e+00,  -5.83855200e+00,\n",
       "        -8.55980672e+00,  -1.19349434e+01,  -5.62615619e+00,\n",
       "         3.87672880e-01,   5.62116106e+00,   4.49363159e+00,\n",
       "        -6.64278004e+00,  -1.06316140e+01,  -1.04817967e+01,\n",
       "        -8.89813203e+00,  -4.82084373e+00,  -3.42739513e+00,\n",
       "        -4.94546878e-01,  -3.08249147e-01,   1.83932319e+00,\n",
       "         5.90093767e+00,   3.40208863e+00,   6.68450542e+00,\n",
       "         9.59719893e+00,   9.93144738e+00,   1.19761730e+01,\n",
       "         1.02876950e+01,   9.01535170e+00,   5.66214788e+00,\n",
       "        -1.60860621e+00,   2.90067802e+01,   2.61366846e+01,\n",
       "         2.70289619e+01,   2.85075718e+01,   8.33790517e+00,\n",
       "         1.58948674e+01,   1.86368414e+01,   2.84409208e+01,\n",
       "         1.57818719e+01,   1.38929409e+01,   1.13036885e+01,\n",
       "         7.06288443e+00,   1.29726747e+01,   5.95480614e+00,\n",
       "         4.10512687e+00,   2.91211668e+00,  -6.01129633e+00,\n",
       "        -1.58251653e+00,  -2.68370782e+00,  -1.58532214e+00,\n",
       "         2.19453379e+00,  -2.14702087e+00,   1.03251706e+00,\n",
       "         3.93615064e+00,   3.11408809e+00,   7.28112867e+00,\n",
       "         1.10132001e+01,   1.96066677e+01,   1.83049709e+01,\n",
       "         2.50968895e+01,   2.20459609e+01,   1.38477014e+01,\n",
       "         1.84667553e+01,   1.52164682e+01,   2.21470972e+01,\n",
       "         2.35535290e+01,   2.66814552e+01,   2.79794118e+00])"
      ]
     },
     "execution_count": 104,
     "metadata": {},
     "output_type": "execute_result"
    }
   ],
   "source": [
    "percent_change = (partial_census_change.column(\"change\") / partial_census_change.column(\"2010\")) * 100\n",
    "percent_change"
   ]
  },
  {
   "cell_type": "code",
   "execution_count": 105,
   "metadata": {},
   "outputs": [
    {
     "data": {
      "text/html": [
       "<table border=\"1\" class=\"dataframe\">\n",
       "    <thead>\n",
       "        <tr>\n",
       "            <th>SEX</th> <th>AGE</th> <th>2010</th> <th>2014</th> <th>change</th> <th>percent change</th>\n",
       "        </tr>\n",
       "    </thead>\n",
       "    <tbody>\n",
       "        <tr>\n",
       "            <td>0   </td> <td>0   </td> <td>3,951,430</td> <td>3,954,787</td> <td>3357   </td> <td>0.0849566     </td>\n",
       "        </tr>\n",
       "        <tr>\n",
       "            <td>0   </td> <td>1   </td> <td>3,957,730</td> <td>3,948,891</td> <td>-8839  </td> <td>-0.223335     </td>\n",
       "        </tr>\n",
       "        <tr>\n",
       "            <td>0   </td> <td>2   </td> <td>4,090,621</td> <td>3,958,711</td> <td>-131910</td> <td>-3.22469      </td>\n",
       "        </tr>\n",
       "        <tr>\n",
       "            <td>0   </td> <td>3   </td> <td>4,111,688</td> <td>4,005,928</td> <td>-105760</td> <td>-2.57218      </td>\n",
       "        </tr>\n",
       "        <tr>\n",
       "            <td>0   </td> <td>4   </td> <td>4,077,346</td> <td>4,004,032</td> <td>-73314 </td> <td>-1.79808      </td>\n",
       "        </tr>\n",
       "        <tr>\n",
       "            <td>0   </td> <td>5   </td> <td>4,064,521</td> <td>4,004,576</td> <td>-59945 </td> <td>-1.47484      </td>\n",
       "        </tr>\n",
       "        <tr>\n",
       "            <td>0   </td> <td>6   </td> <td>4,072,904</td> <td>4,133,372</td> <td>60468  </td> <td>1.48464       </td>\n",
       "        </tr>\n",
       "        <tr>\n",
       "            <td>0   </td> <td>7   </td> <td>4,042,990</td> <td>4,152,666</td> <td>109676 </td> <td>2.71274       </td>\n",
       "        </tr>\n",
       "        <tr>\n",
       "            <td>0   </td> <td>8   </td> <td>4,025,501</td> <td>4,118,349</td> <td>92848  </td> <td>2.3065        </td>\n",
       "        </tr>\n",
       "        <tr>\n",
       "            <td>0   </td> <td>9   </td> <td>4,125,312</td> <td>4,106,068</td> <td>-19244 </td> <td>-0.466486     </td>\n",
       "        </tr>\n",
       "    </tbody>\n",
       "</table>\n",
       "<p>... (296 rows omitted)</p>"
      ],
      "text/plain": [
       "SEX  | AGE  | 2010      | 2014      | change  | percent change\n",
       "0    | 0    | 3,951,430 | 3,954,787 | 3357    | 0.0849566\n",
       "0    | 1    | 3,957,730 | 3,948,891 | -8839   | -0.223335\n",
       "0    | 2    | 4,090,621 | 3,958,711 | -131910 | -3.22469\n",
       "0    | 3    | 4,111,688 | 4,005,928 | -105760 | -2.57218\n",
       "0    | 4    | 4,077,346 | 4,004,032 | -73314  | -1.79808\n",
       "0    | 5    | 4,064,521 | 4,004,576 | -59945  | -1.47484\n",
       "0    | 6    | 4,072,904 | 4,133,372 | 60468   | 1.48464\n",
       "0    | 7    | 4,042,990 | 4,152,666 | 109676  | 2.71274\n",
       "0    | 8    | 4,025,501 | 4,118,349 | 92848   | 2.3065\n",
       "0    | 9    | 4,125,312 | 4,106,068 | -19244  | -0.466486\n",
       "... (296 rows omitted)"
      ]
     },
     "execution_count": 105,
     "metadata": {},
     "output_type": "execute_result"
    }
   ],
   "source": [
    "tbl_with_percent_change = partial_census_change.with_column(\"percent change\", percent_change)\n",
    "tbl_with_percent_change"
   ]
  },
  {
   "cell_type": "code",
   "execution_count": 106,
   "metadata": {},
   "outputs": [
    {
     "data": {
      "text/html": [
       "<table border=\"1\" class=\"dataframe\">\n",
       "    <thead>\n",
       "        <tr>\n",
       "            <th>SEX</th> <th>AGE</th> <th>2010</th> <th>2014</th> <th>change</th> <th>percent change</th>\n",
       "        </tr>\n",
       "    </thead>\n",
       "    <tbody>\n",
       "        <tr>\n",
       "            <td>0   </td> <td>0   </td> <td>3,951,430</td> <td>3,954,787</td> <td>3357   </td> <td>8.50%         </td>\n",
       "        </tr>\n",
       "        <tr>\n",
       "            <td>0   </td> <td>1   </td> <td>3,957,730</td> <td>3,948,891</td> <td>-8839  </td> <td>-22.33%       </td>\n",
       "        </tr>\n",
       "        <tr>\n",
       "            <td>0   </td> <td>2   </td> <td>4,090,621</td> <td>3,958,711</td> <td>-131910</td> <td>-322.47%      </td>\n",
       "        </tr>\n",
       "        <tr>\n",
       "            <td>0   </td> <td>3   </td> <td>4,111,688</td> <td>4,005,928</td> <td>-105760</td> <td>-257.22%      </td>\n",
       "        </tr>\n",
       "        <tr>\n",
       "            <td>0   </td> <td>4   </td> <td>4,077,346</td> <td>4,004,032</td> <td>-73314 </td> <td>-179.81%      </td>\n",
       "        </tr>\n",
       "        <tr>\n",
       "            <td>0   </td> <td>5   </td> <td>4,064,521</td> <td>4,004,576</td> <td>-59945 </td> <td>-147.48%      </td>\n",
       "        </tr>\n",
       "        <tr>\n",
       "            <td>0   </td> <td>6   </td> <td>4,072,904</td> <td>4,133,372</td> <td>60468  </td> <td>148.46%       </td>\n",
       "        </tr>\n",
       "        <tr>\n",
       "            <td>0   </td> <td>7   </td> <td>4,042,990</td> <td>4,152,666</td> <td>109676 </td> <td>271.27%       </td>\n",
       "        </tr>\n",
       "        <tr>\n",
       "            <td>0   </td> <td>8   </td> <td>4,025,501</td> <td>4,118,349</td> <td>92848  </td> <td>230.65%       </td>\n",
       "        </tr>\n",
       "        <tr>\n",
       "            <td>0   </td> <td>9   </td> <td>4,125,312</td> <td>4,106,068</td> <td>-19244 </td> <td>-46.65%       </td>\n",
       "        </tr>\n",
       "    </tbody>\n",
       "</table>\n",
       "<p>... (296 rows omitted)</p>"
      ],
      "text/plain": [
       "SEX  | AGE  | 2010      | 2014      | change  | percent change\n",
       "0    | 0    | 3,951,430 | 3,954,787 | 3357    | 8.50%\n",
       "0    | 1    | 3,957,730 | 3,948,891 | -8839   | -22.33%\n",
       "0    | 2    | 4,090,621 | 3,958,711 | -131910 | -322.47%\n",
       "0    | 3    | 4,111,688 | 4,005,928 | -105760 | -257.22%\n",
       "0    | 4    | 4,077,346 | 4,004,032 | -73314  | -179.81%\n",
       "0    | 5    | 4,064,521 | 4,004,576 | -59945  | -147.48%\n",
       "0    | 6    | 4,072,904 | 4,133,372 | 60468   | 148.46%\n",
       "0    | 7    | 4,042,990 | 4,152,666 | 109676  | 271.27%\n",
       "0    | 8    | 4,025,501 | 4,118,349 | 92848   | 230.65%\n",
       "0    | 9    | 4,125,312 | 4,106,068 | -19244  | -46.65%\n",
       "... (296 rows omitted)"
      ]
     },
     "execution_count": 106,
     "metadata": {},
     "output_type": "execute_result"
    }
   ],
   "source": [
    "tbl_with_percent_change.set_format(\"percent change\", PercentFormatter)"
   ]
  },
  {
   "cell_type": "markdown",
   "metadata": {},
   "source": [
    "lets find the percent change across the entire population?"
   ]
  },
  {
   "cell_type": "code",
   "execution_count": 107,
   "metadata": {},
   "outputs": [
    {
     "data": {
      "text/html": [
       "<table border=\"1\" class=\"dataframe\">\n",
       "    <thead>\n",
       "        <tr>\n",
       "            <th>SEX</th> <th>AGE</th> <th>2010</th> <th>2014</th> <th>change</th> <th>percent change</th>\n",
       "        </tr>\n",
       "    </thead>\n",
       "    <tbody>\n",
       "        <tr>\n",
       "            <td>0   </td> <td>999 </td> <td>309,321,666</td> <td>318,301,008</td> <td>8979342</td> <td>290.29%       </td>\n",
       "        </tr>\n",
       "    </tbody>\n",
       "</table>"
      ],
      "text/plain": [
       "SEX  | AGE  | 2010        | 2014        | change  | percent change\n",
       "0    | 999  | 309,321,666 | 318,301,008 | 8979342 | 290.29%"
      ]
     },
     "execution_count": 107,
     "metadata": {},
     "output_type": "execute_result"
    }
   ],
   "source": [
    "tbl_with_percent_change.where(\"AGE\",999).where(\"SEX\", 0)"
   ]
  },
  {
   "cell_type": "markdown",
   "metadata": {},
   "source": [
    "# Analyzing the results/table"
   ]
  },
  {
   "cell_type": "code",
   "execution_count": null,
   "metadata": {},
   "outputs": [],
   "source": []
  },
  {
   "cell_type": "code",
   "execution_count": 108,
   "metadata": {},
   "outputs": [],
   "source": [
    "# find the age with the largest percentage change (ignoring gender)"
   ]
  },
  {
   "cell_type": "code",
   "execution_count": 109,
   "metadata": {},
   "outputs": [
    {
     "data": {
      "text/html": [
       "<table border=\"1\" class=\"dataframe\">\n",
       "    <thead>\n",
       "        <tr>\n",
       "            <th>SEX</th> <th>AGE</th> <th>2010</th> <th>2014</th> <th>change</th> <th>percent change</th>\n",
       "        </tr>\n",
       "    </thead>\n",
       "    <tbody>\n",
       "        <tr>\n",
       "            <td>0   </td> <td>40  </td> <td>4,386,825</td> <td>3,845,825</td> <td>-541000</td> <td>-1233.24%     </td>\n",
       "        </tr>\n",
       "        <tr>\n",
       "            <td>0   </td> <td>46  </td> <td>4,529,194</td> <td>4,062,255</td> <td>-466939</td> <td>-1030.95%     </td>\n",
       "        </tr>\n",
       "        <tr>\n",
       "            <td>0   </td> <td>47  </td> <td>4,534,994</td> <td>4,068,585</td> <td>-466409</td> <td>-1028.47%     </td>\n",
       "        </tr>\n",
       "        <tr>\n",
       "            <td>0   </td> <td>48  </td> <td>4,534,165</td> <td>4,145,797</td> <td>-388368</td> <td>-856.54%      </td>\n",
       "        </tr>\n",
       "        <tr>\n",
       "            <td>0   </td> <td>39  </td> <td>4,323,834</td> <td>3,969,337</td> <td>-354497</td> <td>-819.87%      </td>\n",
       "        </tr>\n",
       "        <tr>\n",
       "            <td>0   </td> <td>45  </td> <td>4,438,000</td> <td>4,147,532</td> <td>-290468</td> <td>-654.50%      </td>\n",
       "        </tr>\n",
       "        <tr>\n",
       "            <td>0   </td> <td>41  </td> <td>4,162,937</td> <td>3,905,797</td> <td>-257140</td> <td>-617.69%      </td>\n",
       "        </tr>\n",
       "        <tr>\n",
       "            <td>0   </td> <td>18  </td> <td>4,490,335</td> <td>4,221,344</td> <td>-268991</td> <td>-599.04%      </td>\n",
       "        </tr>\n",
       "        <tr>\n",
       "            <td>0   </td> <td>38  </td> <td>4,079,655</td> <td>3,848,856</td> <td>-230799</td> <td>-565.73%      </td>\n",
       "        </tr>\n",
       "        <tr>\n",
       "            <td>0   </td> <td>19  </td> <td>4,570,747</td> <td>4,320,789</td> <td>-249958</td> <td>-546.86%      </td>\n",
       "        </tr>\n",
       "    </tbody>\n",
       "</table>\n",
       "<p>... (92 rows omitted)</p>"
      ],
      "text/plain": [
       "SEX  | AGE  | 2010      | 2014      | change  | percent change\n",
       "0    | 40   | 4,386,825 | 3,845,825 | -541000 | -1233.24%\n",
       "0    | 46   | 4,529,194 | 4,062,255 | -466939 | -1030.95%\n",
       "0    | 47   | 4,534,994 | 4,068,585 | -466409 | -1028.47%\n",
       "0    | 48   | 4,534,165 | 4,145,797 | -388368 | -856.54%\n",
       "0    | 39   | 4,323,834 | 3,969,337 | -354497 | -819.87%\n",
       "0    | 45   | 4,438,000 | 4,147,532 | -290468 | -654.50%\n",
       "0    | 41   | 4,162,937 | 3,905,797 | -257140 | -617.69%\n",
       "0    | 18   | 4,490,335 | 4,221,344 | -268991 | -599.04%\n",
       "0    | 38   | 4,079,655 | 3,848,856 | -230799 | -565.73%\n",
       "0    | 19   | 4,570,747 | 4,320,789 | -249958 | -546.86%\n",
       "... (92 rows omitted)"
      ]
     },
     "execution_count": 109,
     "metadata": {},
     "output_type": "execute_result"
    }
   ],
   "source": [
    "tbl_with_percent_change.where(\"SEX\", 0).sort(\"percent change\")"
   ]
  },
  {
   "cell_type": "code",
   "execution_count": 110,
   "metadata": {},
   "outputs": [
    {
     "data": {
      "text/plain": [
       "array([ True,  True,  True,  True,  True,  True,  True,  True,  True,\n",
       "        True,  True,  True,  True,  True,  True,  True,  True,  True,\n",
       "        True,  True,  True,  True,  True,  True,  True,  True,  True,\n",
       "        True,  True,  True,  True,  True,  True,  True,  True,  True,\n",
       "        True,  True,  True,  True,  True,  True,  True,  True,  True,\n",
       "        True,  True,  True,  True,  True,  True,  True,  True,  True,\n",
       "        True,  True,  True,  True,  True,  True,  True,  True,  True,\n",
       "        True,  True,  True,  True,  True,  True,  True,  True,  True,\n",
       "        True,  True,  True,  True,  True,  True,  True,  True,  True,\n",
       "        True,  True,  True,  True,  True,  True,  True,  True,  True,\n",
       "        True,  True,  True,  True,  True,  True,  True,  True,  True,\n",
       "        True,  True,  True,  True,  True,  True,  True,  True,  True,\n",
       "        True,  True,  True,  True,  True,  True,  True,  True,  True,\n",
       "        True,  True,  True,  True,  True,  True,  True,  True,  True,\n",
       "        True,  True,  True,  True,  True,  True,  True,  True,  True,\n",
       "        True,  True,  True,  True,  True,  True,  True,  True,  True,\n",
       "        True,  True,  True,  True,  True,  True,  True,  True,  True,\n",
       "        True,  True,  True,  True,  True,  True,  True,  True,  True,\n",
       "        True,  True,  True,  True,  True,  True,  True,  True,  True,\n",
       "        True,  True,  True,  True,  True,  True,  True,  True,  True,\n",
       "        True,  True,  True,  True,  True,  True,  True,  True,  True,\n",
       "        True,  True,  True,  True,  True,  True,  True,  True,  True,\n",
       "        True,  True,  True,  True,  True,  True,  True,  True,  True,\n",
       "        True,  True,  True,  True,  True,  True,  True,  True,  True,\n",
       "        True,  True,  True,  True,  True,  True,  True,  True,  True,\n",
       "        True,  True,  True,  True,  True,  True,  True,  True,  True,\n",
       "        True,  True,  True,  True,  True,  True,  True,  True,  True,\n",
       "        True,  True,  True,  True,  True,  True,  True,  True,  True,\n",
       "        True,  True,  True,  True,  True,  True,  True,  True,  True,\n",
       "        True,  True,  True,  True,  True,  True,  True,  True,  True,\n",
       "        True,  True,  True,  True,  True,  True,  True,  True,  True,\n",
       "        True,  True,  True,  True,  True,  True,  True,  True,  True,\n",
       "        True,  True,  True,  True,  True,  True,  True,  True,  True,\n",
       "        True,  True,  True,  True,  True,  True,  True,  True,  True], dtype=bool)"
      ]
     },
     "execution_count": 110,
     "metadata": {},
     "output_type": "execute_result"
    }
   ],
   "source": [
    "tbl_with_percent_change.column('2014') - tbl_with_percent_change.column(\"2010\") == tbl_with_percent_change.column(\"change\") "
   ]
  },
  {
   "cell_type": "code",
   "execution_count": null,
   "metadata": {},
   "outputs": [],
   "source": [
    "# add anual growth based on total growth"
   ]
  },
  {
   "cell_type": "markdown",
   "metadata": {},
   "source": [
    "(back to slides)\n",
    "## Line Plots ##"
   ]
  },
  {
   "cell_type": "code",
   "execution_count": 111,
   "metadata": {},
   "outputs": [],
   "source": [
    "# Remove the age totals\n",
    "\n",
    "no_999 = tbl_with_percent_change.where(\"AGE\",are.not_equal_to(999)) #"
   ]
  },
  {
   "cell_type": "code",
   "execution_count": 112,
   "metadata": {},
   "outputs": [],
   "source": [
    "# Look at the largest age and include everything below it"
   ]
  },
  {
   "cell_type": "code",
   "execution_count": 113,
   "metadata": {},
   "outputs": [
    {
     "data": {
      "text/html": [
       "<table border=\"1\" class=\"dataframe\">\n",
       "    <thead>\n",
       "        <tr>\n",
       "            <th>AGE</th> <th>2010</th> <th>2014</th> <th>change</th> <th>percent change</th>\n",
       "        </tr>\n",
       "    </thead>\n",
       "    <tbody>\n",
       "        <tr>\n",
       "            <td>0   </td> <td>3,951,430</td> <td>3,954,787</td> <td>3357   </td> <td>8.50%         </td>\n",
       "        </tr>\n",
       "        <tr>\n",
       "            <td>1   </td> <td>3,957,730</td> <td>3,948,891</td> <td>-8839  </td> <td>-22.33%       </td>\n",
       "        </tr>\n",
       "        <tr>\n",
       "            <td>2   </td> <td>4,090,621</td> <td>3,958,711</td> <td>-131910</td> <td>-322.47%      </td>\n",
       "        </tr>\n",
       "        <tr>\n",
       "            <td>3   </td> <td>4,111,688</td> <td>4,005,928</td> <td>-105760</td> <td>-257.22%      </td>\n",
       "        </tr>\n",
       "        <tr>\n",
       "            <td>4   </td> <td>4,077,346</td> <td>4,004,032</td> <td>-73314 </td> <td>-179.81%      </td>\n",
       "        </tr>\n",
       "        <tr>\n",
       "            <td>5   </td> <td>4,064,521</td> <td>4,004,576</td> <td>-59945 </td> <td>-147.48%      </td>\n",
       "        </tr>\n",
       "        <tr>\n",
       "            <td>6   </td> <td>4,072,904</td> <td>4,133,372</td> <td>60468  </td> <td>148.46%       </td>\n",
       "        </tr>\n",
       "        <tr>\n",
       "            <td>7   </td> <td>4,042,990</td> <td>4,152,666</td> <td>109676 </td> <td>271.27%       </td>\n",
       "        </tr>\n",
       "        <tr>\n",
       "            <td>8   </td> <td>4,025,501</td> <td>4,118,349</td> <td>92848  </td> <td>230.65%       </td>\n",
       "        </tr>\n",
       "        <tr>\n",
       "            <td>9   </td> <td>4,125,312</td> <td>4,106,068</td> <td>-19244 </td> <td>-46.65%       </td>\n",
       "        </tr>\n",
       "    </tbody>\n",
       "</table>\n",
       "<p>... (91 rows omitted)</p>"
      ],
      "text/plain": [
       "AGE  | 2010      | 2014      | change  | percent change\n",
       "0    | 3,951,430 | 3,954,787 | 3357    | 8.50%\n",
       "1    | 3,957,730 | 3,948,891 | -8839   | -22.33%\n",
       "2    | 4,090,621 | 3,958,711 | -131910 | -322.47%\n",
       "3    | 4,111,688 | 4,005,928 | -105760 | -257.22%\n",
       "4    | 4,077,346 | 4,004,032 | -73314  | -179.81%\n",
       "5    | 4,064,521 | 4,004,576 | -59945  | -147.48%\n",
       "6    | 4,072,904 | 4,133,372 | 60468   | 148.46%\n",
       "7    | 4,042,990 | 4,152,666 | 109676  | 271.27%\n",
       "8    | 4,025,501 | 4,118,349 | 92848   | 230.65%\n",
       "9    | 4,125,312 | 4,106,068 | -19244  | -46.65%\n",
       "... (91 rows omitted)"
      ]
     },
     "execution_count": 113,
     "metadata": {},
     "output_type": "execute_result"
    }
   ],
   "source": [
    "# Remove male and female (keep only combined)\n",
    "everyone = no_999.where('SEX', 0).drop('SEX')\n",
    "everyone"
   ]
  },
  {
   "cell_type": "code",
   "execution_count": 114,
   "metadata": {},
   "outputs": [
    {
     "data": {
      "image/png": "[encoded data removed]",
      "text/plain": [
       "<Figure size 600x600 with 1 Axes>"
      ]
     },
     "metadata": {},
     "output_type": "display_data"
    }
   ],
   "source": [
    "# Lets plot the number of ages during 2010\n",
    "# Make Age the X-axis and 2010 the y-axis\n",
    "everyone.plot('AGE', '2010')"
   ]
  },
  {
   "cell_type": "code",
   "execution_count": null,
   "metadata": {},
   "outputs": [],
   "source": [
    "# ^^ That plot should be labeled! Here are 3 ways to label it:"
   ]
  },
  {
   "cell_type": "code",
   "execution_count": null,
   "metadata": {},
   "outputs": [],
   "source": [
    "# add a python comment"
   ]
  },
  {
   "cell_type": "code",
   "execution_count": null,
   "metadata": {},
   "outputs": [],
   "source": [
    "# print out what the tables is"
   ]
  },
  {
   "cell_type": "code",
   "execution_count": 115,
   "metadata": {},
   "outputs": [
    {
     "data": {
      "image/png": "[encoded data removed]",
      "text/plain": [
       "<Figure size 600x600 with 1 Axes>"
      ]
     },
     "metadata": {},
     "output_type": "display_data"
    }
   ],
   "source": [
    "# Add a title to plots\n",
    "everyone.plot('AGE', '2010')\n",
    "plots.title('US Population');    # <--- OPTIONAL; not needed for COMS1016"
   ]
  },
  {
   "cell_type": "code",
   "execution_count": 116,
   "metadata": {},
   "outputs": [
    {
     "data": {
      "image/png": "[encoded data removed]",
      "text/plain": [
       "<Figure size 600x600 with 1 Axes>"
      ]
     },
     "metadata": {},
     "output_type": "display_data"
    }
   ],
   "source": [
    "# Age distribution for two different years\n",
    "# hint just plot AGE\n",
    "everyone.plot('AGE')"
   ]
  },
  {
   "cell_type": "markdown",
   "metadata": {},
   "source": [
    "## Males and Females in 2014 ##\n"
   ]
  },
  {
   "cell_type": "code",
   "execution_count": 122,
   "metadata": {},
   "outputs": [],
   "source": [
    "# Let's compare male and female counts per age\n",
    "# no_999 \"SEX\" codes males as 1 and females as 2\n",
    "# Get rid of SEX column\n",
    "males = no_999.where(\"SEX\",1).drop(\"SEX\").drop(\"percent change\", \"change\")\n",
    "females = no_999.where(\"SEX\",2).drop(\"SEX\").drop(\"percent change\").drop(\"change\")"
   ]
  },
  {
   "cell_type": "code",
   "execution_count": 123,
   "metadata": {},
   "outputs": [
    {
     "data": {
      "text/html": [
       "<table border=\"1\" class=\"dataframe\">\n",
       "    <thead>\n",
       "        <tr>\n",
       "            <th>AGE</th> <th>2010</th> <th>2014</th>\n",
       "        </tr>\n",
       "    </thead>\n",
       "    <tbody>\n",
       "        <tr>\n",
       "            <td>0   </td> <td>2,018,474</td> <td>2,024,511</td>\n",
       "        </tr>\n",
       "        <tr>\n",
       "            <td>1   </td> <td>2,020,235</td> <td>2,018,511</td>\n",
       "        </tr>\n",
       "        <tr>\n",
       "            <td>2   </td> <td>2,088,545</td> <td>2,023,752</td>\n",
       "        </tr>\n",
       "        <tr>\n",
       "            <td>3   </td> <td>2,101,149</td> <td>2,049,250</td>\n",
       "        </tr>\n",
       "        <tr>\n",
       "            <td>4   </td> <td>2,084,214</td> <td>2,043,524</td>\n",
       "        </tr>\n",
       "        <tr>\n",
       "            <td>5   </td> <td>2,076,481</td> <td>2,042,790</td>\n",
       "        </tr>\n",
       "        <tr>\n",
       "            <td>6   </td> <td>2,079,365</td> <td>2,109,355</td>\n",
       "        </tr>\n",
       "        <tr>\n",
       "            <td>7   </td> <td>2,063,100</td> <td>2,121,426</td>\n",
       "        </tr>\n",
       "        <tr>\n",
       "            <td>8   </td> <td>2,054,386</td> <td>2,104,331</td>\n",
       "        </tr>\n",
       "        <tr>\n",
       "            <td>9   </td> <td>2,106,966</td> <td>2,096,379</td>\n",
       "        </tr>\n",
       "    </tbody>\n",
       "</table>\n",
       "<p>... (91 rows omitted)</p>"
      ],
      "text/plain": [
       "AGE  | 2010      | 2014\n",
       "0    | 2,018,474 | 2,024,511\n",
       "1    | 2,020,235 | 2,018,511\n",
       "2    | 2,088,545 | 2,023,752\n",
       "3    | 2,101,149 | 2,049,250\n",
       "4    | 2,084,214 | 2,043,524\n",
       "5    | 2,076,481 | 2,042,790\n",
       "6    | 2,079,365 | 2,109,355\n",
       "7    | 2,063,100 | 2,121,426\n",
       "8    | 2,054,386 | 2,104,331\n",
       "9    | 2,106,966 | 2,096,379\n",
       "... (91 rows omitted)"
      ]
     },
     "execution_count": 123,
     "metadata": {},
     "output_type": "execute_result"
    }
   ],
   "source": [
    "males"
   ]
  },
  {
   "cell_type": "code",
   "execution_count": 124,
   "metadata": {},
   "outputs": [
    {
     "data": {
      "text/html": [
       "<table border=\"1\" class=\"dataframe\">\n",
       "    <thead>\n",
       "        <tr>\n",
       "            <th>Age</th> <th>Males</th> <th>Females</th>\n",
       "        </tr>\n",
       "    </thead>\n",
       "    <tbody>\n",
       "        <tr>\n",
       "            <td>0   </td> <td>2024511</td> <td>1930276</td>\n",
       "        </tr>\n",
       "        <tr>\n",
       "            <td>1   </td> <td>2018511</td> <td>1930380</td>\n",
       "        </tr>\n",
       "        <tr>\n",
       "            <td>2   </td> <td>2023752</td> <td>1934959</td>\n",
       "        </tr>\n",
       "        <tr>\n",
       "            <td>3   </td> <td>2049250</td> <td>1956678</td>\n",
       "        </tr>\n",
       "        <tr>\n",
       "            <td>4   </td> <td>2043524</td> <td>1960508</td>\n",
       "        </tr>\n",
       "        <tr>\n",
       "            <td>5   </td> <td>2042790</td> <td>1961786</td>\n",
       "        </tr>\n",
       "        <tr>\n",
       "            <td>6   </td> <td>2109355</td> <td>2024017</td>\n",
       "        </tr>\n",
       "        <tr>\n",
       "            <td>7   </td> <td>2121426</td> <td>2031240</td>\n",
       "        </tr>\n",
       "        <tr>\n",
       "            <td>8   </td> <td>2104331</td> <td>2014018</td>\n",
       "        </tr>\n",
       "        <tr>\n",
       "            <td>9   </td> <td>2096379</td> <td>2009689</td>\n",
       "        </tr>\n",
       "    </tbody>\n",
       "</table>\n",
       "<p>... (91 rows omitted)</p>"
      ],
      "text/plain": [
       "Age  | Males   | Females\n",
       "0    | 2024511 | 1930276\n",
       "1    | 2018511 | 1930380\n",
       "2    | 2023752 | 1934959\n",
       "3    | 2049250 | 1956678\n",
       "4    | 2043524 | 1960508\n",
       "5    | 2042790 | 1961786\n",
       "6    | 2109355 | 2024017\n",
       "7    | 2121426 | 2031240\n",
       "8    | 2104331 | 2014018\n",
       "9    | 2096379 | 2009689\n",
       "... (91 rows omitted)"
      ]
     },
     "execution_count": 124,
     "metadata": {},
     "output_type": "execute_result"
    }
   ],
   "source": [
    "# Make a new Table pop_2014 where the columns are:\n",
    "# Age\n",
    "# Males: number of males in 2014\n",
    "# Females: number of females in 2014\n",
    "pop_2014 = Table().with_columns(\n",
    "    'Age', males.column(\"AGE\"),\n",
    "    'Males', males.column(\"2014\"),\n",
    "    'Females', females.column(\"2014\")\n",
    ")\n",
    "pop_2014"
   ]
  },
  {
   "cell_type": "code",
   "execution_count": 125,
   "metadata": {},
   "outputs": [
    {
     "data": {
      "image/png": "[encoded data removed]",
      "text/plain": [
       "<Figure size 600x600 with 1 Axes>"
      ]
     },
     "metadata": {},
     "output_type": "display_data"
    }
   ],
   "source": [
    "pop_2014.plot('Age')"
   ]
  },
  {
   "cell_type": "code",
   "execution_count": 126,
   "metadata": {},
   "outputs": [
    {
     "data": {
      "text/plain": [
       "array([ 48.80859576,  48.88410442,  48.87851121,  48.84456236,\n",
       "        48.96334495,  48.98860703,  48.96769514,  48.91411927,\n",
       "        48.90352906,  48.94436721,  48.98494565,  49.00577972,\n",
       "        48.99954194,  48.96241568,  48.87023134,  48.88078489,\n",
       "        48.87267534,  48.9071101 ,  48.78249676,  48.66956012,\n",
       "        48.61733747,  48.50694133,  48.63247334,  48.89294045,\n",
       "        49.00736244,  49.05512829,  49.14382335,  49.20313004,\n",
       "        49.27853353,  49.45102791,  49.66292257,  49.76463981,\n",
       "        49.86360182,  49.95034231,  49.76336615,  49.99597225,\n",
       "        50.05821071,  50.21098824,  50.20003346,  50.11524595,\n",
       "        50.32384469,  50.48260317,  50.40981198,  50.43733135,\n",
       "        50.23933538,  50.33931022,  50.39442379,  50.54580401,\n",
       "        50.52210709,  50.57373446,  50.77624509,  50.88250715,\n",
       "        50.94719369,  51.06955294,  50.97762495,  51.19274866,\n",
       "        51.3054311 ,  51.47247128,  51.6309957 ,  51.71241046,\n",
       "        51.98597728,  52.10668581,  52.1758804 ,  52.39388913,\n",
       "        52.39608144,  52.51164609,  52.53072083,  52.564636  ,\n",
       "        52.91576161,  53.17416596,  53.42577839,  53.60873823,\n",
       "        53.95064522,  54.41652476,  54.65328066,  54.73868673,\n",
       "        55.26202627,  55.72243956,  56.20397978,  56.84485965,\n",
       "        57.31500388,  58.00907181,  58.70524214,  59.49337682,\n",
       "        60.38758026,  61.23939991,  62.33617732,  63.30579761,\n",
       "        64.46798417,  65.72901293,  66.78183197,  67.62641408,\n",
       "        68.94232515,  69.8540623 ,  71.4353518 ,  72.55243859,\n",
       "        73.97593563,  75.23629262,  77.0614315 ,  78.11856482,  80.79224729])"
      ]
     },
     "execution_count": 126,
     "metadata": {},
     "output_type": "execute_result"
    }
   ],
   "source": [
    "# Calculate the percent female for each age\n",
    "total = pop_2014.column('Males') + pop_2014.column('Females')\n",
    "pct_female = pop_2014.column('Females') / total * 100\n",
    "pct_female"
   ]
  },
  {
   "cell_type": "code",
   "execution_count": 127,
   "metadata": {},
   "outputs": [
    {
     "data": {
      "text/plain": [
       "array([ 48.809,  48.884,  48.879,  48.845,  48.963,  48.989,  48.968,\n",
       "        48.914,  48.904,  48.944,  48.985,  49.006,  49.   ,  48.962,\n",
       "        48.87 ,  48.881,  48.873,  48.907,  48.782,  48.67 ,  48.617,\n",
       "        48.507,  48.632,  48.893,  49.007,  49.055,  49.144,  49.203,\n",
       "        49.279,  49.451,  49.663,  49.765,  49.864,  49.95 ,  49.763,\n",
       "        49.996,  50.058,  50.211,  50.2  ,  50.115,  50.324,  50.483,\n",
       "        50.41 ,  50.437,  50.239,  50.339,  50.394,  50.546,  50.522,\n",
       "        50.574,  50.776,  50.883,  50.947,  51.07 ,  50.978,  51.193,\n",
       "        51.305,  51.472,  51.631,  51.712,  51.986,  52.107,  52.176,\n",
       "        52.394,  52.396,  52.512,  52.531,  52.565,  52.916,  53.174,\n",
       "        53.426,  53.609,  53.951,  54.417,  54.653,  54.739,  55.262,\n",
       "        55.722,  56.204,  56.845,  57.315,  58.009,  58.705,  59.493,\n",
       "        60.388,  61.239,  62.336,  63.306,  64.468,  65.729,  66.782,\n",
       "        67.626,  68.942,  69.854,  71.435,  72.552,  73.976,  75.236,\n",
       "        77.061,  78.119,  80.792])"
      ]
     },
     "execution_count": 127,
     "metadata": {},
     "output_type": "execute_result"
    }
   ],
   "source": [
    "# Round it to 3 so that it's easier to read\n",
    "pct_female = np.round(pct_female, 3)\n",
    "pct_female"
   ]
  },
  {
   "cell_type": "code",
   "execution_count": 129,
   "metadata": {},
   "outputs": [
    {
     "data": {
      "text/html": [
       "<table border=\"1\" class=\"dataframe\">\n",
       "    <thead>\n",
       "        <tr>\n",
       "            <th>Age</th> <th>Males</th> <th>Females</th> <th>Percent female</th>\n",
       "        </tr>\n",
       "    </thead>\n",
       "    <tbody>\n",
       "        <tr>\n",
       "            <td>0   </td> <td>2024511</td> <td>1930276</td> <td>48.809        </td>\n",
       "        </tr>\n",
       "        <tr>\n",
       "            <td>1   </td> <td>2018511</td> <td>1930380</td> <td>48.884        </td>\n",
       "        </tr>\n",
       "        <tr>\n",
       "            <td>2   </td> <td>2023752</td> <td>1934959</td> <td>48.879        </td>\n",
       "        </tr>\n",
       "        <tr>\n",
       "            <td>3   </td> <td>2049250</td> <td>1956678</td> <td>48.845        </td>\n",
       "        </tr>\n",
       "        <tr>\n",
       "            <td>4   </td> <td>2043524</td> <td>1960508</td> <td>48.963        </td>\n",
       "        </tr>\n",
       "        <tr>\n",
       "            <td>5   </td> <td>2042790</td> <td>1961786</td> <td>48.989        </td>\n",
       "        </tr>\n",
       "        <tr>\n",
       "            <td>6   </td> <td>2109355</td> <td>2024017</td> <td>48.968        </td>\n",
       "        </tr>\n",
       "        <tr>\n",
       "            <td>7   </td> <td>2121426</td> <td>2031240</td> <td>48.914        </td>\n",
       "        </tr>\n",
       "        <tr>\n",
       "            <td>8   </td> <td>2104331</td> <td>2014018</td> <td>48.904        </td>\n",
       "        </tr>\n",
       "        <tr>\n",
       "            <td>9   </td> <td>2096379</td> <td>2009689</td> <td>48.944        </td>\n",
       "        </tr>\n",
       "    </tbody>\n",
       "</table>\n",
       "<p>... (91 rows omitted)</p>"
      ],
      "text/plain": [
       "Age  | Males   | Females | Percent female\n",
       "0    | 2024511 | 1930276 | 48.809\n",
       "1    | 2018511 | 1930380 | 48.884\n",
       "2    | 2023752 | 1934959 | 48.879\n",
       "3    | 2049250 | 1956678 | 48.845\n",
       "4    | 2043524 | 1960508 | 48.963\n",
       "5    | 2042790 | 1961786 | 48.989\n",
       "6    | 2109355 | 2024017 | 48.968\n",
       "7    | 2121426 | 2031240 | 48.914\n",
       "8    | 2104331 | 2014018 | 48.904\n",
       "9    | 2096379 | 2009689 | 48.944\n",
       "... (91 rows omitted)"
      ]
     },
     "execution_count": 129,
     "metadata": {},
     "output_type": "execute_result"
    }
   ],
   "source": [
    "# Add female percent to our table.\n",
    "# Ad a column names percent female\n",
    "pop_2014 = pop_2014.with_column(\"Percent female\", pct_female)\n",
    "pop_2014"
   ]
  },
  {
   "cell_type": "code",
   "execution_count": 130,
   "metadata": {},
   "outputs": [
    {
     "data": {
      "image/png": "[encoded data removed]",
      "text/plain": [
       "<Figure size 600x600 with 1 Axes>"
      ]
     },
     "metadata": {},
     "output_type": "display_data"
    }
   ],
   "source": [
    "pop_2014.plot('Age', 'Percent female')"
   ]
  },
  {
   "cell_type": "code",
   "execution_count": 131,
   "metadata": {},
   "outputs": [
    {
     "data": {
      "image/png": "[encoded data removed]",
      "text/plain": [
       "<Figure size 600x600 with 1 Axes>"
      ]
     },
     "metadata": {},
     "output_type": "display_data"
    }
   ],
   "source": [
    "# ^^ Look at the y-axis! Trend is not as dramatic as you might think\n",
    "pop_2014.plot('Age', 'Percent female')\n",
    "plots.ylim(0, 100);  # Optional for COMS1016"
   ]
  },
  {
   "cell_type": "markdown",
   "metadata": {},
   "source": [
    "## Scatter Plots ##"
   ]
  },
  {
   "cell_type": "code",
   "execution_count": null,
   "metadata": {},
   "outputs": [],
   "source": [
    "# Actors and their highest grossing movies\n",
    "# Read in the table called 'actors.csv'\n",
    "\n",
    "actors = ...\n",
    "actors"
   ]
  },
  {
   "cell_type": "code",
   "execution_count": null,
   "metadata": {},
   "outputs": [],
   "source": [
    "actors.scatter('Number of Movies', 'Total Gross')"
   ]
  },
  {
   "cell_type": "code",
   "execution_count": null,
   "metadata": {},
   "outputs": [],
   "source": [
    "actors.scatter('Number of Movies', 'Average per Movie')"
   ]
  },
  {
   "cell_type": "code",
   "execution_count": null,
   "metadata": {},
   "outputs": [],
   "source": [
    "actors.where('Average per Movie', are.above(400))"
   ]
  },
  {
   "cell_type": "markdown",
   "metadata": {},
   "source": [
    "## Bar Charts ##"
   ]
  },
  {
   "cell_type": "code",
   "execution_count": 132,
   "metadata": {
    "scrolled": true
   },
   "outputs": [
    {
     "data": {
      "text/html": [
       "<table border=\"1\" class=\"dataframe\">\n",
       "    <thead>\n",
       "        <tr>\n",
       "            <th>Title</th> <th>Studio</th> <th>Gross</th> <th>Gross (Adjusted)</th> <th>Year</th>\n",
       "        </tr>\n",
       "    </thead>\n",
       "    <tbody>\n",
       "        <tr>\n",
       "            <td>Gone with the Wind              </td> <td>MGM            </td> <td>198676459</td> <td>1796176700      </td> <td>1939</td>\n",
       "        </tr>\n",
       "        <tr>\n",
       "            <td>Star Wars                       </td> <td>Fox            </td> <td>460998007</td> <td>1583483200      </td> <td>1977</td>\n",
       "        </tr>\n",
       "        <tr>\n",
       "            <td>The Sound of Music              </td> <td>Fox            </td> <td>158671368</td> <td>1266072700      </td> <td>1965</td>\n",
       "        </tr>\n",
       "        <tr>\n",
       "            <td>E.T.: The Extra-Terrestrial     </td> <td>Universal      </td> <td>435110554</td> <td>1261085000      </td> <td>1982</td>\n",
       "        </tr>\n",
       "        <tr>\n",
       "            <td>Titanic                         </td> <td>Paramount      </td> <td>658672302</td> <td>1204368000      </td> <td>1997</td>\n",
       "        </tr>\n",
       "        <tr>\n",
       "            <td>The Ten Commandments            </td> <td>Paramount      </td> <td>65500000 </td> <td>1164590000      </td> <td>1956</td>\n",
       "        </tr>\n",
       "        <tr>\n",
       "            <td>Jaws                            </td> <td>Universal      </td> <td>260000000</td> <td>1138620700      </td> <td>1975</td>\n",
       "        </tr>\n",
       "        <tr>\n",
       "            <td>Doctor Zhivago                  </td> <td>MGM            </td> <td>111721910</td> <td>1103564200      </td> <td>1965</td>\n",
       "        </tr>\n",
       "        <tr>\n",
       "            <td>The Exorcist                    </td> <td>Warner Brothers</td> <td>232906145</td> <td>983226600       </td> <td>1973</td>\n",
       "        </tr>\n",
       "        <tr>\n",
       "            <td>Snow White and the Seven Dwarves</td> <td>Disney         </td> <td>184925486</td> <td>969010000       </td> <td>1937</td>\n",
       "        </tr>\n",
       "    </tbody>\n",
       "</table>\n",
       "<p>... (190 rows omitted)</p>"
      ],
      "text/plain": [
       "Title                            | Studio          | Gross     | Gross (Adjusted) | Year\n",
       "Gone with the Wind               | MGM             | 198676459 | 1796176700       | 1939\n",
       "Star Wars                        | Fox             | 460998007 | 1583483200       | 1977\n",
       "The Sound of Music               | Fox             | 158671368 | 1266072700       | 1965\n",
       "E.T.: The Extra-Terrestrial      | Universal       | 435110554 | 1261085000       | 1982\n",
       "Titanic                          | Paramount       | 658672302 | 1204368000       | 1997\n",
       "The Ten Commandments             | Paramount       | 65500000  | 1164590000       | 1956\n",
       "Jaws                             | Universal       | 260000000 | 1138620700       | 1975\n",
       "Doctor Zhivago                   | MGM             | 111721910 | 1103564200       | 1965\n",
       "The Exorcist                     | Warner Brothers | 232906145 | 983226600        | 1973\n",
       "Snow White and the Seven Dwarves | Disney          | 184925486 | 969010000        | 1937\n",
       "... (190 rows omitted)"
      ]
     },
     "execution_count": 132,
     "metadata": {},
     "output_type": "execute_result"
    }
   ],
   "source": [
    "# Highest grossing movies as of 2017\n",
    "# Read in table called 'top_movies_2017.csv'\n",
    "top_movies = Table.read_table(\"top_movies_2017.csv\")\n",
    "top_movies"
   ]
  },
  {
   "cell_type": "code",
   "execution_count": null,
   "metadata": {},
   "outputs": [],
   "source": [
    "top10_adjusted = top_movies.take(np.arange(10))\n",
    "top10_adjusted"
   ]
  },
  {
   "cell_type": "code",
   "execution_count": null,
   "metadata": {},
   "outputs": [],
   "source": [
    "# Convert Gross (Adjusted) to millions of dollars for readability\n",
    "millions = ...\n",
    "top10_adjusted = top10_adjusted.with_column('Millions', millions)\n",
    "top10_adjusted"
   ]
  },
  {
   "cell_type": "code",
   "execution_count": null,
   "metadata": {},
   "outputs": [],
   "source": [
    "# A line plot doesn't make sense here: don't do this!\n",
    "top10_adjusted.plot('Year', 'Millions')\n",
    "\n",
    "# Why not?"
   ]
  },
  {
   "cell_type": "code",
   "execution_count": null,
   "metadata": {},
   "outputs": [],
   "source": [
    "top10_adjusted.barh('Title', 'Millions')"
   ]
  },
  {
   "cell_type": "code",
   "execution_count": null,
   "metadata": {},
   "outputs": [],
   "source": []
  }
 ],
 "metadata": {
  "kernelspec": {
   "display_name": "Python 3 (ipykernel)",
   "language": "python",
   "name": "python3"
  },
  "language_info": {
   "codemirror_mode": {
    "name": "ipython",
    "version": 3
   },
   "file_extension": ".py",
   "mimetype": "text/x-python",
   "name": "python",
   "nbconvert_exporter": "python",
   "pygments_lexer": "ipython3",
   "version": "3.12.6"
  }
 },
 "nbformat": 4,
 "nbformat_minor": 4
}
