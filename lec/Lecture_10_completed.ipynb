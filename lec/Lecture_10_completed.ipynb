{
 "cells": [
  {
   "cell_type": "code",
   "execution_count": 1,
   "metadata": {},
   "outputs": [],
   "source": [
    "import numpy as np\n",
    "from datascience import *\n",
    "\n",
    "%matplotlib inline\n",
    "import matplotlib.pyplot as plots\n",
    "plots.style.use('fivethirtyeight')"
   ]
  },
  {
   "cell_type": "markdown",
   "metadata": {},
   "source": [
    "(back to slides)\n",
    "# Random Selection"
   ]
  },
  {
   "cell_type": "code",
   "execution_count": 2,
   "metadata": {},
   "outputs": [
    {
     "data": {
      "text/plain": [
       "array(['treatment', 'control'],\n",
       "      dtype='<U9')"
      ]
     },
     "execution_count": 2,
     "metadata": {},
     "output_type": "execute_result"
    }
   ],
   "source": [
    "groups = make_array('treatment', 'control')\n",
    "groups"
   ]
  },
  {
   "cell_type": "markdown",
   "metadata": {},
   "source": [
    "Let's randomly assign 1 individual to a control or treatment group"
   ]
  },
  {
   "cell_type": "code",
   "execution_count": 15,
   "metadata": {},
   "outputs": [
    {
     "data": {
      "text/plain": [
       "'control'"
      ]
     },
     "execution_count": 15,
     "metadata": {},
     "output_type": "execute_result"
    }
   ],
   "source": [
    "np.random.choice(groups)"
   ]
  },
  {
   "cell_type": "code",
   "execution_count": null,
   "metadata": {},
   "outputs": [],
   "source": []
  },
  {
   "cell_type": "code",
   "execution_count": null,
   "metadata": {},
   "outputs": [],
   "source": [
    "np.random.choice(groups, 1)"
   ]
  },
  {
   "cell_type": "markdown",
   "metadata": {},
   "source": [
    "Let's randomly assign 10 individuals to each group"
   ]
  },
  {
   "cell_type": "code",
   "execution_count": 20,
   "metadata": {},
   "outputs": [
    {
     "data": {
      "text/plain": [
       "array(['treatment', 'treatment', 'treatment', 'control', 'control',\n",
       "       'treatment', 'control', 'treatment', 'treatment', 'control'],\n",
       "      dtype='<U9')"
      ]
     },
     "execution_count": 20,
     "metadata": {},
     "output_type": "execute_result"
    }
   ],
   "source": [
    "np.random.choice(groups, 10)"
   ]
  },
  {
   "cell_type": "code",
   "execution_count": 21,
   "metadata": {},
   "outputs": [
    {
     "data": {
      "text/plain": [
       "(array([False,  True, False, False, False, False, False,  True,  True, False], dtype=bool),\n",
       " array(['control', 'treatment', 'control', 'control', 'control', 'control',\n",
       "        'control', 'treatment', 'treatment', 'control'],\n",
       "       dtype='<U9'))"
      ]
     },
     "execution_count": 21,
     "metadata": {},
     "output_type": "execute_result"
    }
   ],
   "source": [
    "assignments = np.random.choice(groups, 10)\n",
    "assignments == 'treatment', assignments"
   ]
  },
  {
   "cell_type": "code",
   "execution_count": 22,
   "metadata": {},
   "outputs": [
    {
     "data": {
      "text/plain": [
       "3"
      ]
     },
     "execution_count": 22,
     "metadata": {},
     "output_type": "execute_result"
    }
   ],
   "source": [
    "sum(assignments == 'treatment')"
   ]
  },
  {
   "cell_type": "code",
   "execution_count": 24,
   "metadata": {
    "scrolled": true
   },
   "outputs": [
    {
     "data": {
      "text/html": [
       "<table border=\"1\" class=\"dataframe\">\n",
       "    <thead>\n",
       "        <tr>\n",
       "            <th>assignments</th>\n",
       "        </tr>\n",
       "    </thead>\n",
       "    <tbody>\n",
       "        <tr>\n",
       "            <td>False      </td>\n",
       "        </tr>\n",
       "        <tr>\n",
       "            <td>True       </td>\n",
       "        </tr>\n",
       "        <tr>\n",
       "            <td>False      </td>\n",
       "        </tr>\n",
       "        <tr>\n",
       "            <td>False      </td>\n",
       "        </tr>\n",
       "        <tr>\n",
       "            <td>False      </td>\n",
       "        </tr>\n",
       "        <tr>\n",
       "            <td>False      </td>\n",
       "        </tr>\n",
       "        <tr>\n",
       "            <td>False      </td>\n",
       "        </tr>\n",
       "        <tr>\n",
       "            <td>True       </td>\n",
       "        </tr>\n",
       "        <tr>\n",
       "            <td>True       </td>\n",
       "        </tr>\n",
       "        <tr>\n",
       "            <td>False      </td>\n",
       "        </tr>\n",
       "    </tbody>\n",
       "</table>"
      ],
      "text/plain": [
       "assignments\n",
       "False\n",
       "True\n",
       "False\n",
       "False\n",
       "False\n",
       "False\n",
       "False\n",
       "True\n",
       "True\n",
       "False"
      ]
     },
     "execution_count": 24,
     "metadata": {},
     "output_type": "execute_result"
    }
   ],
   "source": [
    "Table().with_columns('assignments', assignments == 'treatment')"
   ]
  },
  {
   "cell_type": "code",
   "execution_count": 25,
   "metadata": {},
   "outputs": [
    {
     "data": {
      "text/html": [
       "<table border=\"1\" class=\"dataframe\">\n",
       "    <thead>\n",
       "        <tr>\n",
       "            <th>assignments</th>\n",
       "        </tr>\n",
       "    </thead>\n",
       "    <tbody>\n",
       "        <tr>\n",
       "            <td>True       </td>\n",
       "        </tr>\n",
       "        <tr>\n",
       "            <td>True       </td>\n",
       "        </tr>\n",
       "        <tr>\n",
       "            <td>True       </td>\n",
       "        </tr>\n",
       "    </tbody>\n",
       "</table>"
      ],
      "text/plain": [
       "assignments\n",
       "True\n",
       "True\n",
       "True"
      ]
     },
     "execution_count": 25,
     "metadata": {},
     "output_type": "execute_result"
    }
   ],
   "source": [
    "Table().with_columns('assignments', assignments == 'treatment').where('assignments', True)"
   ]
  },
  {
   "cell_type": "code",
   "execution_count": 23,
   "metadata": {},
   "outputs": [
    {
     "data": {
      "text/plain": [
       "3"
      ]
     },
     "execution_count": 23,
     "metadata": {},
     "output_type": "execute_result"
    }
   ],
   "source": [
    "Table().with_columns('assignments', assignments == 'treatment').where('assignments', True).num_rows"
   ]
  },
  {
   "cell_type": "markdown",
   "metadata": {},
   "source": [
    "Let's repeat this"
   ]
  },
  {
   "cell_type": "code",
   "execution_count": 26,
   "metadata": {
    "scrolled": true
   },
   "outputs": [
    {
     "data": {
      "text/plain": [
       "array(['treatment', 'treatment', 'treatment', 'control', 'control',\n",
       "       'treatment', 'treatment', 'control', 'treatment', 'treatment'],\n",
       "      dtype='<U9')"
      ]
     },
     "execution_count": 26,
     "metadata": {},
     "output_type": "execute_result"
    }
   ],
   "source": [
    "assignments = np.random.choice(groups, 10)\n",
    "assignments"
   ]
  },
  {
   "cell_type": "markdown",
   "metadata": {},
   "source": [
    "Now 7 people were givewn the treatment"
   ]
  },
  {
   "cell_type": "markdown",
   "metadata": {},
   "source": [
    "Do we see any differences if we run this again??"
   ]
  },
  {
   "cell_type": "code",
   "execution_count": 27,
   "metadata": {},
   "outputs": [
    {
     "data": {
      "text/plain": [
       "array(['treatment', 'treatment', 'treatment', 'treatment', 'treatment',\n",
       "       'treatment', 'treatment', 'treatment', 'control', 'control'],\n",
       "      dtype='<U9')"
      ]
     },
     "execution_count": 27,
     "metadata": {},
     "output_type": "execute_result"
    }
   ],
   "source": [
    "assignments_one = np.random.choice(groups, 10)\n",
    "assignments_one"
   ]
  },
  {
   "cell_type": "markdown",
   "metadata": {},
   "source": [
    "Why did we see those differences?"
   ]
  },
  {
   "cell_type": "markdown",
   "metadata": {},
   "source": [
    "Answer: because `np.random.choice` randmly assigns each indiidual to a treatment or control"
   ]
  },
  {
   "cell_type": "code",
   "execution_count": null,
   "metadata": {},
   "outputs": [],
   "source": []
  },
  {
   "cell_type": "code",
   "execution_count": 29,
   "metadata": {},
   "outputs": [
    {
     "data": {
      "text/plain": [
       "('control',\n",
       " array(['treatment', 'control'],\n",
       "       dtype='<U9'))"
      ]
     },
     "execution_count": 29,
     "metadata": {},
     "output_type": "execute_result"
    }
   ],
   "source": [
    "np.random.choice(groups), groups"
   ]
  },
  {
   "cell_type": "markdown",
   "metadata": {},
   "source": [
    "back to slides\n",
    "# Appending arrays: `np.append()`\n",
    "\n",
    "Adding an individual to a control or treament group"
   ]
  },
  {
   "cell_type": "code",
   "execution_count": 31,
   "metadata": {},
   "outputs": [
    {
     "data": {
      "text/plain": [
       "(0, 0)"
      ]
     },
     "execution_count": 31,
     "metadata": {},
     "output_type": "execute_result"
    }
   ],
   "source": [
    "# Make an empty array for the control and treatment groups\n",
    "control_group = make_array()\n",
    "treatment_group = make_array()\n",
    "control_group, treatment_group\n",
    "len(control_group), len(treatment_group)"
   ]
  },
  {
   "cell_type": "markdown",
   "metadata": {},
   "source": [
    "Now let's randomly assign an individual to a group and then add the individual to the corresponding group based on the random assignment"
   ]
  },
  {
   "cell_type": "code",
   "execution_count": 34,
   "metadata": {},
   "outputs": [
    {
     "data": {
      "text/plain": [
       "'treatment'"
      ]
     },
     "execution_count": 34,
     "metadata": {},
     "output_type": "execute_result"
    }
   ],
   "source": [
    "individual = np.random.choice(groups)\n",
    "individual"
   ]
  },
  {
   "cell_type": "code",
   "execution_count": 39,
   "metadata": {},
   "outputs": [],
   "source": [
    "if individual == 'treatment':\n",
    "    np.append(treatment_group, individual)\n",
    "else:\n",
    "    np.append(control_group, individual)"
   ]
  },
  {
   "cell_type": "code",
   "execution_count": 40,
   "metadata": {},
   "outputs": [
    {
     "data": {
      "text/plain": [
       "(0, 0)"
      ]
     },
     "execution_count": 40,
     "metadata": {},
     "output_type": "execute_result"
    }
   ],
   "source": [
    "len(treatment_group), len(control_group)"
   ]
  },
  {
   "cell_type": "code",
   "execution_count": 41,
   "metadata": {},
   "outputs": [
    {
     "data": {
      "text/plain": [
       "array([], dtype=float64)"
      ]
     },
     "execution_count": 41,
     "metadata": {},
     "output_type": "execute_result"
    }
   ],
   "source": [
    "treatment_group"
   ]
  },
  {
   "cell_type": "code",
   "execution_count": 42,
   "metadata": {},
   "outputs": [
    {
     "data": {
      "text/plain": [
       "array(['treatment'],\n",
       "      dtype='<U32')"
      ]
     },
     "execution_count": 42,
     "metadata": {},
     "output_type": "execute_result"
    }
   ],
   "source": [
    "np.append(treatment_group, individual)"
   ]
  },
  {
   "cell_type": "code",
   "execution_count": 48,
   "metadata": {},
   "outputs": [],
   "source": [
    "control_group = make_array()\n",
    "treatment_group = make_array()"
   ]
  },
  {
   "cell_type": "code",
   "execution_count": 54,
   "metadata": {},
   "outputs": [
    {
     "name": "stdout",
     "output_type": "stream",
     "text": [
      "control\n"
     ]
    },
    {
     "data": {
      "text/plain": [
       "(array(['individual 1'],\n",
       "       dtype='<U32'),\n",
       " array([], dtype=float64))"
      ]
     },
     "execution_count": 54,
     "metadata": {},
     "output_type": "execute_result"
    }
   ],
   "source": [
    "control_group = make_array()\n",
    "treatment_group = make_array()\n",
    "assigned_group =  np.random.choice(groups)\n",
    "individual = \"individual 1\"\n",
    "print(assigned_group)\n",
    "if assigned_group == 'treatment':\n",
    "    treatment_group = np.append(treatment_group, individual)\n",
    "else:\n",
    "    control_group = np.append(control_group, individual)\n",
    "\n",
    "control_group, treatment_group"
   ]
  },
  {
   "cell_type": "markdown",
   "metadata": {},
   "source": [
    "#### Let's put this control statment into a function:\n",
    "- What should we name the function? \n",
    "- What are the arguments/parameters of the function?\n",
    "- What should the function return?"
   ]
  },
  {
   "cell_type": "code",
   "execution_count": 66,
   "metadata": {},
   "outputs": [
    {
     "data": {
      "text/plain": [
       "'individual 1'"
      ]
     },
     "execution_count": 66,
     "metadata": {},
     "output_type": "execute_result"
    }
   ],
   "source": [
    "individual"
   ]
  },
  {
   "cell_type": "code",
   "execution_count": 68,
   "metadata": {},
   "outputs": [],
   "source": [
    "def random_assignment(individual, treatment_group, control_group):\n",
    "    '''add a new individual to our control or treatment group'''\n",
    "    assigned_group =  np.random.choice(groups)\n",
    "    #print(assigned_group)\n",
    "    if assigned_group == 'treatment':\n",
    "        treatment_group = np.append(treatment_group, individual)\n",
    "    else:\n",
    "        control_group = np.append(control_group, individual)\n",
    "    return treatment_group, control_group"
   ]
  },
  {
   "cell_type": "markdown",
   "metadata": {},
   "source": [
    "After we write a function we need to test it! If we dont test it, we assume it doesnt work"
   ]
  },
  {
   "cell_type": "markdown",
   "metadata": {},
   "source": [
    "Now let's call this function 5 times to assign 5 individuals to the different groups"
   ]
  },
  {
   "cell_type": "code",
   "execution_count": 70,
   "metadata": {},
   "outputs": [
    {
     "data": {
      "text/plain": [
       "(array(['frat boy'],\n",
       "       dtype='<U32'),\n",
       " array(['individual 1'],\n",
       "       dtype='<U32'))"
      ]
     },
     "execution_count": 70,
     "metadata": {},
     "output_type": "execute_result"
    }
   ],
   "source": [
    "random_assignment(\"frat boy\", treatment_group, control_group)"
   ]
  },
  {
   "cell_type": "code",
   "execution_count": 71,
   "metadata": {},
   "outputs": [],
   "source": [
    "treatment_group = make_array()\n",
    "control_group = make_array()"
   ]
  },
  {
   "cell_type": "code",
   "execution_count": 72,
   "metadata": {},
   "outputs": [
    {
     "data": {
      "text/plain": [
       "(array([], dtype=float64),\n",
       " array(['frat boy'],\n",
       "       dtype='<U32'))"
      ]
     },
     "execution_count": 72,
     "metadata": {},
     "output_type": "execute_result"
    }
   ],
   "source": [
    "random_assignment(\"frat boy\", treatment_group, control_group)"
   ]
  },
  {
   "cell_type": "code",
   "execution_count": 73,
   "metadata": {},
   "outputs": [
    {
     "data": {
      "text/plain": [
       "(array(['adam'],\n",
       "       dtype='<U32'),\n",
       " array([], dtype=float64))"
      ]
     },
     "execution_count": 73,
     "metadata": {},
     "output_type": "execute_result"
    }
   ],
   "source": [
    "random_assignment(\"adam\", treatment_group, control_group)"
   ]
  },
  {
   "cell_type": "code",
   "execution_count": 74,
   "metadata": {},
   "outputs": [
    {
     "data": {
      "text/plain": [
       "(array([], dtype=float64), array([], dtype=float64))"
      ]
     },
     "execution_count": 74,
     "metadata": {},
     "output_type": "execute_result"
    }
   ],
   "source": [
    "treatment_group, control_group"
   ]
  },
  {
   "cell_type": "code",
   "execution_count": 77,
   "metadata": {},
   "outputs": [],
   "source": [
    "treatment_group = make_array()\n",
    "control_group = make_array()"
   ]
  },
  {
   "cell_type": "code",
   "execution_count": 78,
   "metadata": {},
   "outputs": [
    {
     "data": {
      "text/plain": [
       "(array([], dtype=float64),\n",
       " array(['adam'],\n",
       "       dtype='<U32'))"
      ]
     },
     "execution_count": 78,
     "metadata": {},
     "output_type": "execute_result"
    }
   ],
   "source": [
    "treatment_group, control_group = random_assignment(\"adam\", treatment_group, control_group)\n",
    "treatment_group, control_group"
   ]
  },
  {
   "cell_type": "code",
   "execution_count": 79,
   "metadata": {},
   "outputs": [
    {
     "data": {
      "text/plain": [
       "(array(['person 2'],\n",
       "       dtype='<U32'),\n",
       " array(['adam'],\n",
       "       dtype='<U32'))"
      ]
     },
     "execution_count": 79,
     "metadata": {},
     "output_type": "execute_result"
    }
   ],
   "source": [
    "treatment_group, control_group = random_assignment(\"person 2\", treatment_group, control_group)\n",
    "treatment_group, control_group"
   ]
  },
  {
   "cell_type": "code",
   "execution_count": 80,
   "metadata": {},
   "outputs": [
    {
     "data": {
      "text/plain": [
       "(array(['person 2', 'person 3'],\n",
       "       dtype='<U32'),\n",
       " array(['adam'],\n",
       "       dtype='<U32'))"
      ]
     },
     "execution_count": 80,
     "metadata": {},
     "output_type": "execute_result"
    }
   ],
   "source": [
    "treatment_group, control_group = random_assignment(\"person 3\", treatment_group, control_group)\n",
    "treatment_group, control_group"
   ]
  },
  {
   "cell_type": "code",
   "execution_count": 81,
   "metadata": {},
   "outputs": [
    {
     "data": {
      "text/plain": [
       "(array(['person 2', 'person 3', 'person 4'],\n",
       "       dtype='<U32'),\n",
       " array(['adam'],\n",
       "       dtype='<U32'))"
      ]
     },
     "execution_count": 81,
     "metadata": {},
     "output_type": "execute_result"
    }
   ],
   "source": [
    "treatment_group, control_group = random_assignment(\"person 4\", treatment_group, control_group)\n",
    "treatment_group, control_group"
   ]
  },
  {
   "cell_type": "code",
   "execution_count": 82,
   "metadata": {},
   "outputs": [
    {
     "data": {
      "text/plain": [
       "(array(['person 2', 'person 3', 'person 4', 'person 5'],\n",
       "       dtype='<U32'),\n",
       " array(['adam'],\n",
       "       dtype='<U32'))"
      ]
     },
     "execution_count": 82,
     "metadata": {},
     "output_type": "execute_result"
    }
   ],
   "source": [
    "treatment_group, control_group = random_assignment(\"person 5\", treatment_group, control_group)\n",
    "treatment_group, control_group"
   ]
  },
  {
   "cell_type": "code",
   "execution_count": 83,
   "metadata": {},
   "outputs": [
    {
     "data": {
      "text/plain": [
       "(array(['person 2', 'person 3', 'person 4', 'person 5'],\n",
       "       dtype='<U32'),\n",
       " array(['adam', 'person 6'],\n",
       "       dtype='<U32'))"
      ]
     },
     "execution_count": 83,
     "metadata": {},
     "output_type": "execute_result"
    }
   ],
   "source": [
    "treatment_group, control_group = random_assignment(\"person 6\", treatment_group, control_group)\n",
    "treatment_group, control_group"
   ]
  },
  {
   "cell_type": "markdown",
   "metadata": {},
   "source": [
    "We will now see a cleaner way to assign 5 individuals to the different groups\n",
    "(back to slides)\n",
    "# `For` Statements"
   ]
  },
  {
   "cell_type": "code",
   "execution_count": 84,
   "metadata": {},
   "outputs": [
    {
     "name": "stdout",
     "output_type": "stream",
     "text": [
      "iteration 0\n",
      "iteration 1\n",
      "iteration 2\n",
      "iteration 3\n"
     ]
    }
   ],
   "source": [
    "for i in np.arange(4):\n",
    "    print('iteration', i)"
   ]
  },
  {
   "cell_type": "code",
   "execution_count": 85,
   "metadata": {},
   "outputs": [
    {
     "name": "stdout",
     "output_type": "stream",
     "text": [
      "iteration 0\n",
      "iteration 1\n",
      "iteration 2\n",
      "iteration 3\n"
     ]
    }
   ],
   "source": [
    "print('iteration', 0)\n",
    "print('iteration', 1)\n",
    "print('iteration', 2)\n",
    "print('iteration', 3)"
   ]
  },
  {
   "cell_type": "code",
   "execution_count": null,
   "metadata": {},
   "outputs": [],
   "source": [
    "print('iteration', 0)\n",
    "print('iteration', 1)\n",
    "print('iteration', 2)\n",
    "print('iteration', 3)\n",
    "print('iteration', 4)\n"
   ]
  },
  {
   "cell_type": "code",
   "execution_count": 86,
   "metadata": {},
   "outputs": [
    {
     "name": "stdout",
     "output_type": "stream",
     "text": [
      "iteration 0\n",
      "iteration 1\n",
      "iteration 2\n",
      "iteration 3\n",
      "iteration 4\n",
      "iteration 5\n",
      "iteration 6\n",
      "iteration 7\n",
      "iteration 8\n",
      "iteration 9\n",
      "iteration 10\n",
      "iteration 11\n",
      "iteration 12\n",
      "iteration 13\n",
      "iteration 14\n",
      "iteration 15\n",
      "iteration 16\n",
      "iteration 17\n",
      "iteration 18\n",
      "iteration 19\n",
      "iteration 20\n",
      "iteration 21\n",
      "iteration 22\n",
      "iteration 23\n",
      "iteration 24\n",
      "iteration 25\n",
      "iteration 26\n",
      "iteration 27\n",
      "iteration 28\n",
      "iteration 29\n",
      "iteration 30\n",
      "iteration 31\n",
      "iteration 32\n",
      "iteration 33\n",
      "iteration 34\n",
      "iteration 35\n",
      "iteration 36\n",
      "iteration 37\n",
      "iteration 38\n",
      "iteration 39\n",
      "iteration 40\n",
      "iteration 41\n",
      "iteration 42\n",
      "iteration 43\n",
      "iteration 44\n",
      "iteration 45\n",
      "iteration 46\n",
      "iteration 47\n",
      "iteration 48\n",
      "iteration 49\n",
      "iteration 50\n",
      "iteration 51\n",
      "iteration 52\n",
      "iteration 53\n",
      "iteration 54\n",
      "iteration 55\n",
      "iteration 56\n",
      "iteration 57\n",
      "iteration 58\n",
      "iteration 59\n",
      "iteration 60\n",
      "iteration 61\n",
      "iteration 62\n",
      "iteration 63\n",
      "iteration 64\n",
      "iteration 65\n",
      "iteration 66\n",
      "iteration 67\n",
      "iteration 68\n",
      "iteration 69\n",
      "iteration 70\n",
      "iteration 71\n",
      "iteration 72\n",
      "iteration 73\n",
      "iteration 74\n",
      "iteration 75\n",
      "iteration 76\n",
      "iteration 77\n",
      "iteration 78\n",
      "iteration 79\n",
      "iteration 80\n",
      "iteration 81\n",
      "iteration 82\n",
      "iteration 83\n",
      "iteration 84\n",
      "iteration 85\n",
      "iteration 86\n",
      "iteration 87\n",
      "iteration 88\n",
      "iteration 89\n",
      "iteration 90\n",
      "iteration 91\n",
      "iteration 92\n",
      "iteration 93\n",
      "iteration 94\n",
      "iteration 95\n",
      "iteration 96\n",
      "iteration 97\n",
      "iteration 98\n",
      "iteration 99\n"
     ]
    }
   ],
   "source": [
    "for i in np.arange(100):\n",
    "    print('iteration', i)"
   ]
  },
  {
   "cell_type": "code",
   "execution_count": null,
   "metadata": {},
   "outputs": [],
   "source": []
  },
  {
   "cell_type": "code",
   "execution_count": 88,
   "metadata": {},
   "outputs": [
    {
     "name": "stdout",
     "output_type": "stream",
     "text": [
      "iteration 1\n",
      "iteration 3\n",
      "iteration 5\n",
      "iteration 7\n",
      "iteration 9\n"
     ]
    }
   ],
   "source": [
    "for i in np.arange(1,10,2):\n",
    "    print('iteration', i)"
   ]
  },
  {
   "cell_type": "code",
   "execution_count": 90,
   "metadata": {},
   "outputs": [
    {
     "name": "stdout",
     "output_type": "stream",
     "text": [
      "iteration 1\n",
      "iteration 3\n",
      "iteration 5\n",
      "iteration 7\n",
      "iteration 9\n"
     ]
    }
   ],
   "source": [
    "for i in make_array(1,3,5,7,9):\n",
    "    print('iteration', i)"
   ]
  },
  {
   "cell_type": "code",
   "execution_count": 87,
   "metadata": {},
   "outputs": [
    {
     "data": {
      "text/plain": [
       "array([1, 3, 5, 7, 9])"
      ]
     },
     "execution_count": 87,
     "metadata": {},
     "output_type": "execute_result"
    }
   ],
   "source": [
    "np.arange(1,10,2)"
   ]
  },
  {
   "cell_type": "markdown",
   "metadata": {},
   "source": [
    "Use a `for` loop to assign the individuals to the different groups"
   ]
  },
  {
   "cell_type": "code",
   "execution_count": 94,
   "metadata": {},
   "outputs": [],
   "source": [
    "treatment_group = make_array()\n",
    "control_group = make_array()\n",
    "#treatment_group, control_group = add_individual_to_group(treatment_group, control_group, 0)"
   ]
  },
  {
   "cell_type": "code",
   "execution_count": 98,
   "metadata": {},
   "outputs": [
    {
     "ename": "TypeError",
     "evalue": "can only concatenate str (not \"numpy.int64\") to str",
     "output_type": "error",
     "traceback": [
      "\u001b[0;31m---------------------------------------------------------------------------\u001b[0m",
      "\u001b[0;31mTypeError\u001b[0m                                 Traceback (most recent call last)",
      "Cell \u001b[0;32mIn[98], line 1\u001b[0m\n\u001b[0;32m----> 1\u001b[0m \u001b[38;5;124;43m\"\u001b[39;49m\u001b[38;5;124;43mperson #\u001b[39;49m\u001b[38;5;124;43m\"\u001b[39;49m\u001b[43m \u001b[49m\u001b[38;5;241;43m+\u001b[39;49m\u001b[43m \u001b[49m\u001b[43mindividual\u001b[49m\n",
      "\u001b[0;31mTypeError\u001b[0m: can only concatenate str (not \"numpy.int64\") to str"
     ]
    }
   ],
   "source": [
    "\"person #\" + individual"
   ]
  },
  {
   "cell_type": "markdown",
   "metadata": {},
   "source": [
    "cant concatenate this numpy integer with a string, so what should we do?"
   ]
  },
  {
   "cell_type": "code",
   "execution_count": 100,
   "metadata": {},
   "outputs": [
    {
     "data": {
      "text/plain": [
       "'person #0'"
      ]
     },
     "execution_count": 100,
     "metadata": {},
     "output_type": "execute_result"
    }
   ],
   "source": [
    "\"person #\"  +str(individual)"
   ]
  },
  {
   "cell_type": "code",
   "execution_count": 104,
   "metadata": {},
   "outputs": [
    {
     "data": {
      "text/plain": [
       "(array(['person #1', 'person #3', 'person #6', 'person #9', 'person #10',\n",
       "        'person #13', 'person #14', 'person #15', 'person #16',\n",
       "        'person #18', 'person #20', 'person #21', 'person #24',\n",
       "        'person #27', 'person #29', 'person #30', 'person #32',\n",
       "        'person #34', 'person #37', 'person #39', 'person #42',\n",
       "        'person #43', 'person #44', 'person #45', 'person #46',\n",
       "        'person #47', 'person #48', 'person #51', 'person #53',\n",
       "        'person #54', 'person #55', 'person #56', 'person #57',\n",
       "        'person #59', 'person #64', 'person #65', 'person #66',\n",
       "        'person #68', 'person #69', 'person #71', 'person #72',\n",
       "        'person #74', 'person #76', 'person #78', 'person #79',\n",
       "        'person #80', 'person #82', 'person #85', 'person #87',\n",
       "        'person #92', 'person #94', 'person #97', 'person #98',\n",
       "        'person #100'],\n",
       "       dtype='<U32'),\n",
       " array(['person #2', 'person #4', 'person #5', 'person #7', 'person #8',\n",
       "        'person #11', 'person #12', 'person #17', 'person #19',\n",
       "        'person #22', 'person #23', 'person #25', 'person #26',\n",
       "        'person #28', 'person #31', 'person #33', 'person #35',\n",
       "        'person #36', 'person #38', 'person #40', 'person #41',\n",
       "        'person #49', 'person #50', 'person #52', 'person #58',\n",
       "        'person #60', 'person #61', 'person #62', 'person #63',\n",
       "        'person #67', 'person #70', 'person #73', 'person #75',\n",
       "        'person #77', 'person #81', 'person #83', 'person #84',\n",
       "        'person #86', 'person #88', 'person #89', 'person #90',\n",
       "        'person #91', 'person #93', 'person #95', 'person #96', 'person #99'],\n",
       "       dtype='<U32'))"
      ]
     },
     "execution_count": 104,
     "metadata": {},
     "output_type": "execute_result"
    }
   ],
   "source": [
    "treatment_group = make_array()\n",
    "control_group = make_array()\n",
    "for individual in np.arange(0,100):\n",
    "    treatment_group, control_group = random_assignment(\"person #\" + str(individual+1), treatment_group, control_group)\n",
    "treatment_group, control_group"
   ]
  },
  {
   "cell_type": "markdown",
   "metadata": {},
   "source": [
    "# Heads or Tails Experiment\n",
    "\n",
    "Let's run 10 experiments where we flip a coin 100 times and see how many times we get heads"
   ]
  },
  {
   "cell_type": "markdown",
   "metadata": {},
   "source": [
    "Before we begin, let's write out all the steps we need to do\n",
    "\n",
    "*Hint: Lets work inside out, i.e. lets first write code for one experiment*"
   ]
  },
  {
   "cell_type": "markdown",
   "metadata": {},
   "source": [
    "1. specify what our options are to randomly select\n",
    "2. randomly select from our options, i.e. flip a coin 100 times\n",
    "3. keep track of the selection, i.e. count number of heads we saw"
   ]
  },
  {
   "cell_type": "code",
   "execution_count": 106,
   "metadata": {},
   "outputs": [
    {
     "data": {
      "text/plain": [
       "array(['heads', 'tails'],\n",
       "      dtype='<U5')"
      ]
     },
     "execution_count": 106,
     "metadata": {},
     "output_type": "execute_result"
    }
   ],
   "source": [
    "options = make_array('heads', 'tails')\n",
    "options"
   ]
  },
  {
   "cell_type": "code",
   "execution_count": 108,
   "metadata": {},
   "outputs": [],
   "source": [
    "hundred_flips = np.random.choice(options,100)"
   ]
  },
  {
   "cell_type": "code",
   "execution_count": 110,
   "metadata": {},
   "outputs": [
    {
     "ename": "TypeError",
     "evalue": "unsupported operand type(s) for +: 'int' and 'numpy.str_'",
     "output_type": "error",
     "traceback": [
      "\u001b[0;31m---------------------------------------------------------------------------\u001b[0m",
      "\u001b[0;31mTypeError\u001b[0m                                 Traceback (most recent call last)",
      "Cell \u001b[0;32mIn[110], line 1\u001b[0m\n\u001b[0;32m----> 1\u001b[0m \u001b[38;5;28;43msum\u001b[39;49m\u001b[43m(\u001b[49m\u001b[43mhundred_flips\u001b[49m\u001b[43m)\u001b[49m\n",
      "\u001b[0;31mTypeError\u001b[0m: unsupported operand type(s) for +: 'int' and 'numpy.str_'"
     ]
    }
   ],
   "source": [
    "sum(hundred_flips)"
   ]
  },
  {
   "cell_type": "code",
   "execution_count": 113,
   "metadata": {},
   "outputs": [
    {
     "data": {
      "text/plain": [
       "array([ True,  True, False, False,  True,  True, False,  True,  True,\n",
       "       False,  True, False, False, False, False, False, False, False,\n",
       "        True, False, False,  True, False, False, False, False, False,\n",
       "       False, False,  True, False,  True,  True, False, False,  True,\n",
       "       False, False,  True,  True, False,  True, False,  True,  True,\n",
       "        True,  True, False, False, False,  True,  True, False,  True,\n",
       "       False,  True, False,  True,  True, False, False, False,  True,\n",
       "       False, False,  True,  True, False,  True, False,  True,  True,\n",
       "       False, False, False, False,  True,  True, False, False,  True,\n",
       "       False,  True,  True, False, False, False, False, False, False,\n",
       "       False, False, False,  True,  True, False,  True, False,  True,  True], dtype=bool)"
      ]
     },
     "execution_count": 113,
     "metadata": {},
     "output_type": "execute_result"
    }
   ],
   "source": [
    "# checks if a flip was heads or tails\n",
    "hundred_flips == 'heads'"
   ]
  },
  {
   "cell_type": "code",
   "execution_count": 115,
   "metadata": {},
   "outputs": [
    {
     "data": {
      "text/plain": [
       "42"
      ]
     },
     "execution_count": 115,
     "metadata": {},
     "output_type": "execute_result"
    }
   ],
   "source": [
    "# compute the numbre of heads\n",
    "sum(hundred_flips == 'heads')"
   ]
  },
  {
   "cell_type": "markdown",
   "metadata": {},
   "source": [
    "### how can we repeat this 10 times?"
   ]
  },
  {
   "cell_type": "markdown",
   "metadata": {},
   "source": [
    "answer: use a `for` loop"
   ]
  },
  {
   "cell_type": "code",
   "execution_count": 116,
   "metadata": {},
   "outputs": [],
   "source": [
    "def flip_100_times():\n",
    "    hundred_flips = np.random.choice(options,100)\n",
    "    return sum(hundred_flips == 'heads')"
   ]
  },
  {
   "cell_type": "code",
   "execution_count": 120,
   "metadata": {},
   "outputs": [
    {
     "data": {
      "text/plain": [
       "55"
      ]
     },
     "execution_count": 120,
     "metadata": {},
     "output_type": "execute_result"
    }
   ],
   "source": [
    "flip_100_times()"
   ]
  },
  {
   "cell_type": "code",
   "execution_count": 121,
   "metadata": {},
   "outputs": [],
   "source": [
    "for i in np.arange(10):\n",
    "    flip_100_times()"
   ]
  },
  {
   "cell_type": "markdown",
   "metadata": {},
   "source": [
    "but wait, we need to keep track of the results from each 100 coin flips?"
   ]
  },
  {
   "cell_type": "code",
   "execution_count": 124,
   "metadata": {},
   "outputs": [
    {
     "data": {
      "text/plain": [
       "array([ 49.,  61.,  49.,  57.,  47.,  46.,  38.,  50.,  51.,  52.,  43.,\n",
       "        52.,  51.,  52.,  53.,  47.,  54.,  48.,  47.,  45.,  55.,  50.,\n",
       "        42.,  50.,  44.,  54.,  52.,  55.,  49.,  59.,  56.,  47.,  43.,\n",
       "        46.,  55.,  55.,  55.,  47.,  46.,  50.,  58.,  63.,  46.,  54.,\n",
       "        39.,  46.,  52.,  53.,  55.,  46.,  52.,  52.,  49.,  56.,  49.,\n",
       "        51.,  55.,  49.,  53.,  49.,  59.,  45.,  55.,  48.,  47.,  54.,\n",
       "        46.,  51.,  48.,  47.,  49.,  45.,  52.,  47.,  50.,  53.,  47.,\n",
       "        52.,  46.,  47.,  50.,  46.,  50.,  55.,  46.,  47.,  50.,  51.,\n",
       "        56.,  53.,  51.,  49.,  50.,  55.,  40.,  52.,  52.,  47.,  55.,\n",
       "        48.,  47.,  52.,  51.,  44.,  45.,  42.,  56.,  45.,  43.,  53.,\n",
       "        50.,  50.,  42.,  56.,  46.,  47.,  46.,  53.,  53.,  53.,  62.,\n",
       "        56.,  47.,  46.,  51.,  56.,  57.,  47.,  47.,  50.,  65.,  42.,\n",
       "        53.,  50.,  47.,  51.,  50.,  47.,  52.,  47.,  57.,  48.,  51.,\n",
       "        52.,  55.,  42.,  53.,  48.,  44.,  48.,  56.,  52.,  50.,  51.,\n",
       "        48.,  43.,  50.,  54.,  51.,  45.,  58.,  51.,  53.,  56.,  56.,\n",
       "        38.,  44.,  48.,  43.,  45.,  51.,  51.,  53.,  46.,  40.,  49.,\n",
       "        57.,  49.,  49.,  49.,  41.,  52.,  45.,  48.,  50.,  48.,  42.,\n",
       "        55.,  51.,  55.,  45.,  57.,  54.,  50.,  52.,  54.,  48.,  45.,\n",
       "        56.,  51.,  56.,  47.,  57.,  37.,  44.,  53.,  52.,  47.,  51.,\n",
       "        43.,  41.,  46.,  49.,  55.,  50.,  50.,  48.,  54.,  49.,  53.,\n",
       "        50.,  43.,  51.,  46.,  52.,  58.,  49.,  52.,  53.,  47.,  56.,\n",
       "        53.,  49.,  53.,  57.,  56.,  47.,  48.,  58.,  45.,  55.,  47.,\n",
       "        51.,  46.,  51.,  45.,  41.,  53.,  46.,  48.,  57.,  48.,  50.,\n",
       "        49.,  47.,  45.,  47.,  52.,  53.,  55.,  49.,  47.,  47.,  37.,\n",
       "        46.,  49.,  48.,  54.,  48.,  50.,  49.,  43.,  49.,  45.,  45.,\n",
       "        53.,  45.,  58.,  48.,  47.,  44.,  45.,  42.,  42.,  45.,  54.,\n",
       "        39.,  42.,  43.,  53.,  52.,  41.,  40.,  55.,  54.,  53.,  50.,\n",
       "        55.,  48.,  46.,  54.,  52.,  50.,  47.,  53.,  51.,  56.,  49.,\n",
       "        44.,  50.,  45.,  48.,  46.,  47.,  54.,  61.,  50.,  59.,  56.,\n",
       "        46.,  38.,  52.,  40.,  51.,  56.,  47.,  44.,  54.,  51.,  52.,\n",
       "        52.,  58.,  61.,  55.,  54.,  57.,  50.,  49.,  51.,  49.,  44.,\n",
       "        40.,  48.,  51.,  47.,  52.,  54.,  49.,  52.,  47.,  49.,  47.,\n",
       "        41.,  52.,  46.,  56.,  48.,  52.,  53.,  53.,  50.,  39.,  51.,\n",
       "        49.,  45.,  45.,  48.,  54.,  54.,  55.,  53.,  43.,  55.,  62.,\n",
       "        49.,  45.,  38.,  46.,  53.,  62.,  46.,  59.,  42.,  51.,  53.,\n",
       "        42.,  54.,  52.,  51.,  47.,  49.,  53.,  51.,  52.,  44.,  47.,\n",
       "        43.,  57.,  53.,  52.,  49.,  52.,  49.,  53.,  54.,  49.,  57.,\n",
       "        51.,  49.,  48.,  53.,  50.,  41.,  54.,  48.,  55.,  50.,  51.,\n",
       "        51.,  48.,  42.,  49.,  52.,  55.,  52.,  47.,  55.,  50.,  46.,\n",
       "        51.,  57.,  55.,  54.,  49.,  49.,  52.,  38.,  53.,  59.,  44.,\n",
       "        53.,  54.,  55.,  51.,  54.,  41.,  41.,  49.,  51.,  53.,  55.,\n",
       "        54.,  50.,  51.,  48.,  40.,  49.,  45.,  49.,  54.,  45.,  53.,\n",
       "        45.,  41.,  43.,  57.,  60.,  46.,  51.,  49.,  54.,  58.,  53.,\n",
       "        52.,  53.,  55.,  54.,  51.,  49.,  46.,  47.,  45.,  54.,  54.,\n",
       "        48.,  53.,  42.,  47.,  50.,  61.,  59.,  51.,  47.,  44.,  48.,\n",
       "        51.,  42.,  46.,  56.,  61.,  50.,  47.,  51.,  50.,  54.,  50.,\n",
       "        52.,  53.,  43.,  53.,  65.,  59.,  56.,  41.,  51.,  55.,  46.,\n",
       "        42.,  46.,  53.,  51.,  48.,  51.,  51.,  50.,  53.,  60.,  51.,\n",
       "        50.,  50.,  47.,  49.,  55.,  40.,  53.,  44.,  55.,  53.,  47.,\n",
       "        50.,  58.,  48.,  49.,  57.,  46.,  58.,  48.,  55.,  60.,  53.,\n",
       "        48.,  53.,  52.,  46.,  52.,  54.,  43.,  43.,  48.,  46.,  57.,\n",
       "        60.,  54.,  51.,  51.,  42.,  55.,  59.,  48.,  52.,  57.,  49.,\n",
       "        50.,  52.,  48.,  50.,  46.,  53.,  48.,  56.,  55.,  56.,  49.,\n",
       "        46.,  48.,  51.,  52.,  52.,  41.,  50.,  51.,  43.,  49.,  51.,\n",
       "        45.,  44.,  48.,  40.,  49.,  51.,  46.,  46.,  53.,  49.,  43.,\n",
       "        54.,  56.,  40.,  58.,  49.,  58.,  50.,  46.,  51.,  56.,  49.,\n",
       "        53.,  47.,  51.,  54.,  55.,  52.,  48.,  42.,  47.,  62.,  45.,\n",
       "        44.,  42.,  59.,  47.,  44.,  46.,  47.,  48.,  43.,  45.,  49.,\n",
       "        57.,  42.,  49.,  54.,  54.,  53.,  52.,  45.,  50.,  44.,  56.,\n",
       "        52.,  56.,  61.,  49.,  43.,  40.,  49.,  54.,  40.,  44.,  58.,\n",
       "        43.,  53.,  46.,  44.,  50.,  51.,  50.,  51.,  46.,  50.,  47.,\n",
       "        40.,  50.,  52.,  52.,  55.,  53.,  50.,  45.,  43.,  56.,  49.,\n",
       "        50.,  52.,  51.,  53.,  56.,  54.,  48.,  54.,  48.,  53.,  53.,\n",
       "        47.,  45.,  42.,  53.,  52.,  47.,  45.,  46.,  49.,  45.,  59.,\n",
       "        53.,  49.,  50.,  44.,  51.,  45.,  42.,  49.,  46.,  51.,  42.,\n",
       "        47.,  50.,  50.,  49.,  52.,  48.,  55.,  49.,  45.,  50.,  47.,\n",
       "        51.,  52.,  54.,  50.,  57.,  42.,  56.,  52.,  50.,  45.,  46.,\n",
       "        51.,  55.,  49.,  51.,  52.,  55.,  48.,  48.,  47.,  50.,  49.,\n",
       "        52.,  46.,  47.,  46.,  52.,  44.,  52.,  46.,  46.,  44.,  48.,\n",
       "        49.,  54.,  52.,  53.,  63.,  53.,  53.,  48.,  51.,  52.,  48.,\n",
       "        54.,  55.,  47.,  54.,  47.,  57.,  41.,  54.,  46.,  55.,  55.,\n",
       "        44.,  49.,  54.,  57.,  48.,  57.,  54.,  52.,  46.,  60.,  48.,\n",
       "        52.,  51.,  66.,  51.,  53.,  51.,  44.,  46.,  50.,  50.,  45.,\n",
       "        46.,  38.,  49.,  36.,  53.,  48.,  50.,  44.,  52.,  49.,  48.,\n",
       "        51.,  48.,  46.,  51.,  56.,  58.,  51.,  45.,  54.,  44.,  47.,\n",
       "        46.,  54.,  57.,  51.,  52.,  50.,  47.,  49.,  42.,  53.,  41.,\n",
       "        60.,  53.,  57.,  56.,  53.,  56.,  54.,  53.,  51.,  55.,  60.,\n",
       "        53.,  43.,  58.,  42.,  56.,  55.,  47.,  47.,  53.,  50.,  53.,\n",
       "        50.,  49.,  58.,  59.,  50.,  48.,  51.,  51.,  44.,  54.,  53.,\n",
       "        46.,  46.,  48.,  56.,  55.,  48.,  54.,  55.,  50.,  51.,  46.,\n",
       "        50.,  48.,  53.,  53.,  54.,  48.,  48.,  51.,  53.,  58.,  42.,\n",
       "        52.,  45.,  56.,  51.,  50.,  52.,  53.,  55.,  51.,  55.,  46.,\n",
       "        42.,  41.,  50.,  50.,  47.,  59.,  55.,  58.,  41.,  50.,  54.,\n",
       "        54.,  47.,  48.,  41.,  49.,  49.,  51.,  53.,  48.,  46.,  56.,\n",
       "        50.,  39.,  46.,  55.,  56.,  49.,  52.,  51.,  50.,  46.,  44.,\n",
       "        43.,  51.,  46.,  49.,  51.,  51.,  48.,  52.,  49.,  46.,  47.,\n",
       "        53.,  50.,  49.,  54.,  54.,  49.,  55.,  50.,  63.,  58.,  52.,\n",
       "        49.,  54.,  50.,  54.,  45.,  51.,  43.,  49.,  57.,  50.,  39.,\n",
       "        53.,  39.,  39.,  45.,  55.,  47.,  52.,  54.,  41.,  49.,  47.,\n",
       "        47.,  40.,  62.,  39.,  37.,  42.,  50.,  50.,  45.,  47.,  50.,\n",
       "        47.,  55.,  60.,  48.,  57.,  47.,  52.,  47.,  50.,  62.])"
      ]
     },
     "execution_count": 124,
     "metadata": {},
     "output_type": "execute_result"
    }
   ],
   "source": [
    "results = make_array()\n",
    "for i in np.arange(1000):\n",
    "    results = np.append(results, flip_100_times())\n",
    "results"
   ]
  },
  {
   "cell_type": "code",
   "execution_count": 125,
   "metadata": {},
   "outputs": [
    {
     "data": {
      "text/html": [
       "<table border=\"1\" class=\"dataframe\">\n",
       "    <thead>\n",
       "        <tr>\n",
       "            <th># heads</th>\n",
       "        </tr>\n",
       "    </thead>\n",
       "    <tbody>\n",
       "        <tr>\n",
       "            <td>49     </td>\n",
       "        </tr>\n",
       "        <tr>\n",
       "            <td>61     </td>\n",
       "        </tr>\n",
       "        <tr>\n",
       "            <td>49     </td>\n",
       "        </tr>\n",
       "        <tr>\n",
       "            <td>57     </td>\n",
       "        </tr>\n",
       "        <tr>\n",
       "            <td>47     </td>\n",
       "        </tr>\n",
       "        <tr>\n",
       "            <td>46     </td>\n",
       "        </tr>\n",
       "        <tr>\n",
       "            <td>38     </td>\n",
       "        </tr>\n",
       "        <tr>\n",
       "            <td>50     </td>\n",
       "        </tr>\n",
       "        <tr>\n",
       "            <td>51     </td>\n",
       "        </tr>\n",
       "        <tr>\n",
       "            <td>52     </td>\n",
       "        </tr>\n",
       "    </tbody>\n",
       "</table>\n",
       "<p>... (990 rows omitted)</p>"
      ],
      "text/plain": [
       "# heads\n",
       "49\n",
       "61\n",
       "49\n",
       "57\n",
       "47\n",
       "46\n",
       "38\n",
       "50\n",
       "51\n",
       "52\n",
       "... (990 rows omitted)"
      ]
     },
     "execution_count": 125,
     "metadata": {},
     "output_type": "execute_result"
    }
   ],
   "source": [
    "num_heads_tbl = Table().with_columns(\"# heads\", results)\n",
    "num_heads_tbl"
   ]
  },
  {
   "cell_type": "code",
   "execution_count": 126,
   "metadata": {},
   "outputs": [
    {
     "data": {
      "image/png": "[encoded data removed]",
      "text/plain": [
       "<Figure size 600x400 with 1 Axes>"
      ]
     },
     "metadata": {},
     "output_type": "display_data"
    }
   ],
   "source": [
    "num_heads_tbl.hist(bins=np.arange(30,70,1))"
   ]
  },
  {
   "cell_type": "markdown",
   "metadata": {},
   "source": [
    "how many times when flipped 100 coins did we get between 40 and 60 heads?"
   ]
  },
  {
   "cell_type": "code",
   "execution_count": 129,
   "metadata": {},
   "outputs": [
    {
     "data": {
      "text/plain": [
       "956"
      ]
     },
     "execution_count": 129,
     "metadata": {},
     "output_type": "execute_result"
    }
   ],
   "source": [
    "num_heads_tbl.where(\"# heads\", are.between(40,60)).num_rows"
   ]
  },
  {
   "cell_type": "code",
   "execution_count": 130,
   "metadata": {},
   "outputs": [
    {
     "data": {
      "text/plain": [
       "1000"
      ]
     },
     "execution_count": 130,
     "metadata": {},
     "output_type": "execute_result"
    }
   ],
   "source": [
    "num_heads_tbl.num_rows"
   ]
  },
  {
   "cell_type": "code",
   "execution_count": null,
   "metadata": {},
   "outputs": [],
   "source": []
  },
  {
   "cell_type": "code",
   "execution_count": null,
   "metadata": {},
   "outputs": [],
   "source": []
  },
  {
   "cell_type": "code",
   "execution_count": null,
   "metadata": {},
   "outputs": [],
   "source": []
  },
  {
   "cell_type": "markdown",
   "metadata": {},
   "source": [
    "1. make an array of heads and tails\n",
    "2. flip a coin randomly (select head or tails at random) \n",
    "3. keep track of whether we got heads our tails"
   ]
  },
  {
   "cell_type": "code",
   "execution_count": null,
   "metadata": {},
   "outputs": [],
   "source": []
  },
  {
   "cell_type": "code",
   "execution_count": null,
   "metadata": {},
   "outputs": [],
   "source": []
  },
  {
   "cell_type": "code",
   "execution_count": null,
   "metadata": {},
   "outputs": [],
   "source": []
  },
  {
   "cell_type": "code",
   "execution_count": null,
   "metadata": {},
   "outputs": [],
   "source": []
  },
  {
   "cell_type": "code",
   "execution_count": null,
   "metadata": {},
   "outputs": [],
   "source": []
  },
  {
   "cell_type": "code",
   "execution_count": null,
   "metadata": {},
   "outputs": [],
   "source": []
  },
  {
   "cell_type": "code",
   "execution_count": null,
   "metadata": {},
   "outputs": [],
   "source": []
  },
  {
   "cell_type": "code",
   "execution_count": null,
   "metadata": {},
   "outputs": [],
   "source": [
    "coins = make_array('heads', 'tails')\n",
    "coins"
   ]
  },
  {
   "cell_type": "code",
   "execution_count": null,
   "metadata": {},
   "outputs": [],
   "source": [
    "np.random.choice(coins, 100) "
   ]
  },
  {
   "cell_type": "code",
   "execution_count": null,
   "metadata": {},
   "outputs": [],
   "source": [
    "sum(np.random.choice(coins, 100) == 'heads')"
   ]
  },
  {
   "cell_type": "code",
   "execution_count": null,
   "metadata": {},
   "outputs": [],
   "source": [
    "num_heads = make_array()\n",
    "for i in np.arange(1000):\n",
    "    num_heads = np.append(num_heads, sum(np.random.choice(coins, 100) == 'heads'))\n",
    "num_heads"
   ]
  },
  {
   "cell_type": "markdown",
   "metadata": {},
   "source": [
    "Let's plot the results from the experiments. What type of plot should we use?"
   ]
  },
  {
   "cell_type": "code",
   "execution_count": null,
   "metadata": {},
   "outputs": [],
   "source": []
  },
  {
   "cell_type": "markdown",
   "metadata": {},
   "source": [
    "How many times did we get 40 through 60 heads? What percentage of our simulations do these represent?"
   ]
  },
  {
   "cell_type": "code",
   "execution_count": null,
   "metadata": {},
   "outputs": [],
   "source": []
  },
  {
   "cell_type": "code",
   "execution_count": null,
   "metadata": {},
   "outputs": [],
   "source": []
  },
  {
   "cell_type": "code",
   "execution_count": null,
   "metadata": {},
   "outputs": [],
   "source": []
  },
  {
   "cell_type": "code",
   "execution_count": null,
   "metadata": {},
   "outputs": [],
   "source": [
    "1. Make our coins options"
   ]
  },
  {
   "cell_type": "code",
   "execution_count": null,
   "metadata": {},
   "outputs": [],
   "source": []
  },
  {
   "cell_type": "code",
   "execution_count": null,
   "metadata": {},
   "outputs": [],
   "source": []
  },
  {
   "cell_type": "code",
   "execution_count": null,
   "metadata": {},
   "outputs": [],
   "source": []
  },
  {
   "cell_type": "markdown",
   "metadata": {},
   "source": [
    "(back to slides)\n",
    "\n",
    "# Monty Hall Simulation"
   ]
  },
  {
   "cell_type": "markdown",
   "metadata": {},
   "source": [
    "Lets make an array of what can be behind each door"
   ]
  },
  {
   "cell_type": "code",
   "execution_count": null,
   "metadata": {},
   "outputs": [],
   "source": [
    "goats = make_array('first goat', 'second goat')\n",
    "hidden_behind_door = ... # Lets add the car"
   ]
  },
  {
   "cell_type": "markdown",
   "metadata": {},
   "source": [
    "Let's make a choice. We won't choose a door but rather whats behind the door"
   ]
  },
  {
   "cell_type": "code",
   "execution_count": null,
   "metadata": {},
   "outputs": [],
   "source": [
    "# Remember np.random.choice\n",
    "contestant_choice = ...\n",
    "contestant_choice"
   ]
  },
  {
   "cell_type": "code",
   "execution_count": null,
   "metadata": {},
   "outputs": [],
   "source": [
    "def other_goat(a_goat):\n",
    "    ''' Returns the other goat that wasn't chosen\n",
    "    '''\n",
    "    ...\n",
    "    return ..."
   ]
  },
  {
   "cell_type": "markdown",
   "metadata": {},
   "source": [
    "Let's test `other_goat()`"
   ]
  },
  {
   "cell_type": "code",
   "execution_count": null,
   "metadata": {},
   "outputs": [],
   "source": []
  },
  {
   "cell_type": "code",
   "execution_count": null,
   "metadata": {},
   "outputs": [],
   "source": []
  },
  {
   "cell_type": "markdown",
   "metadata": {},
   "source": [
    "What happens next? \n",
    "Monty chooses the door to show and we have a remaining door"
   ]
  },
  {
   "cell_type": "code",
   "execution_count": null,
   "metadata": {},
   "outputs": [],
   "source": [
    "monty_choice = ...\n",
    "remaining_door = ..."
   ]
  },
  {
   "cell_type": "markdown",
   "metadata": {},
   "source": [
    "But remember, these choices are conditioned on what the contestant chose"
   ]
  },
  {
   "cell_type": "code",
   "execution_count": null,
   "metadata": {},
   "outputs": [],
   "source": [
    "if ...: # one option for contest's choice\n",
    "    ...\n",
    "elif ...: # second option for contests's choice\n",
    "    ...\n",
    "elif ...: # third option for contestants choice\n",
    "    ...\n",
    "    \n",
    "contestant_choice, monty_choice, remaining_door"
   ]
  },
  {
   "cell_type": "markdown",
   "metadata": {},
   "source": [
    "Let's add this to a function so that we can run many simulations of the game"
   ]
  },
  {
   "cell_type": "code",
   "execution_count": null,
   "metadata": {},
   "outputs": [],
   "source": [
    "def monty_hall():\n",
    "    '''\n",
    "    Simulates one run of monty hall.\n",
    "    Returns values behind contestant_choice, monty_choice, remaining_door\n",
    "    '''\n",
    "    ...\n",
    "    return "
   ]
  },
  {
   "cell_type": "markdown",
   "metadata": {},
   "source": [
    "Now let's play this game once"
   ]
  },
  {
   "cell_type": "code",
   "execution_count": null,
   "metadata": {},
   "outputs": [],
   "source": []
  },
  {
   "cell_type": "markdown",
   "metadata": {},
   "source": [
    "Let's play it another time"
   ]
  },
  {
   "cell_type": "code",
   "execution_count": null,
   "metadata": {},
   "outputs": [],
   "source": []
  },
  {
   "cell_type": "markdown",
   "metadata": {},
   "source": [
    "#### Let's play this game multiple times\n",
    "How could we do that based on what we learned in today's lecture?"
   ]
  },
  {
   "cell_type": "code",
   "execution_count": null,
   "metadata": {},
   "outputs": [],
   "source": []
  },
  {
   "cell_type": "markdown",
   "metadata": {},
   "source": [
    "### Simulations\n",
    "\n",
    "Let's make a table where we will keep simulations\n",
    "We want to keep track of the original guess, what was revealed, and what is remaining in the other hidden door"
   ]
  },
  {
   "cell_type": "code",
   "execution_count": null,
   "metadata": {},
   "outputs": [],
   "source": [
    "games = Table(['Guess', 'Revealed', 'Remaining'])"
   ]
  },
  {
   "cell_type": "code",
   "execution_count": null,
   "metadata": {},
   "outputs": [],
   "source": []
  },
  {
   "cell_type": "markdown",
   "metadata": {},
   "source": [
    "### How could we see what remains for each guess?\n",
    "what metho dshould we call on the table?"
   ]
  },
  {
   "cell_type": "code",
   "execution_count": null,
   "metadata": {},
   "outputs": [],
   "source": []
  },
  {
   "cell_type": "markdown",
   "metadata": {},
   "source": [
    "Let's group on the remaining to decide if we should change?"
   ]
  },
  {
   "cell_type": "code",
   "execution_count": null,
   "metadata": {},
   "outputs": [],
   "source": []
  }
 ],
 "metadata": {
  "kernelspec": {
   "display_name": "Python 3 (ipykernel)",
   "language": "python",
   "name": "python3"
  },
  "language_info": {
   "codemirror_mode": {
    "name": "ipython",
    "version": 3
   },
   "file_extension": ".py",
   "mimetype": "text/x-python",
   "name": "python",
   "nbconvert_exporter": "python",
   "pygments_lexer": "ipython3",
   "version": "3.12.6"
  }
 },
 "nbformat": 4,
 "nbformat_minor": 4
}
