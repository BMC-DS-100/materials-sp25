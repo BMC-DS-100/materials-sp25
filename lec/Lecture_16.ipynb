{
 "cells": [
  {
   "cell_type": "code",
   "execution_count": null,
   "id": "confidential-helicopter",
   "metadata": {},
   "outputs": [],
   "source": [
    "from datascience import *\n",
    "import numpy as np\n",
    "\n",
    "%matplotlib inline\n",
    "import matplotlib.pyplot as plots\n",
    "plots.style.use('fivethirtyeight')"
   ]
  },
  {
   "cell_type": "markdown",
   "id": "olympic-mozambique",
   "metadata": {},
   "source": [
    "# Comparing Two Samples\n",
    "Let's walk through these two functions together"
   ]
  },
  {
   "cell_type": "code",
   "execution_count": null,
   "id": "altered-logan",
   "metadata": {},
   "outputs": [],
   "source": [
    "def difference_of_means(table, numeric_label, group_label):\n",
    "    \"\"\"\n",
    "    Takes: name of table, column label of numerical variable,\n",
    "    column label of group-label variable\n",
    "    \n",
    "    Returns: Difference of means of the two groups\n",
    "    \"\"\"\n",
    "    \n",
    "    #table with the two relevant columns\n",
    "    reduced = table.select(numeric_label, group_label)  \n",
    "    \n",
    "    # table containing group means\n",
    "    means_table = reduced.group(group_label, np.average)\n",
    "    \n",
    "    # array of group means\n",
    "    means = means_table.column(1)\n",
    "    \n",
    "    return means.item(1) - means.item(0)"
   ]
  },
  {
   "cell_type": "code",
   "execution_count": null,
   "id": "hollywood-wrist",
   "metadata": {},
   "outputs": [],
   "source": [
    "def one_simulated_difference(table, numeric_label, group_label):\n",
    "    \"\"\"\n",
    "    Takes: name of table, column label of numerical variable,\n",
    "    column label of group-label variable\n",
    "    \n",
    "    Returns: Difference of means of the two groups after shuffling labels\n",
    "    \"\"\"\n",
    "    \n",
    "    # array of shuffled labels\n",
    "    shuffled_labels = table.sample(\n",
    "        with_replacement = False).column(group_label)\n",
    "    \n",
    "    # table of numerical variable and shuffled labels\n",
    "    shuffled_table = table.select(numeric_label).with_column(\n",
    "        'Shuffled Label', shuffled_labels)\n",
    "    \n",
    "    return difference_of_means(\n",
    "        shuffled_table, numeric_label, 'Shuffled Label')"
   ]
  },
  {
   "cell_type": "markdown",
   "id": "graduate-guinea",
   "metadata": {},
   "source": [
    "(back to slides)\n",
    "# Randomized Control Trial\n",
    "Let's look at the example from the textbook the discusses whether\n",
    "botulinum toxin A causes pain relief"
   ]
  },
  {
   "cell_type": "markdown",
   "id": "english-point",
   "metadata": {},
   "source": [
    "The data is stored in a csv file named `bta.csv`.\n",
    "How can we load in the data?"
   ]
  },
  {
   "cell_type": "code",
   "execution_count": null,
   "id": "medium-reverse",
   "metadata": {},
   "outputs": [],
   "source": [
    "bta = ...\n",
    "bta.show()"
   ]
  },
  {
   "cell_type": "markdown",
   "id": "human-ocean",
   "metadata": {},
   "source": [
    "**QUESTION:** What do the columns and values represent?\n",
    "\n",
    "What table function can we use to help us figure this out? \n",
    "\n",
    "*Hint: what function shows us the statistics about the values a column has?*\n",
    "\n",
    "<details>\n",
    "<summary>Solution</summary>\n",
    "  botox.pivot('Result', 'Group')\n",
    "</details>"
   ]
  },
  {
   "cell_type": "code",
   "execution_count": null,
   "id": "comic-horror",
   "metadata": {},
   "outputs": [],
   "source": [
    "bta.pivot(\"Result\", \"Group\")"
   ]
  },
  {
   "cell_type": "markdown",
   "id": "hazardous-underground",
   "metadata": {},
   "source": [
    "**QUESTION:** What statistic should we use here to see a difference between the groups?"
   ]
  },
  {
   "cell_type": "markdown",
   "id": "computational-india",
   "metadata": {},
   "source": [
    "<details>\n",
    "<summary>Review</summary>\n",
    "  Copy the following in markdown below <br>\n",
    "    ![title](hypothesis_testing_stat_review.png)\n",
    "</details>"
   ]
  },
  {
   "cell_type": "code",
   "execution_count": null,
   "id": "southwest-timer",
   "metadata": {},
   "outputs": [],
   "source": []
  },
  {
   "cell_type": "markdown",
   "id": "flexible-elephant",
   "metadata": {},
   "source": [
    "<details>\n",
    "<summary>Solution</summary>\n",
    "  difference of means\n",
    "</details>"
   ]
  },
  {
   "cell_type": "markdown",
   "id": "typical-secondary",
   "metadata": {},
   "source": [
    "**QUESTION:** How do we compute that difference?\n",
    "\n",
    "<details>\n",
    "<summary>Solution</summary>\n",
    "  botox.group('Group', np.average)\n",
    "    <br><br>\n",
    "  tmp_tbl = botox.group('Group', np.average)\n",
    "   <br><br>\n",
    "    observed_stat = bta_means_tbl.column(1).item(1) - bta_means_tbl.column(1).item(0)\n",
    "observed_stat\n",
    "</details>\n"
   ]
  },
  {
   "cell_type": "code",
   "execution_count": null,
   "id": "organized-wrist",
   "metadata": {},
   "outputs": [],
   "source": [
    "bta_means_tbl = bta.group(\"Group\", np.average)\n",
    "bta_means_tbl"
   ]
  },
  {
   "cell_type": "code",
   "execution_count": null,
   "id": "tutorial-stack",
   "metadata": {},
   "outputs": [],
   "source": [
    "observed_stat = bta_means_tbl.column(1).item(1) - bta_means_tbl.column(1).item(0)\n",
    "observed_stat"
   ]
  },
  {
   "cell_type": "markdown",
   "id": "brutal-street",
   "metadata": {},
   "source": [
    "##  Testing the Hypothesis"
   ]
  },
  {
   "cell_type": "markdown",
   "id": "manual-burlington",
   "metadata": {},
   "source": [
    "**Question:** How can we use the functions from the top?\n",
    "<details>\n",
    "<summary>Solution</summary>\n",
    "  difference of means(botox, 'Result', 'Group')\n",
    "</details>  "
   ]
  },
  {
   "cell_type": "code",
   "execution_count": null,
   "id": "center-matthew",
   "metadata": {},
   "outputs": [],
   "source": [
    "observed_diff = ...\n",
    "observed_diff"
   ]
  },
  {
   "cell_type": "markdown",
   "id": "strange-trauma",
   "metadata": {},
   "source": [
    "**Question:** How can we simulate this statistic once?\n",
    "<details>\n",
    "<summary>Solution</summary>\n",
    "  one_simulated_difference(botox, 'Result', 'Group')\n",
    "</details> "
   ]
  },
  {
   "cell_type": "code",
   "execution_count": null,
   "id": "expected-bride",
   "metadata": {},
   "outputs": [],
   "source": [
    "one_simulated_difference(bta, 'Result', 'Group')"
   ]
  },
  {
   "cell_type": "markdown",
   "id": "congressional-evidence",
   "metadata": {},
   "source": [
    "Now let's simulate that 10k times"
   ]
  },
  {
   "cell_type": "code",
   "execution_count": null,
   "id": "treated-sustainability",
   "metadata": {},
   "outputs": [],
   "source": [
    "# answer is below\n",
    "all_simulated_stats = make_array()\n",
    "for i in np.arange(1e4):\n",
    "    simulated_stat = one_simulated_difference(bta, 'Result', 'Group')\n",
    "    all_simulated_stats = np.append(all_simulated_stats, simulated_stat)\n",
    "\n",
    "len(all_simulated_stats) == 1e4"
   ]
  },
  {
   "cell_type": "code",
   "execution_count": null,
   "id": "peaceful-quebec",
   "metadata": {},
   "outputs": [],
   "source": [
    "Table().with_column('Mean difference of Treatment - Control outcomes', all_simulated_stats).hist() #bins=np.arange(-0.6, 0.6, 0.01))"
   ]
  },
  {
   "cell_type": "markdown",
   "id": "instant-alloy",
   "metadata": {},
   "source": [
    "**Question:** Is the observed statistic statistically significant?"
   ]
  },
  {
   "cell_type": "code",
   "execution_count": null,
   "id": "seven-gates",
   "metadata": {},
   "outputs": [],
   "source": [
    "observed_stat"
   ]
  },
  {
   "cell_type": "markdown",
   "id": "equal-audit",
   "metadata": {},
   "source": [
    "**Question:** Which of the following is our p-value? \n",
    "\n",
    "Hint: Which tail should we use?"
   ]
  },
  {
   "cell_type": "code",
   "execution_count": null,
   "id": "rolled-implementation",
   "metadata": {},
   "outputs": [],
   "source": [
    "# p-value1\n",
    "p_1 = sum(all_simulated_stats >= observed_stat)/len(all_simulated_stats)\n",
    "\n",
    "# p-value2\n",
    "p_2 = sum(all_simulated_stats <= observed_stat)/len(all_simulated_stats)\n",
    "\n",
    "p_1, p_2"
   ]
  },
  {
   "cell_type": "markdown",
   "id": "useful-brunei",
   "metadata": {},
   "source": [
    "**Question:** Is this statistically significant?"
   ]
  },
  {
   "cell_type": "markdown",
   "id": "secure-flashing",
   "metadata": {},
   "source": [
    "(back to slides)\n",
    "# Percentiles"
   ]
  },
  {
   "cell_type": "code",
   "execution_count": null,
   "id": "tight-marathon",
   "metadata": {},
   "outputs": [],
   "source": [
    "# Manually compute the 55th percentile.\n",
    "x = make_array(43, 20, 51, 7, 28, 34)"
   ]
  },
  {
   "cell_type": "code",
   "execution_count": null,
   "id": "improved-civilization",
   "metadata": {},
   "outputs": [],
   "source": [
    "# Step 1. Sort the data\n",
    "np.sort(x)"
   ]
  },
  {
   "cell_type": "code",
   "execution_count": null,
   "id": "injured-motorcycle",
   "metadata": {},
   "outputs": [],
   "source": [
    "# Step 2. Figure out where 55th percentile would be.\n",
    "# The Xth percentile is first value on the sorted list that is at least as large as X% of the elements "
   ]
  },
  {
   "cell_type": "code",
   "execution_count": null,
   "id": "exposed-companion",
   "metadata": {},
   "outputs": [],
   "source": [
    "# OR: 1 Line of Code using percentile()\n",
    "percentile(55, x)"
   ]
  },
  {
   "cell_type": "markdown",
   "id": "previous-picture",
   "metadata": {},
   "source": [
    "(back to slides)\n",
    "## Percentiles questions"
   ]
  },
  {
   "cell_type": "code",
   "execution_count": null,
   "id": "responsible-upset",
   "metadata": {},
   "outputs": [],
   "source": [
    "s= [1, 7, 3, 9, 5]"
   ]
  },
  {
   "cell_type": "code",
   "execution_count": null,
   "id": "surrounded-narrative",
   "metadata": {},
   "outputs": [],
   "source": [
    "#1 \n",
    "percentile(10, s) == 0"
   ]
  },
  {
   "cell_type": "code",
   "execution_count": null,
   "id": "pressed-policy",
   "metadata": {},
   "outputs": [],
   "source": [
    "# 2 \n",
    "percentile(39, s) == percentile(40, s)"
   ]
  },
  {
   "cell_type": "code",
   "execution_count": null,
   "id": "subsequent-cycling",
   "metadata": {},
   "outputs": [],
   "source": [
    "# 3\n",
    "percentile(40, s) == percentile(41, s) "
   ]
  },
  {
   "cell_type": "code",
   "execution_count": null,
   "id": "animated-camping",
   "metadata": {},
   "outputs": [],
   "source": [
    "# 4\n",
    "percentile(50, s) == 5 "
   ]
  },
  {
   "cell_type": "markdown",
   "id": "wanted-animal",
   "metadata": {},
   "source": [
    "# Estimation"
   ]
  },
  {
   "cell_type": "markdown",
   "id": "hundred-papua",
   "metadata": {},
   "source": [
    "### Sample Median"
   ]
  },
  {
   "cell_type": "code",
   "execution_count": null,
   "id": "distant-california",
   "metadata": {},
   "outputs": [],
   "source": [
    "sf = Table.read_table('san_francisco_2015.csv')\n",
    "sf.show(5)"
   ]
  },
  {
   "cell_type": "markdown",
   "id": "advisory-company",
   "metadata": {},
   "source": [
    "**Question:** What is this dataset?"
   ]
  },
  {
   "cell_type": "code",
   "execution_count": null,
   "id": "mechanical-consultation",
   "metadata": {},
   "outputs": [],
   "source": []
  },
  {
   "cell_type": "code",
   "execution_count": null,
   "id": "twelve-associate",
   "metadata": {},
   "outputs": [],
   "source": [
    "salary_sf.group(0).barh(0)"
   ]
  },
  {
   "cell_type": "code",
   "execution_count": null,
   "id": "enhanced-firmware",
   "metadata": {},
   "outputs": [],
   "source": [
    "# skip"
   ]
  },
  {
   "cell_type": "code",
   "execution_count": null,
   "id": "narrative-centre",
   "metadata": {},
   "outputs": [],
   "source": [
    "# skip"
   ]
  },
  {
   "cell_type": "code",
   "execution_count": null,
   "id": "acquired-native",
   "metadata": {},
   "outputs": [],
   "source": [
    "# skip"
   ]
  },
  {
   "cell_type": "code",
   "execution_count": null,
   "id": "conceptual-balloon",
   "metadata": {},
   "outputs": [],
   "source": [
    "# We only care about salary for now\n",
    "salary_sf = sf.select(3, 11, 21)\n",
    "salary_sf"
   ]
  },
  {
   "cell_type": "markdown",
   "id": "attempted-intro",
   "metadata": {},
   "source": [
    "**Question:** Who is making the most money?"
   ]
  },
  {
   "cell_type": "code",
   "execution_count": null,
   "id": "binding-lafayette",
   "metadata": {},
   "outputs": [],
   "source": []
  },
  {
   "cell_type": "code",
   "execution_count": null,
   "id": "weird-explorer",
   "metadata": {},
   "outputs": [],
   "source": []
  },
  {
   "cell_type": "markdown",
   "id": "together-monkey",
   "metadata": {},
   "source": [
    "**Question:** Who is making the least money?"
   ]
  },
  {
   "cell_type": "code",
   "execution_count": null,
   "id": "martial-palestine",
   "metadata": {},
   "outputs": [],
   "source": []
  },
  {
   "cell_type": "markdown",
   "id": "common-property",
   "metadata": {},
   "source": [
    "**Question:** What is the typical salary? Should we compute the mean or median for this?"
   ]
  },
  {
   "cell_type": "code",
   "execution_count": null,
   "id": "improving-condition",
   "metadata": {},
   "outputs": [],
   "source": []
  },
  {
   "cell_type": "markdown",
   "id": "noble-berlin",
   "metadata": {},
   "source": [
    "How can we compute the median with what we covered today?\n",
    "<details>\n",
    "<summary>Solution</summary>\n",
    "  percentile(50, sf.column('Total Compensation'))\n",
    "</details>  "
   ]
  },
  {
   "cell_type": "code",
   "execution_count": null,
   "id": "configured-senegal",
   "metadata": {},
   "outputs": [],
   "source": [
    "pop_median = ...\n",
    "pop_median"
   ]
  },
  {
   "cell_type": "code",
   "execution_count": null,
   "id": "christian-month",
   "metadata": {},
   "outputs": [],
   "source": [
    "sf_bins = np.arange(0, 700000, 25000)\n",
    "sf.hist('Total Compensation', bins=sf_bins)\n",
    "plots.title('Population Distribution');"
   ]
  },
  {
   "cell_type": "markdown",
   "id": "little-graduate",
   "metadata": {},
   "source": [
    "### Estimating Salaries\n",
    "Say we dont have salaries. What would we do to compute the 50% percentile of salaries?"
   ]
  },
  {
   "cell_type": "code",
   "execution_count": null,
   "id": "valuable-junction",
   "metadata": {},
   "outputs": [],
   "source": [
    "# skip"
   ]
  },
  {
   "cell_type": "code",
   "execution_count": null,
   "id": "supreme-stanford",
   "metadata": {},
   "outputs": [],
   "source": [
    "# skip"
   ]
  },
  {
   "cell_type": "code",
   "execution_count": null,
   "id": "special-aruba",
   "metadata": {},
   "outputs": [],
   "source": [
    "# skip"
   ]
  },
  {
   "cell_type": "code",
   "execution_count": null,
   "id": "amended-sunset",
   "metadata": {},
   "outputs": [],
   "source": [
    "our_sample = sf.sample(300, with_replacement=False)\n",
    "our_sample.show(5)"
   ]
  },
  {
   "cell_type": "code",
   "execution_count": null,
   "id": "pleased-latvia",
   "metadata": {},
   "outputs": [],
   "source": [
    "estimate_median = percentile(50, our_sample.column('Total Compensation'))\n",
    "estimate_median"
   ]
  },
  {
   "cell_type": "code",
   "execution_count": null,
   "id": "selective-encoding",
   "metadata": {},
   "outputs": [],
   "source": [
    "our_sample.hist('Total Compensation', bins=sf_bins)\n",
    "plots.title('Sample Distribution');"
   ]
  },
  {
   "cell_type": "markdown",
   "id": "purple-experiment",
   "metadata": {},
   "source": [
    "**Question:** How far off is our estimate from the true median?"
   ]
  },
  {
   "cell_type": "code",
   "execution_count": null,
   "id": "noble-ebony",
   "metadata": {},
   "outputs": [],
   "source": [
    "**Question:** How far off is our estimate from the true median"
   ]
  },
  {
   "cell_type": "code",
   "execution_count": null,
   "id": "involved-speed",
   "metadata": {},
   "outputs": [],
   "source": [
    "pop_median, estimate_median, abs(pop_median - estimate_median)"
   ]
  },
  {
   "cell_type": "markdown",
   "id": "bottom-incentive",
   "metadata": {},
   "source": [
    "## Variability of the Estimate\n",
    "\n",
    "Let's implement the following function:\n",
    "\n",
    "<details>\n",
    "<summary>Solution</summary>\n",
    "  our_sample = sf.sample(samp_size, with_replacement=False)\n",
    "  return percentile(50, our_sample.column('Total Compensation'))\n",
    "</details>\n"
   ]
  },
  {
   "cell_type": "code",
   "execution_count": null,
   "id": "excited-joint",
   "metadata": {},
   "outputs": [],
   "source": [
    "def generate_sample_median(samp_size):\n",
    "    \"\"\"\n",
    "    Given a sample size\n",
    "    Returns the median of a random sample of samp_size from the sf table\"\"\"\n",
    "    # Question: sample with or without replacement?\n",
    "    \n",
    "    \n",
    "\n",
    "sample_median = generate_sample_median(300)\n",
    "sample_median"
   ]
  },
  {
   "cell_type": "markdown",
   "id": "bored-demographic",
   "metadata": {},
   "source": [
    "**Question:** What is our error?\n",
    "\n",
    "\n",
    "<details>\n",
    "<summary>Solution</summary>\n",
    "  error = sample_median - pop_median\n",
    "</details>\n"
   ]
  },
  {
   "cell_type": "code",
   "execution_count": null,
   "id": "laden-night",
   "metadata": {},
   "outputs": [],
   "source": [
    "error = ...\n",
    "error"
   ]
  },
  {
   "cell_type": "markdown",
   "id": "little-musical",
   "metadata": {},
   "source": [
    "(back to slides)\n",
    "# Quantifying Uncertainty\n",
    "\n",
    "Lets take 1k estimates where each sample has 300 individuals\n"
   ]
  },
  {
   "cell_type": "code",
   "execution_count": null,
   "id": "novel-bacon",
   "metadata": {
    "tags": []
   },
   "outputs": [],
   "source": [
    "sample_medians = make_array()\n",
    "\n",
    "for i in np.arange(1000):\n",
    "    new_median = generate_sample_median(300)\n",
    "    sample_medians = np.append(sample_medians, new_median)\n",
    "sample_medians"
   ]
  },
  {
   "cell_type": "markdown",
   "id": "mineral-wages",
   "metadata": {},
   "source": [
    "Let's plot the medians"
   ]
  },
  {
   "cell_type": "code",
   "execution_count": null,
   "id": "funny-linux",
   "metadata": {},
   "outputs": [],
   "source": [
    "med_bins = np.arange(90000, 125001, 2500)\n",
    "Table().with_column(\n",
    "    'Sample Medians', sample_medians\n",
    ").hist(bins = med_bins)\n",
    "\n",
    "plots.scatter(pop_median, -1e-6, color=\"red\");"
   ]
  },
  {
   "cell_type": "markdown",
   "id": "short-leadership",
   "metadata": {},
   "source": [
    "Lets plot the errors"
   ]
  },
  {
   "cell_type": "code",
   "execution_count": null,
   "id": "pregnant-running",
   "metadata": {},
   "outputs": [],
   "source": [
    "err_bins = np.arange(-15000, 12501, 2500)\n",
    "Table().with_column(\n",
    "    'Errors', sample_medians - pop_median\n",
    ").hist(bins = err_bins)\n",
    "\n",
    "plots.scatter(0, -1e-6, color=\"red\");"
   ]
  },
  {
   "cell_type": "markdown",
   "id": "least-charity",
   "metadata": {},
   "source": [
    "(back to slides)\n",
    "# Bootstrap"
   ]
  },
  {
   "cell_type": "code",
   "execution_count": null,
   "id": "increased-lafayette",
   "metadata": {},
   "outputs": [],
   "source": [
    "our_sample"
   ]
  },
  {
   "cell_type": "code",
   "execution_count": null,
   "id": "conceptual-flexibility",
   "metadata": {},
   "outputs": [],
   "source": [
    "# Take a bootstrap (re)sample of size 300, WITH replacement\n",
    "\n",
    "# Sample from our sample\n",
    "boot_sample = our_sample.sample(with_replacement=True)\n",
    "#boot_sample"
   ]
  },
  {
   "cell_type": "markdown",
   "id": "recreational-twist",
   "metadata": {},
   "source": [
    "Let's compare the median from our sample with the median of the boostrapped sample"
   ]
  },
  {
   "cell_type": "code",
   "execution_count": null,
   "id": "toxic-execution",
   "metadata": {},
   "outputs": [],
   "source": [
    "our_sample_median = percentile(50, our_sample.column('Total Compensation'))\n",
    "boot_sample_median = percentile(50, boot_sample.column('Total Compensation'))"
   ]
  },
  {
   "cell_type": "code",
   "execution_count": null,
   "id": "better-retail",
   "metadata": {},
   "outputs": [],
   "source": [
    "# Show the bootstrap sample \n",
    "boot_sample.hist('Total Compensation', bins=sf_bins)\n",
    "plots.title('1 Bootstrap sample');\n",
    "\n",
    "print(\"Population Median =       \", pop_median)\n",
    "print(\"Our Sample Median =       \", our_sample_median)\n",
    "print(\"Bootstrap Sample Median = \", \n",
    "      percentile(50,boot_sample.column('Total Compensation')))"
   ]
  },
  {
   "cell_type": "markdown",
   "id": "million-swing",
   "metadata": {},
   "source": [
    "### Multiple Bootstraps\n",
    "Let's take 1k bootstraps. Lets start by implementing the following function\n",
    "\n",
    "<details>\n",
    "<summary>Solution</summary>\n",
    "   single_sample = our_sample.sample()\n",
    "   return percentile(50, single_sample.column('Total Compensation'))\n",
    "</details>  "
   ]
  },
  {
   "cell_type": "code",
   "execution_count": null,
   "id": "personalized-craft",
   "metadata": {},
   "outputs": [],
   "source": [
    "def one_bootstrap_median():\n",
    "    single_sample = ...\n",
    "    return ..."
   ]
  },
  {
   "cell_type": "markdown",
   "id": "caring-statement",
   "metadata": {},
   "source": [
    "Now let's keep track of 1k bootstrapped median"
   ]
  },
  {
   "cell_type": "code",
   "execution_count": null,
   "id": "increased-tension",
   "metadata": {},
   "outputs": [],
   "source": [
    "# Bootstrap our sample 1000 times\n",
    "bootstrap_medians = ...\n",
    "for i in np.arange(1000):\n",
    "    new_median = ...\n",
    "    bootstrap_medians = ..."
   ]
  },
  {
   "cell_type": "markdown",
   "id": "sound-segment",
   "metadata": {},
   "source": [
    "Let's visualize these bootstrapped medians"
   ]
  },
  {
   "cell_type": "code",
   "execution_count": null,
   "id": "connected-facility",
   "metadata": {},
   "outputs": [],
   "source": [
    "Table().with_column(\n",
    "    'Bootstrap Medians', bootstrap_medians\n",
    ").hist('Bootstrap Medians', bins=med_bins)\n",
    "\n",
    "plots.scatter(pop_median, 0, color=\"red\");\n",
    "plots.scatter(our_sample_median, 0, color=\"blue\");\n",
    "plots.title('Bootstrap Medians (1K Bootstraps from our Sample)');"
   ]
  },
  {
   "cell_type": "markdown",
   "id": "specialized-harris",
   "metadata": {},
   "source": [
    "# 95% Confidence Interval"
   ]
  },
  {
   "cell_type": "markdown",
   "id": "accredited-chance",
   "metadata": {},
   "source": [
    "**Question**: How could we make an interval based on the middle 95% of bootstrap samples?\n",
    "\n",
    "- *Hint 1:* Remember we stored the bootstrapped medians in an array called `bootstrap_medians`\n",
    "- *Hint 2:* What did we learn about in the begining of this lecture?\n",
    "\n",
    "\n",
    "<details>\n",
    "<summary>Solution</summary>\n",
    "  left = percentile(2.5, bootstrap_medians)\n",
    "right = percentile(97.5, bootstrap_medians)\n",
    "</details>  "
   ]
  },
  {
   "cell_type": "code",
   "execution_count": null,
   "id": "average-presence",
   "metadata": {},
   "outputs": [],
   "source": [
    "# Make an interval based on the middle 95% of bootstrap samples\n",
    "\n",
    "left = ...\n",
    "right = ..."
   ]
  },
  {
   "cell_type": "code",
   "execution_count": null,
   "id": "collaborative-texas",
   "metadata": {},
   "outputs": [],
   "source": [
    "Table().with_column(\n",
    "    'Bootstrap Medians', bootstrap_medians\n",
    ").hist('Bootstrap Medians', bins=med_bins)\n",
    "\n",
    "plots.plot([left, right], [0,0], color=\"gold\",lw=3, zorder=1);\n",
    "plots.scatter(pop_median, 0, color=\"red\", zorder=2);\n",
    "plots.scatter(our_sample_median, 0, color=\"blue\", zorder=2);\n",
    "plots.title('Bootstrap Medians (1K Bootstraps from our Sample)');"
   ]
  },
  {
   "cell_type": "markdown",
   "id": "cellular-sauce",
   "metadata": {},
   "source": [
    "## Another Example: Mean Maternal Age"
   ]
  },
  {
   "cell_type": "code",
   "execution_count": null,
   "id": "radio-payroll",
   "metadata": {},
   "outputs": [],
   "source": [
    "# This time we have a sample, but no population data!\n",
    "births = Table.read_table('baby.csv')\n",
    "births.show(5)"
   ]
  },
  {
   "cell_type": "markdown",
   "id": "billion-microphone",
   "metadata": {},
   "source": [
    "How can we see a distribution of maternal ages?\n",
    "\n",
    "<details>\n",
    "<summary>Solution</summary>\n",
    "  births.hist('Maternal Age')\n",
    "</details>  "
   ]
  },
  {
   "cell_type": "markdown",
   "id": "becoming-regression",
   "metadata": {},
   "source": [
    "What is the mean age?"
   ]
  },
  {
   "cell_type": "code",
   "execution_count": null,
   "id": "hybrid-pasta",
   "metadata": {},
   "outputs": [],
   "source": [
    "mean_age = ...\n",
    "mean_age"
   ]
  },
  {
   "cell_type": "markdown",
   "id": "competitive-board",
   "metadata": {},
   "source": [
    "Now let's use bootstraping to find samples means\n",
    "\n",
    "<details>\n",
    "<summary>Solution</summary>\n",
    "  np.mean(births.sample().column('Maternal Age'))\n",
    "</details>  "
   ]
  },
  {
   "cell_type": "code",
   "execution_count": null,
   "id": "athletic-outreach",
   "metadata": {},
   "outputs": [],
   "source": [
    "def one_bootstrap_mean():\n",
    "    return ..."
   ]
  },
  {
   "cell_type": "markdown",
   "id": "modular-removal",
   "metadata": {},
   "source": [
    "Let's compute 1k bootstrapped samples"
   ]
  },
  {
   "cell_type": "code",
   "execution_count": null,
   "id": "international-major",
   "metadata": {},
   "outputs": [],
   "source": [
    "bootstrap_means = make_array()\n",
    "\n",
    "for i in np.arange(1000):\n",
    "    new_mean = one_bootstrap_mean()\n",
    "    bootstrap_means = np.append(bootstrap_means, new_mean)\n",
    "    \n",
    "left = percentile(2.5, bootstrap_means)\n",
    "right = percentile(97.5, bootstrap_means)"
   ]
  },
  {
   "cell_type": "code",
   "execution_count": null,
   "id": "cognitive-moses",
   "metadata": {},
   "outputs": [],
   "source": [
    "Table().with_column('Bootstrap means', bootstrap_means).hist()\n",
    "\n",
    "plots.plot([left,right], [0,0], color=\"gold\", lw=3, zorder=1);\n",
    "plots.scatter(mean_age,0,color=\"blue\", zorder=2);\n",
    "plots.title('Bootstrap Means (1K Bootstraps from our Sample)');"
   ]
  }
 ],
 "metadata": {
  "kernelspec": {
   "display_name": "Python 3",
   "language": "python",
   "name": "python3"
  },
  "language_info": {
   "codemirror_mode": {
    "name": "ipython",
    "version": 3
   },
   "file_extension": ".py",
   "mimetype": "text/x-python",
   "name": "python",
   "nbconvert_exporter": "python",
   "pygments_lexer": "ipython3",
   "version": "3.8.8"
  }
 },
 "nbformat": 4,
 "nbformat_minor": 5
}
