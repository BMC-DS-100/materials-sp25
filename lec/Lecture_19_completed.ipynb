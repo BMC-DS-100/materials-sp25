{
 "cells": [
  {
   "cell_type": "code",
   "execution_count": 1,
   "metadata": {},
   "outputs": [],
   "source": [
    "from datascience import *\n",
    "import numpy as np\n",
    "\n",
    "%matplotlib inline\n",
    "import matplotlib.pyplot as plots\n",
    "plots.style.use('fivethirtyeight')"
   ]
  },
  {
   "cell_type": "markdown",
   "metadata": {},
   "source": [
    "# Confidence INtervals"
   ]
  },
  {
   "cell_type": "code",
   "execution_count": null,
   "metadata": {},
   "outputs": [],
   "source": [
    "# This time we have a sample, but no population data!\n",
    "births = Table.read_table('baby.csv')\n",
    "births.show(5)"
   ]
  },
  {
   "cell_type": "markdown",
   "metadata": {},
   "source": [
    "How can we see a distribution of maternal ages?\n",
    "\n",
    "<details>\n",
    "<summary>Solution</summary>\n",
    "  births.hist('Maternal Age')\n",
    "</details>  "
   ]
  },
  {
   "cell_type": "code",
   "execution_count": null,
   "metadata": {},
   "outputs": [],
   "source": []
  },
  {
   "cell_type": "markdown",
   "metadata": {},
   "source": [
    "What is the mean age?"
   ]
  },
  {
   "cell_type": "code",
   "execution_count": null,
   "metadata": {},
   "outputs": [],
   "source": [
    "mean_age = ...\n",
    "mean_age"
   ]
  },
  {
   "cell_type": "markdown",
   "metadata": {},
   "source": [
    "Now let's use bootstraping to find samples means\n",
    "\n",
    "<details>\n",
    "<summary>Solution</summary>\n",
    "  np.mean(births.sample().column('Maternal Age'))\n",
    "</details>  "
   ]
  },
  {
   "cell_type": "code",
   "execution_count": null,
   "metadata": {},
   "outputs": [],
   "source": [
    "def one_bootstrap_mean():\n",
    "    return ..."
   ]
  },
  {
   "cell_type": "markdown",
   "metadata": {},
   "source": [
    "Let's compute 1k bootstrapped samples"
   ]
  },
  {
   "cell_type": "code",
   "execution_count": null,
   "metadata": {},
   "outputs": [],
   "source": [
    "bootstrap_means = make_array()\n",
    "\n",
    "for i in np.arange(1000):\n",
    "    new_mean = one_bootstrap_mean()\n",
    "    bootstrap_means = np.append(bootstrap_means, new_mean)\n",
    "    \n",
    "left = percentile(2.5, bootstrap_means)\n",
    "right = percentile(97.5, bootstrap_means)"
   ]
  },
  {
   "cell_type": "code",
   "execution_count": null,
   "metadata": {},
   "outputs": [],
   "source": [
    "Table().with_column('Bootstrap means', bootstrap_means).hist()\n",
    "\n",
    "plots.plot([left,right], [0,0], color=\"gold\", lw=3, zorder=1);\n",
    "plots.scatter(mean_age,0,color=\"blue\", zorder=2);\n",
    "plots.title('Bootstrap Means (1K Bootstraps from our Sample)');"
   ]
  },
  {
   "cell_type": "code",
   "execution_count": null,
   "metadata": {},
   "outputs": [],
   "source": []
  },
  {
   "cell_type": "markdown",
   "metadata": {},
   "source": [
    "## Is this technique reliable?\n",
    "\n",
    "\n",
    "Repeat this process 100 times and keep track of how many times the true population parameter was indeed in this interval\n",
    "\n",
    "*Run this before discussing it because it will take about a minute to run*"
   ]
  },
  {
   "cell_type": "code",
   "execution_count": null,
   "metadata": {},
   "outputs": [],
   "source": [
    "%%time\n",
    "# This will take a while to run\n",
    "intervals = Table().with_columns('Lower', make_array(), 'Upper', make_array())\n",
    "\n",
    "for i in np.arange(100):\n",
    "    sample_from_pop = births.sample(300, with_replacement=False)\n",
    "    means = make_array()\n",
    "    \n",
    "    for j in np.arange(1000):\n",
    "        resample = sample_from_pop.sample(with_replacement=True)\n",
    "        mean = np.average(resample.column('Maternal Age'))\n",
    "        means = np.append(means, mean)\n",
    "        \n",
    "    interval = make_array(\n",
    "                percentile(2.5, means), \n",
    "                percentile(97.5, means))\n",
    "    \n",
    "    intervals.append(interval)"
   ]
  },
  {
   "cell_type": "markdown",
   "metadata": {},
   "source": [
    "Now let's check how many times our intervals included the true parameter"
   ]
  },
  {
   "cell_type": "code",
   "execution_count": null,
   "metadata": {},
   "outputs": [],
   "source": [
    "true_mean = np.average(births.column('Maternal Age'))\n",
    "intervals.where('Lower', are.not_above(true_mean)).where('Upper', are.not_below(true_mean)).num_rows"
   ]
  },
  {
   "cell_type": "code",
   "execution_count": null,
   "metadata": {},
   "outputs": [],
   "source": [
    "true_mean, intervals"
   ]
  },
  {
   "cell_type": "markdown",
   "metadata": {},
   "source": [
    "**Question:** How many times was the true mean below our lower bound?\n",
    "\n",
    "<details>\n",
    "<summary>Solution</summary>\n",
    "    intervals.where('Lower', are.above(true_mean))\n",
    "</details>   "
   ]
  },
  {
   "cell_type": "code",
   "execution_count": null,
   "metadata": {},
   "outputs": [],
   "source": []
  },
  {
   "cell_type": "markdown",
   "metadata": {},
   "source": [
    "**Question:** How many times was the true mean above our upper bound?\n",
    "\n",
    "<details>\n",
    "<summary>Solution</summary>\n",
    "    intervals.where('Upper', are.below(true_mean))\n",
    "</details>   "
   ]
  },
  {
   "cell_type": "code",
   "execution_count": null,
   "metadata": {},
   "outputs": [],
   "source": []
  },
  {
   "cell_type": "code",
   "execution_count": null,
   "metadata": {},
   "outputs": [],
   "source": []
  },
  {
   "cell_type": "markdown",
   "metadata": {},
   "source": [
    "(back to slides)\n",
    "# Averages/Means"
   ]
  },
  {
   "cell_type": "code",
   "execution_count": 2,
   "metadata": {},
   "outputs": [
    {
     "data": {
      "text/plain": [
       "array([2, 3, 3, 9])"
      ]
     },
     "execution_count": 2,
     "metadata": {},
     "output_type": "execute_result"
    }
   ],
   "source": [
    "values = make_array(2, 3, 3, 9)\n",
    "values"
   ]
  },
  {
   "cell_type": "markdown",
   "metadata": {},
   "source": [
    "#### Different ways to compute the average"
   ]
  },
  {
   "cell_type": "markdown",
   "metadata": {},
   "source": [
    "Sum of the values divided by the number of values\n",
    "<details>\n",
    "<summary>Solution</summary>\n",
    "  sum(values)/len(values)\n",
    "</details>"
   ]
  },
  {
   "cell_type": "code",
   "execution_count": 3,
   "metadata": {},
   "outputs": [
    {
     "data": {
      "text/plain": [
       "4.25"
      ]
     },
     "execution_count": 3,
     "metadata": {},
     "output_type": "execute_result"
    }
   ],
   "source": [
    "sum(values) / len(values)"
   ]
  },
  {
   "cell_type": "code",
   "execution_count": 4,
   "metadata": {},
   "outputs": [
    {
     "data": {
      "text/plain": [
       "4.25"
      ]
     },
     "execution_count": 4,
     "metadata": {},
     "output_type": "execute_result"
    }
   ],
   "source": [
    "np.mean(values)"
   ]
  },
  {
   "cell_type": "markdown",
   "metadata": {},
   "source": [
    "Numpy methods\n",
    "\n",
    "<details>\n",
    "<summary>Solution</summary>\n",
    "  np.mean(values), np.average(values)\n",
    "</details>"
   ]
  },
  {
   "cell_type": "code",
   "execution_count": null,
   "metadata": {},
   "outputs": [],
   "source": [
    "np.mean(values), np.average(values)"
   ]
  },
  {
   "cell_type": "code",
   "execution_count": 5,
   "metadata": {},
   "outputs": [
    {
     "data": {
      "text/plain": [
       "array([2, 3, 3, 9])"
      ]
     },
     "execution_count": 5,
     "metadata": {},
     "output_type": "execute_result"
    }
   ],
   "source": [
    "values"
   ]
  },
  {
   "cell_type": "code",
   "execution_count": 6,
   "metadata": {},
   "outputs": [
    {
     "data": {
      "text/plain": [
       "4.25"
      ]
     },
     "execution_count": 6,
     "metadata": {},
     "output_type": "execute_result"
    }
   ],
   "source": [
    "2*.25 + 3*.5 + 9*.25"
   ]
  },
  {
   "cell_type": "code",
   "execution_count": 8,
   "metadata": {},
   "outputs": [
    {
     "data": {
      "text/plain": [
       "4.25"
      ]
     },
     "execution_count": 8,
     "metadata": {},
     "output_type": "execute_result"
    }
   ],
   "source": [
    "2*.25 + 3*.25 + 3*.25 + 9*.25"
   ]
  },
  {
   "cell_type": "code",
   "execution_count": null,
   "metadata": {},
   "outputs": [],
   "source": []
  },
  {
   "cell_type": "markdown",
   "metadata": {},
   "source": [
    "Multiply each value by a weight\n",
    "<details>\n",
    "<summary>Solution</summary>\n",
    "  2*(1/4) + 3*(2/4) + 9*(1/4)\n",
    "</details>"
   ]
  },
  {
   "cell_type": "code",
   "execution_count": null,
   "metadata": {},
   "outputs": [],
   "source": [
    "(2 * 1/4) + (3 * 1/2) + (9 * 1/4)"
   ]
  },
  {
   "cell_type": "markdown",
   "metadata": {},
   "source": [
    "(back to slides)\n",
    "#### Averages & Histograms"
   ]
  },
  {
   "cell_type": "code",
   "execution_count": 9,
   "metadata": {},
   "outputs": [
    {
     "data": {
      "text/html": [
       "<table border=\"1\" class=\"dataframe\">\n",
       "    <thead>\n",
       "        <tr>\n",
       "            <th>value</th>\n",
       "        </tr>\n",
       "    </thead>\n",
       "    <tbody>\n",
       "        <tr>\n",
       "            <td>2    </td>\n",
       "        </tr>\n",
       "        <tr>\n",
       "            <td>3    </td>\n",
       "        </tr>\n",
       "        <tr>\n",
       "            <td>3    </td>\n",
       "        </tr>\n",
       "        <tr>\n",
       "            <td>9    </td>\n",
       "        </tr>\n",
       "    </tbody>\n",
       "</table>"
      ],
      "text/plain": [
       "value\n",
       "2\n",
       "3\n",
       "3\n",
       "9"
      ]
     },
     "execution_count": 9,
     "metadata": {},
     "output_type": "execute_result"
    }
   ],
   "source": [
    "values_table = Table().with_columns('value', values)\n",
    "values_table"
   ]
  },
  {
   "cell_type": "code",
   "execution_count": 10,
   "metadata": {},
   "outputs": [
    {
     "data": {
      "image/png": "[encoded data removed]",
      "text/plain": [
       "<Figure size 600x400 with 1 Axes>"
      ]
     },
     "metadata": {},
     "output_type": "display_data"
    }
   ],
   "source": [
    "bins_for_display = np.arange(0.5, 10.6, 1)\n",
    "values_table.hist(0, bins = bins_for_display)"
   ]
  },
  {
   "cell_type": "markdown",
   "metadata": {},
   "source": [
    "**Question:** Where is the average in the figure above?"
   ]
  },
  {
   "cell_type": "code",
   "execution_count": null,
   "metadata": {},
   "outputs": [],
   "source": []
  },
  {
   "cell_type": "markdown",
   "metadata": {},
   "source": [
    "**Question:** What if we add more values but keep the proportions the same?"
   ]
  },
  {
   "cell_type": "code",
   "execution_count": 11,
   "metadata": {},
   "outputs": [
    {
     "data": {
      "text/plain": [
       "4.25"
      ]
     },
     "execution_count": 11,
     "metadata": {},
     "output_type": "execute_result"
    },
    {
     "data": {
      "image/png": "[encoded data removed]",
      "text/plain": [
       "<Figure size 600x400 with 1 Axes>"
      ]
     },
     "metadata": {},
     "output_type": "display_data"
    }
   ],
   "source": [
    "# Make array of 10 2s, 20 3s, and 10 9s\n",
    "\n",
    "new_values = make_array(2, 2, 2, 2, 2, 2, 2, 2, 2, 2,\n",
    "                      3, 3, 3, 3, 3, 3, 3, 3, 3, 3, 3, 3, 3, 3, 3, 3, 3, 3, 3, 3,\n",
    "                      9, 9, 9, 9, 9, 9, 9, 9, 9, 9)\n",
    "Table().with_column('value', new_values).hist(bins = bins_for_display)\n",
    "np.average(new_values)"
   ]
  },
  {
   "cell_type": "markdown",
   "metadata": {},
   "source": [
    "(back to slides)\n",
    "#### Which is bigger, mean or median?"
   ]
  },
  {
   "cell_type": "code",
   "execution_count": 13,
   "metadata": {},
   "outputs": [
    {
     "data": {
      "text/plain": [
       "(80, 79.065346534653472)"
      ]
     },
     "execution_count": 13,
     "metadata": {},
     "output_type": "execute_result"
    },
    {
     "data": {
      "image/png": "[encoded data removed]",
      "text/plain": [
       "<Figure size 600x400 with 1 Axes>"
      ]
     },
     "metadata": {},
     "output_type": "display_data"
    }
   ],
   "source": [
    "nba = Table.read_table('nba2013.csv')\n",
    "nba\n",
    "heights = nba.column('Height')\n",
    "percentile(50, heights), np.mean(heights)\n",
    "\n",
    "nba.hist('Height', bins=np.arange(65.5, 90.5))\n",
    "percentile(50, heights), np.mean(heights)"
   ]
  },
  {
   "cell_type": "markdown",
   "metadata": {},
   "source": [
    "(continue here even though we didnt cover this in slides, the slides will be review)\n",
    "# Standard Deviation"
   ]
  },
  {
   "cell_type": "code",
   "execution_count": 14,
   "metadata": {},
   "outputs": [
    {
     "data": {
      "text/html": [
       "<table border=\"1\" class=\"dataframe\">\n",
       "    <thead>\n",
       "        <tr>\n",
       "            <th>Value</th>\n",
       "        </tr>\n",
       "    </thead>\n",
       "    <tbody>\n",
       "        <tr>\n",
       "            <td>2    </td>\n",
       "        </tr>\n",
       "        <tr>\n",
       "            <td>3    </td>\n",
       "        </tr>\n",
       "        <tr>\n",
       "            <td>3    </td>\n",
       "        </tr>\n",
       "        <tr>\n",
       "            <td>9    </td>\n",
       "        </tr>\n",
       "    </tbody>\n",
       "</table>"
      ],
      "text/plain": [
       "Value\n",
       "2\n",
       "3\n",
       "3\n",
       "9"
      ]
     },
     "execution_count": 14,
     "metadata": {},
     "output_type": "execute_result"
    }
   ],
   "source": [
    "values = make_array(2, 3, 3, 9)\n",
    "sd_table = Table().with_columns('Value', values)\n",
    "sd_table"
   ]
  },
  {
   "cell_type": "markdown",
   "metadata": {},
   "source": [
    "**Question:** How far is each example from the mean?\n",
    "    \n",
    "<details>\n",
    "<summary>Solution</summary>\n",
    "  Compute the average value then subtract that by each value\n",
    "</details>\n",
    "\n",
    "<details>\n",
    "    <summary> code</summary>\n",
    "mean_value = np.mean(values) # Don't forget about step 1\n",
    "deviations = values - mean_value # deviations from average, aka distance of each element from the average\n",
    "sd_table = sd_table.with_column('Deviation', deviations)\n",
    "sd_table\n",
    "</details>"
   ]
  },
  {
   "cell_type": "code",
   "execution_count": 15,
   "metadata": {},
   "outputs": [
    {
     "data": {
      "text/html": [
       "<table border=\"1\" class=\"dataframe\">\n",
       "    <thead>\n",
       "        <tr>\n",
       "            <th>Value</th> <th>Deviation</th>\n",
       "        </tr>\n",
       "    </thead>\n",
       "    <tbody>\n",
       "        <tr>\n",
       "            <td>2    </td> <td>-2.25    </td>\n",
       "        </tr>\n",
       "        <tr>\n",
       "            <td>3    </td> <td>-1.25    </td>\n",
       "        </tr>\n",
       "        <tr>\n",
       "            <td>3    </td> <td>-1.25    </td>\n",
       "        </tr>\n",
       "        <tr>\n",
       "            <td>9    </td> <td>4.75     </td>\n",
       "        </tr>\n",
       "    </tbody>\n",
       "</table>"
      ],
      "text/plain": [
       "Value | Deviation\n",
       "2     | -2.25\n",
       "3     | -1.25\n",
       "3     | -1.25\n",
       "9     | 4.75"
      ]
     },
     "execution_count": 15,
     "metadata": {},
     "output_type": "execute_result"
    }
   ],
   "source": [
    "mean_value = np.mean(values) # Don't forget about step 1\n",
    "deviations = values - mean_value # deviations from average, aka distance of each element from the average\n",
    "sd_table = sd_table.with_column('Deviation', deviations)\n",
    "sd_table"
   ]
  },
  {
   "cell_type": "markdown",
   "metadata": {},
   "source": [
    "**Question**: What is the typical deviation? What do we use to compute the \"typical\"?\n",
    "<details>\n",
    "<summary>Solution</summary>\n",
    "  average. Let's take the average of the deviations\n",
    "</details>"
   ]
  },
  {
   "cell_type": "code",
   "execution_count": 17,
   "metadata": {},
   "outputs": [
    {
     "data": {
      "text/plain": [
       "0.0"
      ]
     },
     "execution_count": 17,
     "metadata": {},
     "output_type": "execute_result"
    }
   ],
   "source": [
    "np.mean(sd_table.column('Deviation'))"
   ]
  },
  {
   "cell_type": "markdown",
   "metadata": {},
   "source": [
    "**Question**: Average is the sum divided by the number of examples. What is the sum of these deviations?\n",
    "<details>\n",
    "<summary>Solution</summary>\n",
    "  sum(deviations)\n",
    "</details>"
   ]
  },
  {
   "cell_type": "code",
   "execution_count": 19,
   "metadata": {},
   "outputs": [
    {
     "data": {
      "text/plain": [
       "0.0"
      ]
     },
     "execution_count": 19,
     "metadata": {},
     "output_type": "execute_result"
    }
   ],
   "source": [
    "sum(sd_table.column('Deviation'))"
   ]
  },
  {
   "cell_type": "markdown",
   "metadata": {},
   "source": [
    "We care about the size of the deviation.\n",
    "\n",
    "We've use `abs()` to find the size before, but here we will take the square value of the deviations"
   ]
  },
  {
   "cell_type": "code",
   "execution_count": 20,
   "metadata": {},
   "outputs": [
    {
     "data": {
      "text/plain": [
       "array([  5.0625,   1.5625,   1.5625,  22.5625])"
      ]
     },
     "execution_count": 20,
     "metadata": {},
     "output_type": "execute_result"
    }
   ],
   "source": [
    "deviations ** 2"
   ]
  },
  {
   "cell_type": "code",
   "execution_count": 21,
   "metadata": {},
   "outputs": [
    {
     "data": {
      "text/html": [
       "<table border=\"1\" class=\"dataframe\">\n",
       "    <thead>\n",
       "        <tr>\n",
       "            <th>Value</th> <th>Deviation</th> <th>Squared Deviation</th>\n",
       "        </tr>\n",
       "    </thead>\n",
       "    <tbody>\n",
       "        <tr>\n",
       "            <td>2    </td> <td>-2.25    </td> <td>5.0625           </td>\n",
       "        </tr>\n",
       "        <tr>\n",
       "            <td>3    </td> <td>-1.25    </td> <td>1.5625           </td>\n",
       "        </tr>\n",
       "        <tr>\n",
       "            <td>3    </td> <td>-1.25    </td> <td>1.5625           </td>\n",
       "        </tr>\n",
       "        <tr>\n",
       "            <td>9    </td> <td>4.75     </td> <td>22.5625          </td>\n",
       "        </tr>\n",
       "    </tbody>\n",
       "</table>"
      ],
      "text/plain": [
       "Value | Deviation | Squared Deviation\n",
       "2     | -2.25     | 5.0625\n",
       "3     | -1.25     | 1.5625\n",
       "3     | -1.25     | 1.5625\n",
       "9     | 4.75      | 22.5625"
      ]
     },
     "execution_count": 21,
     "metadata": {},
     "output_type": "execute_result"
    }
   ],
   "source": [
    "sd_table = sd_table.with_columns('Squared Deviation', deviations ** 2)\n",
    "sd_table"
   ]
  },
  {
   "cell_type": "code",
   "execution_count": null,
   "metadata": {},
   "outputs": [],
   "source": []
  },
  {
   "cell_type": "code",
   "execution_count": null,
   "metadata": {},
   "outputs": [],
   "source": []
  },
  {
   "cell_type": "code",
   "execution_count": null,
   "metadata": {},
   "outputs": [],
   "source": []
  },
  {
   "cell_type": "code",
   "execution_count": null,
   "metadata": {},
   "outputs": [],
   "source": []
  },
  {
   "cell_type": "code",
   "execution_count": null,
   "metadata": {},
   "outputs": [],
   "source": []
  },
  {
   "cell_type": "markdown",
   "metadata": {},
   "source": [
    "Variance of the data is the average of these squared deviations\n"
   ]
  },
  {
   "cell_type": "code",
   "execution_count": 22,
   "metadata": {},
   "outputs": [
    {
     "data": {
      "text/plain": [
       "7.6875"
      ]
     },
     "execution_count": 22,
     "metadata": {},
     "output_type": "execute_result"
    }
   ],
   "source": [
    "variance = np.mean(sd_table.column('Squared Deviation'))\n",
    "variance"
   ]
  },
  {
   "cell_type": "code",
   "execution_count": null,
   "metadata": {},
   "outputs": [],
   "source": []
  },
  {
   "cell_type": "markdown",
   "metadata": {},
   "source": [
    "Standard Deviation (SD) is the square root of the variance\n",
    "\n",
    "The square root gets us back to the same units as in the data"
   ]
  },
  {
   "cell_type": "code",
   "execution_count": null,
   "metadata": {},
   "outputs": [],
   "source": []
  },
  {
   "cell_type": "code",
   "execution_count": null,
   "metadata": {},
   "outputs": [],
   "source": []
  },
  {
   "cell_type": "code",
   "execution_count": 23,
   "metadata": {},
   "outputs": [
    {
     "data": {
      "text/plain": [
       "2.7726341266023544"
      ]
     },
     "execution_count": 23,
     "metadata": {},
     "output_type": "execute_result"
    }
   ],
   "source": [
    "sd = variance ** 0.5\n",
    "sd"
   ]
  },
  {
   "cell_type": "markdown",
   "metadata": {},
   "source": [
    "#### Computing std in numpy "
   ]
  },
  {
   "cell_type": "code",
   "execution_count": 24,
   "metadata": {},
   "outputs": [
    {
     "data": {
      "text/plain": [
       "(2.7726341266023544, 4.25)"
      ]
     },
     "execution_count": 24,
     "metadata": {},
     "output_type": "execute_result"
    }
   ],
   "source": [
    "np.std(values), np.mean(values)"
   ]
  },
  {
   "cell_type": "code",
   "execution_count": 26,
   "metadata": {},
   "outputs": [
    {
     "name": "stdout",
     "output_type": "stream",
     "text": [
      "Help on _ArrayFunctionDispatcher in module numpy:\n",
      "\n",
      "std(a, axis=None, dtype=None, out=None, ddof=0, keepdims=<no value>, *, where=<no value>, mean=<no value>, correction=<no value>)\n",
      "    Compute the standard deviation along the specified axis.\n",
      "\n",
      "    Returns the standard deviation, a measure of the spread of a distribution,\n",
      "    of the array elements. The standard deviation is computed for the\n",
      "    flattened array by default, otherwise over the specified axis.\n",
      "\n",
      "    Parameters\n",
      "    ----------\n",
      "    a : array_like\n",
      "        Calculate the standard deviation of these values.\n",
      "    axis : None or int or tuple of ints, optional\n",
      "        Axis or axes along which the standard deviation is computed. The\n",
      "        default is to compute the standard deviation of the flattened array.\n",
      "        If this is a tuple of ints, a standard deviation is performed over\n",
      "        multiple axes, instead of a single axis or all the axes as before.\n",
      "    dtype : dtype, optional\n",
      "        Type to use in computing the standard deviation. For arrays of\n",
      "        integer type the default is float64, for arrays of float types it is\n",
      "        the same as the array type.\n",
      "    out : ndarray, optional\n",
      "        Alternative output array in which to place the result. It must have\n",
      "        the same shape as the expected output but the type (of the calculated\n",
      "        values) will be cast if necessary.\n",
      "        See :ref:`ufuncs-output-type` for more details.\n",
      "    ddof : {int, float}, optional\n",
      "        Means Delta Degrees of Freedom.  The divisor used in calculations\n",
      "        is ``N - ddof``, where ``N`` represents the number of elements.\n",
      "        By default `ddof` is zero. See Notes for details about use of `ddof`.\n",
      "    keepdims : bool, optional\n",
      "        If this is set to True, the axes which are reduced are left\n",
      "        in the result as dimensions with size one. With this option,\n",
      "        the result will broadcast correctly against the input array.\n",
      "\n",
      "        If the default value is passed, then `keepdims` will not be\n",
      "        passed through to the `std` method of sub-classes of\n",
      "        `ndarray`, however any non-default value will be.  If the\n",
      "        sub-class' method does not implement `keepdims` any\n",
      "        exceptions will be raised.\n",
      "    where : array_like of bool, optional\n",
      "        Elements to include in the standard deviation.\n",
      "        See `~numpy.ufunc.reduce` for details.\n",
      "\n",
      "        .. versionadded:: 1.20.0\n",
      "\n",
      "    mean : array_like, optional\n",
      "        Provide the mean to prevent its recalculation. The mean should have\n",
      "        a shape as if it was calculated with ``keepdims=True``.\n",
      "        The axis for the calculation of the mean should be the same as used in\n",
      "        the call to this std function.\n",
      "\n",
      "        .. versionadded:: 2.0.0\n",
      "\n",
      "    correction : {int, float}, optional\n",
      "        Array API compatible name for the ``ddof`` parameter. Only one of them\n",
      "        can be provided at the same time.\n",
      "\n",
      "        .. versionadded:: 2.0.0\n",
      "\n",
      "    Returns\n",
      "    -------\n",
      "    standard_deviation : ndarray, see dtype parameter above.\n",
      "        If `out` is None, return a new array containing the standard deviation,\n",
      "        otherwise return a reference to the output array.\n",
      "\n",
      "    See Also\n",
      "    --------\n",
      "    var, mean, nanmean, nanstd, nanvar\n",
      "    :ref:`ufuncs-output-type`\n",
      "\n",
      "    Notes\n",
      "    -----\n",
      "    There are several common variants of the array standard deviation\n",
      "    calculation. Assuming the input `a` is a one-dimensional NumPy array\n",
      "    and ``mean`` is either provided as an argument or computed as\n",
      "    ``a.mean()``, NumPy computes the standard deviation of an array as::\n",
      "\n",
      "        N = len(a)\n",
      "        d2 = abs(a - mean)**2  # abs is for complex `a`\n",
      "        var = d2.sum() / (N - ddof)  # note use of `ddof`\n",
      "        std = var**0.5\n",
      "\n",
      "    Different values of the argument `ddof` are useful in different\n",
      "    contexts. NumPy's default ``ddof=0`` corresponds with the expression:\n",
      "\n",
      "    .. math::\n",
      "\n",
      "        \\sqrt{\\frac{\\sum_i{|a_i - \\bar{a}|^2 }}{N}}\n",
      "\n",
      "    which is sometimes called the \"population standard deviation\" in the field\n",
      "    of statistics because it applies the definition of standard deviation to\n",
      "    `a` as if `a` were a complete population of possible observations.\n",
      "\n",
      "    Many other libraries define the standard deviation of an array\n",
      "    differently, e.g.:\n",
      "\n",
      "    .. math::\n",
      "\n",
      "        \\sqrt{\\frac{\\sum_i{|a_i - \\bar{a}|^2 }}{N - 1}}\n",
      "\n",
      "    In statistics, the resulting quantity is sometimes called the \"sample\n",
      "    standard deviation\" because if `a` is a random sample from a larger\n",
      "    population, this calculation provides the square root of an unbiased\n",
      "    estimate of the variance of the population. The use of :math:`N-1` in the\n",
      "    denominator is often called \"Bessel's correction\" because it corrects for\n",
      "    bias (toward lower values) in the variance estimate introduced when the\n",
      "    sample mean of `a` is used in place of the true mean of the population.\n",
      "    The resulting estimate of the standard deviation is still biased, but less\n",
      "    than it would have been without the correction. For this quantity, use\n",
      "    ``ddof=1``.\n",
      "\n",
      "    Note that, for complex numbers, `std` takes the absolute\n",
      "    value before squaring, so that the result is always real and nonnegative.\n",
      "\n",
      "    For floating-point input, the standard deviation is computed using the same\n",
      "    precision the input has. Depending on the input data, this can cause\n",
      "    the results to be inaccurate, especially for float32 (see example below).\n",
      "    Specifying a higher-accuracy accumulator using the `dtype` keyword can\n",
      "    alleviate this issue.\n",
      "\n",
      "    Examples\n",
      "    --------\n",
      "    >>> import numpy as np\n",
      "    >>> a = np.array([[1, 2], [3, 4]])\n",
      "    >>> np.std(a)\n",
      "    1.1180339887498949 # may vary\n",
      "    >>> np.std(a, axis=0)\n",
      "    array([1.,  1.])\n",
      "    >>> np.std(a, axis=1)\n",
      "    array([0.5,  0.5])\n",
      "\n",
      "    In single precision, std() can be inaccurate:\n",
      "\n",
      "    >>> a = np.zeros((2, 512*512), dtype=np.float32)\n",
      "    >>> a[0, :] = 1.0\n",
      "    >>> a[1, :] = 0.1\n",
      "    >>> np.std(a)\n",
      "    np.float32(0.45000005)\n",
      "\n",
      "    Computing the standard deviation in float64 is more accurate:\n",
      "\n",
      "    >>> np.std(a, dtype=np.float64)\n",
      "    0.44999999925494177 # may vary\n",
      "\n",
      "    Specifying a where argument:\n",
      "\n",
      "    >>> a = np.array([[14, 8, 11, 10], [7, 9, 10, 11], [10, 15, 5, 10]])\n",
      "    >>> np.std(a)\n",
      "    2.614064523559687 # may vary\n",
      "    >>> np.std(a, where=[[True], [True], [False]])\n",
      "    2.0\n",
      "\n",
      "    Using the mean keyword to save computation time:\n",
      "\n",
      "    >>> import numpy as np\n",
      "    >>> from timeit import timeit\n",
      "    >>> a = np.array([[14, 8, 11, 10], [7, 9, 10, 11], [10, 15, 5, 10]])\n",
      "    >>> mean = np.mean(a, axis=1, keepdims=True)\n",
      "    >>>\n",
      "    >>> g = globals()\n",
      "    >>> n = 10000\n",
      "    >>> t1 = timeit(\"std = np.std(a, axis=1, mean=mean)\", globals=g, number=n)\n",
      "    >>> t2 = timeit(\"std = np.std(a, axis=1)\", globals=g, number=n)\n",
      "    >>> print(f'Percentage execution time saved {100*(t2-t1)/t2:.0f}%')\n",
      "    #doctest: +SKIP\n",
      "    Percentage execution time saved 30%\n",
      "\n"
     ]
    }
   ],
   "source": [
    "help(np.std)"
   ]
  },
  {
   "cell_type": "markdown",
   "metadata": {},
   "source": [
    "(back to slides - review of Standard deviation)\n",
    "# Chebyshev's Bound"
   ]
  },
  {
   "cell_type": "code",
   "execution_count": 27,
   "metadata": {},
   "outputs": [
    {
     "data": {
      "text/html": [
       "<table border=\"1\" class=\"dataframe\">\n",
       "    <thead>\n",
       "        <tr>\n",
       "            <th>Birth Weight</th> <th>Gestational Days</th> <th>Maternal Age</th> <th>Maternal Height</th> <th>Maternal Pregnancy Weight</th> <th>Maternal Smoker</th>\n",
       "        </tr>\n",
       "    </thead>\n",
       "    <tbody>\n",
       "        <tr>\n",
       "            <td>120         </td> <td>284             </td> <td>27          </td> <td>62             </td> <td>100                      </td> <td>False          </td>\n",
       "        </tr>\n",
       "        <tr>\n",
       "            <td>113         </td> <td>282             </td> <td>33          </td> <td>64             </td> <td>135                      </td> <td>False          </td>\n",
       "        </tr>\n",
       "        <tr>\n",
       "            <td>128         </td> <td>279             </td> <td>28          </td> <td>64             </td> <td>115                      </td> <td>True           </td>\n",
       "        </tr>\n",
       "    </tbody>\n",
       "</table>\n",
       "<p>... (1171 rows omitted)</p>"
      ],
      "text/plain": [
       "<IPython.core.display.HTML object>"
      ]
     },
     "metadata": {},
     "output_type": "display_data"
    }
   ],
   "source": [
    "births = Table.read_table('baby.csv')\n",
    "births.show(3)"
   ]
  },
  {
   "cell_type": "code",
   "execution_count": 28,
   "metadata": {},
   "outputs": [
    {
     "name": "stderr",
     "output_type": "stream",
     "text": [
      "/opt/tljh/user/lib/python3.12/site-packages/matplotlib/axes/_axes.py:7093: RuntimeWarning: Converting input from bool to <class 'numpy.uint8'> for compatibility.\n",
      "  m, bins = np.histogram(x[i], bins, weights=w[i], **hist_kwargs)\n"
     ]
    },
    {
     "data": {
      "image/png": "[encoded data removed]",
      "text/plain": [
       "<Figure size 600x400 with 1 Axes>"
      ]
     },
     "metadata": {},
     "output_type": "display_data"
    }
   ],
   "source": [
    "births.hist()"
   ]
  },
  {
   "cell_type": "markdown",
   "metadata": {},
   "source": [
    "Let's set overlay = False"
   ]
  },
  {
   "cell_type": "code",
   "execution_count": 29,
   "metadata": {},
   "outputs": [
    {
     "data": {
      "image/png": "[encoded data removed]",
      "text/plain": [
       "<Figure size 600x2000 with 5 Axes>"
      ]
     },
     "metadata": {},
     "output_type": "display_data"
    }
   ],
   "source": [
    "births.drop(\"Maternal Smoker\").hist(overlay = False)"
   ]
  },
  {
   "cell_type": "markdown",
   "metadata": {},
   "source": [
    "For now, lets look at Maternal Pregnancy Weight"
   ]
  },
  {
   "cell_type": "code",
   "execution_count": 30,
   "metadata": {},
   "outputs": [
    {
     "data": {
      "text/plain": [
       "(128.4787052810903, 20.725449704280411)"
      ]
     },
     "execution_count": 30,
     "metadata": {},
     "output_type": "execute_result"
    }
   ],
   "source": [
    "mpw = births.column(\"Maternal Pregnancy Weight\") # Get the column\n",
    "mean = np.mean(mpw)\n",
    "sd = np.std(mpw)\n",
    "mean, sd"
   ]
  },
  {
   "cell_type": "code",
   "execution_count": 31,
   "metadata": {},
   "outputs": [],
   "source": [
    "std_lower = mean - (3*sd)\n",
    "std_upper = mean + (3*sd)"
   ]
  },
  {
   "cell_type": "code",
   "execution_count": 32,
   "metadata": {},
   "outputs": [
    {
     "data": {
      "text/plain": [
       "(66.302356168249062, 190.65505439393155)"
      ]
     },
     "execution_count": 32,
     "metadata": {},
     "output_type": "execute_result"
    }
   ],
   "source": [
    "std_lower, std_upper"
   ]
  },
  {
   "cell_type": "markdown",
   "metadata": {},
   "source": [
    "Let's find all the examples that are within 3 SDs of the mean:\n",
    "\n",
    "<details>\n",
    "<summary>Solution</summary>\n",
    "  births.where('Maternal Pregnancy Weight', are.between(mean - 3*sd, mean + 3*sd))\n",
    "</details>\n"
   ]
  },
  {
   "cell_type": "code",
   "execution_count": 34,
   "metadata": {
    "scrolled": true
   },
   "outputs": [
    {
     "data": {
      "text/html": [
       "<table border=\"1\" class=\"dataframe\">\n",
       "    <thead>\n",
       "        <tr>\n",
       "            <th>Birth Weight</th> <th>Gestational Days</th> <th>Maternal Age</th> <th>Maternal Height</th> <th>Maternal Pregnancy Weight</th> <th>Maternal Smoker</th>\n",
       "        </tr>\n",
       "    </thead>\n",
       "    <tbody>\n",
       "        <tr>\n",
       "            <td>120         </td> <td>284             </td> <td>27          </td> <td>62             </td> <td>100                      </td> <td>False          </td>\n",
       "        </tr>\n",
       "        <tr>\n",
       "            <td>113         </td> <td>282             </td> <td>33          </td> <td>64             </td> <td>135                      </td> <td>False          </td>\n",
       "        </tr>\n",
       "        <tr>\n",
       "            <td>128         </td> <td>279             </td> <td>28          </td> <td>64             </td> <td>115                      </td> <td>True           </td>\n",
       "        </tr>\n",
       "        <tr>\n",
       "            <td>108         </td> <td>282             </td> <td>23          </td> <td>67             </td> <td>125                      </td> <td>True           </td>\n",
       "        </tr>\n",
       "        <tr>\n",
       "            <td>136         </td> <td>286             </td> <td>25          </td> <td>62             </td> <td>93                       </td> <td>False          </td>\n",
       "        </tr>\n",
       "        <tr>\n",
       "            <td>138         </td> <td>244             </td> <td>33          </td> <td>62             </td> <td>178                      </td> <td>False          </td>\n",
       "        </tr>\n",
       "        <tr>\n",
       "            <td>132         </td> <td>245             </td> <td>23          </td> <td>65             </td> <td>140                      </td> <td>False          </td>\n",
       "        </tr>\n",
       "        <tr>\n",
       "            <td>120         </td> <td>289             </td> <td>25          </td> <td>62             </td> <td>125                      </td> <td>False          </td>\n",
       "        </tr>\n",
       "        <tr>\n",
       "            <td>143         </td> <td>299             </td> <td>30          </td> <td>66             </td> <td>136                      </td> <td>True           </td>\n",
       "        </tr>\n",
       "        <tr>\n",
       "            <td>140         </td> <td>351             </td> <td>27          </td> <td>68             </td> <td>120                      </td> <td>False          </td>\n",
       "        </tr>\n",
       "    </tbody>\n",
       "</table>\n",
       "<p>... (1148 rows omitted)</p>"
      ],
      "text/plain": [
       "Birth Weight | Gestational Days | Maternal Age | Maternal Height | Maternal Pregnancy Weight | Maternal Smoker\n",
       "120          | 284              | 27           | 62              | 100                       | False\n",
       "113          | 282              | 33           | 64              | 135                       | False\n",
       "128          | 279              | 28           | 64              | 115                       | True\n",
       "108          | 282              | 23           | 67              | 125                       | True\n",
       "136          | 286              | 25           | 62              | 93                        | False\n",
       "138          | 244              | 33           | 62              | 178                       | False\n",
       "132          | 245              | 23           | 65              | 140                       | False\n",
       "120          | 289              | 25           | 62              | 125                       | False\n",
       "143          | 299              | 30           | 66              | 136                       | True\n",
       "140          | 351              | 27           | 68              | 120                       | False\n",
       "... (1148 rows omitted)"
      ]
     },
     "execution_count": 34,
     "metadata": {},
     "output_type": "execute_result"
    }
   ],
   "source": [
    "within_3_SDs = births.where('Maternal Pregnancy Weight', are.between_or_equal_to(std_lower, std_upper))\n",
    "within_3_SDs"
   ]
  },
  {
   "cell_type": "code",
   "execution_count": 35,
   "metadata": {},
   "outputs": [
    {
     "data": {
      "text/plain": [
       "1158"
      ]
     },
     "execution_count": 35,
     "metadata": {},
     "output_type": "execute_result"
    }
   ],
   "source": [
    "within_3_SDs.num_rows"
   ]
  },
  {
   "cell_type": "code",
   "execution_count": 36,
   "metadata": {},
   "outputs": [
    {
     "data": {
      "text/plain": [
       "0.9863713798977853"
      ]
     },
     "execution_count": 36,
     "metadata": {},
     "output_type": "execute_result"
    }
   ],
   "source": [
    "within_3_SDs.num_rows / births.num_rows"
   ]
  },
  {
   "cell_type": "markdown",
   "metadata": {},
   "source": [
    "Chebyshev's bound tells us that the proportion should be at least\n"
   ]
  },
  {
   "cell_type": "code",
   "execution_count": 37,
   "metadata": {},
   "outputs": [
    {
     "data": {
      "text/plain": [
       "0.8888888888888888"
      ]
     },
     "execution_count": 37,
     "metadata": {},
     "output_type": "execute_result"
    }
   ],
   "source": [
    "1 - 1/(3**2)"
   ]
  },
  {
   "cell_type": "markdown",
   "metadata": {},
   "source": [
    "**Question:** What is the proportion within 3 SDs of the mean?\n",
    "\n",
    "<details>\n",
    "<summary>Solution</summary>\n",
    "  within_3_SDs.num_rows / births.num_rows\n",
    "</details>"
   ]
  },
  {
   "cell_type": "code",
   "execution_count": null,
   "metadata": {},
   "outputs": [],
   "source": []
  },
  {
   "cell_type": "markdown",
   "metadata": {},
   "source": [
    "Let's see if Chebyshev's bounds work for distributions with various shapes for the different columns\n",
    "\n",
    "Let's comment the code together before we run it"
   ]
  },
  {
   "cell_type": "code",
   "execution_count": 38,
   "metadata": {
    "tags": []
   },
   "outputs": [
    {
     "name": "stdout",
     "output_type": "stream",
     "text": [
      "\n",
      "Birth Weight\n",
      "Average plus or minus 2 SDs: 94.89 % of the data\n",
      "Average plus or minus 3 SDs: 99.57 % of the data\n",
      "Average plus or minus 4 SDs: 100.0 % of the data\n",
      "Average plus or minus 5 SDs: 100.0 % of the data\n",
      "\n",
      "Gestational Days\n",
      "Average plus or minus 2 SDs: 93.78 % of the data\n",
      "Average plus or minus 3 SDs: 98.64 % of the data\n",
      "Average plus or minus 4 SDs: 99.57 % of the data\n",
      "Average plus or minus 5 SDs: 99.83 % of the data\n",
      "\n",
      "Maternal Age\n",
      "Average plus or minus 2 SDs: 94.89 % of the data\n",
      "Average plus or minus 3 SDs: 99.91 % of the data\n",
      "Average plus or minus 4 SDs: 100.0 % of the data\n",
      "Average plus or minus 5 SDs: 100.0 % of the data\n",
      "\n",
      "Maternal Height\n",
      "Average plus or minus 2 SDs: 97.19 % of the data\n",
      "Average plus or minus 3 SDs: 99.66 % of the data\n",
      "Average plus or minus 4 SDs: 99.91 % of the data\n",
      "Average plus or minus 5 SDs: 100.0 % of the data\n",
      "\n",
      "Maternal Pregnancy Weight\n",
      "Average plus or minus 2 SDs: 95.06 % of the data\n",
      "Average plus or minus 3 SDs: 98.64 % of the data\n",
      "Average plus or minus 4 SDs: 99.49 % of the data\n",
      "Average plus or minus 5 SDs: 99.91 % of the data\n",
      "\n",
      "Maternal Smoker\n",
      "Average plus or minus 2 SDs: 100.0 % of the data\n",
      "Average plus or minus 3 SDs: 100.0 % of the data\n",
      "Average plus or minus 4 SDs: 100.0 % of the data\n",
      "Average plus or minus 5 SDs: 100.0 % of the data\n"
     ]
    }
   ],
   "source": [
    "for feature in births.labels:       # What does this line do?\n",
    "    values = births.column(feature) # What does this line do?\n",
    "    mean = np.mean(values) # What does this line do?\n",
    "    sd = np.std(values) # What does this line do?\n",
    "    print() # What does this line do?\n",
    "    print(feature) # What does this line do?\n",
    "    for z in make_array(2, 3, 4, 5): # What does this line do?\n",
    "        # What does the line below?\n",
    "        chosen = births.where(feature, are.between(mean - z*sd, mean + z*sd))\n",
    "        # What does the line below?\n",
    "        proportion = chosen.num_rows / births.num_rows\n",
    "        # What does the line below?\n",
    "        percent = round(proportion * 100, 2)\n",
    "        print('Average plus or minus', z, 'SDs:', percent, '% of the data')"
   ]
  },
  {
   "cell_type": "markdown",
   "metadata": {},
   "source": [
    "(back to slides)\n",
    "# Standard Units"
   ]
  },
  {
   "cell_type": "markdown",
   "metadata": {},
   "source": [
    "Lets create a function where given a list of values called `x`, we want to return a list of standard units.\n",
    "\n",
    "<details>\n",
    "<summary>Solution</summary>\n",
    "  return (x - np.mean(x)) / np.std(x)\n",
    "</details>\n",
    "\n",
    "Remember: `z = (value - average)/SD`"
   ]
  },
  {
   "cell_type": "code",
   "execution_count": 39,
   "metadata": {},
   "outputs": [],
   "source": [
    "def standard_units(x):\n",
    "    \"\"\"Convert array x to standard units.\"\"\"\n",
    "    return (x - np.average(x)) / np.std(x)"
   ]
  },
  {
   "cell_type": "code",
   "execution_count": 40,
   "metadata": {},
   "outputs": [
    {
     "data": {
      "text/plain": [
       "(array([-0.81150267, -0.45083482, -0.45083482,  1.71317231]),\n",
       " 4.25,\n",
       " 2.7726341266023544)"
      ]
     },
     "execution_count": 40,
     "metadata": {},
     "output_type": "execute_result"
    }
   ],
   "source": [
    "curr_values = make_array(2, 3, 3, 9)\n",
    "standard_units(curr_values), np.average(curr_values), np.std(curr_values)"
   ]
  },
  {
   "cell_type": "markdown",
   "metadata": {},
   "source": [
    "Let's now convert the values in the `Maternal Age` column in the `births` table to standard units"
   ]
  },
  {
   "cell_type": "code",
   "execution_count": 41,
   "metadata": {},
   "outputs": [
    {
     "data": {
      "text/plain": [
       "array([27, 33, 28, ..., 30, 21, 38])"
      ]
     },
     "execution_count": 41,
     "metadata": {},
     "output_type": "execute_result"
    }
   ],
   "source": [
    "births.column('Maternal Age')"
   ]
  },
  {
   "cell_type": "code",
   "execution_count": 42,
   "metadata": {},
   "outputs": [
    {
     "data": {
      "text/plain": [
       "array([-0.03925456,  0.99249577,  0.13270383, ...,  0.47662061,\n",
       "       -1.07100488,  1.85228771])"
      ]
     },
     "execution_count": 42,
     "metadata": {},
     "output_type": "execute_result"
    }
   ],
   "source": [
    "ages = births.column('Maternal Age') # get the column\n",
    "ages_standard_units = standard_units(ages) # convert the column to standard units \n",
    "ages_standard_units"
   ]
  },
  {
   "cell_type": "markdown",
   "metadata": {},
   "source": [
    "**Question:** What was the original mean and std of the ages?"
   ]
  },
  {
   "cell_type": "code",
   "execution_count": 43,
   "metadata": {},
   "outputs": [
    {
     "data": {
      "text/plain": [
       "(27.228279386712096, 5.8153604041908968)"
      ]
     },
     "execution_count": 43,
     "metadata": {},
     "output_type": "execute_result"
    }
   ],
   "source": [
    "np.mean(ages), np.std(ages)"
   ]
  },
  {
   "cell_type": "markdown",
   "metadata": {},
   "source": [
    "**Question:** What is the new mean and std of the ages?\n",
    "\n",
    "*Let's answer this before we run the cell below*"
   ]
  },
  {
   "cell_type": "code",
   "execution_count": 44,
   "metadata": {},
   "outputs": [
    {
     "data": {
      "text/plain": [
       "(-7.868020072300939e-17, 1.0)"
      ]
     },
     "execution_count": 44,
     "metadata": {},
     "output_type": "execute_result"
    }
   ],
   "source": [
    "np.mean(ages_standard_units), np.std(ages_standard_units)"
   ]
  },
  {
   "cell_type": "markdown",
   "metadata": {},
   "source": [
    "Let's put ages and the ages as standard units into a table called `both`"
   ]
  },
  {
   "cell_type": "code",
   "execution_count": 45,
   "metadata": {},
   "outputs": [
    {
     "data": {
      "text/html": [
       "<table border=\"1\" class=\"dataframe\">\n",
       "    <thead>\n",
       "        <tr>\n",
       "            <th>Age in Years</th> <th>Age in Standard Units</th>\n",
       "        </tr>\n",
       "    </thead>\n",
       "    <tbody>\n",
       "        <tr>\n",
       "            <td>27          </td> <td>-0.0392546           </td>\n",
       "        </tr>\n",
       "        <tr>\n",
       "            <td>33          </td> <td>0.992496             </td>\n",
       "        </tr>\n",
       "        <tr>\n",
       "            <td>28          </td> <td>0.132704             </td>\n",
       "        </tr>\n",
       "        <tr>\n",
       "            <td>23          </td> <td>-0.727088            </td>\n",
       "        </tr>\n",
       "        <tr>\n",
       "            <td>25          </td> <td>-0.383171            </td>\n",
       "        </tr>\n",
       "        <tr>\n",
       "            <td>33          </td> <td>0.992496             </td>\n",
       "        </tr>\n",
       "        <tr>\n",
       "            <td>23          </td> <td>-0.727088            </td>\n",
       "        </tr>\n",
       "        <tr>\n",
       "            <td>25          </td> <td>-0.383171            </td>\n",
       "        </tr>\n",
       "        <tr>\n",
       "            <td>30          </td> <td>0.476621             </td>\n",
       "        </tr>\n",
       "        <tr>\n",
       "            <td>27          </td> <td>-0.0392546           </td>\n",
       "        </tr>\n",
       "    </tbody>\n",
       "</table>\n",
       "<p>... (1164 rows omitted)</p>"
      ],
      "text/plain": [
       "Age in Years | Age in Standard Units\n",
       "27           | -0.0392546\n",
       "33           | 0.992496\n",
       "28           | 0.132704\n",
       "23           | -0.727088\n",
       "25           | -0.383171\n",
       "33           | 0.992496\n",
       "23           | -0.727088\n",
       "25           | -0.383171\n",
       "30           | 0.476621\n",
       "27           | -0.0392546\n",
       "... (1164 rows omitted)"
      ]
     },
     "execution_count": 45,
     "metadata": {},
     "output_type": "execute_result"
    }
   ],
   "source": [
    "both = Table().with_columns(\n",
    "    'Age in Years', ages,\n",
    "    'Age in Standard Units', ages_standard_units\n",
    ")\n",
    "both"
   ]
  },
  {
   "cell_type": "markdown",
   "metadata": {},
   "source": [
    "(back to slides) - Question in the slides "
   ]
  },
  {
   "cell_type": "markdown",
   "metadata": {},
   "source": [
    "**Question:** What is the  mean and std of the ages?\n",
    "\n",
    "<details>\n",
    "<summary>Solution</summary>\n",
    "  np.mean(ages), np.std(ages)\n",
    "</details>"
   ]
  },
  {
   "cell_type": "code",
   "execution_count": null,
   "metadata": {},
   "outputs": [],
   "source": [
    "np.mean(ages), np.std(ages)"
   ]
  },
  {
   "cell_type": "markdown",
   "metadata": {},
   "source": [
    "Let's now plot the histograms of the ages and the ages in standard units"
   ]
  },
  {
   "cell_type": "code",
   "execution_count": null,
   "metadata": {},
   "outputs": [],
   "source": [
    "both.hist('Age in Years', bins = np.arange(15, 46, 2))"
   ]
  },
  {
   "cell_type": "code",
   "execution_count": null,
   "metadata": {},
   "outputs": [],
   "source": [
    "both.hist('Age in Standard Units', bins = np.arange(-2.2, 3.4, 0.35))\n",
    "plots.xlim(-2, 3.1);"
   ]
  },
  {
   "cell_type": "markdown",
   "metadata": {},
   "source": [
    "(back to slides)\n",
    "# The SD and Bell Shaped Curves\n",
    "\n",
    "It's hard to tell the SD from the histogram above.\n",
    "\n",
    "Instead, lets look at the heights of the mothers."
   ]
  },
  {
   "cell_type": "code",
   "execution_count": null,
   "metadata": {},
   "outputs": [],
   "source": [
    "births.hist('Maternal Height', bins = np.arange(56.5, 72.6, 1))"
   ]
  },
  {
   "cell_type": "markdown",
   "metadata": {},
   "source": [
    "**Question:** Where would we guess the average is?"
   ]
  },
  {
   "cell_type": "markdown",
   "metadata": {},
   "source": [
    "**Question:** Where is the point of inflection?\n",
    "\n",
    "**Hint Question:** What do we mean by *point of inflection*?\n",
    "\n",
    "<details>\n",
    "<summary>Solution</summary>\n",
    "  start at the top of the curve and look towards the right. Notice that there is a place where the curve changes from looking like an \"upside-down cup\" to a \"right-way-up cup\"; formally, the curve has a point of inflection. That point is one SD above average. \n",
    "</details>\n"
   ]
  },
  {
   "cell_type": "markdown",
   "metadata": {},
   "source": [
    "Now let's check the mean and std by running the code below "
   ]
  },
  {
   "cell_type": "code",
   "execution_count": null,
   "metadata": {},
   "outputs": [],
   "source": [
    "heights = births.column('Maternal Height')\n",
    "np.mean(heights), np.std(heights)"
   ]
  },
  {
   "cell_type": "markdown",
   "metadata": {},
   "source": [
    "Lets compute the range of 1 STD"
   ]
  },
  {
   "cell_type": "code",
   "execution_count": null,
   "metadata": {},
   "outputs": [],
   "source": [
    "np.mean(heights) + np.std(heights), np.mean(heights) - np.std(heights)"
   ]
  },
  {
   "cell_type": "markdown",
   "metadata": {},
   "source": [
    "Let's look at another example.\n",
    "\n",
    "From the above plots, which histograms look like a bell curve?"
   ]
  },
  {
   "cell_type": "code",
   "execution_count": null,
   "metadata": {},
   "outputs": [],
   "source": [
    "# Solution below\n",
    "\n",
    "\n",
    "\n",
    "\n",
    "\n",
    "\n",
    "\n",
    "\n",
    "\n",
    "\n",
    "\n",
    "\n",
    "\n",
    "\n",
    "\n",
    "\n",
    "\n",
    "\n",
    "\n",
    "\n",
    "\n",
    "births.hist('Birth Weight') #, bins = np.arange(56.5, 72.6, 1))"
   ]
  },
  {
   "cell_type": "markdown",
   "metadata": {},
   "source": [
    "**Question:** What's the average and whats the std?"
   ]
  },
  {
   "cell_type": "code",
   "execution_count": null,
   "metadata": {},
   "outputs": [],
   "source": [
    "np.mean(births.column('Birth Weight')), np.std(births.column('Birth Weight'))"
   ]
  },
  {
   "cell_type": "markdown",
   "metadata": {},
   "source": [
    "(back to slides)\n",
    "# Correlation"
   ]
  },
  {
   "cell_type": "code",
   "execution_count": null,
   "metadata": {},
   "outputs": [],
   "source": [
    "galton = Table.read_table('galton.csv')\n",
    "galton.show(5)"
   ]
  },
  {
   "cell_type": "markdown",
   "metadata": {},
   "source": [
    "Let's make a table that just has the heights\n",
    "\n",
    "<details>\n",
    "<summary>Solution</summary>\n",
    "  'MidParent', galton.column('midparentHeight'),\n",
    "    'Child', galton.column('childHeight')\n",
    "</details>"
   ]
  },
  {
   "cell_type": "code",
   "execution_count": null,
   "metadata": {},
   "outputs": [],
   "source": [
    "heights = Table().with_columns(\n",
    "    ...\n",
    "    ...\n",
    "    )\n",
    "heights"
   ]
  },
  {
   "cell_type": "markdown",
   "metadata": {},
   "source": [
    "Let's show a scatter plot where MidParent is on the x-axis"
   ]
  },
  {
   "cell_type": "code",
   "execution_count": null,
   "metadata": {},
   "outputs": [],
   "source": [
    "heights.scatter('MidParent')"
   ]
  },
  {
   "cell_type": "markdown",
   "metadata": {},
   "source": [
    "Now let's predict the child's height based on the average of the parents' height"
   ]
  },
  {
   "cell_type": "markdown",
   "metadata": {},
   "source": [
    "**Question:** What type of trend do we see?"
   ]
  },
  {
   "cell_type": "markdown",
   "metadata": {},
   "source": [
    "Let's look at another table"
   ]
  },
  {
   "cell_type": "code",
   "execution_count": null,
   "metadata": {},
   "outputs": [],
   "source": [
    "hybrids = Table.read_table('hybrid.csv')\n",
    "hybrids.show(5)"
   ]
  },
  {
   "cell_type": "markdown",
   "metadata": {},
   "source": [
    "**Question:** Is there an association between `acceleration` and `mpg`?"
   ]
  },
  {
   "cell_type": "code",
   "execution_count": null,
   "metadata": {},
   "outputs": [],
   "source": [
    "hybrids.select(\"mpg\", \"acceleration\").scatter(\"mpg\")"
   ]
  },
  {
   "cell_type": "markdown",
   "metadata": {},
   "source": [
    "**Question:** What does this plot show?"
   ]
  },
  {
   "cell_type": "code",
   "execution_count": null,
   "metadata": {},
   "outputs": [],
   "source": []
  },
  {
   "cell_type": "markdown",
   "metadata": {},
   "source": [
    "**Question:** What about `mpg` and price`?"
   ]
  },
  {
   "cell_type": "code",
   "execution_count": null,
   "metadata": {},
   "outputs": [],
   "source": [
    "hybrids.select(\"msrp\", \"acceleration\").scatter(\"msrp\")"
   ]
  },
  {
   "cell_type": "markdown",
   "metadata": {},
   "source": [
    "**Question:** Do we see the same trends with standard units?"
   ]
  },
  {
   "cell_type": "code",
   "execution_count": null,
   "metadata": {},
   "outputs": [],
   "source": [
    "# Steps:\n",
    "# 1. convert each column to their own standard units\n",
    "# 2. store the standard unit columns\n",
    "# 3. show a histogram with the standard units"
   ]
  }
 ],
 "metadata": {
  "kernelspec": {
   "display_name": "Python 3 (ipykernel)",
   "language": "python",
   "name": "python3"
  },
  "language_info": {
   "codemirror_mode": {
    "name": "ipython",
    "version": 3
   },
   "file_extension": ".py",
   "mimetype": "text/x-python",
   "name": "python",
   "nbconvert_exporter": "python",
   "pygments_lexer": "ipython3",
   "version": "3.12.6"
  }
 },
 "nbformat": 4,
 "nbformat_minor": 4
}
